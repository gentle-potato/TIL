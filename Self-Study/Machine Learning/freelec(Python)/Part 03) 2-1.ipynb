{
 "cells": [
  {
   "cell_type": "markdown",
   "id": "f8369f62-f762-4dd5-b4ed-1619a679af8e",
   "metadata": {},
   "source": [
    "# **Part 03) 파이썬으로 데이터 분석 준비하기**"
   ]
  },
  {
   "cell_type": "markdown",
   "id": "03ac62b4-be74-42d8-9cb1-9bffcebf855e",
   "metadata": {},
   "source": [
    "## **2. 데이터 분석 절차 체득하기**"
   ]
  },
  {
   "cell_type": "markdown",
   "id": "7d65ac78-b1dd-4db2-9457-cee72c192375",
   "metadata": {},
   "source": [
    "### **2.1 데이터 준비하기: 데이터 로드**"
   ]
  },
  {
   "cell_type": "markdown",
   "id": "12deed98-ca87-4ceb-9073-6480b337f641",
   "metadata": {},
   "source": [
    "#### **분석할 데이터 가져오기**"
   ]
  },
  {
   "cell_type": "code",
   "execution_count": 1,
   "id": "771fbff1-4194-4e1f-afa6-2edcab7eab29",
   "metadata": {},
   "outputs": [
    {
     "name": "stdout",
     "output_type": "stream",
     "text": [
      "          Unnamed: 0   mpg  cyl   disp   hp  drat     wt   qsec  vs      am  \\\n",
      "0          Mazda RX4  21.0  6.0  160.0  110  3.90  2.620  16.46   0  manual   \n",
      "1      Mazda RX4 Wag  21.0  6.0  160.0  110  3.90  2.875  17.02   0  manual   \n",
      "2         Datsun 710  22.8  4.0  108.0   93  3.85  2.320  18.61   1  manual   \n",
      "3     Hornet 4 Drive  21.4  6.0  258.0  110  3.08  3.215   0.10   1    auto   \n",
      "4  Hornet Sportabout  18.7  8.0  360.0  175  3.15  3.440  17.02   0    auto   \n",
      "\n",
      "  gear  carb  \n",
      "0    4     4  \n",
      "1    4     4  \n",
      "2    4     1  \n",
      "3    3     1  \n",
      "4    3     2  \n"
     ]
    }
   ],
   "source": [
    "import pandas as pd                     # pandas 라이브러리 가져오기\n",
    "data = pd.read_csv('data/mtcars.csv')   # mtcars.csv 파일을 읽고 data라고 부르기\n",
    "\n",
    "# data 변수의 상위 5개 데이터를 출력하기\n",
    "print(data.head())"
   ]
  },
  {
   "cell_type": "markdown",
   "id": "b729e16c-b52e-41c7-823e-c6a3594ce9b8",
   "metadata": {},
   "source": [
    "#### **데이터 둘러보기**"
   ]
  },
  {
   "cell_type": "code",
   "execution_count": 2,
   "id": "fe7e719a-8f0f-4897-a1ba-8af67fc2011a",
   "metadata": {},
   "outputs": [
    {
     "name": "stdout",
     "output_type": "stream",
     "text": [
      "(32, 12)\n"
     ]
    }
   ],
   "source": [
    "print(data.shape)   # data 변수의 행/열 확인하기"
   ]
  },
  {
   "cell_type": "code",
   "execution_count": 3,
   "id": "e8740843-e2a4-48f7-b91b-861ec4558641",
   "metadata": {},
   "outputs": [
    {
     "name": "stdout",
     "output_type": "stream",
     "text": [
      "<class 'pandas.core.frame.DataFrame'>\n"
     ]
    }
   ],
   "source": [
    "print(type(data))   # data 변수의 데이터 타입 확인하기"
   ]
  },
  {
   "cell_type": "code",
   "execution_count": 4,
   "id": "a9ad5d67-c635-466b-a682-fe4748301f30",
   "metadata": {},
   "outputs": [
    {
     "name": "stdout",
     "output_type": "stream",
     "text": [
      "Index(['Unnamed: 0', 'mpg', 'cyl', 'disp', 'hp', 'drat', 'wt', 'qsec', 'vs',\n",
      "       'am', 'gear', 'carb'],\n",
      "      dtype='object')\n"
     ]
    }
   ],
   "source": [
    "print(data.columns)   # data 변수의 열 이름 확인하기"
   ]
  },
  {
   "cell_type": "code",
   "execution_count": 5,
   "id": "3b5b4ab8-af70-4a6a-8d5e-049020d6f77f",
   "metadata": {},
   "outputs": [
    {
     "name": "stdout",
     "output_type": "stream",
     "text": [
      "             mpg        cyl        disp          hp       drat         wt  \\\n",
      "count  32.000000  30.000000   32.000000   32.000000  32.000000  32.000000   \n",
      "mean   20.090625   7.600000  230.721875  146.687500   3.596563   3.217250   \n",
      "std     6.026948   8.194195  123.938694   68.562868   0.534679   0.978457   \n",
      "min    10.400000   4.000000   71.100000   52.000000   2.760000   1.513000   \n",
      "25%    15.425000   4.000000  120.825000   96.500000   3.080000   2.581250   \n",
      "50%    19.200000   6.000000  196.300000  123.000000   3.695000   3.325000   \n",
      "75%    22.800000   8.000000  326.000000  180.000000   3.920000   3.610000   \n",
      "max    33.900000  50.000000  472.000000  335.000000   4.930000   5.424000   \n",
      "\n",
      "             qsec         vs     carb  \n",
      "count   31.000000  32.000000  32.0000  \n",
      "mean    19.866774   0.437500   2.8125  \n",
      "std     15.310469   0.504016   1.6152  \n",
      "min      0.100000   0.000000   1.0000  \n",
      "25%     16.785000   0.000000   2.0000  \n",
      "50%     17.600000   0.000000   2.0000  \n",
      "75%     18.755000   1.000000   4.0000  \n",
      "max    100.000000   1.000000   8.0000  \n"
     ]
    }
   ],
   "source": [
    "print(data.describe())   # 모든 수치형 변수들의 기초통계량 구하기"
   ]
  },
  {
   "cell_type": "code",
   "execution_count": 6,
   "id": "5e6bb2dc-7d71-49c6-bc7f-3ffb00888dcf",
   "metadata": {},
   "outputs": [
    {
     "name": "stdout",
     "output_type": "stream",
     "text": [
      "count     32.000000\n",
      "mean     146.687500\n",
      "std       68.562868\n",
      "min       52.000000\n",
      "25%       96.500000\n",
      "50%      123.000000\n",
      "75%      180.000000\n",
      "max      335.000000\n",
      "Name: hp, dtype: float64\n"
     ]
    }
   ],
   "source": [
    "print(data['hp'].describe())   # hp 수치형 변수의 기초통계량 구하기"
   ]
  },
  {
   "cell_type": "code",
   "execution_count": 7,
   "id": "f18fbd73-f675-48a0-bbb6-ad2045fe2b58",
   "metadata": {},
   "outputs": [
    {
     "name": "stdout",
     "output_type": "stream",
     "text": [
      "['manual' 'auto']\n",
      "['4' '3' '*3' '5' '*5']\n",
      "[0 1]\n"
     ]
    }
   ],
   "source": [
    "print(data['am'].unique())     # am 컬럼에서 중복 제거한 값들 구하기\n",
    "print(data['gear'].unique())   # gear 컬럼에서 중복 제거한 값들 구하기\n",
    "print(data['vs'].unique())     # vs 컬럼에서 중복 제거한 값들 구하기"
   ]
  },
  {
   "cell_type": "code",
   "execution_count": 8,
   "id": "37d513cd-5652-4fd9-8497-f614bfd39973",
   "metadata": {},
   "outputs": [
    {
     "name": "stdout",
     "output_type": "stream",
     "text": [
      "<class 'pandas.core.frame.DataFrame'>\n",
      "RangeIndex: 32 entries, 0 to 31\n",
      "Data columns (total 12 columns):\n",
      " #   Column      Non-Null Count  Dtype  \n",
      "---  ------      --------------  -----  \n",
      " 0   Unnamed: 0  32 non-null     object \n",
      " 1   mpg         32 non-null     float64\n",
      " 2   cyl         30 non-null     float64\n",
      " 3   disp        32 non-null     float64\n",
      " 4   hp          32 non-null     int64  \n",
      " 5   drat        32 non-null     float64\n",
      " 6   wt          32 non-null     float64\n",
      " 7   qsec        31 non-null     float64\n",
      " 8   vs          32 non-null     int64  \n",
      " 9   am          32 non-null     object \n",
      " 10  gear        32 non-null     object \n",
      " 11  carb        32 non-null     int64  \n",
      "dtypes: float64(6), int64(3), object(3)\n",
      "memory usage: 3.1+ KB\n",
      "None\n"
     ]
    }
   ],
   "source": [
    "print(data.info())   # 데이터 요약 정보 구하기"
   ]
  },
  {
   "cell_type": "code",
   "execution_count": 9,
   "id": "6ec64efd-4e07-4af1-94db-1d8e658b9ff6",
   "metadata": {},
   "outputs": [
    {
     "name": "stdout",
     "output_type": "stream",
     "text": [
      "           mpg       cyl      disp        hp      drat        wt      qsec  \\\n",
      "mpg   1.000000 -0.460227 -0.847551 -0.776168  0.681172 -0.867659  0.013668   \n",
      "cyl  -0.460227  1.000000  0.544876  0.323293 -0.372671  0.533690 -0.012755   \n",
      "disp -0.847551  0.544876  1.000000  0.790949 -0.710214  0.887980  0.181810   \n",
      "hp   -0.776168  0.323293  0.790949  1.000000 -0.448759  0.658748  0.010807   \n",
      "drat  0.681172 -0.372671 -0.710214 -0.448759  1.000000 -0.712441 -0.120283   \n",
      "wt   -0.867659  0.533690  0.887980  0.658748 -0.712441  1.000000  0.093900   \n",
      "qsec  0.013668 -0.012755  0.181810  0.010807 -0.120283  0.093900  1.000000   \n",
      "vs    0.664039 -0.323960 -0.710416 -0.723097  0.440278 -0.554916 -0.112146   \n",
      "carb -0.550925  0.239980  0.394977  0.749812 -0.090790  0.427606 -0.120312   \n",
      "\n",
      "            vs      carb  \n",
      "mpg   0.664039 -0.550925  \n",
      "cyl  -0.323960  0.239980  \n",
      "disp -0.710416  0.394977  \n",
      "hp   -0.723097  0.749812  \n",
      "drat  0.440278 -0.090790  \n",
      "wt   -0.554916  0.427606  \n",
      "qsec -0.112146 -0.120312  \n",
      "vs    1.000000 -0.569607  \n",
      "carb -0.569607  1.000000  \n"
     ]
    }
   ],
   "source": [
    "print(data.corr())   # 상관관계 구하기"
   ]
  },
  {
   "cell_type": "markdown",
   "id": "00a7bd32-c969-4e52-adc4-b0b02900d3ce",
   "metadata": {},
   "source": [
    "#### **종속변수와 독립변수 분리하기**"
   ]
  },
  {
   "cell_type": "code",
   "execution_count": 10,
   "id": "1fe8b87d-13e8-4035-a69c-641d4b9da18e",
   "metadata": {},
   "outputs": [],
   "source": [
    "X = data.drop(columns='mpg')   # 독립변수 만들기\n",
    "Y = data['mpg']                # 종속변수 만들기"
   ]
  },
  {
   "cell_type": "code",
   "execution_count": 11,
   "id": "37d27e65-714e-4873-9b48-8efd77ff0748",
   "metadata": {},
   "outputs": [
    {
     "name": "stdout",
     "output_type": "stream",
     "text": [
      "          Unnamed: 0  cyl   disp   hp  drat     wt   qsec  vs      am gear  \\\n",
      "0          Mazda RX4  6.0  160.0  110  3.90  2.620  16.46   0  manual    4   \n",
      "1      Mazda RX4 Wag  6.0  160.0  110  3.90  2.875  17.02   0  manual    4   \n",
      "2         Datsun 710  4.0  108.0   93  3.85  2.320  18.61   1  manual    4   \n",
      "3     Hornet 4 Drive  6.0  258.0  110  3.08  3.215   0.10   1    auto    3   \n",
      "4  Hornet Sportabout  8.0  360.0  175  3.15  3.440  17.02   0    auto    3   \n",
      "\n",
      "   carb  \n",
      "0     4  \n",
      "1     4  \n",
      "2     1  \n",
      "3     1  \n",
      "4     2  \n",
      "Index(['Unnamed: 0', 'cyl', 'disp', 'hp', 'drat', 'wt', 'qsec', 'vs', 'am',\n",
      "       'gear', 'carb'],\n",
      "      dtype='object')\n"
     ]
    }
   ],
   "source": [
    "# 독립변수 X의 상위 5개 행을 확인하기\n",
    "print(X.head())\n",
    "# 독립변수 X의 컬럼 이름 출력하기\n",
    "print(X.columns)"
   ]
  },
  {
   "cell_type": "code",
   "execution_count": 12,
   "id": "bcb65cda-76a3-4702-ba5b-4acf03dbc722",
   "metadata": {},
   "outputs": [
    {
     "name": "stdout",
     "output_type": "stream",
     "text": [
      "0    21.0\n",
      "1    21.0\n",
      "2    22.8\n",
      "3    21.4\n",
      "4    18.7\n",
      "Name: mpg, dtype: float64\n"
     ]
    }
   ],
   "source": [
    "print(Y.head())"
   ]
  },
  {
   "cell_type": "code",
   "execution_count": null,
   "id": "dc139a92-d366-446e-acd2-3cffdb3e8d34",
   "metadata": {},
   "outputs": [],
   "source": []
  }
 ],
 "metadata": {
  "kernelspec": {
   "display_name": "Python Multi",
   "language": "python",
   "name": "multi"
  },
  "language_info": {
   "codemirror_mode": {
    "name": "ipython",
    "version": 3
   },
   "file_extension": ".py",
   "mimetype": "text/x-python",
   "name": "python",
   "nbconvert_exporter": "python",
   "pygments_lexer": "ipython3",
   "version": "3.9.5"
  }
 },
 "nbformat": 4,
 "nbformat_minor": 5
}
