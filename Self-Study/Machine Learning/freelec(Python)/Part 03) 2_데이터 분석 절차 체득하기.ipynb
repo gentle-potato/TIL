{
 "cells": [
  {
   "cell_type": "markdown",
   "id": "f8369f62-f762-4dd5-b4ed-1619a679af8e",
   "metadata": {},
   "source": [
    "# **Part 03) 파이썬으로 데이터 분석 준비하기**"
   ]
  },
  {
   "cell_type": "markdown",
   "id": "03ac62b4-be74-42d8-9cb1-9bffcebf855e",
   "metadata": {},
   "source": [
    "## **2_데이터 분석 절차 체득하기**"
   ]
  },
  {
   "cell_type": "markdown",
   "id": "7d65ac78-b1dd-4db2-9457-cee72c192375",
   "metadata": {},
   "source": [
    "### **2.1 데이터 준비하기: 데이터 로드(Load)**"
   ]
  },
  {
   "cell_type": "markdown",
   "id": "12deed98-ca87-4ceb-9073-6480b337f641",
   "metadata": {},
   "source": [
    "#### **분석할 데이터 가져오기**"
   ]
  },
  {
   "cell_type": "code",
   "execution_count": 1,
   "id": "771fbff1-4194-4e1f-afa6-2edcab7eab29",
   "metadata": {},
   "outputs": [
    {
     "name": "stdout",
     "output_type": "stream",
     "text": [
      "          Unnamed: 0   mpg  cyl   disp   hp  drat     wt   qsec  vs      am  \\\n",
      "0          Mazda RX4  21.0  6.0  160.0  110  3.90  2.620  16.46   0  manual   \n",
      "1      Mazda RX4 Wag  21.0  6.0  160.0  110  3.90  2.875  17.02   0  manual   \n",
      "2         Datsun 710  22.8  4.0  108.0   93  3.85  2.320  18.61   1  manual   \n",
      "3     Hornet 4 Drive  21.4  6.0  258.0  110  3.08  3.215   0.10   1    auto   \n",
      "4  Hornet Sportabout  18.7  8.0  360.0  175  3.15  3.440  17.02   0    auto   \n",
      "\n",
      "  gear  carb  \n",
      "0    4     4  \n",
      "1    4     4  \n",
      "2    4     1  \n",
      "3    3     1  \n",
      "4    3     2  \n"
     ]
    }
   ],
   "source": [
    "import pandas as pd                     # pandas 라이브러리 가져오기\n",
    "data = pd.read_csv('data/mtcars.csv')   # mtcars.csv 파일을 읽고 data라고 부르기\n",
    "\n",
    "# data 변수의 상위 5개 데이터를 출력하기\n",
    "print(data.head())"
   ]
  },
  {
   "cell_type": "markdown",
   "id": "b729e16c-b52e-41c7-823e-c6a3594ce9b8",
   "metadata": {},
   "source": [
    "#### **데이터 둘러보기**"
   ]
  },
  {
   "cell_type": "markdown",
   "id": "72f08d2d-1da4-43cf-8a46-43fe9412efe8",
   "metadata": {},
   "source": [
    "##### **- 데이터 모양 확인하기: shape**"
   ]
  },
  {
   "cell_type": "code",
   "execution_count": 2,
   "id": "fe7e719a-8f0f-4897-a1ba-8af67fc2011a",
   "metadata": {},
   "outputs": [
    {
     "name": "stdout",
     "output_type": "stream",
     "text": [
      "(32, 12)\n"
     ]
    }
   ],
   "source": [
    "print(data.shape)   # data 변수의 행/열 확인하기"
   ]
  },
  {
   "cell_type": "markdown",
   "id": "383cf1f9-53f7-4061-b8df-10f65a3a0552",
   "metadata": {},
   "source": [
    "##### **- 데이터 타입 확인하기: type**"
   ]
  },
  {
   "cell_type": "code",
   "execution_count": 3,
   "id": "d5c572d4-4733-432e-b1db-94e85bd9b6d2",
   "metadata": {},
   "outputs": [
    {
     "name": "stdout",
     "output_type": "stream",
     "text": [
      "<class 'pandas.core.frame.DataFrame'>\n"
     ]
    }
   ],
   "source": [
    "print(type(data))   # data 변수의 데이터 타입 확인하기"
   ]
  },
  {
   "cell_type": "markdown",
   "id": "2196bc26-fd13-43ed-9356-878507103aa6",
   "metadata": {},
   "source": [
    "##### **- 데이터의 열 확인하기: columns**"
   ]
  },
  {
   "cell_type": "code",
   "execution_count": 4,
   "id": "5186453f-4d8c-42fe-bdb7-35a98095f656",
   "metadata": {},
   "outputs": [
    {
     "name": "stdout",
     "output_type": "stream",
     "text": [
      "Index(['Unnamed: 0', 'mpg', 'cyl', 'disp', 'hp', 'drat', 'wt', 'qsec', 'vs',\n",
      "       'am', 'gear', 'carb'],\n",
      "      dtype='object')\n"
     ]
    }
   ],
   "source": [
    "print(data.columns)   # data 변수의 열 이름 확인하기"
   ]
  },
  {
   "cell_type": "markdown",
   "id": "5a8dfb94-a860-4e79-be88-a318347fe57d",
   "metadata": {},
   "source": [
    "##### **- 기초통계량 구하기: describe**"
   ]
  },
  {
   "cell_type": "code",
   "execution_count": 5,
   "id": "3b5b4ab8-af70-4a6a-8d5e-049020d6f77f",
   "metadata": {},
   "outputs": [
    {
     "name": "stdout",
     "output_type": "stream",
     "text": [
      "             mpg        cyl        disp          hp       drat         wt  \\\n",
      "count  32.000000  30.000000   32.000000   32.000000  32.000000  32.000000   \n",
      "mean   20.090625   7.600000  230.721875  146.687500   3.596563   3.217250   \n",
      "std     6.026948   8.194195  123.938694   68.562868   0.534679   0.978457   \n",
      "min    10.400000   4.000000   71.100000   52.000000   2.760000   1.513000   \n",
      "25%    15.425000   4.000000  120.825000   96.500000   3.080000   2.581250   \n",
      "50%    19.200000   6.000000  196.300000  123.000000   3.695000   3.325000   \n",
      "75%    22.800000   8.000000  326.000000  180.000000   3.920000   3.610000   \n",
      "max    33.900000  50.000000  472.000000  335.000000   4.930000   5.424000   \n",
      "\n",
      "             qsec         vs     carb  \n",
      "count   31.000000  32.000000  32.0000  \n",
      "mean    19.866774   0.437500   2.8125  \n",
      "std     15.310469   0.504016   1.6152  \n",
      "min      0.100000   0.000000   1.0000  \n",
      "25%     16.785000   0.000000   2.0000  \n",
      "50%     17.600000   0.000000   2.0000  \n",
      "75%     18.755000   1.000000   4.0000  \n",
      "max    100.000000   1.000000   8.0000  \n"
     ]
    }
   ],
   "source": [
    "print(data.describe())   # 모든 수치형 변수들의 기초통계량 구하기"
   ]
  },
  {
   "cell_type": "code",
   "execution_count": 6,
   "id": "5e6bb2dc-7d71-49c6-bc7f-3ffb00888dcf",
   "metadata": {},
   "outputs": [
    {
     "name": "stdout",
     "output_type": "stream",
     "text": [
      "count     32.000000\n",
      "mean     146.687500\n",
      "std       68.562868\n",
      "min       52.000000\n",
      "25%       96.500000\n",
      "50%      123.000000\n",
      "75%      180.000000\n",
      "max      335.000000\n",
      "Name: hp, dtype: float64\n"
     ]
    }
   ],
   "source": [
    "print(data['hp'].describe())   # hp 수치형 변수의 기초통계량 구하기"
   ]
  },
  {
   "cell_type": "markdown",
   "id": "d2612393-d3ce-4f3f-8d0c-7595aa9124fb",
   "metadata": {},
   "source": [
    "##### **- 데이터 중복을 제거하기: unique**"
   ]
  },
  {
   "cell_type": "code",
   "execution_count": 7,
   "id": "f18fbd73-f675-48a0-bbb6-ad2045fe2b58",
   "metadata": {},
   "outputs": [
    {
     "name": "stdout",
     "output_type": "stream",
     "text": [
      "['manual' 'auto']\n",
      "['4' '3' '*3' '5' '*5']\n",
      "[0 1]\n"
     ]
    }
   ],
   "source": [
    "print(data['am'].unique())     # am 컬럼에서 중복 제거한 값들 구하기\n",
    "print(data['gear'].unique())   # gear 컬럼에서 중복 제거한 값들 구하기\n",
    "print(data['vs'].unique())     # vs 컬럼에서 중복 제거한 값들 구하기"
   ]
  },
  {
   "cell_type": "markdown",
   "id": "6dcd6ef3-7682-4cc0-97fe-67ef38dde922",
   "metadata": {},
   "source": [
    "##### **- 요약 정보 확인하기: info**"
   ]
  },
  {
   "cell_type": "code",
   "execution_count": 8,
   "id": "37d513cd-5652-4fd9-8497-f614bfd39973",
   "metadata": {},
   "outputs": [
    {
     "name": "stdout",
     "output_type": "stream",
     "text": [
      "<class 'pandas.core.frame.DataFrame'>\n",
      "RangeIndex: 32 entries, 0 to 31\n",
      "Data columns (total 12 columns):\n",
      " #   Column      Non-Null Count  Dtype  \n",
      "---  ------      --------------  -----  \n",
      " 0   Unnamed: 0  32 non-null     object \n",
      " 1   mpg         32 non-null     float64\n",
      " 2   cyl         30 non-null     float64\n",
      " 3   disp        32 non-null     float64\n",
      " 4   hp          32 non-null     int64  \n",
      " 5   drat        32 non-null     float64\n",
      " 6   wt          32 non-null     float64\n",
      " 7   qsec        31 non-null     float64\n",
      " 8   vs          32 non-null     int64  \n",
      " 9   am          32 non-null     object \n",
      " 10  gear        32 non-null     object \n",
      " 11  carb        32 non-null     int64  \n",
      "dtypes: float64(6), int64(3), object(3)\n",
      "memory usage: 3.1+ KB\n",
      "None\n"
     ]
    }
   ],
   "source": [
    "print(data.info())   # 데이터 요약 정보 구하기"
   ]
  },
  {
   "cell_type": "markdown",
   "id": "66537ee9-7eb5-4a18-bcda-4e7fa1ef74de",
   "metadata": {},
   "source": [
    "##### **- 상관관계 구하기: corr**"
   ]
  },
  {
   "cell_type": "code",
   "execution_count": 9,
   "id": "6ec64efd-4e07-4af1-94db-1d8e658b9ff6",
   "metadata": {},
   "outputs": [
    {
     "name": "stdout",
     "output_type": "stream",
     "text": [
      "           mpg       cyl      disp        hp      drat        wt      qsec  \\\n",
      "mpg   1.000000 -0.460227 -0.847551 -0.776168  0.681172 -0.867659  0.013668   \n",
      "cyl  -0.460227  1.000000  0.544876  0.323293 -0.372671  0.533690 -0.012755   \n",
      "disp -0.847551  0.544876  1.000000  0.790949 -0.710214  0.887980  0.181810   \n",
      "hp   -0.776168  0.323293  0.790949  1.000000 -0.448759  0.658748  0.010807   \n",
      "drat  0.681172 -0.372671 -0.710214 -0.448759  1.000000 -0.712441 -0.120283   \n",
      "wt   -0.867659  0.533690  0.887980  0.658748 -0.712441  1.000000  0.093900   \n",
      "qsec  0.013668 -0.012755  0.181810  0.010807 -0.120283  0.093900  1.000000   \n",
      "vs    0.664039 -0.323960 -0.710416 -0.723097  0.440278 -0.554916 -0.112146   \n",
      "carb -0.550925  0.239980  0.394977  0.749812 -0.090790  0.427606 -0.120312   \n",
      "\n",
      "            vs      carb  \n",
      "mpg   0.664039 -0.550925  \n",
      "cyl  -0.323960  0.239980  \n",
      "disp -0.710416  0.394977  \n",
      "hp   -0.723097  0.749812  \n",
      "drat  0.440278 -0.090790  \n",
      "wt   -0.554916  0.427606  \n",
      "qsec -0.112146 -0.120312  \n",
      "vs    1.000000 -0.569607  \n",
      "carb -0.569607  1.000000  \n"
     ]
    }
   ],
   "source": [
    "print(data.corr())   # 상관관계 구하기"
   ]
  },
  {
   "cell_type": "markdown",
   "id": "00a7bd32-c969-4e52-adc4-b0b02900d3ce",
   "metadata": {},
   "source": [
    "#### **종속변수와 독립변수 분리하기**"
   ]
  },
  {
   "cell_type": "code",
   "execution_count": 10,
   "id": "1fe8b87d-13e8-4035-a69c-641d4b9da18e",
   "metadata": {},
   "outputs": [],
   "source": [
    "X = data.drop(columns='mpg')   # 독립변수 만들기\n",
    "Y = data['mpg']                # 종속변수 만들기"
   ]
  },
  {
   "cell_type": "code",
   "execution_count": 11,
   "id": "37d27e65-714e-4873-9b48-8efd77ff0748",
   "metadata": {},
   "outputs": [
    {
     "name": "stdout",
     "output_type": "stream",
     "text": [
      "          Unnamed: 0  cyl   disp   hp  drat     wt   qsec  vs      am gear  \\\n",
      "0          Mazda RX4  6.0  160.0  110  3.90  2.620  16.46   0  manual    4   \n",
      "1      Mazda RX4 Wag  6.0  160.0  110  3.90  2.875  17.02   0  manual    4   \n",
      "2         Datsun 710  4.0  108.0   93  3.85  2.320  18.61   1  manual    4   \n",
      "3     Hornet 4 Drive  6.0  258.0  110  3.08  3.215   0.10   1    auto    3   \n",
      "4  Hornet Sportabout  8.0  360.0  175  3.15  3.440  17.02   0    auto    3   \n",
      "\n",
      "   carb  \n",
      "0     4  \n",
      "1     4  \n",
      "2     1  \n",
      "3     1  \n",
      "4     2  \n",
      "Index(['Unnamed: 0', 'cyl', 'disp', 'hp', 'drat', 'wt', 'qsec', 'vs', 'am',\n",
      "       'gear', 'carb'],\n",
      "      dtype='object')\n"
     ]
    }
   ],
   "source": [
    "# 독립변수 X의 상위 5개 행을 확인하기\n",
    "print(X.head())\n",
    "# 독립변수 X의 컬럼 이름 출력하기\n",
    "print(X.columns)"
   ]
  },
  {
   "cell_type": "code",
   "execution_count": 12,
   "id": "bcb65cda-76a3-4702-ba5b-4acf03dbc722",
   "metadata": {},
   "outputs": [
    {
     "name": "stdout",
     "output_type": "stream",
     "text": [
      "0    21.0\n",
      "1    21.0\n",
      "2    22.8\n",
      "3    21.4\n",
      "4    18.7\n",
      "Name: mpg, dtype: float64\n"
     ]
    }
   ],
   "source": [
    "print(Y.head())"
   ]
  },
  {
   "cell_type": "markdown",
   "id": "0bdd0613-ae97-4afb-9b76-a6b199a36073",
   "metadata": {},
   "source": [
    "### **2.2 데이터를 관찰하고 가공하기: 전처리(Preprocessing)**"
   ]
  },
  {
   "cell_type": "markdown",
   "id": "aa39560d-453a-4bd4-8c7e-77ae6927da0c",
   "metadata": {},
   "source": [
    "#### **불필요한 열 삭제하기**"
   ]
  },
  {
   "cell_type": "code",
   "execution_count": 13,
   "id": "b555b0b9-b5f5-4b32-9116-f459598ebfa7",
   "metadata": {},
   "outputs": [
    {
     "name": "stdout",
     "output_type": "stream",
     "text": [
      "          Unnamed: 0  cyl   disp   hp  drat     wt   qsec  vs      am gear  \\\n",
      "0          Mazda RX4  6.0  160.0  110  3.90  2.620  16.46   0  manual    4   \n",
      "1      Mazda RX4 Wag  6.0  160.0  110  3.90  2.875  17.02   0  manual    4   \n",
      "2         Datsun 710  4.0  108.0   93  3.85  2.320  18.61   1  manual    4   \n",
      "3     Hornet 4 Drive  6.0  258.0  110  3.08  3.215   0.10   1    auto    3   \n",
      "4  Hornet Sportabout  8.0  360.0  175  3.15  3.440  17.02   0    auto    3   \n",
      "\n",
      "   carb  \n",
      "0     4  \n",
      "1     4  \n",
      "2     1  \n",
      "3     1  \n",
      "4     2  \n"
     ]
    }
   ],
   "source": [
    "print(X.head())   # X 변수의 상위 5개 행 데이터 확인하기"
   ]
  },
  {
   "cell_type": "code",
   "execution_count": 14,
   "id": "e25f37c9-8178-40f4-a714-65565ed2b64c",
   "metadata": {},
   "outputs": [],
   "source": [
    "# X 변수의 전체 행과 1번 열 ~ 맨끝 열까지 추출한 후, X 변수에 다시 저장하기\n",
    "X = X.iloc[:, 1:]"
   ]
  },
  {
   "cell_type": "code",
   "execution_count": 15,
   "id": "90a4de6c-0890-4d8f-a25c-388e0fbae730",
   "metadata": {},
   "outputs": [
    {
     "name": "stdout",
     "output_type": "stream",
     "text": [
      "   cyl   disp   hp  drat     wt   qsec  vs      am gear  carb\n",
      "0  6.0  160.0  110  3.90  2.620  16.46   0  manual    4     4\n",
      "1  6.0  160.0  110  3.90  2.875  17.02   0  manual    4     4\n",
      "2  4.0  108.0   93  3.85  2.320  18.61   1  manual    4     1\n",
      "3  6.0  258.0  110  3.08  3.215   0.10   1    auto    3     1\n",
      "4  8.0  360.0  175  3.15  3.440  17.02   0    auto    3     2\n"
     ]
    }
   ],
   "source": [
    "print(X.head())   # X 변수의 상위 5개 행 데이터 확인하기"
   ]
  },
  {
   "cell_type": "markdown",
   "id": "a59196f5-4932-428b-9100-d7a84eddd0ce",
   "metadata": {},
   "source": [
    "#### **결측값 처리하기**"
   ]
  },
  {
   "cell_type": "markdown",
   "id": "18aa3c46-c506-4d8b-87ab-61b243fb44e6",
   "metadata": {},
   "source": [
    "##### **- 결측치 여부 확인하기**"
   ]
  },
  {
   "cell_type": "code",
   "execution_count": 16,
   "id": "fd7a3466-3e11-493f-b540-6d65580837ec",
   "metadata": {},
   "outputs": [
    {
     "data": {
      "text/html": [
       "<div>\n",
       "<style scoped>\n",
       "    .dataframe tbody tr th:only-of-type {\n",
       "        vertical-align: middle;\n",
       "    }\n",
       "\n",
       "    .dataframe tbody tr th {\n",
       "        vertical-align: top;\n",
       "    }\n",
       "\n",
       "    .dataframe thead th {\n",
       "        text-align: right;\n",
       "    }\n",
       "</style>\n",
       "<table border=\"1\" class=\"dataframe\">\n",
       "  <thead>\n",
       "    <tr style=\"text-align: right;\">\n",
       "      <th></th>\n",
       "      <th>cyl</th>\n",
       "      <th>disp</th>\n",
       "      <th>hp</th>\n",
       "      <th>drat</th>\n",
       "      <th>wt</th>\n",
       "      <th>qsec</th>\n",
       "      <th>vs</th>\n",
       "      <th>am</th>\n",
       "      <th>gear</th>\n",
       "      <th>carb</th>\n",
       "    </tr>\n",
       "  </thead>\n",
       "  <tbody>\n",
       "    <tr>\n",
       "      <th>0</th>\n",
       "      <td>False</td>\n",
       "      <td>False</td>\n",
       "      <td>False</td>\n",
       "      <td>False</td>\n",
       "      <td>False</td>\n",
       "      <td>False</td>\n",
       "      <td>False</td>\n",
       "      <td>False</td>\n",
       "      <td>False</td>\n",
       "      <td>False</td>\n",
       "    </tr>\n",
       "    <tr>\n",
       "      <th>1</th>\n",
       "      <td>False</td>\n",
       "      <td>False</td>\n",
       "      <td>False</td>\n",
       "      <td>False</td>\n",
       "      <td>False</td>\n",
       "      <td>False</td>\n",
       "      <td>False</td>\n",
       "      <td>False</td>\n",
       "      <td>False</td>\n",
       "      <td>False</td>\n",
       "    </tr>\n",
       "    <tr>\n",
       "      <th>2</th>\n",
       "      <td>False</td>\n",
       "      <td>False</td>\n",
       "      <td>False</td>\n",
       "      <td>False</td>\n",
       "      <td>False</td>\n",
       "      <td>False</td>\n",
       "      <td>False</td>\n",
       "      <td>False</td>\n",
       "      <td>False</td>\n",
       "      <td>False</td>\n",
       "    </tr>\n",
       "  </tbody>\n",
       "</table>\n",
       "</div>"
      ],
      "text/plain": [
       "     cyl   disp     hp   drat     wt   qsec     vs     am   gear   carb\n",
       "0  False  False  False  False  False  False  False  False  False  False\n",
       "1  False  False  False  False  False  False  False  False  False  False\n",
       "2  False  False  False  False  False  False  False  False  False  False"
      ]
     },
     "execution_count": 16,
     "metadata": {},
     "output_type": "execute_result"
    }
   ],
   "source": [
    "# X 변수의 결측치 여부에 대한 결과를 상위 3개 행만 확인하기\n",
    "X.isnull().head(3)"
   ]
  },
  {
   "cell_type": "code",
   "execution_count": 18,
   "id": "d70b6f11-39c8-41ff-8f77-5e56aa0de662",
   "metadata": {},
   "outputs": [
    {
     "name": "stdout",
     "output_type": "stream",
     "text": [
      "cyl     2\n",
      "disp    0\n",
      "hp      0\n",
      "drat    0\n",
      "wt      0\n",
      "qsec    1\n",
      "vs      0\n",
      "am      0\n",
      "gear    0\n",
      "carb    0\n",
      "dtype: int64\n"
     ]
    }
   ],
   "source": [
    "# X 변수의 결측치 여부 값을 모두 더하기 → 결측치 개수 세기\n",
    "print(X.isnull().sum())"
   ]
  },
  {
   "cell_type": "markdown",
   "id": "6d278af2-b63c-4ba5-8c03-eec4e6c447be",
   "metadata": {},
   "source": [
    "##### **- 평균값으로 대치하기**"
   ]
  },
  {
   "cell_type": "code",
   "execution_count": 20,
   "id": "06b99956-dcf4-4c75-88df-3980cbe6d078",
   "metadata": {},
   "outputs": [
    {
     "data": {
      "text/plain": [
       "7.6"
      ]
     },
     "execution_count": 20,
     "metadata": {},
     "output_type": "execute_result"
    }
   ],
   "source": [
    "# cyl 열의 평균값을 X_cyl_mean 변수에 저장하기\n",
    "X_cyl_mean = X['cyl'].mean()\n",
    "\n",
    "# X_cyl_mean 변수 확인하기\n",
    "X_cyl_mean"
   ]
  },
  {
   "cell_type": "code",
   "execution_count": 21,
   "id": "d1b0d2e2-03df-4a81-980f-f5ada85baf53",
   "metadata": {},
   "outputs": [],
   "source": [
    "# cyl 열의 결측치를 X_cyl_mean 값으로 채운 후, 다시 cyl 열에 저장하기\n",
    "X['cyl'] = X['cyl'].fillna(X_cyl_mean)"
   ]
  },
  {
   "cell_type": "code",
   "execution_count": 22,
   "id": "d243bc80-6183-4d79-b9c9-3fb5cbd4dec2",
   "metadata": {},
   "outputs": [
    {
     "name": "stdout",
     "output_type": "stream",
     "text": [
      "cyl     0\n",
      "disp    0\n",
      "hp      0\n",
      "drat    0\n",
      "wt      0\n",
      "qsec    1\n",
      "vs      0\n",
      "am      0\n",
      "gear    0\n",
      "carb    0\n",
      "dtype: int64\n"
     ]
    }
   ],
   "source": [
    "print(X.isnull().sum())"
   ]
  },
  {
   "cell_type": "markdown",
   "id": "47e275fe-2f28-4962-a847-547968c62b75",
   "metadata": {},
   "source": [
    "##### **- 중위값으로 대치하기**"
   ]
  },
  {
   "cell_type": "code",
   "execution_count": 23,
   "id": "4b0ae603-0a97-4e99-9152-6206bde5e011",
   "metadata": {},
   "outputs": [
    {
     "name": "stdout",
     "output_type": "stream",
     "text": [
      "17.6\n"
     ]
    }
   ],
   "source": [
    "# qsec 열의 중위값을 X_qsec_mean 변수에 저장하기\n",
    "X_qsec_median = X['qsec'].median()\n",
    "\n",
    "# X_qsec_median 변수 확인하기\n",
    "print(X_qsec_median)"
   ]
  },
  {
   "cell_type": "code",
   "execution_count": 24,
   "id": "c2f804ec-2edd-41ca-90fa-9156db0d270d",
   "metadata": {},
   "outputs": [],
   "source": [
    "# 다음에서 qsec 열 결측치를 중위값으로 대치하기\n",
    "X['qsec'] = X['qsec'].fillna(X_qsec_median)"
   ]
  },
  {
   "cell_type": "code",
   "execution_count": 25,
   "id": "d9486d4c-2f91-4940-96d7-351a9c72acc8",
   "metadata": {},
   "outputs": [
    {
     "name": "stdout",
     "output_type": "stream",
     "text": [
      "0\n"
     ]
    }
   ],
   "source": [
    "# qsec 열의 결측치 개수만 확인하기\n",
    "print(X['qsec'].isnull().sum())"
   ]
  },
  {
   "cell_type": "markdown",
   "id": "70240ba2-4eaf-4d14-8b78-4844f62762b6",
   "metadata": {},
   "source": [
    "#### **잘못된 값을 올바르게 바꾸기**"
   ]
  },
  {
   "cell_type": "code",
   "execution_count": 26,
   "id": "00e85d58-b0bd-4721-a60e-ac9e553e58bd",
   "metadata": {},
   "outputs": [
    {
     "name": "stdout",
     "output_type": "stream",
     "text": [
      "['4' '3' '*3' '5' '*5']\n"
     ]
    }
   ],
   "source": [
    "# gear 열의 값을 확인하기\n",
    "print(X['gear'].unique())"
   ]
  },
  {
   "cell_type": "code",
   "execution_count": 27,
   "id": "10e31f6b-3ca2-417e-902e-fc40c9ec9c13",
   "metadata": {},
   "outputs": [
    {
     "name": "stdout",
     "output_type": "stream",
     "text": [
      "0     4\n",
      "1     4\n",
      "2     4\n",
      "3     3\n",
      "4     3\n",
      "5     3\n",
      "6     3\n",
      "7     4\n",
      "8     4\n",
      "9     4\n",
      "10    4\n",
      "11    3\n",
      "12    3\n",
      "13    3\n",
      "14    3\n",
      "15    3\n",
      "16    3\n",
      "17    4\n",
      "18    4\n",
      "19    4\n",
      "20    3\n",
      "21    3\n",
      "22    3\n",
      "23    3\n",
      "24    3\n",
      "25    4\n",
      "26    5\n",
      "27    5\n",
      "28    5\n",
      "29    5\n",
      "30    5\n",
      "31    4\n",
      "Name: gear, dtype: object\n"
     ]
    }
   ],
   "source": [
    "# gear 열의 '*3'은 '3'으로, '*5'는 '5'로 바꾼 경우의 값 확인하기\n",
    "print(X['gear'].replace('*3', '3').replace('*5', '5'))"
   ]
  },
  {
   "cell_type": "code",
   "execution_count": 28,
   "id": "df7921b3-5ef2-48c3-81de-8570a134c014",
   "metadata": {},
   "outputs": [],
   "source": [
    "# gear 열의 '*3'은 '3'으로, '*5'는 '5'로 바꾼 결과를 gear 열에 저장하기\n",
    "X['gear'] = X['gear'].replace('*3', '3').replace('*5', '5')"
   ]
  },
  {
   "cell_type": "code",
   "execution_count": 29,
   "id": "fe4cfa9a-1f21-41cc-9e8a-e890f45d9df2",
   "metadata": {},
   "outputs": [
    {
     "name": "stdout",
     "output_type": "stream",
     "text": [
      "['4' '3' '5']\n"
     ]
    }
   ],
   "source": [
    "# gear 열에서 중복되지 않은 값을 확인하기\n",
    "print(X['gear'].unique())"
   ]
  },
  {
   "cell_type": "markdown",
   "id": "5241e333-405e-4330-b8f6-2d9e7ccb3d12",
   "metadata": {},
   "source": [
    "#### **이상값(Outlier) 처리하기**"
   ]
  },
  {
   "cell_type": "markdown",
   "id": "e8e70322-f7c5-44ec-b0fd-7ab371d11197",
   "metadata": {},
   "source": [
    "***이상값 처리는 <span style=\"color:blue\">데이터 스케일링(data scaling)보다 선행</span>되어야 함!***"
   ]
  },
  {
   "cell_type": "markdown",
   "id": "3f71cf60-7ef8-45f9-97a2-596efe6dcebf",
   "metadata": {},
   "source": [
    "##### **- 사분범위(IQR) 활용하기**"
   ]
  },
  {
   "cell_type": "code",
   "execution_count": 30,
   "id": "58e33f42-708e-461c-ad60-06c0a02bfd51",
   "metadata": {},
   "outputs": [
    {
     "name": "stdout",
     "output_type": "stream",
     "text": [
      "             cyl        disp          hp       drat         wt        qsec  \\\n",
      "count  32.000000   32.000000   32.000000  32.000000  32.000000   32.000000   \n",
      "mean    7.600000  230.721875  146.687500   3.596563   3.217250   19.795938   \n",
      "std     7.925459  123.938694   68.562868   0.534679   0.978457   15.066831   \n",
      "min     4.000000   71.100000   52.000000   2.760000   1.513000    0.100000   \n",
      "25%     4.000000  120.825000   96.500000   3.080000   2.581250   16.827500   \n",
      "50%     6.000000  196.300000  123.000000   3.695000   3.325000   17.600000   \n",
      "75%     8.000000  326.000000  180.000000   3.920000   3.610000   18.682500   \n",
      "max    50.000000  472.000000  335.000000   4.930000   5.424000  100.000000   \n",
      "\n",
      "              vs     carb  \n",
      "count  32.000000  32.0000  \n",
      "mean    0.437500   2.8125  \n",
      "std     0.504016   1.6152  \n",
      "min     0.000000   1.0000  \n",
      "25%     0.000000   2.0000  \n",
      "50%     0.000000   2.0000  \n",
      "75%     1.000000   4.0000  \n",
      "max     1.000000   8.0000  \n"
     ]
    }
   ],
   "source": [
    "# X 변수의 기초통계량을 구한 후, X_describe 변수에 저장하기\n",
    "X_describe = X.describe()\n",
    "print(X_describe)"
   ]
  },
  {
   "cell_type": "code",
   "execution_count": 31,
   "id": "d61444bd-5abc-4895-9ced-3f46557a8cdf",
   "metadata": {},
   "outputs": [
    {
     "data": {
      "text/html": [
       "<div>\n",
       "<style scoped>\n",
       "    .dataframe tbody tr th:only-of-type {\n",
       "        vertical-align: middle;\n",
       "    }\n",
       "\n",
       "    .dataframe tbody tr th {\n",
       "        vertical-align: top;\n",
       "    }\n",
       "\n",
       "    .dataframe thead th {\n",
       "        text-align: right;\n",
       "    }\n",
       "</style>\n",
       "<table border=\"1\" class=\"dataframe\">\n",
       "  <thead>\n",
       "    <tr style=\"text-align: right;\">\n",
       "      <th></th>\n",
       "      <th>cyl</th>\n",
       "      <th>disp</th>\n",
       "      <th>hp</th>\n",
       "      <th>drat</th>\n",
       "      <th>wt</th>\n",
       "      <th>qsec</th>\n",
       "      <th>vs</th>\n",
       "      <th>carb</th>\n",
       "    </tr>\n",
       "  </thead>\n",
       "  <tbody>\n",
       "    <tr>\n",
       "      <th>count</th>\n",
       "      <td>32.000000</td>\n",
       "      <td>32.000000</td>\n",
       "      <td>32.000000</td>\n",
       "      <td>32.000000</td>\n",
       "      <td>32.000000</td>\n",
       "      <td>32.000000</td>\n",
       "      <td>32.000000</td>\n",
       "      <td>32.0000</td>\n",
       "    </tr>\n",
       "    <tr>\n",
       "      <th>mean</th>\n",
       "      <td>7.600000</td>\n",
       "      <td>230.721875</td>\n",
       "      <td>146.687500</td>\n",
       "      <td>3.596563</td>\n",
       "      <td>3.217250</td>\n",
       "      <td>19.795938</td>\n",
       "      <td>0.437500</td>\n",
       "      <td>2.8125</td>\n",
       "    </tr>\n",
       "    <tr>\n",
       "      <th>std</th>\n",
       "      <td>7.925459</td>\n",
       "      <td>123.938694</td>\n",
       "      <td>68.562868</td>\n",
       "      <td>0.534679</td>\n",
       "      <td>0.978457</td>\n",
       "      <td>15.066831</td>\n",
       "      <td>0.504016</td>\n",
       "      <td>1.6152</td>\n",
       "    </tr>\n",
       "    <tr>\n",
       "      <th>min</th>\n",
       "      <td>4.000000</td>\n",
       "      <td>71.100000</td>\n",
       "      <td>52.000000</td>\n",
       "      <td>2.760000</td>\n",
       "      <td>1.513000</td>\n",
       "      <td>0.100000</td>\n",
       "      <td>0.000000</td>\n",
       "      <td>1.0000</td>\n",
       "    </tr>\n",
       "    <tr>\n",
       "      <th>25%</th>\n",
       "      <td>4.000000</td>\n",
       "      <td>120.825000</td>\n",
       "      <td>96.500000</td>\n",
       "      <td>3.080000</td>\n",
       "      <td>2.581250</td>\n",
       "      <td>16.827500</td>\n",
       "      <td>0.000000</td>\n",
       "      <td>2.0000</td>\n",
       "    </tr>\n",
       "    <tr>\n",
       "      <th>50%</th>\n",
       "      <td>6.000000</td>\n",
       "      <td>196.300000</td>\n",
       "      <td>123.000000</td>\n",
       "      <td>3.695000</td>\n",
       "      <td>3.325000</td>\n",
       "      <td>17.600000</td>\n",
       "      <td>0.000000</td>\n",
       "      <td>2.0000</td>\n",
       "    </tr>\n",
       "    <tr>\n",
       "      <th>75%</th>\n",
       "      <td>8.000000</td>\n",
       "      <td>326.000000</td>\n",
       "      <td>180.000000</td>\n",
       "      <td>3.920000</td>\n",
       "      <td>3.610000</td>\n",
       "      <td>18.682500</td>\n",
       "      <td>1.000000</td>\n",
       "      <td>4.0000</td>\n",
       "    </tr>\n",
       "    <tr>\n",
       "      <th>max</th>\n",
       "      <td>50.000000</td>\n",
       "      <td>472.000000</td>\n",
       "      <td>335.000000</td>\n",
       "      <td>4.930000</td>\n",
       "      <td>5.424000</td>\n",
       "      <td>100.000000</td>\n",
       "      <td>1.000000</td>\n",
       "      <td>8.0000</td>\n",
       "    </tr>\n",
       "  </tbody>\n",
       "</table>\n",
       "</div>"
      ],
      "text/plain": [
       "             cyl        disp          hp       drat         wt        qsec  \\\n",
       "count  32.000000   32.000000   32.000000  32.000000  32.000000   32.000000   \n",
       "mean    7.600000  230.721875  146.687500   3.596563   3.217250   19.795938   \n",
       "std     7.925459  123.938694   68.562868   0.534679   0.978457   15.066831   \n",
       "min     4.000000   71.100000   52.000000   2.760000   1.513000    0.100000   \n",
       "25%     4.000000  120.825000   96.500000   3.080000   2.581250   16.827500   \n",
       "50%     6.000000  196.300000  123.000000   3.695000   3.325000   17.600000   \n",
       "75%     8.000000  326.000000  180.000000   3.920000   3.610000   18.682500   \n",
       "max    50.000000  472.000000  335.000000   4.930000   5.424000  100.000000   \n",
       "\n",
       "              vs     carb  \n",
       "count  32.000000  32.0000  \n",
       "mean    0.437500   2.8125  \n",
       "std     0.504016   1.6152  \n",
       "min     0.000000   1.0000  \n",
       "25%     0.000000   2.0000  \n",
       "50%     0.000000   2.0000  \n",
       "75%     1.000000   4.0000  \n",
       "max     1.000000   8.0000  "
      ]
     },
     "execution_count": 31,
     "metadata": {},
     "output_type": "execute_result"
    }
   ],
   "source": [
    "X_describe"
   ]
  },
  {
   "cell_type": "code",
   "execution_count": 34,
   "id": "165c8297-eb17-4903-97dd-e9cf4b4adf3f",
   "metadata": {},
   "outputs": [
    {
     "name": "stdout",
     "output_type": "stream",
     "text": [
      "cyl       8.0000\n",
      "disp    326.0000\n",
      "hp      180.0000\n",
      "drat      3.9200\n",
      "wt        3.6100\n",
      "qsec     18.6825\n",
      "vs        1.0000\n",
      "carb      4.0000\n",
      "Name: 75%, dtype: float64 \n",
      " cyl       4.00000\n",
      "disp    120.82500\n",
      "hp       96.50000\n",
      "drat      3.08000\n",
      "wt        2.58125\n",
      "qsec     16.82750\n",
      "vs        0.00000\n",
      "carb      2.00000\n",
      "Name: 25%, dtype: float64\n"
     ]
    }
   ],
   "source": [
    "# X_describe 변수에서 '75%' 행과 '25%' 행을 확인하기\n",
    "print(X_describe.loc['75%'], '\\n', X_describe.loc['25%'])"
   ]
  },
  {
   "cell_type": "code",
   "execution_count": 35,
   "id": "f0d0cc61-181e-44d1-9871-6dd0d7cf7e8b",
   "metadata": {},
   "outputs": [
    {
     "name": "stdout",
     "output_type": "stream",
     "text": [
      "cyl       4.00000\n",
      "disp    205.17500\n",
      "hp       83.50000\n",
      "drat      0.84000\n",
      "wt        1.02875\n",
      "qsec      1.85500\n",
      "vs        1.00000\n",
      "carb      2.00000\n",
      "dtype: float64\n"
     ]
    }
   ],
   "source": [
    "# IQR을 계산한 후, X_iqr 변수에 저장하기\n",
    "X_iqr = X_describe.loc['75%'] - X_describe.loc['25%']\n",
    "\n",
    "# X_iqr 확인하기\n",
    "print(X_iqr)"
   ]
  },
  {
   "cell_type": "code",
   "execution_count": 36,
   "id": "ad1235f8-78d0-436b-8ea3-d21687bb181b",
   "metadata": {},
   "outputs": [
    {
     "name": "stdout",
     "output_type": "stream",
     "text": [
      "cyl      14.000000\n",
      "disp    633.762500\n",
      "hp      305.250000\n",
      "drat      5.180000\n",
      "wt        5.153125\n",
      "qsec     21.465000\n",
      "vs        2.500000\n",
      "carb      7.000000\n",
      "dtype: float64\n"
     ]
    }
   ],
   "source": [
    "# 각 열의 3사분위수 + 1.5*IQR 값을 계산하기\n",
    "print(X_describe.loc['75%'] + (1.5 * X_iqr))"
   ]
  },
  {
   "cell_type": "code",
   "execution_count": 37,
   "id": "1c8ebe29-b721-405a-804e-c7847d8afb93",
   "metadata": {},
   "outputs": [
    {
     "name": "stdout",
     "output_type": "stream",
     "text": [
      "cyl      50.000\n",
      "disp    472.000\n",
      "hp      335.000\n",
      "drat      4.930\n",
      "wt        5.424\n",
      "qsec    100.000\n",
      "vs        1.000\n",
      "carb      8.000\n",
      "Name: max, dtype: float64\n"
     ]
    }
   ],
   "source": [
    "# X 변수의 최댓값 확인하기\n",
    "print(X_describe.loc['max'])"
   ]
  },
  {
   "cell_type": "code",
   "execution_count": 38,
   "id": "b517f3bf-a534-4272-997b-e5f6ef0b3a19",
   "metadata": {},
   "outputs": [
    {
     "name": "stdout",
     "output_type": "stream",
     "text": [
      "     cyl   disp   hp  drat    wt   qsec  vs    am gear  carb\n",
      "14  50.0  472.0  205  2.93  5.25  17.98   0  auto    3     4\n"
     ]
    }
   ],
   "source": [
    "# cyl 열 값이 14를 초과하는 값 추출하기\n",
    "print(X.loc[X['cyl'] > 14])"
   ]
  },
  {
   "cell_type": "code",
   "execution_count": 40,
   "id": "650832c3-ab68-4123-b9a7-b41d5ad4a440",
   "metadata": {},
   "outputs": [
    {
     "name": "stdout",
     "output_type": "stream",
     "text": [
      "     cyl   disp   hp  drat    wt   qsec  vs    am gear  carb\n",
      "14  50.0  472.0  205  2.93  5.25  17.98   0  auto    3     4\n"
     ]
    }
   ],
   "source": [
    "print(X[X['cyl'] > 14])   # loc 안 써도 같은 결과"
   ]
  },
  {
   "cell_type": "code",
   "execution_count": 42,
   "id": "7d652019-aec0-46a7-9806-63a22b3707ed",
   "metadata": {},
   "outputs": [
    {
     "name": "stdout",
     "output_type": "stream",
     "text": [
      "14.0\n"
     ]
    }
   ],
   "source": [
    "# X 변수에서 인덱스가 14, 열이 cyl인 값을 14로 변경하기\n",
    "X.loc[14, 'cyl'] = 14\n",
    "\n",
    "# X 변수에서 인덱스가 14, 열이 cyl인 값을 확인하기\n",
    "print(X.loc[14, 'cyl'])"
   ]
  },
  {
   "cell_type": "code",
   "execution_count": 43,
   "id": "bbae6c9e-2fb0-4244-a6d3-3c57291999e3",
   "metadata": {},
   "outputs": [
    {
     "name": "stdout",
     "output_type": "stream",
     "text": [
      "    cyl   disp   hp  drat    wt  qsec  vs      am gear  carb\n",
      "30  8.0  301.0  335  3.54  3.57  14.6   0  manual    5     8\n",
      "305.25\n"
     ]
    }
   ],
   "source": [
    "# hp 열 값이 305.25를 초과하는 값 추출하기\n",
    "print(X.loc[X['hp'] > 305.25])\n",
    "\n",
    "# X 변수에서 인덱스가 30, 열이 hp인 값을 305.25로 변경하기\n",
    "X.loc[30, 'hp'] = 305.25\n",
    "\n",
    "# X 변수에서 인덱스가 30, 열이 hp인 값을 확인하기\n",
    "print(X.loc[30, 'hp'])"
   ]
  },
  {
   "cell_type": "code",
   "execution_count": 45,
   "id": "d5f9ffe5-51c4-43dc-b9e0-3c37d9ca9bef",
   "metadata": {},
   "outputs": [
    {
     "name": "stdout",
     "output_type": "stream",
     "text": [
      "cyl      -2.000000\n",
      "disp   -186.937500\n",
      "hp      -28.750000\n",
      "drat      1.820000\n",
      "wt        1.038125\n",
      "qsec     14.045000\n",
      "vs       -1.500000\n",
      "carb     -1.000000\n",
      "dtype: float64\n"
     ]
    }
   ],
   "source": [
    "# 각 열의 1사분위수 - 1.5*IQR 값을 계산하기\n",
    "print(X_describe.loc['25%'] - (1.5 * X_iqr))"
   ]
  },
  {
   "cell_type": "code",
   "execution_count": 46,
   "id": "1ad43030-f01e-467a-bb83-0acdc41dbbc9",
   "metadata": {},
   "outputs": [
    {
     "name": "stdout",
     "output_type": "stream",
     "text": [
      "cyl      4.000\n",
      "disp    71.100\n",
      "hp      52.000\n",
      "drat     2.760\n",
      "wt       1.513\n",
      "qsec     0.100\n",
      "vs       0.000\n",
      "carb     1.000\n",
      "Name: min, dtype: float64\n"
     ]
    }
   ],
   "source": [
    "# X 변수의 최솟값 확인하기\n",
    "print(X_describe.loc['min'])"
   ]
  },
  {
   "cell_type": "markdown",
   "id": "6b1b61e8-0233-453e-bd56-98c44705ce9a",
   "metadata": {},
   "source": [
    "##### **- 평균과 표준편차 활용하기**"
   ]
  },
  {
   "cell_type": "code",
   "execution_count": null,
   "id": "58179722-ac31-4cb7-9a83-7e0a6056c2cf",
   "metadata": {},
   "outputs": [],
   "source": []
  },
  {
   "cell_type": "code",
   "execution_count": null,
   "id": "f4ad48bc-a8fe-4773-83b9-46ff89723103",
   "metadata": {},
   "outputs": [],
   "source": []
  },
  {
   "cell_type": "code",
   "execution_count": null,
   "id": "530ec44b-9b83-429a-9c43-b4558393784b",
   "metadata": {},
   "outputs": [],
   "source": []
  },
  {
   "cell_type": "code",
   "execution_count": null,
   "id": "2192dcf8-aafc-4975-a581-2a0d012b8797",
   "metadata": {},
   "outputs": [],
   "source": []
  },
  {
   "cell_type": "code",
   "execution_count": null,
   "id": "d921d16b-fb51-4a12-9b1e-344b1c8dd15c",
   "metadata": {},
   "outputs": [],
   "source": []
  },
  {
   "cell_type": "code",
   "execution_count": null,
   "id": "69ebd43e-2e3b-4396-a3d3-2190fe9d110e",
   "metadata": {},
   "outputs": [],
   "source": []
  }
 ],
 "metadata": {
  "kernelspec": {
   "display_name": "Python Multi",
   "language": "python",
   "name": "multi"
  },
  "language_info": {
   "codemirror_mode": {
    "name": "ipython",
    "version": 3
   },
   "file_extension": ".py",
   "mimetype": "text/x-python",
   "name": "python",
   "nbconvert_exporter": "python",
   "pygments_lexer": "ipython3",
   "version": "3.9.5"
  }
 },
 "nbformat": 4,
 "nbformat_minor": 5
}
