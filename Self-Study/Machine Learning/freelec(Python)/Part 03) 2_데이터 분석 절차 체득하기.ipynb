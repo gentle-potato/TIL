{
 "cells": [
  {
   "cell_type": "markdown",
   "id": "f8369f62-f762-4dd5-b4ed-1619a679af8e",
   "metadata": {},
   "source": [
    "# **Part 03) 파이썬으로 데이터 분석 준비하기**"
   ]
  },
  {
   "cell_type": "markdown",
   "id": "03ac62b4-be74-42d8-9cb1-9bffcebf855e",
   "metadata": {},
   "source": [
    "## **2_데이터 분석 절차 체득하기**"
   ]
  },
  {
   "cell_type": "markdown",
   "id": "7d65ac78-b1dd-4db2-9457-cee72c192375",
   "metadata": {},
   "source": [
    "### **2.1 데이터 준비하기: 데이터 로드(Load)**"
   ]
  },
  {
   "cell_type": "markdown",
   "id": "12deed98-ca87-4ceb-9073-6480b337f641",
   "metadata": {},
   "source": [
    "#### **분석할 데이터 가져오기**"
   ]
  },
  {
   "cell_type": "code",
   "execution_count": 1,
   "id": "771fbff1-4194-4e1f-afa6-2edcab7eab29",
   "metadata": {},
   "outputs": [
    {
     "name": "stdout",
     "output_type": "stream",
     "text": [
      "          Unnamed: 0   mpg  cyl   disp   hp  drat     wt   qsec  vs      am  \\\n",
      "0          Mazda RX4  21.0  6.0  160.0  110  3.90  2.620  16.46   0  manual   \n",
      "1      Mazda RX4 Wag  21.0  6.0  160.0  110  3.90  2.875  17.02   0  manual   \n",
      "2         Datsun 710  22.8  4.0  108.0   93  3.85  2.320  18.61   1  manual   \n",
      "3     Hornet 4 Drive  21.4  6.0  258.0  110  3.08  3.215   0.10   1    auto   \n",
      "4  Hornet Sportabout  18.7  8.0  360.0  175  3.15  3.440  17.02   0    auto   \n",
      "\n",
      "  gear  carb  \n",
      "0    4     4  \n",
      "1    4     4  \n",
      "2    4     1  \n",
      "3    3     1  \n",
      "4    3     2  \n"
     ]
    }
   ],
   "source": [
    "import pandas as pd                     # pandas 라이브러리 가져오기\n",
    "data = pd.read_csv('data/mtcars.csv')   # mtcars.csv 파일을 읽고 data라고 부르기\n",
    "\n",
    "# data 변수의 상위 5개 데이터를 출력하기\n",
    "print(data.head())"
   ]
  },
  {
   "cell_type": "markdown",
   "id": "b729e16c-b52e-41c7-823e-c6a3594ce9b8",
   "metadata": {},
   "source": [
    "#### **데이터 둘러보기**"
   ]
  },
  {
   "cell_type": "markdown",
   "id": "72f08d2d-1da4-43cf-8a46-43fe9412efe8",
   "metadata": {},
   "source": [
    "##### **- 데이터 모양 확인하기: shape**"
   ]
  },
  {
   "cell_type": "code",
   "execution_count": 2,
   "id": "fe7e719a-8f0f-4897-a1ba-8af67fc2011a",
   "metadata": {},
   "outputs": [
    {
     "name": "stdout",
     "output_type": "stream",
     "text": [
      "(32, 12)\n"
     ]
    }
   ],
   "source": [
    "print(data.shape)   # data 변수의 행/열 확인하기"
   ]
  },
  {
   "cell_type": "markdown",
   "id": "383cf1f9-53f7-4061-b8df-10f65a3a0552",
   "metadata": {},
   "source": [
    "##### **- 데이터 타입 확인하기: type**"
   ]
  },
  {
   "cell_type": "code",
   "execution_count": 3,
   "id": "d5c572d4-4733-432e-b1db-94e85bd9b6d2",
   "metadata": {},
   "outputs": [
    {
     "name": "stdout",
     "output_type": "stream",
     "text": [
      "<class 'pandas.core.frame.DataFrame'>\n"
     ]
    }
   ],
   "source": [
    "print(type(data))   # data 변수의 데이터 타입 확인하기"
   ]
  },
  {
   "cell_type": "markdown",
   "id": "2196bc26-fd13-43ed-9356-878507103aa6",
   "metadata": {},
   "source": [
    "##### **- 데이터의 열 확인하기: columns**"
   ]
  },
  {
   "cell_type": "code",
   "execution_count": 4,
   "id": "5186453f-4d8c-42fe-bdb7-35a98095f656",
   "metadata": {},
   "outputs": [
    {
     "name": "stdout",
     "output_type": "stream",
     "text": [
      "Index(['Unnamed: 0', 'mpg', 'cyl', 'disp', 'hp', 'drat', 'wt', 'qsec', 'vs',\n",
      "       'am', 'gear', 'carb'],\n",
      "      dtype='object')\n"
     ]
    }
   ],
   "source": [
    "print(data.columns)   # data 변수의 열 이름 확인하기"
   ]
  },
  {
   "cell_type": "markdown",
   "id": "5a8dfb94-a860-4e79-be88-a318347fe57d",
   "metadata": {},
   "source": [
    "##### **- 기초통계량 구하기: describe**"
   ]
  },
  {
   "cell_type": "code",
   "execution_count": 5,
   "id": "3b5b4ab8-af70-4a6a-8d5e-049020d6f77f",
   "metadata": {},
   "outputs": [
    {
     "name": "stdout",
     "output_type": "stream",
     "text": [
      "             mpg        cyl        disp          hp       drat         wt  \\\n",
      "count  32.000000  30.000000   32.000000   32.000000  32.000000  32.000000   \n",
      "mean   20.090625   7.600000  230.721875  146.687500   3.596563   3.217250   \n",
      "std     6.026948   8.194195  123.938694   68.562868   0.534679   0.978457   \n",
      "min    10.400000   4.000000   71.100000   52.000000   2.760000   1.513000   \n",
      "25%    15.425000   4.000000  120.825000   96.500000   3.080000   2.581250   \n",
      "50%    19.200000   6.000000  196.300000  123.000000   3.695000   3.325000   \n",
      "75%    22.800000   8.000000  326.000000  180.000000   3.920000   3.610000   \n",
      "max    33.900000  50.000000  472.000000  335.000000   4.930000   5.424000   \n",
      "\n",
      "             qsec         vs     carb  \n",
      "count   31.000000  32.000000  32.0000  \n",
      "mean    19.866774   0.437500   2.8125  \n",
      "std     15.310469   0.504016   1.6152  \n",
      "min      0.100000   0.000000   1.0000  \n",
      "25%     16.785000   0.000000   2.0000  \n",
      "50%     17.600000   0.000000   2.0000  \n",
      "75%     18.755000   1.000000   4.0000  \n",
      "max    100.000000   1.000000   8.0000  \n"
     ]
    }
   ],
   "source": [
    "print(data.describe())   # 모든 수치형 변수들의 기초통계량 구하기"
   ]
  },
  {
   "cell_type": "code",
   "execution_count": 6,
   "id": "5e6bb2dc-7d71-49c6-bc7f-3ffb00888dcf",
   "metadata": {},
   "outputs": [
    {
     "name": "stdout",
     "output_type": "stream",
     "text": [
      "count     32.000000\n",
      "mean     146.687500\n",
      "std       68.562868\n",
      "min       52.000000\n",
      "25%       96.500000\n",
      "50%      123.000000\n",
      "75%      180.000000\n",
      "max      335.000000\n",
      "Name: hp, dtype: float64\n"
     ]
    }
   ],
   "source": [
    "print(data['hp'].describe())   # hp 수치형 변수의 기초통계량 구하기"
   ]
  },
  {
   "cell_type": "markdown",
   "id": "d2612393-d3ce-4f3f-8d0c-7595aa9124fb",
   "metadata": {},
   "source": [
    "##### **- 데이터 중복을 제거하기: unique**"
   ]
  },
  {
   "cell_type": "code",
   "execution_count": 7,
   "id": "f18fbd73-f675-48a0-bbb6-ad2045fe2b58",
   "metadata": {},
   "outputs": [
    {
     "name": "stdout",
     "output_type": "stream",
     "text": [
      "['manual' 'auto']\n",
      "['4' '3' '*3' '5' '*5']\n",
      "[0 1]\n"
     ]
    }
   ],
   "source": [
    "print(data['am'].unique())     # am 컬럼에서 중복 제거한 값들 구하기\n",
    "print(data['gear'].unique())   # gear 컬럼에서 중복 제거한 값들 구하기\n",
    "print(data['vs'].unique())     # vs 컬럼에서 중복 제거한 값들 구하기"
   ]
  },
  {
   "cell_type": "markdown",
   "id": "6dcd6ef3-7682-4cc0-97fe-67ef38dde922",
   "metadata": {},
   "source": [
    "##### **- 요약 정보 확인하기: info**"
   ]
  },
  {
   "cell_type": "code",
   "execution_count": 8,
   "id": "37d513cd-5652-4fd9-8497-f614bfd39973",
   "metadata": {},
   "outputs": [
    {
     "name": "stdout",
     "output_type": "stream",
     "text": [
      "<class 'pandas.core.frame.DataFrame'>\n",
      "RangeIndex: 32 entries, 0 to 31\n",
      "Data columns (total 12 columns):\n",
      " #   Column      Non-Null Count  Dtype  \n",
      "---  ------      --------------  -----  \n",
      " 0   Unnamed: 0  32 non-null     object \n",
      " 1   mpg         32 non-null     float64\n",
      " 2   cyl         30 non-null     float64\n",
      " 3   disp        32 non-null     float64\n",
      " 4   hp          32 non-null     int64  \n",
      " 5   drat        32 non-null     float64\n",
      " 6   wt          32 non-null     float64\n",
      " 7   qsec        31 non-null     float64\n",
      " 8   vs          32 non-null     int64  \n",
      " 9   am          32 non-null     object \n",
      " 10  gear        32 non-null     object \n",
      " 11  carb        32 non-null     int64  \n",
      "dtypes: float64(6), int64(3), object(3)\n",
      "memory usage: 3.1+ KB\n",
      "None\n"
     ]
    }
   ],
   "source": [
    "print(data.info())   # 데이터 요약 정보 구하기"
   ]
  },
  {
   "cell_type": "markdown",
   "id": "66537ee9-7eb5-4a18-bcda-4e7fa1ef74de",
   "metadata": {},
   "source": [
    "##### **- 상관관계 구하기: corr**"
   ]
  },
  {
   "cell_type": "code",
   "execution_count": 9,
   "id": "6ec64efd-4e07-4af1-94db-1d8e658b9ff6",
   "metadata": {},
   "outputs": [
    {
     "name": "stdout",
     "output_type": "stream",
     "text": [
      "           mpg       cyl      disp        hp      drat        wt      qsec  \\\n",
      "mpg   1.000000 -0.460227 -0.847551 -0.776168  0.681172 -0.867659  0.013668   \n",
      "cyl  -0.460227  1.000000  0.544876  0.323293 -0.372671  0.533690 -0.012755   \n",
      "disp -0.847551  0.544876  1.000000  0.790949 -0.710214  0.887980  0.181810   \n",
      "hp   -0.776168  0.323293  0.790949  1.000000 -0.448759  0.658748  0.010807   \n",
      "drat  0.681172 -0.372671 -0.710214 -0.448759  1.000000 -0.712441 -0.120283   \n",
      "wt   -0.867659  0.533690  0.887980  0.658748 -0.712441  1.000000  0.093900   \n",
      "qsec  0.013668 -0.012755  0.181810  0.010807 -0.120283  0.093900  1.000000   \n",
      "vs    0.664039 -0.323960 -0.710416 -0.723097  0.440278 -0.554916 -0.112146   \n",
      "carb -0.550925  0.239980  0.394977  0.749812 -0.090790  0.427606 -0.120312   \n",
      "\n",
      "            vs      carb  \n",
      "mpg   0.664039 -0.550925  \n",
      "cyl  -0.323960  0.239980  \n",
      "disp -0.710416  0.394977  \n",
      "hp   -0.723097  0.749812  \n",
      "drat  0.440278 -0.090790  \n",
      "wt   -0.554916  0.427606  \n",
      "qsec -0.112146 -0.120312  \n",
      "vs    1.000000 -0.569607  \n",
      "carb -0.569607  1.000000  \n"
     ]
    }
   ],
   "source": [
    "print(data.corr())   # 상관관계 구하기"
   ]
  },
  {
   "cell_type": "markdown",
   "id": "00a7bd32-c969-4e52-adc4-b0b02900d3ce",
   "metadata": {},
   "source": [
    "#### **종속변수와 독립변수 분리하기**"
   ]
  },
  {
   "cell_type": "code",
   "execution_count": 10,
   "id": "1fe8b87d-13e8-4035-a69c-641d4b9da18e",
   "metadata": {},
   "outputs": [],
   "source": [
    "X = data.drop(columns='mpg')   # 독립변수 만들기\n",
    "Y = data['mpg']                # 종속변수 만들기"
   ]
  },
  {
   "cell_type": "code",
   "execution_count": 11,
   "id": "37d27e65-714e-4873-9b48-8efd77ff0748",
   "metadata": {},
   "outputs": [
    {
     "name": "stdout",
     "output_type": "stream",
     "text": [
      "          Unnamed: 0  cyl   disp   hp  drat     wt   qsec  vs      am gear  \\\n",
      "0          Mazda RX4  6.0  160.0  110  3.90  2.620  16.46   0  manual    4   \n",
      "1      Mazda RX4 Wag  6.0  160.0  110  3.90  2.875  17.02   0  manual    4   \n",
      "2         Datsun 710  4.0  108.0   93  3.85  2.320  18.61   1  manual    4   \n",
      "3     Hornet 4 Drive  6.0  258.0  110  3.08  3.215   0.10   1    auto    3   \n",
      "4  Hornet Sportabout  8.0  360.0  175  3.15  3.440  17.02   0    auto    3   \n",
      "\n",
      "   carb  \n",
      "0     4  \n",
      "1     4  \n",
      "2     1  \n",
      "3     1  \n",
      "4     2  \n",
      "Index(['Unnamed: 0', 'cyl', 'disp', 'hp', 'drat', 'wt', 'qsec', 'vs', 'am',\n",
      "       'gear', 'carb'],\n",
      "      dtype='object')\n"
     ]
    }
   ],
   "source": [
    "# 독립변수 X의 상위 5개 행을 확인하기\n",
    "print(X.head())\n",
    "# 독립변수 X의 컬럼 이름 출력하기\n",
    "print(X.columns)"
   ]
  },
  {
   "cell_type": "code",
   "execution_count": 12,
   "id": "bcb65cda-76a3-4702-ba5b-4acf03dbc722",
   "metadata": {},
   "outputs": [
    {
     "name": "stdout",
     "output_type": "stream",
     "text": [
      "0    21.0\n",
      "1    21.0\n",
      "2    22.8\n",
      "3    21.4\n",
      "4    18.7\n",
      "Name: mpg, dtype: float64\n"
     ]
    }
   ],
   "source": [
    "print(Y.head())"
   ]
  },
  {
   "cell_type": "markdown",
   "id": "0bdd0613-ae97-4afb-9b76-a6b199a36073",
   "metadata": {},
   "source": [
    "### **2.2 데이터를 관찰하고 가공하기: 전처리(Preprocessing)**"
   ]
  },
  {
   "cell_type": "markdown",
   "id": "aa39560d-453a-4bd4-8c7e-77ae6927da0c",
   "metadata": {},
   "source": [
    "#### **불필요한 열 삭제하기**"
   ]
  },
  {
   "cell_type": "code",
   "execution_count": 13,
   "id": "b555b0b9-b5f5-4b32-9116-f459598ebfa7",
   "metadata": {},
   "outputs": [
    {
     "name": "stdout",
     "output_type": "stream",
     "text": [
      "          Unnamed: 0  cyl   disp   hp  drat     wt   qsec  vs      am gear  \\\n",
      "0          Mazda RX4  6.0  160.0  110  3.90  2.620  16.46   0  manual    4   \n",
      "1      Mazda RX4 Wag  6.0  160.0  110  3.90  2.875  17.02   0  manual    4   \n",
      "2         Datsun 710  4.0  108.0   93  3.85  2.320  18.61   1  manual    4   \n",
      "3     Hornet 4 Drive  6.0  258.0  110  3.08  3.215   0.10   1    auto    3   \n",
      "4  Hornet Sportabout  8.0  360.0  175  3.15  3.440  17.02   0    auto    3   \n",
      "\n",
      "   carb  \n",
      "0     4  \n",
      "1     4  \n",
      "2     1  \n",
      "3     1  \n",
      "4     2  \n"
     ]
    }
   ],
   "source": [
    "print(X.head())   # X 변수의 상위 5개 행 데이터 확인하기"
   ]
  },
  {
   "cell_type": "code",
   "execution_count": 14,
   "id": "e25f37c9-8178-40f4-a714-65565ed2b64c",
   "metadata": {},
   "outputs": [],
   "source": [
    "# X 변수의 전체 행과 1번 열 ~ 맨끝 열까지 추출한 후, X 변수에 다시 저장하기\n",
    "X = X.iloc[:, 1:]"
   ]
  },
  {
   "cell_type": "code",
   "execution_count": 15,
   "id": "90a4de6c-0890-4d8f-a25c-388e0fbae730",
   "metadata": {},
   "outputs": [
    {
     "name": "stdout",
     "output_type": "stream",
     "text": [
      "   cyl   disp   hp  drat     wt   qsec  vs      am gear  carb\n",
      "0  6.0  160.0  110  3.90  2.620  16.46   0  manual    4     4\n",
      "1  6.0  160.0  110  3.90  2.875  17.02   0  manual    4     4\n",
      "2  4.0  108.0   93  3.85  2.320  18.61   1  manual    4     1\n",
      "3  6.0  258.0  110  3.08  3.215   0.10   1    auto    3     1\n",
      "4  8.0  360.0  175  3.15  3.440  17.02   0    auto    3     2\n"
     ]
    }
   ],
   "source": [
    "print(X.head())   # X 변수의 상위 5개 행 데이터 확인하기"
   ]
  },
  {
   "cell_type": "markdown",
   "id": "a59196f5-4932-428b-9100-d7a84eddd0ce",
   "metadata": {},
   "source": [
    "#### **결측값 처리하기**"
   ]
  },
  {
   "cell_type": "markdown",
   "id": "18aa3c46-c506-4d8b-87ab-61b243fb44e6",
   "metadata": {},
   "source": [
    "##### **- 결측치 여부 확인하기**"
   ]
  },
  {
   "cell_type": "code",
   "execution_count": 16,
   "id": "fd7a3466-3e11-493f-b540-6d65580837ec",
   "metadata": {},
   "outputs": [
    {
     "data": {
      "text/html": [
       "<div>\n",
       "<style scoped>\n",
       "    .dataframe tbody tr th:only-of-type {\n",
       "        vertical-align: middle;\n",
       "    }\n",
       "\n",
       "    .dataframe tbody tr th {\n",
       "        vertical-align: top;\n",
       "    }\n",
       "\n",
       "    .dataframe thead th {\n",
       "        text-align: right;\n",
       "    }\n",
       "</style>\n",
       "<table border=\"1\" class=\"dataframe\">\n",
       "  <thead>\n",
       "    <tr style=\"text-align: right;\">\n",
       "      <th></th>\n",
       "      <th>cyl</th>\n",
       "      <th>disp</th>\n",
       "      <th>hp</th>\n",
       "      <th>drat</th>\n",
       "      <th>wt</th>\n",
       "      <th>qsec</th>\n",
       "      <th>vs</th>\n",
       "      <th>am</th>\n",
       "      <th>gear</th>\n",
       "      <th>carb</th>\n",
       "    </tr>\n",
       "  </thead>\n",
       "  <tbody>\n",
       "    <tr>\n",
       "      <th>0</th>\n",
       "      <td>False</td>\n",
       "      <td>False</td>\n",
       "      <td>False</td>\n",
       "      <td>False</td>\n",
       "      <td>False</td>\n",
       "      <td>False</td>\n",
       "      <td>False</td>\n",
       "      <td>False</td>\n",
       "      <td>False</td>\n",
       "      <td>False</td>\n",
       "    </tr>\n",
       "    <tr>\n",
       "      <th>1</th>\n",
       "      <td>False</td>\n",
       "      <td>False</td>\n",
       "      <td>False</td>\n",
       "      <td>False</td>\n",
       "      <td>False</td>\n",
       "      <td>False</td>\n",
       "      <td>False</td>\n",
       "      <td>False</td>\n",
       "      <td>False</td>\n",
       "      <td>False</td>\n",
       "    </tr>\n",
       "    <tr>\n",
       "      <th>2</th>\n",
       "      <td>False</td>\n",
       "      <td>False</td>\n",
       "      <td>False</td>\n",
       "      <td>False</td>\n",
       "      <td>False</td>\n",
       "      <td>False</td>\n",
       "      <td>False</td>\n",
       "      <td>False</td>\n",
       "      <td>False</td>\n",
       "      <td>False</td>\n",
       "    </tr>\n",
       "  </tbody>\n",
       "</table>\n",
       "</div>"
      ],
      "text/plain": [
       "     cyl   disp     hp   drat     wt   qsec     vs     am   gear   carb\n",
       "0  False  False  False  False  False  False  False  False  False  False\n",
       "1  False  False  False  False  False  False  False  False  False  False\n",
       "2  False  False  False  False  False  False  False  False  False  False"
      ]
     },
     "execution_count": 16,
     "metadata": {},
     "output_type": "execute_result"
    }
   ],
   "source": [
    "# X 변수의 결측치 여부에 대한 결과를 상위 3개 행만 확인하기\n",
    "X.isnull().head(3)"
   ]
  },
  {
   "cell_type": "code",
   "execution_count": 17,
   "id": "d70b6f11-39c8-41ff-8f77-5e56aa0de662",
   "metadata": {},
   "outputs": [
    {
     "name": "stdout",
     "output_type": "stream",
     "text": [
      "cyl     2\n",
      "disp    0\n",
      "hp      0\n",
      "drat    0\n",
      "wt      0\n",
      "qsec    1\n",
      "vs      0\n",
      "am      0\n",
      "gear    0\n",
      "carb    0\n",
      "dtype: int64\n"
     ]
    }
   ],
   "source": [
    "# X 변수의 결측치 여부 값을 모두 더하기 → 결측치 개수 세기\n",
    "print(X.isnull().sum())"
   ]
  },
  {
   "cell_type": "markdown",
   "id": "6d278af2-b63c-4ba5-8c03-eec4e6c447be",
   "metadata": {},
   "source": [
    "##### **- 평균값으로 대치하기**"
   ]
  },
  {
   "cell_type": "code",
   "execution_count": 18,
   "id": "06b99956-dcf4-4c75-88df-3980cbe6d078",
   "metadata": {},
   "outputs": [
    {
     "data": {
      "text/plain": [
       "7.6"
      ]
     },
     "execution_count": 18,
     "metadata": {},
     "output_type": "execute_result"
    }
   ],
   "source": [
    "# cyl 열의 평균값을 X_cyl_mean 변수에 저장하기\n",
    "X_cyl_mean = X['cyl'].mean()\n",
    "\n",
    "# X_cyl_mean 변수 확인하기\n",
    "X_cyl_mean"
   ]
  },
  {
   "cell_type": "code",
   "execution_count": 19,
   "id": "d1b0d2e2-03df-4a81-980f-f5ada85baf53",
   "metadata": {},
   "outputs": [],
   "source": [
    "# cyl 열의 결측치를 X_cyl_mean 값으로 채운 후, 다시 cyl 열에 저장하기\n",
    "X['cyl'] = X['cyl'].fillna(X_cyl_mean)"
   ]
  },
  {
   "cell_type": "code",
   "execution_count": 20,
   "id": "d243bc80-6183-4d79-b9c9-3fb5cbd4dec2",
   "metadata": {},
   "outputs": [
    {
     "name": "stdout",
     "output_type": "stream",
     "text": [
      "cyl     0\n",
      "disp    0\n",
      "hp      0\n",
      "drat    0\n",
      "wt      0\n",
      "qsec    1\n",
      "vs      0\n",
      "am      0\n",
      "gear    0\n",
      "carb    0\n",
      "dtype: int64\n"
     ]
    }
   ],
   "source": [
    "print(X.isnull().sum())"
   ]
  },
  {
   "cell_type": "markdown",
   "id": "47e275fe-2f28-4962-a847-547968c62b75",
   "metadata": {},
   "source": [
    "##### **- 중위값으로 대치하기**"
   ]
  },
  {
   "cell_type": "code",
   "execution_count": 21,
   "id": "4b0ae603-0a97-4e99-9152-6206bde5e011",
   "metadata": {},
   "outputs": [
    {
     "name": "stdout",
     "output_type": "stream",
     "text": [
      "17.6\n"
     ]
    }
   ],
   "source": [
    "# qsec 열의 중위값을 X_qsec_mean 변수에 저장하기\n",
    "X_qsec_median = X['qsec'].median()\n",
    "\n",
    "# X_qsec_median 변수 확인하기\n",
    "print(X_qsec_median)"
   ]
  },
  {
   "cell_type": "code",
   "execution_count": 22,
   "id": "c2f804ec-2edd-41ca-90fa-9156db0d270d",
   "metadata": {},
   "outputs": [],
   "source": [
    "# 다음에서 qsec 열 결측치를 중위값으로 대치하기\n",
    "X['qsec'] = X['qsec'].fillna(X_qsec_median)"
   ]
  },
  {
   "cell_type": "code",
   "execution_count": 23,
   "id": "d9486d4c-2f91-4940-96d7-351a9c72acc8",
   "metadata": {},
   "outputs": [
    {
     "name": "stdout",
     "output_type": "stream",
     "text": [
      "0\n"
     ]
    }
   ],
   "source": [
    "# qsec 열의 결측치 개수만 확인하기\n",
    "print(X['qsec'].isnull().sum())"
   ]
  },
  {
   "cell_type": "markdown",
   "id": "70240ba2-4eaf-4d14-8b78-4844f62762b6",
   "metadata": {},
   "source": [
    "#### **잘못된 값을 올바르게 바꾸기**"
   ]
  },
  {
   "cell_type": "code",
   "execution_count": 24,
   "id": "00e85d58-b0bd-4721-a60e-ac9e553e58bd",
   "metadata": {},
   "outputs": [
    {
     "name": "stdout",
     "output_type": "stream",
     "text": [
      "['4' '3' '*3' '5' '*5']\n"
     ]
    }
   ],
   "source": [
    "# gear 열의 값을 확인하기\n",
    "print(X['gear'].unique())"
   ]
  },
  {
   "cell_type": "code",
   "execution_count": 25,
   "id": "10e31f6b-3ca2-417e-902e-fc40c9ec9c13",
   "metadata": {},
   "outputs": [
    {
     "name": "stdout",
     "output_type": "stream",
     "text": [
      "0     4\n",
      "1     4\n",
      "2     4\n",
      "3     3\n",
      "4     3\n",
      "5     3\n",
      "6     3\n",
      "7     4\n",
      "8     4\n",
      "9     4\n",
      "10    4\n",
      "11    3\n",
      "12    3\n",
      "13    3\n",
      "14    3\n",
      "15    3\n",
      "16    3\n",
      "17    4\n",
      "18    4\n",
      "19    4\n",
      "20    3\n",
      "21    3\n",
      "22    3\n",
      "23    3\n",
      "24    3\n",
      "25    4\n",
      "26    5\n",
      "27    5\n",
      "28    5\n",
      "29    5\n",
      "30    5\n",
      "31    4\n",
      "Name: gear, dtype: object\n"
     ]
    }
   ],
   "source": [
    "# gear 열의 '*3'은 '3'으로, '*5'는 '5'로 바꾼 경우의 값 확인하기\n",
    "print(X['gear'].replace('*3', '3').replace('*5', '5'))"
   ]
  },
  {
   "cell_type": "code",
   "execution_count": 26,
   "id": "df7921b3-5ef2-48c3-81de-8570a134c014",
   "metadata": {},
   "outputs": [],
   "source": [
    "# gear 열의 '*3'은 '3'으로, '*5'는 '5'로 바꾼 결과를 gear 열에 저장하기\n",
    "X['gear'] = X['gear'].replace('*3', '3').replace('*5', '5')"
   ]
  },
  {
   "cell_type": "code",
   "execution_count": 27,
   "id": "fe4cfa9a-1f21-41cc-9e8a-e890f45d9df2",
   "metadata": {},
   "outputs": [
    {
     "name": "stdout",
     "output_type": "stream",
     "text": [
      "['4' '3' '5']\n"
     ]
    }
   ],
   "source": [
    "# gear 열에서 중복되지 않은 값을 확인하기\n",
    "print(X['gear'].unique())"
   ]
  },
  {
   "cell_type": "markdown",
   "id": "5241e333-405e-4330-b8f6-2d9e7ccb3d12",
   "metadata": {},
   "source": [
    "#### **이상값(Outlier) 처리하기**"
   ]
  },
  {
   "cell_type": "markdown",
   "id": "e8e70322-f7c5-44ec-b0fd-7ab371d11197",
   "metadata": {},
   "source": [
    "***이상값 처리는 <span style=\"color:blue\">데이터 스케일링(data scaling)보다 선행</span>되어야 함!***"
   ]
  },
  {
   "cell_type": "markdown",
   "id": "3f71cf60-7ef8-45f9-97a2-596efe6dcebf",
   "metadata": {},
   "source": [
    "##### **- 사분범위(IQR) 활용하기**"
   ]
  },
  {
   "cell_type": "code",
   "execution_count": 28,
   "id": "58e33f42-708e-461c-ad60-06c0a02bfd51",
   "metadata": {},
   "outputs": [
    {
     "name": "stdout",
     "output_type": "stream",
     "text": [
      "             cyl        disp          hp       drat         wt        qsec  \\\n",
      "count  32.000000   32.000000   32.000000  32.000000  32.000000   32.000000   \n",
      "mean    7.600000  230.721875  146.687500   3.596563   3.217250   19.795938   \n",
      "std     7.925459  123.938694   68.562868   0.534679   0.978457   15.066831   \n",
      "min     4.000000   71.100000   52.000000   2.760000   1.513000    0.100000   \n",
      "25%     4.000000  120.825000   96.500000   3.080000   2.581250   16.827500   \n",
      "50%     6.000000  196.300000  123.000000   3.695000   3.325000   17.600000   \n",
      "75%     8.000000  326.000000  180.000000   3.920000   3.610000   18.682500   \n",
      "max    50.000000  472.000000  335.000000   4.930000   5.424000  100.000000   \n",
      "\n",
      "              vs     carb  \n",
      "count  32.000000  32.0000  \n",
      "mean    0.437500   2.8125  \n",
      "std     0.504016   1.6152  \n",
      "min     0.000000   1.0000  \n",
      "25%     0.000000   2.0000  \n",
      "50%     0.000000   2.0000  \n",
      "75%     1.000000   4.0000  \n",
      "max     1.000000   8.0000  \n"
     ]
    }
   ],
   "source": [
    "# X 변수의 기초통계량을 구한 후, X_describe 변수에 저장하기\n",
    "X_describe = X.describe()\n",
    "print(X_describe)"
   ]
  },
  {
   "cell_type": "code",
   "execution_count": 29,
   "id": "d61444bd-5abc-4895-9ced-3f46557a8cdf",
   "metadata": {},
   "outputs": [
    {
     "data": {
      "text/html": [
       "<div>\n",
       "<style scoped>\n",
       "    .dataframe tbody tr th:only-of-type {\n",
       "        vertical-align: middle;\n",
       "    }\n",
       "\n",
       "    .dataframe tbody tr th {\n",
       "        vertical-align: top;\n",
       "    }\n",
       "\n",
       "    .dataframe thead th {\n",
       "        text-align: right;\n",
       "    }\n",
       "</style>\n",
       "<table border=\"1\" class=\"dataframe\">\n",
       "  <thead>\n",
       "    <tr style=\"text-align: right;\">\n",
       "      <th></th>\n",
       "      <th>cyl</th>\n",
       "      <th>disp</th>\n",
       "      <th>hp</th>\n",
       "      <th>drat</th>\n",
       "      <th>wt</th>\n",
       "      <th>qsec</th>\n",
       "      <th>vs</th>\n",
       "      <th>carb</th>\n",
       "    </tr>\n",
       "  </thead>\n",
       "  <tbody>\n",
       "    <tr>\n",
       "      <th>count</th>\n",
       "      <td>32.000000</td>\n",
       "      <td>32.000000</td>\n",
       "      <td>32.000000</td>\n",
       "      <td>32.000000</td>\n",
       "      <td>32.000000</td>\n",
       "      <td>32.000000</td>\n",
       "      <td>32.000000</td>\n",
       "      <td>32.0000</td>\n",
       "    </tr>\n",
       "    <tr>\n",
       "      <th>mean</th>\n",
       "      <td>7.600000</td>\n",
       "      <td>230.721875</td>\n",
       "      <td>146.687500</td>\n",
       "      <td>3.596563</td>\n",
       "      <td>3.217250</td>\n",
       "      <td>19.795938</td>\n",
       "      <td>0.437500</td>\n",
       "      <td>2.8125</td>\n",
       "    </tr>\n",
       "    <tr>\n",
       "      <th>std</th>\n",
       "      <td>7.925459</td>\n",
       "      <td>123.938694</td>\n",
       "      <td>68.562868</td>\n",
       "      <td>0.534679</td>\n",
       "      <td>0.978457</td>\n",
       "      <td>15.066831</td>\n",
       "      <td>0.504016</td>\n",
       "      <td>1.6152</td>\n",
       "    </tr>\n",
       "    <tr>\n",
       "      <th>min</th>\n",
       "      <td>4.000000</td>\n",
       "      <td>71.100000</td>\n",
       "      <td>52.000000</td>\n",
       "      <td>2.760000</td>\n",
       "      <td>1.513000</td>\n",
       "      <td>0.100000</td>\n",
       "      <td>0.000000</td>\n",
       "      <td>1.0000</td>\n",
       "    </tr>\n",
       "    <tr>\n",
       "      <th>25%</th>\n",
       "      <td>4.000000</td>\n",
       "      <td>120.825000</td>\n",
       "      <td>96.500000</td>\n",
       "      <td>3.080000</td>\n",
       "      <td>2.581250</td>\n",
       "      <td>16.827500</td>\n",
       "      <td>0.000000</td>\n",
       "      <td>2.0000</td>\n",
       "    </tr>\n",
       "    <tr>\n",
       "      <th>50%</th>\n",
       "      <td>6.000000</td>\n",
       "      <td>196.300000</td>\n",
       "      <td>123.000000</td>\n",
       "      <td>3.695000</td>\n",
       "      <td>3.325000</td>\n",
       "      <td>17.600000</td>\n",
       "      <td>0.000000</td>\n",
       "      <td>2.0000</td>\n",
       "    </tr>\n",
       "    <tr>\n",
       "      <th>75%</th>\n",
       "      <td>8.000000</td>\n",
       "      <td>326.000000</td>\n",
       "      <td>180.000000</td>\n",
       "      <td>3.920000</td>\n",
       "      <td>3.610000</td>\n",
       "      <td>18.682500</td>\n",
       "      <td>1.000000</td>\n",
       "      <td>4.0000</td>\n",
       "    </tr>\n",
       "    <tr>\n",
       "      <th>max</th>\n",
       "      <td>50.000000</td>\n",
       "      <td>472.000000</td>\n",
       "      <td>335.000000</td>\n",
       "      <td>4.930000</td>\n",
       "      <td>5.424000</td>\n",
       "      <td>100.000000</td>\n",
       "      <td>1.000000</td>\n",
       "      <td>8.0000</td>\n",
       "    </tr>\n",
       "  </tbody>\n",
       "</table>\n",
       "</div>"
      ],
      "text/plain": [
       "             cyl        disp          hp       drat         wt        qsec  \\\n",
       "count  32.000000   32.000000   32.000000  32.000000  32.000000   32.000000   \n",
       "mean    7.600000  230.721875  146.687500   3.596563   3.217250   19.795938   \n",
       "std     7.925459  123.938694   68.562868   0.534679   0.978457   15.066831   \n",
       "min     4.000000   71.100000   52.000000   2.760000   1.513000    0.100000   \n",
       "25%     4.000000  120.825000   96.500000   3.080000   2.581250   16.827500   \n",
       "50%     6.000000  196.300000  123.000000   3.695000   3.325000   17.600000   \n",
       "75%     8.000000  326.000000  180.000000   3.920000   3.610000   18.682500   \n",
       "max    50.000000  472.000000  335.000000   4.930000   5.424000  100.000000   \n",
       "\n",
       "              vs     carb  \n",
       "count  32.000000  32.0000  \n",
       "mean    0.437500   2.8125  \n",
       "std     0.504016   1.6152  \n",
       "min     0.000000   1.0000  \n",
       "25%     0.000000   2.0000  \n",
       "50%     0.000000   2.0000  \n",
       "75%     1.000000   4.0000  \n",
       "max     1.000000   8.0000  "
      ]
     },
     "execution_count": 29,
     "metadata": {},
     "output_type": "execute_result"
    }
   ],
   "source": [
    "X_describe"
   ]
  },
  {
   "cell_type": "code",
   "execution_count": 30,
   "id": "165c8297-eb17-4903-97dd-e9cf4b4adf3f",
   "metadata": {},
   "outputs": [
    {
     "name": "stdout",
     "output_type": "stream",
     "text": [
      "cyl       8.0000\n",
      "disp    326.0000\n",
      "hp      180.0000\n",
      "drat      3.9200\n",
      "wt        3.6100\n",
      "qsec     18.6825\n",
      "vs        1.0000\n",
      "carb      4.0000\n",
      "Name: 75%, dtype: float64 \n",
      " cyl       4.00000\n",
      "disp    120.82500\n",
      "hp       96.50000\n",
      "drat      3.08000\n",
      "wt        2.58125\n",
      "qsec     16.82750\n",
      "vs        0.00000\n",
      "carb      2.00000\n",
      "Name: 25%, dtype: float64\n"
     ]
    }
   ],
   "source": [
    "# X_describe 변수에서 '75%' 행과 '25%' 행을 확인하기\n",
    "print(X_describe.loc['75%'], '\\n', X_describe.loc['25%'])"
   ]
  },
  {
   "cell_type": "code",
   "execution_count": 31,
   "id": "f0d0cc61-181e-44d1-9871-6dd0d7cf7e8b",
   "metadata": {},
   "outputs": [
    {
     "name": "stdout",
     "output_type": "stream",
     "text": [
      "cyl       4.00000\n",
      "disp    205.17500\n",
      "hp       83.50000\n",
      "drat      0.84000\n",
      "wt        1.02875\n",
      "qsec      1.85500\n",
      "vs        1.00000\n",
      "carb      2.00000\n",
      "dtype: float64\n"
     ]
    }
   ],
   "source": [
    "# IQR을 계산한 후, X_iqr 변수에 저장하기\n",
    "X_iqr = X_describe.loc['75%'] - X_describe.loc['25%']\n",
    "\n",
    "# X_iqr 확인하기\n",
    "print(X_iqr)"
   ]
  },
  {
   "cell_type": "code",
   "execution_count": 32,
   "id": "ad1235f8-78d0-436b-8ea3-d21687bb181b",
   "metadata": {},
   "outputs": [
    {
     "name": "stdout",
     "output_type": "stream",
     "text": [
      "cyl      14.000000\n",
      "disp    633.762500\n",
      "hp      305.250000\n",
      "drat      5.180000\n",
      "wt        5.153125\n",
      "qsec     21.465000\n",
      "vs        2.500000\n",
      "carb      7.000000\n",
      "dtype: float64\n"
     ]
    }
   ],
   "source": [
    "# 각 열의 3사분위수 + 1.5*IQR 값을 계산하기\n",
    "print(X_describe.loc['75%'] + (1.5 * X_iqr))"
   ]
  },
  {
   "cell_type": "code",
   "execution_count": 33,
   "id": "1c8ebe29-b721-405a-804e-c7847d8afb93",
   "metadata": {},
   "outputs": [
    {
     "name": "stdout",
     "output_type": "stream",
     "text": [
      "cyl      50.000\n",
      "disp    472.000\n",
      "hp      335.000\n",
      "drat      4.930\n",
      "wt        5.424\n",
      "qsec    100.000\n",
      "vs        1.000\n",
      "carb      8.000\n",
      "Name: max, dtype: float64\n"
     ]
    }
   ],
   "source": [
    "# X 변수의 최댓값 확인하기\n",
    "print(X_describe.loc['max'])"
   ]
  },
  {
   "cell_type": "code",
   "execution_count": 34,
   "id": "b517f3bf-a534-4272-997b-e5f6ef0b3a19",
   "metadata": {},
   "outputs": [
    {
     "name": "stdout",
     "output_type": "stream",
     "text": [
      "     cyl   disp   hp  drat    wt   qsec  vs    am gear  carb\n",
      "14  50.0  472.0  205  2.93  5.25  17.98   0  auto    3     4\n"
     ]
    }
   ],
   "source": [
    "# cyl 열 값이 14를 초과하는 값 추출하기\n",
    "print(X.loc[X['cyl'] > 14])"
   ]
  },
  {
   "cell_type": "code",
   "execution_count": 35,
   "id": "650832c3-ab68-4123-b9a7-b41d5ad4a440",
   "metadata": {},
   "outputs": [
    {
     "name": "stdout",
     "output_type": "stream",
     "text": [
      "     cyl   disp   hp  drat    wt   qsec  vs    am gear  carb\n",
      "14  50.0  472.0  205  2.93  5.25  17.98   0  auto    3     4\n"
     ]
    }
   ],
   "source": [
    "print(X[X['cyl'] > 14])   # loc 안 써도 같은 결과"
   ]
  },
  {
   "cell_type": "code",
   "execution_count": 36,
   "id": "7d652019-aec0-46a7-9806-63a22b3707ed",
   "metadata": {},
   "outputs": [
    {
     "name": "stdout",
     "output_type": "stream",
     "text": [
      "14.0\n"
     ]
    }
   ],
   "source": [
    "# X 변수에서 인덱스가 14, 열이 cyl인 값을 14로 변경하기\n",
    "X.loc[14, 'cyl'] = 14\n",
    "\n",
    "# X 변수에서 인덱스가 14, 열이 cyl인 값을 확인하기\n",
    "print(X.loc[14, 'cyl'])"
   ]
  },
  {
   "cell_type": "code",
   "execution_count": 37,
   "id": "bbae6c9e-2fb0-4244-a6d3-3c57291999e3",
   "metadata": {},
   "outputs": [
    {
     "name": "stdout",
     "output_type": "stream",
     "text": [
      "    cyl   disp   hp  drat    wt  qsec  vs      am gear  carb\n",
      "30  8.0  301.0  335  3.54  3.57  14.6   0  manual    5     8\n",
      "305.25\n"
     ]
    }
   ],
   "source": [
    "# hp 열 값이 305.25를 초과하는 값 추출하기\n",
    "print(X.loc[X['hp'] > 305.25])\n",
    "\n",
    "# X 변수에서 인덱스가 30, 열이 hp인 값을 305.25로 변경하기\n",
    "X.loc[30, 'hp'] = 305.25\n",
    "\n",
    "# X 변수에서 인덱스가 30, 열이 hp인 값을 확인하기\n",
    "print(X.loc[30, 'hp'])"
   ]
  },
  {
   "cell_type": "code",
   "execution_count": 38,
   "id": "d5f9ffe5-51c4-43dc-b9e0-3c37d9ca9bef",
   "metadata": {},
   "outputs": [
    {
     "name": "stdout",
     "output_type": "stream",
     "text": [
      "cyl      -2.000000\n",
      "disp   -186.937500\n",
      "hp      -28.750000\n",
      "drat      1.820000\n",
      "wt        1.038125\n",
      "qsec     14.045000\n",
      "vs       -1.500000\n",
      "carb     -1.000000\n",
      "dtype: float64\n"
     ]
    }
   ],
   "source": [
    "# 각 열의 1사분위수 - 1.5*IQR 값을 계산하기\n",
    "print(X_describe.loc['25%'] - (1.5 * X_iqr))"
   ]
  },
  {
   "cell_type": "code",
   "execution_count": 39,
   "id": "1ad43030-f01e-467a-bb83-0acdc41dbbc9",
   "metadata": {},
   "outputs": [
    {
     "name": "stdout",
     "output_type": "stream",
     "text": [
      "cyl      4.000\n",
      "disp    71.100\n",
      "hp      52.000\n",
      "drat     2.760\n",
      "wt       1.513\n",
      "qsec     0.100\n",
      "vs       0.000\n",
      "carb     1.000\n",
      "Name: min, dtype: float64\n"
     ]
    }
   ],
   "source": [
    "# X 변수의 최솟값 확인하기\n",
    "print(X_describe.loc['min'])"
   ]
  },
  {
   "cell_type": "markdown",
   "id": "6b1b61e8-0233-453e-bd56-98c44705ce9a",
   "metadata": {},
   "source": [
    "##### **- 평균과 표준편차 활용하기**"
   ]
  },
  {
   "cell_type": "code",
   "execution_count": 40,
   "id": "58179722-ac31-4cb7-9a83-7e0a6056c2cf",
   "metadata": {},
   "outputs": [],
   "source": [
    "# 데이터(data)와 열(column)을 전달하면 이상값 정보가 출력되는 outlier() 함수 만들기\n",
    "def outlier(data, column):\n",
    "    mean = data[column].mean()\n",
    "    std = data[column].std()\n",
    "    lowest = mean - (1.5*std)\n",
    "    highest = mean + (1.5*std)\n",
    "    print('최소 경계값 :', lowest, ', 최대 경계값 :', highest)\n",
    "    outlier_index = data[column][(data[column]<lowest) | (data[column]>highest)].index   # 괄호 필수\n",
    "    return outlier_index"
   ]
  },
  {
   "cell_type": "code",
   "execution_count": 41,
   "id": "fc050142-008e-41e1-85a7-29882c02ef46",
   "metadata": {},
   "outputs": [
    {
     "name": "stdout",
     "output_type": "stream",
     "text": [
      "최소 경계값 : -2.8043094560577657 , 최대 경계값 : 42.39618445605777\n",
      "Int64Index([24], dtype='int64')\n"
     ]
    }
   ],
   "source": [
    "# X 변수와 qsec 열을 전달하여 이상값 정보를 출력하기\n",
    "print(outlier(X, 'qsec'))"
   ]
  },
  {
   "cell_type": "code",
   "execution_count": 42,
   "id": "f094d91b-b5fb-4912-a729-dccd33b98df7",
   "metadata": {},
   "outputs": [
    {
     "name": "stdout",
     "output_type": "stream",
     "text": [
      "100.0\n"
     ]
    }
   ],
   "source": [
    "# 인덱스가 24, 열이 qsec인 값 확인하기\n",
    "print(X.loc[24, 'qsec'])"
   ]
  },
  {
   "cell_type": "code",
   "execution_count": 43,
   "id": "1fe35d09-1cfb-4cee-9451-56a94caaaec8",
   "metadata": {},
   "outputs": [
    {
     "name": "stdout",
     "output_type": "stream",
     "text": [
      "42.245\n"
     ]
    }
   ],
   "source": [
    "# 인덱스가 24, 열이 qsec인 값을 42.245로 변경하기\n",
    "X.loc[24, 'qsec'] = 42.245\n",
    "\n",
    "# 인덱스가 24, 열이 qsec인 값 확인하기\n",
    "print(X.loc[24, 'qsec'])"
   ]
  },
  {
   "cell_type": "code",
   "execution_count": 44,
   "id": "3191cd2f-168f-4eb4-9b50-03e5b8f91069",
   "metadata": {},
   "outputs": [
    {
     "name": "stdout",
     "output_type": "stream",
     "text": [
      "최소 경계값 : 0.3897000335522218 , 최대 경계값 : 5.235299966447778\n",
      "Int64Index([29, 30], dtype='int64')\n"
     ]
    }
   ],
   "source": [
    "# X 변수와 carb 열을 전달하여 이상값 정보를 출력하기\n",
    "print(outlier(X, 'carb'))"
   ]
  },
  {
   "cell_type": "code",
   "execution_count": 45,
   "id": "d61cca1b-53a8-4353-b3bf-cb0425a006a0",
   "metadata": {},
   "outputs": [
    {
     "name": "stdout",
     "output_type": "stream",
     "text": [
      "29    6\n",
      "30    8\n",
      "Name: carb, dtype: int64\n"
     ]
    }
   ],
   "source": [
    "# 인덱스가 29, 30이고, 열은 carb인 값을 확인하기\n",
    "print(X.loc[[29, 30], 'carb'])"
   ]
  },
  {
   "cell_type": "code",
   "execution_count": 46,
   "id": "40a64adb-b776-4552-be89-c5911a18ef54",
   "metadata": {},
   "outputs": [
    {
     "data": {
      "text/plain": [
       "29    5.235\n",
       "30    5.235\n",
       "Name: carb, dtype: float64"
      ]
     },
     "execution_count": 46,
     "metadata": {},
     "output_type": "execute_result"
    }
   ],
   "source": [
    "# 인덱스가 29, 30이고, 열은 carb인 값을 5.245로 변경하기\n",
    "X.loc[29, 'carb'] = 5.235\n",
    "X.loc[30, 'carb'] = 5.235\n",
    "\n",
    "# 인덱스가 29, 30이고 열은 carb인 값을 확인하기\n",
    "X.loc[[29, 30], 'carb']"
   ]
  },
  {
   "cell_type": "markdown",
   "id": "b5f9c86a-c1b4-40ec-9a0b-c8b91fff1b80",
   "metadata": {},
   "source": [
    "#### **데이터를 동일한 범위로 맞추기: 데이터 스케일링(Data Scaling)**"
   ]
  },
  {
   "cell_type": "markdown",
   "id": "5e4f4aa3-9beb-417c-8453-f27fee285584",
   "metadata": {},
   "source": [
    "- **평균을 0, 표준편차를 1**로 만드는 **<span style=\"color:blue\">표준 크기변환(Standard Scaling)</span>**<br>\n",
    "- **최솟값을 0, 최댓값을 1**로 만드는 **<span style=\"color:blue\">최소-최대 크기변환(Min-Max Scaling)</span>**<br>\n",
    "- **중앙값을 0, IQR을 1**로 만드는 **<span style=\"color:blue\">로버스트 크기변환(Robust Scaling)</span>**"
   ]
  },
  {
   "cell_type": "markdown",
   "id": "d97984a0-6890-4547-ada9-963c373db962",
   "metadata": {},
   "source": [
    "##### **- 표준 크기변환: StandardScaler**"
   ]
  },
  {
   "cell_type": "code",
   "execution_count": 47,
   "id": "ceb21a32-0a06-4f38-bc9c-b540d62e1021",
   "metadata": {},
   "outputs": [
    {
     "data": {
      "text/html": [
       "<div>\n",
       "<style scoped>\n",
       "    .dataframe tbody tr th:only-of-type {\n",
       "        vertical-align: middle;\n",
       "    }\n",
       "\n",
       "    .dataframe tbody tr th {\n",
       "        vertical-align: top;\n",
       "    }\n",
       "\n",
       "    .dataframe thead th {\n",
       "        text-align: right;\n",
       "    }\n",
       "</style>\n",
       "<table border=\"1\" class=\"dataframe\">\n",
       "  <thead>\n",
       "    <tr style=\"text-align: right;\">\n",
       "      <th></th>\n",
       "      <th>qsec</th>\n",
       "    </tr>\n",
       "  </thead>\n",
       "  <tbody>\n",
       "    <tr>\n",
       "      <th>0</th>\n",
       "      <td>16.46</td>\n",
       "    </tr>\n",
       "    <tr>\n",
       "      <th>1</th>\n",
       "      <td>17.02</td>\n",
       "    </tr>\n",
       "    <tr>\n",
       "      <th>2</th>\n",
       "      <td>18.61</td>\n",
       "    </tr>\n",
       "    <tr>\n",
       "      <th>3</th>\n",
       "      <td>0.10</td>\n",
       "    </tr>\n",
       "    <tr>\n",
       "      <th>4</th>\n",
       "      <td>17.02</td>\n",
       "    </tr>\n",
       "  </tbody>\n",
       "</table>\n",
       "</div>"
      ],
      "text/plain": [
       "    qsec\n",
       "0  16.46\n",
       "1  17.02\n",
       "2  18.61\n",
       "3   0.10\n",
       "4  17.02"
      ]
     },
     "execution_count": 47,
     "metadata": {},
     "output_type": "execute_result"
    }
   ],
   "source": [
    "# sklearn 패키지의 preprocessing 모듈에서 StandardScaler 함수를 가져오기\n",
    "from sklearn.preprocessing import StandardScaler\n",
    "\n",
    "# X 변수에서 qsec 열만 추출한 후, temp 변수에 저장하기\n",
    "temp = X[['qsec']]   # DataFrame으로 저장\n",
    "\n",
    "temp.head()"
   ]
  },
  {
   "cell_type": "code",
   "execution_count": 48,
   "id": "21395fbd-f72d-46a1-9c4d-b10b2a19b45c",
   "metadata": {},
   "outputs": [
    {
     "data": {
      "text/plain": [
       "pandas.core.frame.DataFrame"
      ]
     },
     "execution_count": 48,
     "metadata": {},
     "output_type": "execute_result"
    }
   ],
   "source": [
    "type(temp)"
   ]
  },
  {
   "cell_type": "code",
   "execution_count": 49,
   "id": "71baba04-22f8-4064-a83d-d18f02baa5b5",
   "metadata": {},
   "outputs": [
    {
     "data": {
      "text/plain": [
       "0    16.46\n",
       "1    17.02\n",
       "2    18.61\n",
       "3     0.10\n",
       "4    17.02\n",
       "Name: qsec, dtype: float64"
      ]
     },
     "execution_count": 49,
     "metadata": {},
     "output_type": "execute_result"
    }
   ],
   "source": [
    "# 비교\n",
    "temp = X['qsec']   # Series로 저장\n",
    "\n",
    "temp.head()"
   ]
  },
  {
   "cell_type": "code",
   "execution_count": 50,
   "id": "c779a6bb-6b72-4863-a2f5-1a66cf70b7d2",
   "metadata": {},
   "outputs": [
    {
     "data": {
      "text/plain": [
       "pandas.core.series.Series"
      ]
     },
     "execution_count": 50,
     "metadata": {},
     "output_type": "execute_result"
    }
   ],
   "source": [
    "type(temp)"
   ]
  },
  {
   "cell_type": "code",
   "execution_count": 51,
   "id": "0980d884-1818-4315-9e2d-e60e86cf7b8f",
   "metadata": {},
   "outputs": [
    {
     "data": {
      "text/html": [
       "<div>\n",
       "<style scoped>\n",
       "    .dataframe tbody tr th:only-of-type {\n",
       "        vertical-align: middle;\n",
       "    }\n",
       "\n",
       "    .dataframe tbody tr th {\n",
       "        vertical-align: top;\n",
       "    }\n",
       "\n",
       "    .dataframe thead th {\n",
       "        text-align: right;\n",
       "    }\n",
       "</style>\n",
       "<table border=\"1\" class=\"dataframe\">\n",
       "  <thead>\n",
       "    <tr style=\"text-align: right;\">\n",
       "      <th></th>\n",
       "      <th>qsec</th>\n",
       "    </tr>\n",
       "  </thead>\n",
       "  <tbody>\n",
       "    <tr>\n",
       "      <th>0</th>\n",
       "      <td>16.46</td>\n",
       "    </tr>\n",
       "    <tr>\n",
       "      <th>1</th>\n",
       "      <td>17.02</td>\n",
       "    </tr>\n",
       "    <tr>\n",
       "      <th>2</th>\n",
       "      <td>18.61</td>\n",
       "    </tr>\n",
       "    <tr>\n",
       "      <th>3</th>\n",
       "      <td>0.10</td>\n",
       "    </tr>\n",
       "    <tr>\n",
       "      <th>4</th>\n",
       "      <td>17.02</td>\n",
       "    </tr>\n",
       "  </tbody>\n",
       "</table>\n",
       "</div>"
      ],
      "text/plain": [
       "    qsec\n",
       "0  16.46\n",
       "1  17.02\n",
       "2  18.61\n",
       "3   0.10\n",
       "4  17.02"
      ]
     },
     "execution_count": 51,
     "metadata": {},
     "output_type": "execute_result"
    }
   ],
   "source": [
    "temp = X[['qsec']]   # DataFrame으로 저장\n",
    "\n",
    "temp.head()"
   ]
  },
  {
   "cell_type": "code",
   "execution_count": 52,
   "id": "39925888-191e-4ec8-8c2f-cd0a5668fe00",
   "metadata": {},
   "outputs": [
    {
     "name": "stdout",
     "output_type": "stream",
     "text": [
      "[[-2.73300467e-01]\n",
      " [-1.73340382e-01]\n",
      " [ 1.10474860e-01]\n",
      " [-3.19356296e+00]\n",
      " [-1.73340382e-01]\n",
      " [ 3.97860105e-01]\n",
      " [-3.83970561e-01]\n",
      " [ 3.58590071e-01]\n",
      " [ 8.76240512e-01]\n",
      " [ 5.51398126e-02]\n",
      " [-6.98102938e-02]\n",
      " [-1.05510324e-01]\n",
      " [-6.98102938e-02]\n",
      " [ 1.58976698e-03]\n",
      " [-1.98023606e-03]\n",
      " [-3.05402604e-02]\n",
      " [-1.01940321e-01]\n",
      " [ 2.63984991e-01]\n",
      " [ 9.44098461e-02]\n",
      " [ 3.40740056e-01]\n",
      " [ 3.60375073e-01]\n",
      " [-2.00115405e-01]\n",
      " [-1.23360339e-01]\n",
      " [-4.60725627e-01]\n",
      " [ 4.32932595e+00]\n",
      " [ 1.62239904e-01]\n",
      " [-2.30460431e-01]\n",
      " [-1.94760400e-01]\n",
      " [-6.23160765e-01]\n",
      " [-4.44660613e-01]\n",
      " [-6.05310750e-01]\n",
      " [ 1.08689858e-01]]\n"
     ]
    }
   ],
   "source": [
    "# StandardScaler 함수를 호출하여 표준 크기변환 기능을 갖는 scaler라는 객체 만들기\n",
    "scaler = StandardScaler()\n",
    "\n",
    "# 표준 크기변환하는 scaler에게 fit_transform 명령으로 temp 변수의 크기변환 요청하기\n",
    "print(scaler.fit_transform(temp))"
   ]
  },
  {
   "cell_type": "code",
   "execution_count": 53,
   "id": "becbde24-b147-458f-bea4-9c58e008adf7",
   "metadata": {},
   "outputs": [
    {
     "name": "stdout",
     "output_type": "stream",
     "text": [
      "                  0\n",
      "count  3.200000e+01\n",
      "mean  -1.804112e-16\n",
      "std    1.016001e+00\n",
      "min   -3.193563e+00\n",
      "25%   -2.077017e-01\n",
      "50%   -6.981029e-02\n",
      "75%    1.234161e-01\n",
      "max    4.329326e+00\n"
     ]
    }
   ],
   "source": [
    "# 표준 크기변환을 수행한 결과를 qsec_s_scaler 변수에 저장하기\n",
    "qsec_s_scaler = pd.DataFrame(scaler.fit_transform(temp))\n",
    "\n",
    "# qsec_s_scaler 변수의 기초통계량 확인하기\n",
    "print(qsec_s_scaler.describe())"
   ]
  },
  {
   "cell_type": "markdown",
   "id": "9571d141-58c1-407b-a637-86a6589c29b5",
   "metadata": {},
   "source": [
    "##### **- 최소-최대 크기변환: MinMaxScaler**"
   ]
  },
  {
   "cell_type": "code",
   "execution_count": 54,
   "id": "0b596d5a-12a9-4033-9520-6c7efcff8142",
   "metadata": {},
   "outputs": [],
   "source": [
    "# sklearn 패키지의 preprocessing 모듈에서 MinMaxScaler 함수를 가져오기\n",
    "from sklearn.preprocessing import MinMaxScaler\n",
    "\n",
    "# X 변수에서 qsec 열만 추출한 후, temp 변수에 저장하기\n",
    "temp = X[['qsec']]"
   ]
  },
  {
   "cell_type": "code",
   "execution_count": 55,
   "id": "b06fd5db-b955-4ab4-adc2-b53d99d00843",
   "metadata": {},
   "outputs": [
    {
     "name": "stdout",
     "output_type": "stream",
     "text": [
      "           0\n",
      "0   0.388184\n",
      "1   0.401471\n",
      "2   0.439198\n",
      "3   0.000000\n",
      "4   0.401471\n",
      "5   0.477399\n",
      "6   0.373473\n",
      "7   0.472179\n",
      "8   0.540989\n",
      "9   0.431842\n",
      "10  0.415233\n",
      "11  0.410488\n",
      "12  0.415233\n",
      "13  0.424724\n",
      "14  0.424250\n",
      "15  0.420453\n",
      "16  0.410962\n",
      "17  0.459604\n",
      "18  0.437063\n",
      "19  0.469807\n",
      "20  0.472417\n",
      "21  0.397912\n",
      "22  0.408115\n",
      "23  0.363270\n",
      "24  1.000000\n",
      "25  0.446079\n",
      "26  0.393878\n",
      "27  0.398624\n",
      "28  0.341678\n",
      "29  0.365405\n",
      "30  0.344050\n",
      "31  0.438961\n"
     ]
    }
   ],
   "source": [
    "# MinMaxScaler 함수를 호출하여 최소-최대 크기변환 기능을 갖는 scaler 객체 만들기\n",
    "scaler = MinMaxScaler()\n",
    "\n",
    "# 최소-최대 크기변환 기능이 있는 scaler에게 temp 변수의 크기변환을 요청하고\n",
    "# 변환 결과는 qsec_m_scaler 변수에 저장하기\n",
    "qsec_m_scaler = pd.DataFrame(scaler.fit_transform(temp))\n",
    "\n",
    "# 최소-최대 크기변환 결과인 qsec_m_scaler 변수 확인하기\n",
    "print(qsec_m_scaler)"
   ]
  },
  {
   "cell_type": "code",
   "execution_count": 56,
   "id": "617f332c-a0a6-4898-8a36-be5d7bbc5da3",
   "metadata": {},
   "outputs": [
    {
     "name": "stdout",
     "output_type": "stream",
     "text": [
      "               0\n",
      "count  32.000000\n",
      "mean    0.424513\n",
      "std     0.135055\n",
      "min     0.000000\n",
      "25%     0.396904\n",
      "50%     0.415233\n",
      "75%     0.440918\n",
      "max     1.000000\n"
     ]
    }
   ],
   "source": [
    "# qsec_m_scaler 변수의 기초통계량 확인하기\n",
    "print(qsec_m_scaler.describe())"
   ]
  },
  {
   "cell_type": "markdown",
   "id": "1fdd67f5-43bc-4e1c-84d2-c04f95de908a",
   "metadata": {},
   "source": [
    "##### **- 로버스트 크기변환: RobustScaler**"
   ]
  },
  {
   "cell_type": "code",
   "execution_count": 57,
   "id": "d1529032-e71c-4ec1-9eee-845b838599d5",
   "metadata": {},
   "outputs": [],
   "source": [
    "# sklearn 패키지의 preprocessing 모듈에서 RobustScaler 함수를 가져오기\n",
    "from sklearn.preprocessing import RobustScaler\n",
    "\n",
    "# X 변수에서 qsec 열만 추출한 후, temp 변수에 저장하기\n",
    "temp = X[['qsec']]"
   ]
  },
  {
   "cell_type": "code",
   "execution_count": 58,
   "id": "5dc2db64-f4cf-4dad-8f86-1ece5221e0aa",
   "metadata": {},
   "outputs": [
    {
     "name": "stdout",
     "output_type": "stream",
     "text": [
      "            0\n",
      "0   -0.614555\n",
      "1   -0.312668\n",
      "2    0.544474\n",
      "3   -9.433962\n",
      "4   -0.312668\n",
      "5    1.412399\n",
      "6   -0.948787\n",
      "7    1.293801\n",
      "8    2.857143\n",
      "9    0.377358\n",
      "10   0.000000\n",
      "11  -0.107817\n",
      "12   0.000000\n",
      "13   0.215633\n",
      "14   0.204852\n",
      "15   0.118598\n",
      "16  -0.097035\n",
      "17   1.008086\n",
      "18   0.495957\n",
      "19   1.239892\n",
      "20   1.299191\n",
      "21  -0.393531\n",
      "22  -0.161725\n",
      "23  -1.180593\n",
      "24  13.285714\n",
      "25   0.700809\n",
      "26  -0.485175\n",
      "27  -0.377358\n",
      "28  -1.671159\n",
      "29  -1.132075\n",
      "30  -1.617251\n",
      "31   0.539084\n"
     ]
    }
   ],
   "source": [
    "# RobustScaler 함수를 호출하여 로버스트 크기변환 기능을 갖는 scaler 객체 만들기\n",
    "scaler = RobustScaler()\n",
    "\n",
    "# 로버스트 크기변환 기능이 있는 scaler에게 temp 변수의 크기변환을 요청하고\n",
    "# 변환 결과는 qsec_r_scaler 변수에 저장하기\n",
    "qsec_r_scaler = pd.DataFrame(scaler.fit_transform(temp))\n",
    "\n",
    "# 로버스트 크기변환 결과인 qsec_r_scaler 변수 확인하기\n",
    "print(qsec_r_scaler)"
   ]
  },
  {
   "cell_type": "code",
   "execution_count": 59,
   "id": "5ba66990-d750-402b-ae7f-3fabd68404ed",
   "metadata": {},
   "outputs": [
    {
     "name": "stdout",
     "output_type": "stream",
     "text": [
      "               0\n",
      "count  32.000000\n",
      "mean    0.210832\n",
      "std     3.068398\n",
      "min    -9.433962\n",
      "25%    -0.416442\n",
      "50%     0.000000\n",
      "75%     0.583558\n",
      "max    13.285714\n"
     ]
    }
   ],
   "source": [
    "# qsec_r_scaler 변수의 기초통계량 확인하기\n",
    "print(qsec_r_scaler.describe())"
   ]
  },
  {
   "cell_type": "markdown",
   "id": "97ebec1b-a494-4449-9f5d-2540a0ef10cc",
   "metadata": {},
   "source": [
    "#### **데이터 타입 변경하기**"
   ]
  },
  {
   "cell_type": "code",
   "execution_count": 60,
   "id": "f4ad48bc-a8fe-4773-83b9-46ff89723103",
   "metadata": {},
   "outputs": [
    {
     "name": "stdout",
     "output_type": "stream",
     "text": [
      "<class 'pandas.core.frame.DataFrame'>\n",
      "RangeIndex: 32 entries, 0 to 31\n",
      "Data columns (total 10 columns):\n",
      " #   Column  Non-Null Count  Dtype  \n",
      "---  ------  --------------  -----  \n",
      " 0   cyl     32 non-null     float64\n",
      " 1   disp    32 non-null     float64\n",
      " 2   hp      32 non-null     float64\n",
      " 3   drat    32 non-null     float64\n",
      " 4   wt      32 non-null     float64\n",
      " 5   qsec    32 non-null     float64\n",
      " 6   vs      32 non-null     int64  \n",
      " 7   am      32 non-null     object \n",
      " 8   gear    32 non-null     object \n",
      " 9   carb    32 non-null     float64\n",
      "dtypes: float64(7), int64(1), object(2)\n",
      "memory usage: 2.6+ KB\n",
      "None\n"
     ]
    }
   ],
   "source": [
    "# X 변수의 요약 정보를 확인하기\n",
    "print(X.info())"
   ]
  },
  {
   "cell_type": "code",
   "execution_count": 61,
   "id": "530ec44b-9b83-429a-9c43-b4558393784b",
   "metadata": {},
   "outputs": [
    {
     "data": {
      "text/plain": [
       "dtype('int64')"
      ]
     },
     "execution_count": 61,
     "metadata": {},
     "output_type": "execute_result"
    }
   ],
   "source": [
    "# gear 열의 데이터 타입을 int64로 변경한 후, 다시 gear 열에 저장하기\n",
    "X['gear'] = X['gear'].astype('int64')\n",
    "\n",
    "# gear 열의 데이터 타입(dtype) 확인하기\n",
    "X['gear'].dtype"
   ]
  },
  {
   "cell_type": "markdown",
   "id": "cc077519-8b1f-4e0d-b601-463e63b95662",
   "metadata": {},
   "source": [
    "#### **범주형을 수치형으로 변경하기: 인코딩(Encoding)**"
   ]
  },
  {
   "cell_type": "markdown",
   "id": "86e6e610-46a4-46eb-92bd-b3232bfa34b8",
   "metadata": {},
   "source": [
    "##### **- 원-핫 인코딩: One-Hot Encoding**"
   ]
  },
  {
   "cell_type": "code",
   "execution_count": 62,
   "id": "0c9de6c3-8769-4983-8069-e7c47c871a4c",
   "metadata": {},
   "outputs": [
    {
     "name": "stdout",
     "output_type": "stream",
     "text": [
      "   cyl   disp     hp  drat     wt   qsec  vs      am  gear  carb\n",
      "0  6.0  160.0  110.0  3.90  2.620  16.46   0  manual     4   4.0\n",
      "1  6.0  160.0  110.0  3.90  2.875  17.02   0  manual     4   4.0\n",
      "2  4.0  108.0   93.0  3.85  2.320  18.61   1  manual     4   1.0\n",
      "3  6.0  258.0  110.0  3.08  3.215   0.10   1    auto     3   1.0\n",
      "4  8.0  360.0  175.0  3.15  3.440  17.02   0    auto     3   2.0\n",
      "['manual' 'auto']\n"
     ]
    }
   ],
   "source": [
    "# X 변수의 상위 5개 행 확인하기\n",
    "print(X.head())\n",
    "\n",
    "# am 열에서 중복 제거한 값들을 확인하기\n",
    "print(X['am'].unique())"
   ]
  },
  {
   "cell_type": "code",
   "execution_count": 63,
   "id": "13227e18-30f1-4865-950f-b29dcb7eb54e",
   "metadata": {},
   "outputs": [
    {
     "name": "stdout",
     "output_type": "stream",
     "text": [
      "    auto  manual\n",
      "0      0       1\n",
      "1      0       1\n",
      "2      0       1\n",
      "3      1       0\n",
      "4      1       0\n",
      "5      1       0\n",
      "6      1       0\n",
      "7      1       0\n",
      "8      1       0\n",
      "9      1       0\n",
      "10     1       0\n",
      "11     1       0\n",
      "12     1       0\n",
      "13     1       0\n",
      "14     1       0\n",
      "15     1       0\n",
      "16     1       0\n",
      "17     0       1\n",
      "18     0       1\n",
      "19     0       1\n",
      "20     1       0\n",
      "21     1       0\n",
      "22     1       0\n",
      "23     1       0\n",
      "24     1       0\n",
      "25     0       1\n",
      "26     0       1\n",
      "27     0       1\n",
      "28     0       1\n",
      "29     0       1\n",
      "30     0       1\n",
      "31     0       1\n"
     ]
    }
   ],
   "source": [
    "# X 변수의 am 열에 대해서 원-핫 인코딩 수행하기\n",
    "print(pd.get_dummies(X['am']))"
   ]
  },
  {
   "cell_type": "code",
   "execution_count": 64,
   "id": "ad920eb3-4f4a-4e33-8b4b-a54718875350",
   "metadata": {},
   "outputs": [
    {
     "name": "stdout",
     "output_type": "stream",
     "text": [
      "    manual\n",
      "0        1\n",
      "1        1\n",
      "2        1\n",
      "3        0\n",
      "4        0\n",
      "5        0\n",
      "6        0\n",
      "7        0\n",
      "8        0\n",
      "9        0\n",
      "10       0\n",
      "11       0\n",
      "12       0\n",
      "13       0\n",
      "14       0\n",
      "15       0\n",
      "16       0\n",
      "17       1\n",
      "18       1\n",
      "19       1\n",
      "20       0\n",
      "21       0\n",
      "22       0\n",
      "23       0\n",
      "24       0\n",
      "25       1\n",
      "26       1\n",
      "27       1\n",
      "28       1\n",
      "29       1\n",
      "30       1\n",
      "31       1\n"
     ]
    }
   ],
   "source": [
    "# 데이터의 종류가 N개라면, N-1개의 열만 새로 생성되도록 drop_first=True 옵션 추가\n",
    "# X 변수의 am 열에 원-핫 인코딩 수행하기. 단, 생성된 첫 번째 열은 삭제하기\n",
    "print(pd.get_dummies(X['am'], drop_first=True))"
   ]
  },
  {
   "cell_type": "markdown",
   "id": "740eb343-6d1d-4f96-abe6-b7d31c0d18e2",
   "metadata": {},
   "source": [
    "**`get_dummies()` 함수**는 기본적으로 **<span style=\"color:green\">범주형 데이터만 골라서 인코딩 처리를 수행</span>**"
   ]
  },
  {
   "cell_type": "code",
   "execution_count": 65,
   "id": "42132158-97c7-429d-9a2a-d7e0643d68ef",
   "metadata": {},
   "outputs": [
    {
     "name": "stdout",
     "output_type": "stream",
     "text": [
      "<class 'pandas.core.frame.DataFrame'>\n",
      "RangeIndex: 32 entries, 0 to 31\n",
      "Data columns (total 10 columns):\n",
      " #   Column  Non-Null Count  Dtype  \n",
      "---  ------  --------------  -----  \n",
      " 0   cyl     32 non-null     float64\n",
      " 1   disp    32 non-null     float64\n",
      " 2   hp      32 non-null     float64\n",
      " 3   drat    32 non-null     float64\n",
      " 4   wt      32 non-null     float64\n",
      " 5   qsec    32 non-null     float64\n",
      " 6   vs      32 non-null     int64  \n",
      " 7   am      32 non-null     object \n",
      " 8   gear    32 non-null     int64  \n",
      " 9   carb    32 non-null     float64\n",
      "dtypes: float64(7), int64(2), object(1)\n",
      "memory usage: 2.6+ KB\n",
      "None\n",
      "     cyl   disp      hp  drat     wt    qsec  vs  gear   carb  am_manual\n",
      "0    6.0  160.0  110.00  3.90  2.620  16.460   0     4  4.000          1\n",
      "1    6.0  160.0  110.00  3.90  2.875  17.020   0     4  4.000          1\n",
      "2    4.0  108.0   93.00  3.85  2.320  18.610   1     4  1.000          1\n",
      "3    6.0  258.0  110.00  3.08  3.215   0.100   1     3  1.000          0\n",
      "4    8.0  360.0  175.00  3.15  3.440  17.020   0     3  2.000          0\n",
      "5    6.0  225.0  105.00  2.76  3.460  20.220   1     3  1.000          0\n",
      "6    8.0  360.0  245.00  3.21  3.570  15.840   0     3  4.000          0\n",
      "7    7.6  146.7   62.00  3.69  3.190  20.000   1     4  2.000          0\n",
      "8    4.0  140.8   95.00  3.92  3.150  22.900   1     4  2.000          0\n",
      "9    6.0  167.6  123.00  3.92  3.440  18.300   1     4  4.000          0\n",
      "10   6.0  167.6  123.00  3.92  3.440  17.600   1     4  4.000          0\n",
      "11   8.0  275.8  180.00  3.07  4.070  17.400   0     3  3.000          0\n",
      "12   8.0  275.8  180.00  3.07  3.730  17.600   0     3  3.000          0\n",
      "13   8.0  275.8  180.00  3.07  3.780  18.000   0     3  3.000          0\n",
      "14  14.0  472.0  205.00  2.93  5.250  17.980   0     3  4.000          0\n",
      "15   8.0  460.0  215.00  3.00  5.424  17.820   0     3  4.000          0\n",
      "16   8.0  440.0  230.00  3.23  5.345  17.420   0     3  4.000          0\n",
      "17   4.0   78.7   66.00  4.08  2.200  19.470   1     4  1.000          1\n",
      "18   4.0   75.7   52.00  4.93  1.615  18.520   1     4  2.000          1\n",
      "19   4.0   71.1   65.00  4.22  1.835  19.900   1     4  1.000          1\n",
      "20   4.0  120.1   97.00  3.70  2.465  20.010   1     3  1.000          0\n",
      "21   8.0  318.0  150.00  2.76  3.520  16.870   0     3  2.000          0\n",
      "22   8.0  304.0  150.00  3.15  3.435  17.300   0     3  2.000          0\n",
      "23   8.0  350.0  245.00  3.73  3.840  15.410   0     3  4.000          0\n",
      "24   7.6  400.0  175.00  3.08  3.845  42.245   0     3  2.000          0\n",
      "25   4.0   79.0   66.00  4.08  1.935  18.900   1     4  1.000          1\n",
      "26   4.0  120.3   91.00  4.43  2.140  16.700   0     5  2.000          1\n",
      "27   4.0   95.1  113.00  3.77  1.513  16.900   1     5  2.000          1\n",
      "28   8.0  351.0  264.00  4.22  3.170  14.500   0     5  4.000          1\n",
      "29   6.0  145.0  175.00  3.62  2.770  15.500   0     5  5.235          1\n",
      "30   8.0  301.0  305.25  3.54  3.570  14.600   0     5  5.235          1\n",
      "31   4.0  121.0  109.00  4.11  2.780  18.600   1     4  2.000          1\n"
     ]
    }
   ],
   "source": [
    "# X 변수의 데이터 타입 확인하기\n",
    "print(X.info())\n",
    "\n",
    "# X 변수의 전체 열을 대상으로 원-핫 인코딩 수행하기\n",
    "print(pd.get_dummies(X, drop_first=True))"
   ]
  },
  {
   "cell_type": "markdown",
   "id": "f77c18d0-da60-4e40-941f-75bbd485b0f4",
   "metadata": {},
   "source": [
    "**+) <span style=\"color:orange\">`sklearn` 라이브러리</span>에서 제공하는 <span style=\"color:orange\">`OneHotEncoder()` 함수</span>**"
   ]
  },
  {
   "cell_type": "markdown",
   "id": "6194424c-5bff-4dc4-baef-f75a3c5f055e",
   "metadata": {},
   "source": [
    "##### **- 라벨 인코딩: Label Encoding**"
   ]
  },
  {
   "cell_type": "code",
   "execution_count": 66,
   "id": "74466160-df2c-4b98-8b95-44a691c455c6",
   "metadata": {},
   "outputs": [
    {
     "name": "stdout",
     "output_type": "stream",
     "text": [
      "0    manual\n",
      "1    manual\n",
      "2    manual\n",
      "3      auto\n",
      "4      auto\n",
      "Name: am, dtype: object\n"
     ]
    }
   ],
   "source": [
    "# am 열의 상위 5개 행을 확인하기\n",
    "print(X['am'].head())"
   ]
  },
  {
   "cell_type": "code",
   "execution_count": 67,
   "id": "9612ffc8-8979-4d12-8692-57a277c22f43",
   "metadata": {},
   "outputs": [],
   "source": [
    "# sklearn 라이브러리에서 LabelEncoder 함수를 가져오기\n",
    "from sklearn.preprocessing import LabelEncoder\n",
    "\n",
    "# LabelEncoder 호출을 통해 인코딩 기능을 갖는 encoder 변수를 만들기\n",
    "encoder = LabelEncoder()"
   ]
  },
  {
   "cell_type": "code",
   "execution_count": 68,
   "id": "8c8c9422-0513-495e-a69d-162a93ecae09",
   "metadata": {},
   "outputs": [
    {
     "name": "stdout",
     "output_type": "stream",
     "text": [
      "[1 1 1 0 0 0 0 0 0 0 0 0 0 0 0 0 0 1 1 1 0 0 0 0 0 1 1 1 1 1 1 1]\n"
     ]
    }
   ],
   "source": [
    "# encoder를 통해 am 열 값에 대해 라벨 인코딩 수행하기\n",
    "print(encoder.fit_transform(X['am']))   # 인코더에 'am' 값을 넣어서 변환하기"
   ]
  },
  {
   "cell_type": "code",
   "execution_count": 69,
   "id": "99ea4658-070f-4e80-b887-29e7a7a3d634",
   "metadata": {},
   "outputs": [
    {
     "name": "stdout",
     "output_type": "stream",
     "text": [
      "['apple', 'banana', 'grape'] [0 1 2]\n"
     ]
    }
   ],
   "source": [
    "# 3가지 과일이 들어 있는 fruit 변수 만들기\n",
    "fruit = ['apple', 'banana', 'grape']\n",
    "\n",
    "# LabelEncoder 호출을 통해 라벨 인코딩 기능을 갖는 encoder 변수 만들기\n",
    "encoder = LabelEncoder()\n",
    "\n",
    "# encoder를 통해 fruit 변수에 대한 라벨 인코딩 수행 후, 결과는 fruit_new에 저장하기\n",
    "fruit_new = encoder.fit_transform(fruit)\n",
    "\n",
    "# 기존의 fruit 변수와 라벨 인코딩한 fruit_new 변수를 비교해보기\n",
    "print(fruit, fruit_new)"
   ]
  },
  {
   "cell_type": "markdown",
   "id": "e295ceca-b10d-428f-9d3b-150b31577aa6",
   "metadata": {},
   "source": [
    "##### **- 수동 인코딩: Replace**"
   ]
  },
  {
   "cell_type": "code",
   "execution_count": 70,
   "id": "252f6790-48c6-4a98-b068-79cbc4611dfb",
   "metadata": {},
   "outputs": [
    {
     "name": "stdout",
     "output_type": "stream",
     "text": [
      "   cyl   disp     hp  drat     wt   qsec  vs      am  gear  carb  am_new\n",
      "0  6.0  160.0  110.0  3.90  2.620  16.46   0  manual     4   4.0       0\n",
      "1  6.0  160.0  110.0  3.90  2.875  17.02   0  manual     4   4.0       0\n",
      "2  4.0  108.0   93.0  3.85  2.320  18.61   1  manual     4   1.0       0\n",
      "3  6.0  258.0  110.0  3.08  3.215   0.10   1    auto     3   1.0       1\n",
      "4  8.0  360.0  175.0  3.15  3.440  17.02   0    auto     3   2.0       1\n"
     ]
    }
   ],
   "source": [
    "# am 열에서 manual은 0으로, auto는 1로 변경한 후, 새로운 am_new 열에 저장하기\n",
    "X['am_new'] = X['am'].replace('manual', 0).replace('auto', 1)\n",
    "\n",
    "# X 변수의 am_new 열을 확인하기\n",
    "print(X.head())"
   ]
  },
  {
   "cell_type": "code",
   "execution_count": 71,
   "id": "d921d16b-fb51-4a12-9b1e-344b1c8dd15c",
   "metadata": {},
   "outputs": [
    {
     "name": "stdout",
     "output_type": "stream",
     "text": [
      "   cyl   disp     hp  drat     wt   qsec  vs  gear  carb  am_new\n",
      "0  6.0  160.0  110.0  3.90  2.620  16.46   0     4   4.0       0\n",
      "1  6.0  160.0  110.0  3.90  2.875  17.02   0     4   4.0       0\n",
      "2  4.0  108.0   93.0  3.85  2.320  18.61   1     4   1.0       0\n",
      "3  6.0  258.0  110.0  3.08  3.215   0.10   1     3   1.0       1\n",
      "4  8.0  360.0  175.0  3.15  3.440  17.02   0     3   2.0       1\n"
     ]
    }
   ],
   "source": [
    "# X 변수에서 am 열을 삭제한 후, X 변수에 다시 저장하기\n",
    "X = X.drop(columns=['am'])\n",
    "\n",
    "# X 변수의 상위 5개 행을 확인하기\n",
    "print(X.head())"
   ]
  },
  {
   "cell_type": "markdown",
   "id": "ffd49536-8486-4059-89b3-c94b8d9e575b",
   "metadata": {},
   "source": [
    "#### **파생변수 반들기**"
   ]
  },
  {
   "cell_type": "code",
   "execution_count": 72,
   "id": "96f31705-5b4d-4bde-b136-54d3e14ce931",
   "metadata": {},
   "outputs": [
    {
     "name": "stdout",
     "output_type": "stream",
     "text": [
      "0      True\n",
      "1      True\n",
      "2      True\n",
      "3      True\n",
      "4     False\n",
      "5     False\n",
      "6     False\n",
      "7      True\n",
      "8      True\n",
      "9     False\n",
      "10    False\n",
      "11    False\n",
      "12    False\n",
      "13    False\n",
      "14    False\n",
      "15    False\n",
      "16    False\n",
      "17     True\n",
      "18     True\n",
      "19     True\n",
      "20     True\n",
      "21    False\n",
      "22    False\n",
      "23    False\n",
      "24    False\n",
      "25     True\n",
      "26     True\n",
      "27     True\n",
      "28     True\n",
      "29     True\n",
      "30    False\n",
      "31     True\n",
      "Name: wt, dtype: bool\n"
     ]
    }
   ],
   "source": [
    "# wt 열이 3.3보다 작은지 여부를 확인하기\n",
    "print(X['wt']<3.3)"
   ]
  },
  {
   "cell_type": "code",
   "execution_count": 73,
   "id": "e2a7974b-e154-476e-acb2-f1a8d3d0532f",
   "metadata": {},
   "outputs": [],
   "source": [
    "# wt 열이 3.3보다 작은지 여부의 결과는 condition 변수에 저장하기\n",
    "condition = X['wt']<3.3\n",
    "\n",
    "# X 변수가 condition 조건을 만족하면, wt_class 열에 0으로 저장하기\n",
    "X.loc[condition, 'wt_class'] = 0\n",
    "\n",
    "# X 변수가 condition 조거을 만족하지 않으면, wt_class 열에 1로 저장하기\n",
    "X.loc[~condition, 'wt_class'] = 1"
   ]
  },
  {
   "cell_type": "code",
   "execution_count": 74,
   "id": "05d38039-b24a-4247-bd36-1ea3e0eddff8",
   "metadata": {},
   "outputs": [
    {
     "name": "stdout",
     "output_type": "stream",
     "text": [
      "       wt  wt_class\n",
      "0   2.620       0.0\n",
      "1   2.875       0.0\n",
      "2   2.320       0.0\n",
      "3   3.215       0.0\n",
      "4   3.440       1.0\n",
      "5   3.460       1.0\n",
      "6   3.570       1.0\n",
      "7   3.190       0.0\n",
      "8   3.150       0.0\n",
      "9   3.440       1.0\n",
      "10  3.440       1.0\n",
      "11  4.070       1.0\n",
      "12  3.730       1.0\n",
      "13  3.780       1.0\n",
      "14  5.250       1.0\n",
      "15  5.424       1.0\n",
      "16  5.345       1.0\n",
      "17  2.200       0.0\n",
      "18  1.615       0.0\n",
      "19  1.835       0.0\n",
      "20  2.465       0.0\n",
      "21  3.520       1.0\n",
      "22  3.435       1.0\n",
      "23  3.840       1.0\n",
      "24  3.845       1.0\n",
      "25  1.935       0.0\n",
      "26  2.140       0.0\n",
      "27  1.513       0.0\n",
      "28  3.170       0.0\n",
      "29  2.770       0.0\n",
      "30  3.570       1.0\n",
      "31  2.780       0.0\n"
     ]
    }
   ],
   "source": [
    "# wt 열과 wt_class 열 값을 확인하기\n",
    "print(X[['wt', 'wt_class']])"
   ]
  },
  {
   "cell_type": "code",
   "execution_count": 75,
   "id": "af3d3027-ebff-451e-ba10-b2eed1c66405",
   "metadata": {},
   "outputs": [
    {
     "name": "stdout",
     "output_type": "stream",
     "text": [
      "   cyl   disp     hp  drat   qsec  vs  gear  carb  am_new  wt_class\n",
      "0  6.0  160.0  110.0  3.90  16.46   0     4   4.0       0       0.0\n",
      "1  6.0  160.0  110.0  3.90  17.02   0     4   4.0       0       0.0\n",
      "2  4.0  108.0   93.0  3.85  18.61   1     4   1.0       0       0.0\n",
      "3  6.0  258.0  110.0  3.08   0.10   1     3   1.0       1       0.0\n",
      "4  8.0  360.0  175.0  3.15  17.02   0     3   2.0       1       1.0\n"
     ]
    }
   ],
   "source": [
    "# X 변수에서 wt 열을 삭제한 후, 삭제 결과를 X 변수에 다시 저장하기\n",
    "X = X.drop(columns=['wt'])\n",
    "\n",
    "# X 변수의 상위 5개 행을 확인하기\n",
    "print(X.head())"
   ]
  },
  {
   "cell_type": "code",
   "execution_count": 76,
   "id": "520a12e6-7b52-462b-91d4-a62cd66076b6",
   "metadata": {},
   "outputs": [
    {
     "name": "stdout",
     "output_type": "stream",
     "text": [
      "      qsec  qsec_4\n",
      "0   16.460   65.84\n",
      "1   17.020   68.08\n",
      "2   18.610   74.44\n",
      "3    0.100    0.40\n",
      "4   17.020   68.08\n",
      "5   20.220   80.88\n",
      "6   15.840   63.36\n",
      "7   20.000   80.00\n",
      "8   22.900   91.60\n",
      "9   18.300   73.20\n",
      "10  17.600   70.40\n",
      "11  17.400   69.60\n",
      "12  17.600   70.40\n",
      "13  18.000   72.00\n",
      "14  17.980   71.92\n",
      "15  17.820   71.28\n",
      "16  17.420   69.68\n",
      "17  19.470   77.88\n",
      "18  18.520   74.08\n",
      "19  19.900   79.60\n",
      "20  20.010   80.04\n",
      "21  16.870   67.48\n",
      "22  17.300   69.20\n",
      "23  15.410   61.64\n",
      "24  42.245  168.98\n",
      "25  18.900   75.60\n",
      "26  16.700   66.80\n",
      "27  16.900   67.60\n",
      "28  14.500   58.00\n",
      "29  15.500   62.00\n",
      "30  14.600   58.40\n",
      "31  18.600   74.40\n"
     ]
    }
   ],
   "source": [
    "# qsec 열에 4를 곱한 결과를 qsec_4 열에 저장하기\n",
    "X['qsec_4'] = X['qsec']*4\n",
    "\n",
    "# qsec 열과 qsec_4 열 값을 확인하기\n",
    "print(X[['qsec', 'qsec_4']])"
   ]
  },
  {
   "cell_type": "code",
   "execution_count": 77,
   "id": "61e29b4a-e622-4cc5-84a7-cc1032acdd93",
   "metadata": {},
   "outputs": [
    {
     "name": "stdout",
     "output_type": "stream",
     "text": [
      "   cyl   disp     hp  drat  vs  gear  carb  am_new  wt_class  qsec_4\n",
      "0  6.0  160.0  110.0  3.90   0     4   4.0       0       0.0   65.84\n",
      "1  6.0  160.0  110.0  3.90   0     4   4.0       0       0.0   68.08\n",
      "2  4.0  108.0   93.0  3.85   1     4   1.0       0       0.0   74.44\n",
      "3  6.0  258.0  110.0  3.08   1     3   1.0       1       0.0    0.40\n",
      "4  8.0  360.0  175.0  3.15   0     3   2.0       1       1.0   68.08\n"
     ]
    }
   ],
   "source": [
    "# X 변수에서 qsec 열을 삭제한 후, X 변수에 다시 저장하기\n",
    "X = X.drop(columns=['qsec'])\n",
    "\n",
    "# X 변수의 상위 5개 행을 확인하기\n",
    "print(X.head())"
   ]
  },
  {
   "cell_type": "markdown",
   "id": "25c6af1b-f588-49f0-ac8e-42b027e8590b",
   "metadata": {},
   "source": [
    "### **2.3 학습 데이터로 공부하기: 모델 생성과 모델 검증**"
   ]
  },
  {
   "cell_type": "markdown",
   "id": "da9151f6-7889-4fb5-a1a7-fddca445f5c3",
   "metadata": {},
   "source": [
    "#### **학습 데이터와 테스트 데이터를 분리하기**"
   ]
  },
  {
   "cell_type": "code",
   "execution_count": 78,
   "id": "097267d8-a00b-4bb4-b142-1cf989683735",
   "metadata": {},
   "outputs": [],
   "source": [
    "# 데이터 분리를 위해 train_test_split 함수를 가져오기\n",
    "from sklearn.model_selection import train_test_split"
   ]
  },
  {
   "cell_type": "code",
   "execution_count": 79,
   "id": "66ec4a65-dde4-4c00-ab2a-fabfdc7c052f",
   "metadata": {},
   "outputs": [],
   "source": [
    "# X, Y 변수로 학습 데이터는 70%, 테스트 데이터는 30%로 분리하기\n",
    "x_train, x_test, y_train, y_test = train_test_split(X, Y, test_size=0.3, random_state=10)"
   ]
  },
  {
   "cell_type": "code",
   "execution_count": 80,
   "id": "5268317c-ce0f-464d-a6e4-ae4cedcd45c2",
   "metadata": {},
   "outputs": [
    {
     "name": "stdout",
     "output_type": "stream",
     "text": [
      "     cyl   disp     hp  drat  vs  gear  carb  am_new  wt_class  qsec_4\n",
      "19   4.0   71.1   65.0  4.22   1     4   1.0       0       0.0   79.60\n",
      "14  14.0  472.0  205.0  2.93   0     3   4.0       1       1.0   71.92\n",
      "18   4.0   75.7   52.0  4.93   1     4   2.0       0       0.0   74.08\n",
      "6    8.0  360.0  245.0  3.21   0     3   4.0       1       1.0   63.36\n",
      "11   8.0  275.8  180.0  3.07   0     3   3.0       1       1.0   69.60\n",
      "19    33.9\n",
      "14    10.4\n",
      "18    30.4\n",
      "6     14.3\n",
      "11    16.4\n",
      "Name: mpg, dtype: float64\n",
      "    cyl   disp     hp  drat  vs  gear  carb  am_new  wt_class  qsec_4\n",
      "20  4.0  120.1   97.0  3.70   1     3   1.0       1       0.0   80.04\n",
      "7   7.6  146.7   62.0  3.69   1     4   2.0       1       0.0   80.00\n",
      "5   6.0  225.0  105.0  2.76   1     3   1.0       1       1.0   80.88\n",
      "2   4.0  108.0   93.0  3.85   1     4   1.0       0       0.0   74.44\n",
      "3   6.0  258.0  110.0  3.08   1     3   1.0       1       0.0    0.40\n",
      "20    21.5\n",
      "7     24.4\n",
      "5     18.1\n",
      "2     22.8\n",
      "3     21.4\n",
      "Name: mpg, dtype: float64\n"
     ]
    }
   ],
   "source": [
    "# 독립변수인 학습 데이터의 상위 5개 행 확인하기\n",
    "print(x_train.head())\n",
    "\n",
    "# 종속변수인 학습 데이터의 상위 5개 행 확인하기\n",
    "print(y_train.head())\n",
    "\n",
    "# 독립변수인 테스트 데이터의 상위 5개 행 확인하기\n",
    "print(x_test.head())\n",
    "\n",
    "# 종속변수인 학습 데이터의 상위 5개 행 확인하기\n",
    "print(y_test.head())"
   ]
  },
  {
   "cell_type": "markdown",
   "id": "8a858074-4ea2-45c8-96b0-922f78868785",
   "metadata": {},
   "source": [
    "#### **공부하고 평가하기: 모델링(Modeling)**"
   ]
  },
  {
   "cell_type": "markdown",
   "id": "7060bb02-653c-43a4-b612-f76390ceb00c",
   "metadata": {},
   "source": [
    "##### **- 모델 학습과 파이썬 코드**"
   ]
  },
  {
   "cell_type": "markdown",
   "id": "329af3a0-2971-402a-8ab6-a39cdd94d39c",
   "metadata": {},
   "source": [
    "① 사용할 모델의 함수 가져오기<br>\n",
    "② 학습 모델을 만들기<br>\n",
    "③ 학습 데이터로 모델을 학습시키기<br>\n",
    "④ 학습된 모델로 값을 예측하기"
   ]
  },
  {
   "cell_type": "markdown",
   "id": "4ce07989-fc17-4fb9-8ede-ee0ec3ae3916",
   "metadata": {},
   "source": [
    "##### **- 모델 평가와 파이썬 코드**"
   ]
  },
  {
   "cell_type": "markdown",
   "id": "d3c6487a-1763-49e6-8342-dd63b19a1082",
   "metadata": {},
   "source": [
    "① 평가할 함수 가져오기<br>\n",
    "② 모델 평가하기"
   ]
  },
  {
   "cell_type": "markdown",
   "id": "66b1bb05-b805-4356-abb8-9a5da3497754",
   "metadata": {},
   "source": [
    "##### **- 예측 모델링 수행**"
   ]
  },
  {
   "cell_type": "markdown",
   "id": "9c26781a-2f4d-40aa-8e5e-d82fb40cab44",
   "metadata": {},
   "source": [
    "**<span style=\"color:blue\">1st) 선형 회귀(Linear Regression)</span>**"
   ]
  },
  {
   "cell_type": "code",
   "execution_count": 81,
   "id": "9c2f293d-7a09-47f7-9d6b-ec7f0efb089a",
   "metadata": {},
   "outputs": [],
   "source": [
    "# 선형 회귀 분석: linear_model 모듈에서 LinearRegression 모델을 가져오기\n",
    "from sklearn.linear_model import LinearRegression\n",
    "\n",
    "# 선형 회귀 분석을 수행할 기본적인 모델(model) 만들기\n",
    "model = LinearRegression()\n",
    "\n",
    "# 생성한 모델에 x_train, y_train을 전달해서 선형 회귀 방법으로 공부시키기\n",
    "model.fit(x_train, y_train)\n",
    "\n",
    "# 학습이 완료된 모델에 x_train을 전달하여 y_train 값을 예측하기\n",
    "y_train_predicted = model.predict(x_train)\n",
    "\n",
    "# 학습이 완료된 모델에 x_test를 전달하여 y_test 값을 예측하기\n",
    "y_test_predicted = model.predict(x_test)"
   ]
  },
  {
   "cell_type": "code",
   "execution_count": 82,
   "id": "df43c4e9-ec7c-4d30-98aa-dc467dc95492",
   "metadata": {},
   "outputs": [
    {
     "name": "stdout",
     "output_type": "stream",
     "text": [
      "24.261812191994114\n",
      "[-0.13817819 -0.01231325 -0.00409076  0.96656685  1.12173056  0.65741573\n",
      " -1.9744834  -3.58098353  0.02124373  0.02402967]\n"
     ]
    }
   ],
   "source": [
    "# 선형 회귀 모델로 도출된 y 절편 값 구하기\n",
    "print(model.intercept_)\n",
    "\n",
    "# 선형 회귀 모델에 포함된 독립변수들의 각 기울기 값 구하기\n",
    "print(model.coef_)   # 회귀계수 값"
   ]
  },
  {
   "cell_type": "code",
   "execution_count": 83,
   "id": "47771f43-379e-430f-bd07-8f99f9ef4820",
   "metadata": {},
   "outputs": [
    {
     "name": "stdout",
     "output_type": "stream",
     "text": [
      "0.9063023662021511\n",
      "0.10162785154970888\n"
     ]
    }
   ],
   "source": [
    "# 선형 회귀 분석 model에서 학습 데이터에 대한 결정계수 구하기\n",
    "print(model.score(x_train, y_train))\n",
    "\n",
    "# 선형 회귀 분석 model에서 테스트 데이터에 대한 결정계수 구하기\n",
    "print(model.score(x_test, y_test))"
   ]
  },
  {
   "cell_type": "code",
   "execution_count": 84,
   "id": "1bb7d8f9-dab8-4bd1-ab09-950be4238a29",
   "metadata": {},
   "outputs": [],
   "source": [
    "# 결정계수를 계산하는 r2_score 함수 가져오기\n",
    "from sklearn.metrics import r2_score\n",
    "\n",
    "# MAE를 계산하는 mean_absolute_error 함수 가져오기\n",
    "from sklearn.metrics import mean_absolute_error\n",
    "\n",
    "# MSE를 계산하는 mean_squared_error 함수 가져오기\n",
    "from sklearn.metrics import mean_squared_error\n",
    "\n",
    "# 제곱근 계산을 위하여 numpy 라이브러리 가져오기\n",
    "import numpy as np"
   ]
  },
  {
   "cell_type": "code",
   "execution_count": 85,
   "id": "2b1eac38-3509-40b5-bb7e-c6814fc45eee",
   "metadata": {},
   "outputs": [
    {
     "name": "stdout",
     "output_type": "stream",
     "text": [
      "0.9063023662021511\n",
      "0.10162785154970888\n",
      "8.924428922705191\n",
      "2.98737826910239\n",
      "2.3752487909100064\n"
     ]
    }
   ],
   "source": [
    "# ① 학습 데이터의 결정계수 구하기\n",
    "print(r2_score(y_train, y_train_predicted))\n",
    "\n",
    "# ② 테스트 데이터의 결정계수 구하기\n",
    "print(r2_score(y_test, y_test_predicted))\n",
    "\n",
    "# ③ 테스트 데이터의 MSE 지표 구하기\n",
    "print(mean_squared_error(y_test, y_test_predicted))\n",
    "\n",
    "# ④ 테스트 데이터의 RMSE 지표 구하기\n",
    "print(np.sqrt(mean_squared_error(y_test, y_test_predicted)))\n",
    "\n",
    "# ⑤ 테스트 데이터의 MAE 지표 구하기\n",
    "print(mean_absolute_error(y_test, y_test_predicted))"
   ]
  },
  {
   "cell_type": "markdown",
   "id": "65280fce-e3cc-4e4d-b94e-e4f7e084622a",
   "metadata": {},
   "source": [
    "**<span style=\"color:blue\">2nd) 랜덤 포레스트 회귀(RandomForestRegressor)</span>**"
   ]
  },
  {
   "cell_type": "code",
   "execution_count": 86,
   "id": "3fc1ec4d-30c0-4299-bbdd-6667248168a1",
   "metadata": {},
   "outputs": [],
   "source": [
    "# 랜덤 포레스트 회귀 분석: ensemble 모듈에서 RandomForestRegressor 모델을 가져오기\n",
    "from sklearn.ensemble import RandomForestRegressor\n",
    "\n",
    "# 랜덤 포레스트 회귀 분석을 수행할 모델(model) 만들기\n",
    "model = RandomForestRegressor(random_state=10)\n",
    "\n",
    "# 생성한 모델에 x_train, y_train을 전달해서 랜덤 포레스트 회귀 분석을 수행하기\n",
    "model.fit(x_train, y_train)\n",
    "\n",
    "# 학습이 완료된 모델에 x_train을 전달하여 y_train 값을 예측하기\n",
    "y_train_predicted = model.predict(x_train)\n",
    "\n",
    "# 학습이 완료된 모델에 x_test를 전달하여 y_test 값을 예측하기\n",
    "y_test_predicted = model.predict(x_test)"
   ]
  },
  {
   "cell_type": "code",
   "execution_count": 87,
   "id": "43b2c000-e1fa-4b5a-92f2-3e3ed5adcd75",
   "metadata": {},
   "outputs": [
    {
     "name": "stdout",
     "output_type": "stream",
     "text": [
      "0.9799238759255713\n",
      "0.379084225890872\n",
      "6.168177300000077\n",
      "1.809100000000011\n"
     ]
    }
   ],
   "source": [
    "# 결정계수와 MSE, MAE를 구하는 함수를 일괄로 가져오기\n",
    "from sklearn.metrics import r2_score, mean_squared_error, mean_absolute_error\n",
    "\n",
    "# 학습 데이터의 결정계수 구하기\n",
    "print(r2_score(y_train, y_train_predicted))\n",
    "\n",
    "# 테스트 데이터의 결정계수 구하기\n",
    "print(r2_score(y_test, y_test_predicted))\n",
    "\n",
    "# 테스트 데이터의 MSE 지표 구하기\n",
    "print(mean_squared_error(y_test, y_test_predicted))\n",
    "\n",
    "# 테스트 데이터의 MAE 지표 구하기\n",
    "print(mean_absolute_error(y_test, y_test_predicted))"
   ]
  },
  {
   "cell_type": "code",
   "execution_count": 88,
   "id": "ce7577e7-0d3a-494e-9d78-c541202fa370",
   "metadata": {},
   "outputs": [],
   "source": [
    "# 트리 생성은 1,000개로, 트리의 분할 기준은 MAE 지표로 분석할 모델 만들기\n",
    "model = RandomForestRegressor(n_estimators=1000, criterion='mae', random_state=10)\n",
    "\n",
    "# 기본적인 정보가 담긴 모델에 학습 데이터를 전달하여 공부하기\n",
    "model.fit(x_train, y_train)\n",
    "\n",
    "# 학습이 완료된 모델에 x_train을 전달하여 y_train 값을 예측하기\n",
    "y_train_predicted = model.predict(x_train)\n",
    "\n",
    "# 학습이 완료된 모델에 x_test를 전달하여 y_test 값을 예측하기\n",
    "y_test_predicted = model.predict(x_test)"
   ]
  },
  {
   "cell_type": "code",
   "execution_count": 89,
   "id": "7bb296d1-5f76-46ce-8a39-f33dc8976237",
   "metadata": {},
   "outputs": [
    {
     "name": "stdout",
     "output_type": "stream",
     "text": [
      "0.9805355759422818\n",
      "0.44313226215521484\n",
      "5.531924107750095\n",
      "1.7446750000000346\n"
     ]
    }
   ],
   "source": [
    "# 학습 데이터의 결정계수 구하기\n",
    "print(r2_score(y_train, y_train_predicted))\n",
    "\n",
    "# 테스트 데이터의 결정계수 구하기\n",
    "print(r2_score(y_test, y_test_predicted))\n",
    "\n",
    "# 테스트 데이터의 MSE 지표 구하기\n",
    "print(mean_squared_error(y_test, y_test_predicted))\n",
    "\n",
    "# 테스트 데이터의 MAE 지표 구하기\n",
    "print(mean_absolute_error(y_test, y_test_predicted))"
   ]
  },
  {
   "cell_type": "markdown",
   "id": "2d694dc6-ee42-416b-8b67-dfff236e0abd",
   "metadata": {},
   "source": [
    "**<span style=\"color:blue\">3rd) 그래디언트 부스팅 회귀(GradientBoostingRegressor)</span>**"
   ]
  },
  {
   "cell_type": "code",
   "execution_count": 90,
   "id": "d06c5db9-378e-4301-b4a4-04d7352ba5fd",
   "metadata": {},
   "outputs": [],
   "source": [
    "# 그래디언트 부스팅 회귀 모델을 가져오기\n",
    "from sklearn.ensemble import GradientBoostingRegressor\n",
    "\n",
    "# 하이퍼 파라미터의 기본값으로 모델 만들기\n",
    "model = GradientBoostingRegressor(random_state=10)\n",
    "\n",
    "# 학습 데이터로 모델을 공부시키고, 종속변수를 예측하기\n",
    "model.fit(x_train, y_train)\n",
    "y_train_predicted = model.predict(x_train)\n",
    "y_test_predicted = model.predict(x_test)"
   ]
  },
  {
   "cell_type": "code",
   "execution_count": 91,
   "id": "013b3952-67d1-45b0-bfb9-eeb549a2ee9c",
   "metadata": {},
   "outputs": [
    {
     "name": "stdout",
     "output_type": "stream",
     "text": [
      "0.9999908554215274\n",
      "0.1559551191323465\n",
      "8.384741846539269\n",
      "2.1754887773282503\n"
     ]
    }
   ],
   "source": [
    "# 결정계수와 MSE, MAE를 구하는 함수를 일괄로 가져오기\n",
    "from sklearn.metrics import r2_score, mean_squared_error, mean_absolute_error\n",
    "\n",
    "# 결정계수와 MSE, MAE를 계산하기\n",
    "print(r2_score(y_train, y_train_predicted))\n",
    "print(r2_score(y_test, y_test_predicted))\n",
    "print(mean_squared_error(y_test, y_test_predicted))\n",
    "print(mean_absolute_error(y_test, y_test_predicted))"
   ]
  },
  {
   "cell_type": "markdown",
   "id": "7018f56d-4d31-44d4-881a-033a9da49d25",
   "metadata": {},
   "source": [
    "**<span style=\"color:blue\">4th) XGB(eXtreme Gradient Boosting)Regressor</span>**"
   ]
  },
  {
   "cell_type": "code",
   "execution_count": 92,
   "id": "094ca4e7-ef11-4769-9256-8acde5a6f308",
   "metadata": {},
   "outputs": [],
   "source": [
    "# xgboost 라이브러리에서 XGBRegressor 모델을 가져오기\n",
    "from xgboost import XGBRegressor\n",
    "\n",
    "# XGBRegressor 모델 호출로 학습시킬 모델 만들기\n",
    "model = XGBRegressor(random_state=10)\n",
    "\n",
    "# 학습 데이터로 모델을 공부시키고, 종속변수를 예측하기\n",
    "model.fit(x_train, y_train)\n",
    "y_train_predicted = model.predict(x_train)\n",
    "y_test_predicted = model.predict(x_test)"
   ]
  },
  {
   "cell_type": "code",
   "execution_count": 93,
   "id": "3bc9db49-425b-4aa8-99ca-f42d3d939463",
   "metadata": {},
   "outputs": [
    {
     "name": "stdout",
     "output_type": "stream",
     "text": [
      "0.99999998477324\n",
      "0.29171552932917066\n",
      "7.036097931644018\n",
      "2.1146967697143553\n"
     ]
    }
   ],
   "source": [
    "# 결정계수와 MSE, MAE를 구하는 함수를 일괄로 가져오기\n",
    "from sklearn.metrics import r2_score, mean_squared_error, mean_absolute_error\n",
    "\n",
    "# 결정계수와 MSE, MAE를 계산하기\n",
    "print(r2_score(y_train, y_train_predicted))\n",
    "print(r2_score(y_test, y_test_predicted))\n",
    "print(mean_squared_error(y_test, y_test_predicted))\n",
    "print(mean_absolute_error(y_test, y_test_predicted))"
   ]
  },
  {
   "cell_type": "markdown",
   "id": "bde9cf5e-f659-4844-9d59-4886a2f4e034",
   "metadata": {},
   "source": [
    "##### **- 분류 모델링 수행**"
   ]
  },
  {
   "cell_type": "code",
   "execution_count": 94,
   "id": "70408aff-1d9f-4f30-8591-eb1cd1652143",
   "metadata": {},
   "outputs": [
    {
     "name": "stdout",
     "output_type": "stream",
     "text": [
      "     cyl   disp     hp  drat  vs  gear  carb  wt_class  qsec_4\n",
      "19   4.0   71.1   65.0  4.22   1     4   1.0       0.0   79.60\n",
      "14  14.0  472.0  205.0  2.93   0     3   4.0       1.0   71.92\n",
      "18   4.0   75.7   52.0  4.93   1     4   2.0       0.0   74.08\n",
      "6    8.0  360.0  245.0  3.21   0     3   4.0       1.0   63.36\n",
      "11   8.0  275.8  180.0  3.07   0     3   3.0       1.0   69.60\n",
      "    cyl   disp     hp  drat  vs  gear  carb  wt_class  qsec_4\n",
      "20  4.0  120.1   97.0  3.70   1     3   1.0       0.0   80.04\n",
      "7   7.6  146.7   62.0  3.69   1     4   2.0       0.0   80.00\n",
      "5   6.0  225.0  105.0  2.76   1     3   1.0       1.0   80.88\n",
      "2   4.0  108.0   93.0  3.85   1     4   1.0       0.0   74.44\n",
      "3   6.0  258.0  110.0  3.08   1     3   1.0       0.0    0.40\n",
      "19    0\n",
      "14    1\n",
      "18    0\n",
      "6     1\n",
      "11    1\n",
      "Name: am_new, dtype: int64\n",
      "20    1\n",
      "7     1\n",
      "5     1\n",
      "2     0\n",
      "3     1\n",
      "Name: am_new, dtype: int64\n"
     ]
    }
   ],
   "source": [
    "# x_train 변수에서 종속변수인 am_new 열은 삭제한 후, 결과는 x_train2 변수에 저장하기\n",
    "x_train2 = x_train.drop(columns='am_new')\n",
    "\n",
    "# x_train 변수에서 am_new 열을 추출한 후, 종속변수인 y_train2 변수에 저장하기\n",
    "y_train2 = x_train['am_new']\n",
    "\n",
    "# x_test 변수에서 종속변수인 am_new 열은 삭제한 후, 결과는 x_test2 변수에 저장하기\n",
    "x_test2 = x_test.drop(columns='am_new')\n",
    "\n",
    "# x_test 변수에서 am_new 열을 추출한 후, 종속변수인 y_test2 변수에 저장하기\n",
    "y_test2 = x_test['am_new']\n",
    "\n",
    "# 독립변수인 학습 데이터, x_train2 세트의 상위 5개 행 확인하기\n",
    "print(x_train2.head())\n",
    "\n",
    "# 독립변수인 테스트 데이터, x_test2 세트의 상위 5개 행 확인하기\n",
    "print(x_test2.head())\n",
    "\n",
    "# 종속변수인 학습 데이터, y_train2 세트의 상위 5개 행 확인하기\n",
    "print(y_train2.head())\n",
    "\n",
    "# 종속변수인 테스트 데이터, y_test2 세트의 상위 5개 행 확인하기\n",
    "print(y_test2.head())"
   ]
  },
  {
   "cell_type": "markdown",
   "id": "b685d2fd-a26f-46eb-9cac-9b97fa6297b3",
   "metadata": {},
   "source": [
    "**<span style=\"color:blue\">1st) 의사결정나무 분류(DecisionTreeClassifier)</span>**"
   ]
  },
  {
   "cell_type": "code",
   "execution_count": 95,
   "id": "41abd994-379a-4996-8069-8685dd8f054c",
   "metadata": {},
   "outputs": [],
   "source": [
    "# tree 모듈에서 제공하는 DecisionTreeClassifier 모델을 가져오기\n",
    "from sklearn.tree import DecisionTreeClassifier\n",
    "\n",
    "# 의사결정나무 분류 분석을 수행할 모델(model) 만들기\n",
    "model = DecisionTreeClassifier()\n",
    "\n",
    "# 생성한 모델에 x_train, y_train을 전달하여 의사결정나무 분류 방식으로 공부시키기\n",
    "model.fit(x_train2, y_train2)\n",
    "\n",
    "# 학습이 완료된 모델에 x_test를 전달하여 그에 대응하는 y_test 값을 예측하기\n",
    "y_test2_predicted = model.predict(x_test2)"
   ]
  },
  {
   "cell_type": "code",
   "execution_count": 96,
   "id": "e45b1637-3833-4e15-88b8-4573681a106f",
   "metadata": {},
   "outputs": [],
   "source": [
    "# ROC-AUC를 계산하기 위해 metrics 모듈의 함수를 가져오기\n",
    "from sklearn.metrics import roc_auc_score\n",
    "\n",
    "# 정확도, 정밀도, 재현율을 계산하기 위해 각 함수를 가져오기\n",
    "from sklearn.metrics import accuracy_score, precision_score, recall_score"
   ]
  },
  {
   "cell_type": "code",
   "execution_count": 97,
   "id": "3712939a-0822-4984-8adc-3b3193aff49b",
   "metadata": {},
   "outputs": [
    {
     "name": "stdout",
     "output_type": "stream",
     "text": [
      "0.7857142857142857\n",
      "0.7\n",
      "1.0\n",
      "0.5714285714285714\n"
     ]
    }
   ],
   "source": [
    "# 테스트 데이터의 ROC-AUC 구하기\n",
    "print(roc_auc_score(y_test2, y_test2_predicted))\n",
    "\n",
    "# 테스트 데이터의 정확도 구하기\n",
    "print(accuracy_score(y_test2, y_test2_predicted))\n",
    "\n",
    "# 테스트 데이터의 정밀도 구하기\n",
    "print(precision_score(y_test2, y_test2_predicted))\n",
    "\n",
    "# 테스트 데이터의 재현율 구하기\n",
    "print(recall_score(y_test2, y_test2_predicted))"
   ]
  },
  {
   "cell_type": "markdown",
   "id": "62ee7b62-d665-4a4b-b22c-c1b5f899c6fc",
   "metadata": {},
   "source": [
    "**<span style=\"color:blue\">2nd) 랜덤 포레스트 분류(RandomForestClassifier)</span>**"
   ]
  },
  {
   "cell_type": "code",
   "execution_count": 98,
   "id": "579f299a-9da5-47bc-b2a6-871f624e34ba",
   "metadata": {},
   "outputs": [],
   "source": [
    "# ensemble 모듈에서 제공하는 RandomForestClassifier 모델을 가져오기\n",
    "from sklearn.ensemble import RandomForestClassifier\n",
    "\n",
    "# 랜덤 포레스트 분류 분석을 수행할 모델(model) 만들기\n",
    "model = RandomForestClassifier()\n",
    "\n",
    "# 생성한 모델에 x_train2, y_train2를 전달해서 랜덤 포레스트 분류 분석으로 공부시키기\n",
    "model.fit(x_train2, y_train2)\n",
    "\n",
    "# 학습이 완료된 모델에 x_test2를 전달하여 y_test2 값을 예측하기\n",
    "y_test2_predicted = model.predict(x_test2)"
   ]
  },
  {
   "cell_type": "code",
   "execution_count": 99,
   "id": "c1dc9a98-9a7d-4ae4-b7a2-9586b8f4a23c",
   "metadata": {},
   "outputs": [
    {
     "name": "stdout",
     "output_type": "stream",
     "text": [
      "0.8571428571428572\n"
     ]
    }
   ],
   "source": [
    "# ROC-AUC를 계산하기 위해 metrics 모듈의 함수를 가져오기\n",
    "from sklearn.metrics import roc_auc_score\n",
    "\n",
    "# 테스트 데이터의 ROC-AUC 구하기\n",
    "print(roc_auc_score(y_test2, y_test2_predicted))"
   ]
  },
  {
   "cell_type": "markdown",
   "id": "23847407-2864-4d54-8bb4-e775522a5680",
   "metadata": {},
   "source": [
    "**<span style=\"color:blue\">3rd) 로지스틱 회귀(LogisticRegression)</span>**"
   ]
  },
  {
   "cell_type": "code",
   "execution_count": 100,
   "id": "94452eef-b2e2-4387-af2c-9f244ea11c4d",
   "metadata": {},
   "outputs": [
    {
     "name": "stderr",
     "output_type": "stream",
     "text": [
      "C:\\Users\\khl06\\anaconda3\\envs\\multi\\lib\\site-packages\\sklearn\\linear_model\\_logistic.py:763: ConvergenceWarning: lbfgs failed to converge (status=1):\n",
      "STOP: TOTAL NO. of ITERATIONS REACHED LIMIT.\n",
      "\n",
      "Increase the number of iterations (max_iter) or scale the data as shown in:\n",
      "    https://scikit-learn.org/stable/modules/preprocessing.html\n",
      "Please also refer to the documentation for alternative solver options:\n",
      "    https://scikit-learn.org/stable/modules/linear_model.html#logistic-regression\n",
      "  n_iter_i = _check_optimize_result(\n"
     ]
    }
   ],
   "source": [
    "# linear_model 모듈에서 제공하는 LogisticRegression 모델을 가져오기\n",
    "from sklearn.linear_model import LogisticRegression\n",
    "\n",
    "# 로지스틱 회귀 분석으로 수행할 모델을 만들고, 공부시키기\n",
    "model = LogisticRegression()\n",
    "model.fit(x_train2, y_train2)\n",
    "\n",
    "# 학습이 완료된 모델을 통해 y_test2를 예측하기\n",
    "y_test2_predicted = model.predict(x_test2)"
   ]
  },
  {
   "cell_type": "code",
   "execution_count": 101,
   "id": "4091c793-adaa-4560-a085-c0ccd3d6ec7a",
   "metadata": {},
   "outputs": [
    {
     "name": "stdout",
     "output_type": "stream",
     "text": [
      "0.7619047619047621\n"
     ]
    }
   ],
   "source": [
    "# ROC_AUC를 계산하기 위해 metrics 모듈의 함수를 가져오기\n",
    "from sklearn.metrics import roc_auc_score\n",
    "\n",
    "# 테스트 데이터의 ROC-AUC 구하기\n",
    "print(roc_auc_score(y_test2, y_test2_predicted))"
   ]
  },
  {
   "cell_type": "markdown",
   "id": "25029c92-d7ef-4417-a67d-30486943d6b6",
   "metadata": {},
   "source": [
    "**<span style=\"color:blue\">4th) 익스트림 그래디언트 부스팅 분류(XGBClassifier)</span>**"
   ]
  },
  {
   "cell_type": "code",
   "execution_count": 102,
   "id": "2354d8a5-d7fc-4897-b565-b72f1c43c0fa",
   "metadata": {},
   "outputs": [
    {
     "name": "stdout",
     "output_type": "stream",
     "text": [
      "[11:55:08] WARNING: ..\\src\\learner.cc:1061: Starting in XGBoost 1.3.0, the default evaluation metric used with the objective 'binary:logistic' was changed from 'error' to 'logloss'. Explicitly set eval_metric if you'd like to restore the old behavior.\n"
     ]
    },
    {
     "name": "stderr",
     "output_type": "stream",
     "text": [
      "C:\\Users\\khl06\\anaconda3\\envs\\multi\\lib\\site-packages\\xgboost\\sklearn.py:888: UserWarning: The use of label encoder in XGBClassifier is deprecated and will be removed in a future release. To remove this warning, do the following: 1) Pass option use_label_encoder=False when constructing XGBClassifier object; and 2) Encode your labels (y) as integers starting with 0, i.e. 0, 1, 2, ..., [num_class - 1].\n",
      "  warnings.warn(label_encoder_deprecation_msg, UserWarning)\n"
     ]
    }
   ],
   "source": [
    "# xgboost 모듈에서 제공하는 XGBClassifier 함수를 가져오기\n",
    "from xgboost import XGBClassifier\n",
    "\n",
    "# XGB 분류 분석으로 수행할 모델을 만들고, 공부시키기\n",
    "model = XGBClassifier()\n",
    "model.fit(x_train2, y_train2)\n",
    "\n",
    "# 학습이 완료된 모델을 통해 y_test2를 예측하기\n",
    "y_test2_predicted = model.predict(x_test2)"
   ]
  },
  {
   "cell_type": "code",
   "execution_count": 103,
   "id": "b440f71d-46d2-42ef-855f-65093624a0ef",
   "metadata": {},
   "outputs": [
    {
     "name": "stdout",
     "output_type": "stream",
     "text": [
      "[0 0 1 0 1 1 1 1 1 0]\n"
     ]
    }
   ],
   "source": [
    "# y_test2_predicted 값 확인하기\n",
    "print(y_test2_predicted)"
   ]
  },
  {
   "cell_type": "code",
   "execution_count": 104,
   "id": "24fddfd8-f8b5-49fe-b095-30f3c411aa91",
   "metadata": {},
   "outputs": [
    {
     "name": "stdout",
     "output_type": "stream",
     "text": [
      "[[0.5252248  0.47477522]\n",
      " [0.67885995 0.32114008]\n",
      " [0.03991383 0.96008617]\n",
      " [0.8779035  0.1220965 ]\n",
      " [0.10923749 0.8907625 ]\n",
      " [0.10923749 0.8907625 ]\n",
      " [0.03991383 0.96008617]\n",
      " [0.38030726 0.61969274]\n",
      " [0.03991383 0.96008617]\n",
      " [0.8811508  0.1188492 ]]\n"
     ]
    }
   ],
   "source": [
    "# 테스트 데이터의 종속변수에 대한 분류 확률을 계산하기\n",
    "y_test2_proba = model.predict_proba(x_test2)\n",
    "\n",
    "# 테스트 데이터에 대한 분류 확률인 y_test2_proba 값을 확인하기\n",
    "print(y_test2_proba)"
   ]
  },
  {
   "cell_type": "markdown",
   "id": "03069125-1392-4ca6-93b8-741ede4a4c3a",
   "metadata": {},
   "source": [
    "***1열은 0 값으로 분류될 확률***이고, ***2열은 1 값으로 분류될 확률***"
   ]
  },
  {
   "cell_type": "code",
   "execution_count": 105,
   "id": "1b660bb0-d9b1-48fe-b0da-53c3bdaf1f85",
   "metadata": {},
   "outputs": [
    {
     "name": "stdout",
     "output_type": "stream",
     "text": [
      "0.6904761904761906\n"
     ]
    }
   ],
   "source": [
    "# ROC-AUC를 계산하기 위해 metrics 모듈의 함수를 가져오기\n",
    "from sklearn.metrics import roc_auc_score\n",
    "\n",
    "# 테스트 데이터의 ROC-AUC 구하기\n",
    "print(roc_auc_score(y_test2, y_test2_predicted))"
   ]
  },
  {
   "cell_type": "markdown",
   "id": "58158305-e958-4f6f-9601-1dcd50c32e48",
   "metadata": {},
   "source": [
    "#### **분류 모델로 사용할 수 있는 기타 알고리즘**"
   ]
  },
  {
   "cell_type": "markdown",
   "id": "aced204b-26a0-4886-9da1-3cec218cc47c",
   "metadata": {},
   "source": [
    "**<span style=\"color:blue\">서포트 벡터 분류(SVC: Support Vector Classifier)</span>**"
   ]
  },
  {
   "cell_type": "code",
   "execution_count": 106,
   "id": "08dbf0f5-9f73-4efb-9de8-df60ca1f4fc0",
   "metadata": {},
   "outputs": [],
   "source": [
    "from sklearn.svm import SVC\n",
    "model = SVC()\n",
    "model.fit(x_train2, y_train2)\n",
    "y_test2_predicted = model.predict(x_test2)"
   ]
  },
  {
   "cell_type": "code",
   "execution_count": 107,
   "id": "ad1edd07-9e16-47fe-91f5-20398257776b",
   "metadata": {},
   "outputs": [
    {
     "name": "stdout",
     "output_type": "stream",
     "text": [
      "0.6904761904761906\n"
     ]
    }
   ],
   "source": [
    "from sklearn.metrics import roc_auc_score\n",
    "print(roc_auc_score(y_test2, y_test2_predicted))"
   ]
  },
  {
   "cell_type": "markdown",
   "id": "9cd750f5-97af-4779-98a9-d61b1cb85823",
   "metadata": {},
   "source": [
    "**<span style=\"color:blue\">배깅 분류(BaggingClassifier)</span>**"
   ]
  },
  {
   "cell_type": "code",
   "execution_count": 108,
   "id": "19b91a95-d0f2-4f1f-8bfb-9502b1d0b64b",
   "metadata": {},
   "outputs": [],
   "source": [
    "from sklearn.ensemble import BaggingClassifier\n",
    "model = BaggingClassifier()\n",
    "model.fit(x_train2, y_train2)\n",
    "y_test2_predicted = model.predict(x_test2)"
   ]
  },
  {
   "cell_type": "code",
   "execution_count": 109,
   "id": "71d9f8c1-2635-4ce2-be64-79df012d2674",
   "metadata": {},
   "outputs": [
    {
     "name": "stdout",
     "output_type": "stream",
     "text": [
      "0.6904761904761906\n"
     ]
    }
   ],
   "source": [
    "from sklearn.metrics import roc_auc_score\n",
    "print(roc_auc_score(y_test2, y_test2_predicted))"
   ]
  },
  {
   "cell_type": "markdown",
   "id": "742effa9-3f79-4bd5-9acf-5d4d07fdf186",
   "metadata": {},
   "source": [
    "**<span style=\"color:blue\">K-최근접 이웃(KNN: K-Nearest Neighbor) 분류</span>**"
   ]
  },
  {
   "cell_type": "code",
   "execution_count": 110,
   "id": "4e808dd3-6a75-4795-a660-edd88ac6869e",
   "metadata": {},
   "outputs": [],
   "source": [
    "from sklearn.neighbors import KNeighborsClassifier\n",
    "model = KNeighborsClassifier()\n",
    "model.fit(x_train2, y_train2)\n",
    "y_test2_predicted = model.predict(x_test2)"
   ]
  },
  {
   "cell_type": "code",
   "execution_count": 111,
   "id": "46211485-d70f-4573-8b37-f3546e6327f2",
   "metadata": {},
   "outputs": [
    {
     "name": "stdout",
     "output_type": "stream",
     "text": [
      "0.5238095238095238\n"
     ]
    }
   ],
   "source": [
    "from sklearn.metrics import roc_auc_score\n",
    "print(roc_auc_score(y_test2, y_test2_predicted))"
   ]
  },
  {
   "cell_type": "markdown",
   "id": "93949194-9dc9-489c-acca-06a6034aa165",
   "metadata": {},
   "source": [
    "**<span style=\"color:blue\">다층 퍼셉트론 분류(MLPClassifier: Multi Layer Perceptron Classifier)</span>**"
   ]
  },
  {
   "cell_type": "code",
   "execution_count": 112,
   "id": "dbf16d56-59e4-4c60-892d-7d45a1903bde",
   "metadata": {},
   "outputs": [
    {
     "name": "stderr",
     "output_type": "stream",
     "text": [
      "C:\\Users\\khl06\\anaconda3\\envs\\multi\\lib\\site-packages\\sklearn\\neural_network\\_multilayer_perceptron.py:614: ConvergenceWarning: Stochastic Optimizer: Maximum iterations (200) reached and the optimization hasn't converged yet.\n",
      "  warnings.warn(\n"
     ]
    }
   ],
   "source": [
    "from sklearn.neural_network import MLPClassifier\n",
    "model = MLPClassifier()\n",
    "model.fit(x_train2, y_train2)\n",
    "y_test2_predicted = model.predict(x_test2)"
   ]
  },
  {
   "cell_type": "code",
   "execution_count": 113,
   "id": "3f1559c6-3b69-4b54-a9a8-9579c27fcb7d",
   "metadata": {},
   "outputs": [
    {
     "name": "stdout",
     "output_type": "stream",
     "text": [
      "0.5952380952380953\n"
     ]
    }
   ],
   "source": [
    "from sklearn.metrics import roc_auc_score\n",
    "print(roc_auc_score(y_test2, y_test2_predicted))"
   ]
  },
  {
   "cell_type": "markdown",
   "id": "44eb3267-bc20-413e-a56b-c3057e4eb564",
   "metadata": {},
   "source": [
    "### **2.4 최종 결과 공유하기**"
   ]
  },
  {
   "cell_type": "markdown",
   "id": "4e792b05-c4fd-4d47-9891-c7408f0c1340",
   "metadata": {},
   "source": [
    "#### **결과 출력하기: 제1유형**"
   ]
  },
  {
   "cell_type": "markdown",
   "id": "32704fcb-6fcf-4555-a1cb-eb66f0de0f68",
   "metadata": {},
   "source": [
    "<span style=\"color=purple\">***- 작업형 제1유형 -***</span><br>\n",
    "최종 결과를 **`print()` 함수**를 이용해서 출력<br>\n",
    "**최종 결과를 도출하는 과정의 중간 출력값들은 주석 처리나 삭제**하고, **최종적으로는 결괏값 하나만 출력**해야 하는 형태"
   ]
  },
  {
   "cell_type": "code",
   "execution_count": 114,
   "id": "1fdeb5f9-6549-4d15-839b-70ca5f29eba1",
   "metadata": {},
   "outputs": [
    {
     "name": "stdout",
     "output_type": "stream",
     "text": [
      "0.5952380952380953\n"
     ]
    }
   ],
   "source": [
    "# 출력하는 다른 코드는 주석 처리하고, 최종 결과만 출력하기\n",
    "print(roc_auc_score(y_test2, y_test2_predicted))"
   ]
  },
  {
   "cell_type": "markdown",
   "id": "7021e15e-57f7-4e92-a7ce-e00b6d423c13",
   "metadata": {},
   "source": [
    "#### **결과를 파일에 저장하기: 제2유형**"
   ]
  },
  {
   "cell_type": "markdown",
   "id": "45dd276f-95d1-441c-acf4-dabfa10927e6",
   "metadata": {},
   "source": [
    "<span style=\"color=purple\">***- 작업형 제2유형 -***</span><br>\n",
    "최종 결과를 **csv 파일 형식**으로 저장하여 제출<br>\n",
    "**저장할 파일명, 저장할 경로를 명확히 지정**하고, **`to_csv()` 함수**를 사용하여 결괏값을 csv 파일에 저장"
   ]
  },
  {
   "cell_type": "code",
   "execution_count": 115,
   "id": "f062f7ab-2679-47c9-be0c-42de25961a23",
   "metadata": {},
   "outputs": [
    {
     "name": "stdout",
     "output_type": "stream",
     "text": [
      "<class 'numpy.ndarray'>\n"
     ]
    }
   ],
   "source": [
    "# 제출할 y_test2_predicted 변수의 데이터 타입 확인하기\n",
    "print(type(y_test2_predicted))\n",
    "\n",
    "# 제출할 변수를 DataFrame으로 변경하고, data 디렉토리 하위에 csv 파일 저장하기\n",
    "pd.DataFrame(y_test2_predicted).to_csv('data/12345.csv', index=False)   # ★index=False"
   ]
  },
  {
   "cell_type": "markdown",
   "id": "bc71faf9-500e-47f8-bde3-d7d06c18c24a",
   "metadata": {},
   "source": [
    "***<span style=\"color:red\">index=False</span>***"
   ]
  },
  {
   "cell_type": "code",
   "execution_count": null,
   "id": "85f1e0de-6b24-435a-ad71-0053ec44f9dc",
   "metadata": {},
   "outputs": [],
   "source": []
  }
 ],
 "metadata": {
  "kernelspec": {
   "display_name": "Python Multi",
   "language": "python",
   "name": "multi"
  },
  "language_info": {
   "codemirror_mode": {
    "name": "ipython",
    "version": 3
   },
   "file_extension": ".py",
   "mimetype": "text/x-python",
   "name": "python",
   "nbconvert_exporter": "python",
   "pygments_lexer": "ipython3",
   "version": "3.9.5"
  }
 },
 "nbformat": 4,
 "nbformat_minor": 5
}
