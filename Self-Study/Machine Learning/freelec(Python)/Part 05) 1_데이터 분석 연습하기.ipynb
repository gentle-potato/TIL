{
 "cells": [
  {
   "cell_type": "markdown",
   "id": "65c18df4-5db9-4a0b-8a17-27376f6d712e",
   "metadata": {},
   "source": [
    "# **Part 05) 파이썬으로 초보 분석가 탈출하기**"
   ]
  },
  {
   "cell_type": "markdown",
   "id": "f4ea9486-959a-4229-b225-b489e5748544",
   "metadata": {},
   "source": [
    "## **1_데이터 분석 연습하기**"
   ]
  },
  {
   "cell_type": "code",
   "execution_count": 1,
   "id": "150fafe7-ecf7-4310-bde3-61d2821099b4",
   "metadata": {},
   "outputs": [
    {
     "name": "stdout",
     "output_type": "stream",
     "text": [
      "['__SKLEARN_SETUP__', '__all__', '__builtins__', '__cached__', '__check_build', '__doc__', '__file__', '__loader__', '__name__', '__package__', '__path__', '__spec__', '__version__', '_config', '_distributor_init', 'base', 'clone', 'config_context', 'exceptions', 'get_config', 'logger', 'logging', 'os', 'random', 'set_config', 'setup_module', 'show_versions', 'sys', 'utils']\n"
     ]
    }
   ],
   "source": [
    "### ① 모듈명 찾기 → from sklearn.??? ###\n",
    "\n",
    "# sklearn 패키지를 가져오기\n",
    "import sklearn\n",
    "print(dir(sklearn))"
   ]
  },
  {
   "cell_type": "code",
   "execution_count": 2,
   "id": "0f058d4f-94cd-4192-8e71-877b548162fd",
   "metadata": {},
   "outputs": [
    {
     "name": "stdout",
     "output_type": "stream",
     "text": [
      "['Binarizer', 'FunctionTransformer', 'KBinsDiscretizer', 'KernelCenterer', 'LabelBinarizer', 'LabelEncoder', 'MaxAbsScaler', 'MinMaxScaler', 'MultiLabelBinarizer', 'Normalizer', 'OneHotEncoder', 'OrdinalEncoder', 'PolynomialFeatures', 'PowerTransformer', 'QuantileTransformer', 'RobustScaler', 'StandardScaler', '__all__', '__builtins__', '__cached__', '__doc__', '__file__', '__loader__', '__name__', '__package__', '__path__', '__spec__', '_csr_polynomial_expansion', '_data', '_discretization', '_encoders', '_function_transformer', '_label', 'add_dummy_feature', 'binarize', 'label_binarize', 'maxabs_scale', 'minmax_scale', 'normalize', 'power_transform', 'quantile_transform', 'robust_scale', 'scale']\n"
     ]
    }
   ],
   "source": [
    "### ② 함수명 찾기 → from sklearn.preprocessing import ??? ###\n",
    "\n",
    "# sklearn.preprocessing 모듈을 가져오기\n",
    "import sklearn.preprocessing\n",
    "\n",
    "# preprocessing 모듈에 있는 함수명 확인하기\n",
    "print(dir(sklearn.preprocessing))"
   ]
  },
  {
   "cell_type": "code",
   "execution_count": 3,
   "id": "860a51fd-88c7-4849-be64-dd27139c609a",
   "metadata": {
    "scrolled": true,
    "tags": []
   },
   "outputs": [
    {
     "name": "stdout",
     "output_type": "stream",
     "text": [
      "Help on class StandardScaler in module sklearn.preprocessing._data:\n",
      "\n",
      "class StandardScaler(sklearn.base.TransformerMixin, sklearn.base.BaseEstimator)\n",
      " |  StandardScaler(*, copy=True, with_mean=True, with_std=True)\n",
      " |  \n",
      " |  Standardize features by removing the mean and scaling to unit variance\n",
      " |  \n",
      " |  The standard score of a sample `x` is calculated as:\n",
      " |  \n",
      " |      z = (x - u) / s\n",
      " |  \n",
      " |  where `u` is the mean of the training samples or zero if `with_mean=False`,\n",
      " |  and `s` is the standard deviation of the training samples or one if\n",
      " |  `with_std=False`.\n",
      " |  \n",
      " |  Centering and scaling happen independently on each feature by computing\n",
      " |  the relevant statistics on the samples in the training set. Mean and\n",
      " |  standard deviation are then stored to be used on later data using\n",
      " |  :meth:`transform`.\n",
      " |  \n",
      " |  Standardization of a dataset is a common requirement for many\n",
      " |  machine learning estimators: they might behave badly if the\n",
      " |  individual features do not more or less look like standard normally\n",
      " |  distributed data (e.g. Gaussian with 0 mean and unit variance).\n",
      " |  \n",
      " |  For instance many elements used in the objective function of\n",
      " |  a learning algorithm (such as the RBF kernel of Support Vector\n",
      " |  Machines or the L1 and L2 regularizers of linear models) assume that\n",
      " |  all features are centered around 0 and have variance in the same\n",
      " |  order. If a feature has a variance that is orders of magnitude larger\n",
      " |  that others, it might dominate the objective function and make the\n",
      " |  estimator unable to learn from other features correctly as expected.\n",
      " |  \n",
      " |  This scaler can also be applied to sparse CSR or CSC matrices by passing\n",
      " |  `with_mean=False` to avoid breaking the sparsity structure of the data.\n",
      " |  \n",
      " |  Read more in the :ref:`User Guide <preprocessing_scaler>`.\n",
      " |  \n",
      " |  Parameters\n",
      " |  ----------\n",
      " |  copy : bool, default=True\n",
      " |      If False, try to avoid a copy and do inplace scaling instead.\n",
      " |      This is not guaranteed to always work inplace; e.g. if the data is\n",
      " |      not a NumPy array or scipy.sparse CSR matrix, a copy may still be\n",
      " |      returned.\n",
      " |  \n",
      " |  with_mean : bool, default=True\n",
      " |      If True, center the data before scaling.\n",
      " |      This does not work (and will raise an exception) when attempted on\n",
      " |      sparse matrices, because centering them entails building a dense\n",
      " |      matrix which in common use cases is likely to be too large to fit in\n",
      " |      memory.\n",
      " |  \n",
      " |  with_std : bool, default=True\n",
      " |      If True, scale the data to unit variance (or equivalently,\n",
      " |      unit standard deviation).\n",
      " |  \n",
      " |  Attributes\n",
      " |  ----------\n",
      " |  scale_ : ndarray of shape (n_features,) or None\n",
      " |      Per feature relative scaling of the data to achieve zero mean and unit\n",
      " |      variance. Generally this is calculated using `np.sqrt(var_)`. If a\n",
      " |      variance is zero, we can't achieve unit variance, and the data is left\n",
      " |      as-is, giving a scaling factor of 1. `scale_` is equal to `None`\n",
      " |      when `with_std=False`.\n",
      " |  \n",
      " |      .. versionadded:: 0.17\n",
      " |         *scale_*\n",
      " |  \n",
      " |  mean_ : ndarray of shape (n_features,) or None\n",
      " |      The mean value for each feature in the training set.\n",
      " |      Equal to ``None`` when ``with_mean=False``.\n",
      " |  \n",
      " |  var_ : ndarray of shape (n_features,) or None\n",
      " |      The variance for each feature in the training set. Used to compute\n",
      " |      `scale_`. Equal to ``None`` when ``with_std=False``.\n",
      " |  \n",
      " |  n_samples_seen_ : int or ndarray of shape (n_features,)\n",
      " |      The number of samples processed by the estimator for each feature.\n",
      " |      If there are no missing samples, the ``n_samples_seen`` will be an\n",
      " |      integer, otherwise it will be an array of dtype int. If\n",
      " |      `sample_weights` are used it will be a float (if no missing data)\n",
      " |      or an array of dtype float that sums the weights seen so far.\n",
      " |      Will be reset on new calls to fit, but increments across\n",
      " |      ``partial_fit`` calls.\n",
      " |  \n",
      " |  Examples\n",
      " |  --------\n",
      " |  >>> from sklearn.preprocessing import StandardScaler\n",
      " |  >>> data = [[0, 0], [0, 0], [1, 1], [1, 1]]\n",
      " |  >>> scaler = StandardScaler()\n",
      " |  >>> print(scaler.fit(data))\n",
      " |  StandardScaler()\n",
      " |  >>> print(scaler.mean_)\n",
      " |  [0.5 0.5]\n",
      " |  >>> print(scaler.transform(data))\n",
      " |  [[-1. -1.]\n",
      " |   [-1. -1.]\n",
      " |   [ 1.  1.]\n",
      " |   [ 1.  1.]]\n",
      " |  >>> print(scaler.transform([[2, 2]]))\n",
      " |  [[3. 3.]]\n",
      " |  \n",
      " |  See Also\n",
      " |  --------\n",
      " |  scale : Equivalent function without the estimator API.\n",
      " |  \n",
      " |  :class:`~sklearn.decomposition.PCA` : Further removes the linear\n",
      " |      correlation across features with 'whiten=True'.\n",
      " |  \n",
      " |  Notes\n",
      " |  -----\n",
      " |  NaNs are treated as missing values: disregarded in fit, and maintained in\n",
      " |  transform.\n",
      " |  \n",
      " |  We use a biased estimator for the standard deviation, equivalent to\n",
      " |  `numpy.std(x, ddof=0)`. Note that the choice of `ddof` is unlikely to\n",
      " |  affect model performance.\n",
      " |  \n",
      " |  For a comparison of the different scalers, transformers, and normalizers,\n",
      " |  see :ref:`examples/preprocessing/plot_all_scaling.py\n",
      " |  <sphx_glr_auto_examples_preprocessing_plot_all_scaling.py>`.\n",
      " |  \n",
      " |  Method resolution order:\n",
      " |      StandardScaler\n",
      " |      sklearn.base.TransformerMixin\n",
      " |      sklearn.base.BaseEstimator\n",
      " |      builtins.object\n",
      " |  \n",
      " |  Methods defined here:\n",
      " |  \n",
      " |  __init__(self, *, copy=True, with_mean=True, with_std=True)\n",
      " |      Initialize self.  See help(type(self)) for accurate signature.\n",
      " |  \n",
      " |  fit(self, X, y=None, sample_weight=None)\n",
      " |      Compute the mean and std to be used for later scaling.\n",
      " |      \n",
      " |      Parameters\n",
      " |      ----------\n",
      " |      X : {array-like, sparse matrix} of shape (n_samples, n_features)\n",
      " |          The data used to compute the mean and standard deviation\n",
      " |          used for later scaling along the features axis.\n",
      " |      \n",
      " |      y : None\n",
      " |          Ignored.\n",
      " |      \n",
      " |      sample_weight : array-like of shape (n_samples,), default=None\n",
      " |          Individual weights for each sample.\n",
      " |      \n",
      " |          .. versionadded:: 0.24\n",
      " |             parameter *sample_weight* support to StandardScaler.\n",
      " |      \n",
      " |      Returns\n",
      " |      -------\n",
      " |      self : object\n",
      " |          Fitted scaler.\n",
      " |  \n",
      " |  inverse_transform(self, X, copy=None)\n",
      " |      Scale back the data to the original representation\n",
      " |      \n",
      " |      Parameters\n",
      " |      ----------\n",
      " |      X : {array-like, sparse matrix} of shape (n_samples, n_features)\n",
      " |          The data used to scale along the features axis.\n",
      " |      copy : bool, default=None\n",
      " |          Copy the input X or not.\n",
      " |      \n",
      " |      Returns\n",
      " |      -------\n",
      " |      X_tr : {ndarray, sparse matrix} of shape (n_samples, n_features)\n",
      " |          Transformed array.\n",
      " |  \n",
      " |  partial_fit(self, X, y=None, sample_weight=None)\n",
      " |      Online computation of mean and std on X for later scaling.\n",
      " |      \n",
      " |      All of X is processed as a single batch. This is intended for cases\n",
      " |      when :meth:`fit` is not feasible due to very large number of\n",
      " |      `n_samples` or because X is read from a continuous stream.\n",
      " |      \n",
      " |      The algorithm for incremental mean and std is given in Equation 1.5a,b\n",
      " |      in Chan, Tony F., Gene H. Golub, and Randall J. LeVeque. \"Algorithms\n",
      " |      for computing the sample variance: Analysis and recommendations.\"\n",
      " |      The American Statistician 37.3 (1983): 242-247:\n",
      " |      \n",
      " |      Parameters\n",
      " |      ----------\n",
      " |      X : {array-like, sparse matrix} of shape (n_samples, n_features)\n",
      " |          The data used to compute the mean and standard deviation\n",
      " |          used for later scaling along the features axis.\n",
      " |      \n",
      " |      y : None\n",
      " |          Ignored.\n",
      " |      \n",
      " |      sample_weight : array-like of shape (n_samples,), default=None\n",
      " |          Individual weights for each sample.\n",
      " |      \n",
      " |          .. versionadded:: 0.24\n",
      " |             parameter *sample_weight* support to StandardScaler.\n",
      " |      \n",
      " |      Returns\n",
      " |      -------\n",
      " |      self : object\n",
      " |          Fitted scaler.\n",
      " |  \n",
      " |  transform(self, X, copy=None)\n",
      " |      Perform standardization by centering and scaling\n",
      " |      \n",
      " |      Parameters\n",
      " |      ----------\n",
      " |      X : {array-like, sparse matrix of shape (n_samples, n_features)\n",
      " |          The data used to scale along the features axis.\n",
      " |      copy : bool, default=None\n",
      " |          Copy the input X or not.\n",
      " |      \n",
      " |      Returns\n",
      " |      -------\n",
      " |      X_tr : {ndarray, sparse matrix} of shape (n_samples, n_features)\n",
      " |          Transformed array.\n",
      " |  \n",
      " |  ----------------------------------------------------------------------\n",
      " |  Methods inherited from sklearn.base.TransformerMixin:\n",
      " |  \n",
      " |  fit_transform(self, X, y=None, **fit_params)\n",
      " |      Fit to data, then transform it.\n",
      " |      \n",
      " |      Fits transformer to `X` and `y` with optional parameters `fit_params`\n",
      " |      and returns a transformed version of `X`.\n",
      " |      \n",
      " |      Parameters\n",
      " |      ----------\n",
      " |      X : array-like of shape (n_samples, n_features)\n",
      " |          Input samples.\n",
      " |      \n",
      " |      y :  array-like of shape (n_samples,) or (n_samples, n_outputs),                 default=None\n",
      " |          Target values (None for unsupervised transformations).\n",
      " |      \n",
      " |      **fit_params : dict\n",
      " |          Additional fit parameters.\n",
      " |      \n",
      " |      Returns\n",
      " |      -------\n",
      " |      X_new : ndarray array of shape (n_samples, n_features_new)\n",
      " |          Transformed array.\n",
      " |  \n",
      " |  ----------------------------------------------------------------------\n",
      " |  Data descriptors inherited from sklearn.base.TransformerMixin:\n",
      " |  \n",
      " |  __dict__\n",
      " |      dictionary for instance variables (if defined)\n",
      " |  \n",
      " |  __weakref__\n",
      " |      list of weak references to the object (if defined)\n",
      " |  \n",
      " |  ----------------------------------------------------------------------\n",
      " |  Methods inherited from sklearn.base.BaseEstimator:\n",
      " |  \n",
      " |  __getstate__(self)\n",
      " |  \n",
      " |  __repr__(self, N_CHAR_MAX=700)\n",
      " |      Return repr(self).\n",
      " |  \n",
      " |  __setstate__(self, state)\n",
      " |  \n",
      " |  get_params(self, deep=True)\n",
      " |      Get parameters for this estimator.\n",
      " |      \n",
      " |      Parameters\n",
      " |      ----------\n",
      " |      deep : bool, default=True\n",
      " |          If True, will return the parameters for this estimator and\n",
      " |          contained subobjects that are estimators.\n",
      " |      \n",
      " |      Returns\n",
      " |      -------\n",
      " |      params : dict\n",
      " |          Parameter names mapped to their values.\n",
      " |  \n",
      " |  set_params(self, **params)\n",
      " |      Set the parameters of this estimator.\n",
      " |      \n",
      " |      The method works on simple estimators as well as on nested objects\n",
      " |      (such as :class:`~sklearn.pipeline.Pipeline`). The latter have\n",
      " |      parameters of the form ``<component>__<parameter>`` so that it's\n",
      " |      possible to update each component of a nested object.\n",
      " |      \n",
      " |      Parameters\n",
      " |      ----------\n",
      " |      **params : dict\n",
      " |          Estimator parameters.\n",
      " |      \n",
      " |      Returns\n",
      " |      -------\n",
      " |      self : estimator instance\n",
      " |          Estimator instance.\n",
      "\n",
      "None\n"
     ]
    }
   ],
   "source": [
    "### ③ 함수의 파라미터 확인하기 ###\n",
    "\n",
    "# preprocessing 모듈에서 StandardScaler 함수를 가져오기\n",
    "from sklearn.preprocessing import StandardScaler\n",
    "\n",
    "# StandardScaler 함수에 대한 자세한 내용을 확인하기\n",
    "print(help(StandardScaler))"
   ]
  },
  {
   "cell_type": "markdown",
   "id": "99f7eb85-0f9f-4449-b66a-7d65176f14ed",
   "metadata": {},
   "source": [
    "성별 예측값(***<span style=\"color:green\">남자일 확률</span>***) → ***`predict_proba()`***"
   ]
  },
  {
   "cell_type": "markdown",
   "id": "0fab788e-9b89-4187-a175-36a2ef94b2dc",
   "metadata": {},
   "source": [
    "### **1.1 데이터 탐색하기**"
   ]
  },
  {
   "cell_type": "markdown",
   "id": "b3602163-ce65-415d-b23c-86c10471c53b",
   "metadata": {},
   "source": [
    "#### **데이터 가져오기**"
   ]
  },
  {
   "cell_type": "code",
   "execution_count": 4,
   "id": "e5f23eb0-a392-4402-b53f-d4e7fe63b048",
   "metadata": {},
   "outputs": [],
   "source": [
    "# pandas 라이브러리 가져오기\n",
    "import pandas as pd\n",
    "\n",
    "# 주어진 데이터 파일을 모두 읽어서, DataFrame 변수에 저장하기\n",
    "x_train = pd.read_csv('data/x_train.csv', encoding='cp949')\n",
    "y_train = pd.read_csv('data/y_train.csv', encoding='cp949')\n",
    "x_test = pd.read_csv('data/x_test.csv', encoding='cp949')"
   ]
  },
  {
   "cell_type": "markdown",
   "id": "d3fe5ea8-b62b-4144-b918-50c5395e6522",
   "metadata": {},
   "source": [
    "**`UnicodeDecodeError`** 발생 시 `read_csv()` 함수 안에 **`encoding='cp949'`** 코드 추가"
   ]
  },
  {
   "cell_type": "code",
   "execution_count": 5,
   "id": "dbcc32ac-1bc8-45f6-b181-cfa708f80035",
   "metadata": {},
   "outputs": [
    {
     "name": "stdout",
     "output_type": "stream",
     "text": [
      "   cust_id      총구매액     최대구매액       환불금액   주구매상품 주구매지점  내점일수   내점당구매건수  \\\n",
      "0        0  68282840  11264000  6860000.0      기타   강남점    19  3.894737   \n",
      "1        1   2136000   2136000   300000.0     스포츠   잠실점     2  1.500000   \n",
      "2        2   3197000   1639000        NaN  남성 캐주얼   관악점     2  2.000000   \n",
      "3        3  16077620   4935000        NaN      기타   광주점    18  2.444444   \n",
      "4        4  29050000  24000000        NaN      보석  본  점     2  1.500000   \n",
      "\n",
      "     주말방문비율  구매주기  \n",
      "0  0.527027    17  \n",
      "1  0.000000     1  \n",
      "2  0.000000     1  \n",
      "3  0.318182    16  \n",
      "4  0.000000    85  \n",
      "   cust_id       총구매액     최대구매액        환불금액 주구매상품 주구매지점  내점일수    내점당구매건수  \\\n",
      "0     3500   70900400  22000000   4050000.0    골프  부산본점    13   1.461538   \n",
      "1     3501  310533100  38558000  48034700.0   농산물   잠실점    90   2.433333   \n",
      "2     3502  305264140  14825000  30521000.0  가공식품  본  점   101  14.623762   \n",
      "3     3503    7594080   5225000         NaN  주방용품  부산본점     5   2.000000   \n",
      "4     3504    1795790   1411200         NaN   수산품  청량리점     3   2.666667   \n",
      "\n",
      "     주말방문비율  구매주기  \n",
      "0  0.789474    26  \n",
      "1  0.369863     3  \n",
      "2  0.083277     3  \n",
      "3  0.000000    47  \n",
      "4  0.125000     8  \n",
      "   cust_id  gender\n",
      "0        0       0\n",
      "1        1       0\n",
      "2        2       1\n",
      "3        3       1\n",
      "4        4       0\n"
     ]
    }
   ],
   "source": [
    "# x_train, x_test, y_train의 상위 5개의 행 확인하기\n",
    "print(x_train.head())\n",
    "print(x_test.head())\n",
    "print(y_train.head())"
   ]
  },
  {
   "cell_type": "markdown",
   "id": "c0fca67c-8777-4c13-a606-fd25ca32d02b",
   "metadata": {},
   "source": [
    "생략 없이 모든 컬럼을 확인하고 싶다면,\n",
    "- `transpose()`, `T` 함수\n",
    "- `pd.options.display.max_columns = None`"
   ]
  },
  {
   "cell_type": "code",
   "execution_count": 6,
   "id": "58ebcc0b-f6f6-4834-902e-e24d66ff9830",
   "metadata": {},
   "outputs": [
    {
     "name": "stdout",
     "output_type": "stream",
     "text": [
      "                 0         1        2         3         4\n",
      "cust_id          0         1        2         3         4\n",
      "총구매액      68282840   2136000  3197000  16077620  29050000\n",
      "최대구매액     11264000   2136000  1639000   4935000  24000000\n",
      "환불금액     6860000.0  300000.0      NaN       NaN       NaN\n",
      "주구매상품           기타       스포츠   남성 캐주얼        기타        보석\n",
      "주구매지점          강남점       잠실점      관악점       광주점      본  점\n",
      "내점일수            19         2        2        18         2\n",
      "내점당구매건수   3.894737       1.5      2.0  2.444444       1.5\n",
      "주말방문비율    0.527027       0.0      0.0  0.318182       0.0\n",
      "구매주기            17         1        1        16        85\n"
     ]
    }
   ],
   "source": [
    "### (1) T, transpose() 함수 ###\n",
    "\n",
    "# 행과 열을 바꾸어 데이터 조회하기\n",
    "print(x_train.head().T)"
   ]
  },
  {
   "cell_type": "code",
   "execution_count": 7,
   "id": "aef37046-e7c7-4775-b603-7c263886396d",
   "metadata": {},
   "outputs": [
    {
     "name": "stdout",
     "output_type": "stream",
     "text": [
      "   cust_id      총구매액     최대구매액       환불금액   주구매상품 주구매지점  내점일수   내점당구매건수  \\\n",
      "0        0  68282840  11264000  6860000.0      기타   강남점    19  3.894737   \n",
      "1        1   2136000   2136000   300000.0     스포츠   잠실점     2  1.500000   \n",
      "2        2   3197000   1639000        NaN  남성 캐주얼   관악점     2  2.000000   \n",
      "3        3  16077620   4935000        NaN      기타   광주점    18  2.444444   \n",
      "4        4  29050000  24000000        NaN      보석  본  점     2  1.500000   \n",
      "\n",
      "     주말방문비율  구매주기  \n",
      "0  0.527027    17  \n",
      "1  0.000000     1  \n",
      "2  0.000000     1  \n",
      "3  0.318182    16  \n",
      "4  0.000000    85  \n"
     ]
    }
   ],
   "source": [
    "### (2) 전체 컬럼을 출력하는 옵션 설정 ###\n",
    "\n",
    "# 전체 컬럼을 출력하는 옵션 설정하기\n",
    "pd.options.display.max_columns = None\n",
    "\n",
    "# 전체 컬럼으로 출력된 결과 확인하기\n",
    "print(x_train.head())"
   ]
  },
  {
   "cell_type": "markdown",
   "id": "c32707e4-2001-4a9d-93bc-9799c788e623",
   "metadata": {},
   "source": [
    "#### **행/열 확인하기**"
   ]
  },
  {
   "cell_type": "code",
   "execution_count": 8,
   "id": "33f2d349-1594-448a-9725-e32e9f84f436",
   "metadata": {},
   "outputs": [
    {
     "name": "stdout",
     "output_type": "stream",
     "text": [
      "(3500, 10)\n",
      "(2482, 10)\n",
      "(3500, 2)\n"
     ]
    }
   ],
   "source": [
    "# 각 데이터 세트의 행과 열의 개수를 확인하기\n",
    "print(x_train.shape)\n",
    "print(x_test.shape)\n",
    "print(y_train.shape)"
   ]
  },
  {
   "cell_type": "markdown",
   "id": "0fb050ce-42ab-4d71-b4ce-4b90b53aeb3e",
   "metadata": {},
   "source": [
    "#### **요약 정보 확인하기**"
   ]
  },
  {
   "cell_type": "code",
   "execution_count": 9,
   "id": "de513d30-4b10-43b5-9a93-d6bd9d323b93",
   "metadata": {},
   "outputs": [
    {
     "name": "stdout",
     "output_type": "stream",
     "text": [
      "<class 'pandas.core.frame.DataFrame'>\n",
      "RangeIndex: 3500 entries, 0 to 3499\n",
      "Data columns (total 10 columns):\n",
      " #   Column   Non-Null Count  Dtype  \n",
      "---  ------   --------------  -----  \n",
      " 0   cust_id  3500 non-null   int64  \n",
      " 1   총구매액     3500 non-null   int64  \n",
      " 2   최대구매액    3500 non-null   int64  \n",
      " 3   환불금액     1205 non-null   float64\n",
      " 4   주구매상품    3500 non-null   object \n",
      " 5   주구매지점    3500 non-null   object \n",
      " 6   내점일수     3500 non-null   int64  \n",
      " 7   내점당구매건수  3500 non-null   float64\n",
      " 8   주말방문비율   3500 non-null   float64\n",
      " 9   구매주기     3500 non-null   int64  \n",
      "dtypes: float64(3), int64(5), object(2)\n",
      "memory usage: 273.6+ KB\n",
      "None\n"
     ]
    }
   ],
   "source": [
    "# x_train 세트의 요약 정보 확인하기\n",
    "print(x_train.info())"
   ]
  },
  {
   "cell_type": "markdown",
   "id": "33149f4d-1c1b-435f-b30f-2fe846b5311f",
   "metadata": {},
   "source": [
    "#### **기초통계량 확인하기**"
   ]
  },
  {
   "cell_type": "code",
   "execution_count": 10,
   "id": "bd4ee016-f08b-4920-9e13-ee3091c46a56",
   "metadata": {},
   "outputs": [
    {
     "name": "stdout",
     "output_type": "stream",
     "text": [
      "          count          mean           std         min           25%  \\\n",
      "cust_id  3500.0  1.749500e+03  1.010507e+03         0.0  8.747500e+02   \n",
      "총구매액     3500.0  9.191925e+07  1.635065e+08 -52421520.0  4.747050e+06   \n",
      "최대구매액    3500.0  1.966424e+07  3.199235e+07  -2992000.0  2.875000e+06   \n",
      "환불금액     1205.0  2.407822e+07  4.746453e+07      5600.0  2.259000e+06   \n",
      "내점일수     3500.0  1.925371e+01  2.717494e+01         1.0  2.000000e+00   \n",
      "내점당구매건수  3500.0  2.834963e+00  1.912368e+00         1.0  1.666667e+00   \n",
      "주말방문비율   3500.0  3.072463e-01  2.897516e-01         0.0  2.729090e-02   \n",
      "구매주기     3500.0  2.095829e+01  2.474868e+01         0.0  4.000000e+00   \n",
      "\n",
      "                  50%           75%           max  \n",
      "cust_id  1.749500e+03  2.624250e+03  3.499000e+03  \n",
      "총구매액     2.822270e+07  1.065079e+08  2.323180e+09  \n",
      "최대구매액    9.837000e+06  2.296250e+07  7.066290e+08  \n",
      "환불금액     7.392000e+06  2.412000e+07  5.637530e+08  \n",
      "내점일수     8.000000e+00  2.500000e+01  2.850000e+02  \n",
      "내점당구매건수  2.333333e+00  3.375000e+00  2.208333e+01  \n",
      "주말방문비율   2.564103e-01  4.489796e-01  1.000000e+00  \n",
      "구매주기     1.300000e+01  2.800000e+01  1.660000e+02  \n"
     ]
    }
   ],
   "source": [
    "# x_train의 기초통계량을 확인하고, 가독성을 위해 행/열을 바꿔서 출력하기\n",
    "print(x_train.describe().T)"
   ]
  },
  {
   "cell_type": "markdown",
   "id": "c406e5a8-14a5-4aa2-8af1-ff458d5bf38b",
   "metadata": {},
   "source": [
    "### **1.2 전처리하기**"
   ]
  },
  {
   "cell_type": "markdown",
   "id": "f73f5c02-b870-4602-8310-f6e386370a10",
   "metadata": {},
   "source": [
    "**테스트 데이터인 x_test도** 값을 예측하는 과정에 사용하므로 <span style=\"color:red\">**동일한 전처리 과정을 적용**</span>해야 함-!!"
   ]
  },
  {
   "cell_type": "markdown",
   "id": "775c1a68-69e6-44aa-a2d5-4e41cb18acde",
   "metadata": {},
   "source": [
    "#### **불필요한 컬럼 삭제하기**"
   ]
  },
  {
   "cell_type": "markdown",
   "id": "f742bdf0-a049-4564-abe5-f33bbe869b26",
   "metadata": {},
   "source": [
    "추후 테스트 데이터의 `cust_id` 컬럼 값은 최종 제출하는 결과 파일에 포함되어야 하므로 `x_test_cust_id` 변수를 별도로 저장하여 관리"
   ]
  },
  {
   "cell_type": "code",
   "execution_count": 11,
   "id": "a16df361-ffe7-4fa2-a4e9-5b93999f2c10",
   "metadata": {},
   "outputs": [],
   "source": [
    "# 테스트 데이터의 cust_id 값은 x_test_cust_id 변수에 저장하기\n",
    "x_test_cust_id = x_test['cust_id']"
   ]
  },
  {
   "cell_type": "code",
   "execution_count": 12,
   "id": "9213d715-5dc5-4bf4-9ef8-f5d77d1f7c66",
   "metadata": {},
   "outputs": [
    {
     "name": "stdout",
     "output_type": "stream",
     "text": [
      "       총구매액     최대구매액       환불금액   주구매상품 주구매지점  내점일수   내점당구매건수    주말방문비율  구매주기\n",
      "0  68282840  11264000  6860000.0      기타   강남점    19  3.894737  0.527027    17\n",
      "1   2136000   2136000   300000.0     스포츠   잠실점     2  1.500000  0.000000     1\n",
      "2   3197000   1639000        NaN  남성 캐주얼   관악점     2  2.000000  0.000000     1\n",
      "3  16077620   4935000        NaN      기타   광주점    18  2.444444  0.318182    16\n",
      "4  29050000  24000000        NaN      보석  본  점     2  1.500000  0.000000    85\n",
      "   gender\n",
      "0       0\n",
      "1       0\n",
      "2       1\n",
      "3       1\n",
      "4       0\n"
     ]
    }
   ],
   "source": [
    "# cust_id 컬럼을 삭제하기\n",
    "x_train = x_train.drop(columns=['cust_id'])\n",
    "y_train = y_train.drop(columns=['cust_id'])\n",
    "x_test = x_test.drop(columns=['cust_id'])\n",
    "\n",
    "# 컬럼이 삭제된 상위 5개의 행 확인하기\n",
    "print(x_train.head())\n",
    "print(y_train.head())"
   ]
  },
  {
   "cell_type": "markdown",
   "id": "6bff207d-bacb-43d9-a5fc-6e2765003432",
   "metadata": {},
   "source": [
    "#### **결측치 처리하기**"
   ]
  },
  {
   "cell_type": "code",
   "execution_count": 13,
   "id": "90488672-351d-4f67-9c85-d7568d77d8cc",
   "metadata": {},
   "outputs": [
    {
     "name": "stdout",
     "output_type": "stream",
     "text": [
      "총구매액          0\n",
      "최대구매액         0\n",
      "환불금액       2295\n",
      "주구매상품         0\n",
      "주구매지점         0\n",
      "내점일수          0\n",
      "내점당구매건수       0\n",
      "주말방문비율        0\n",
      "구매주기          0\n",
      "dtype: int64\n"
     ]
    }
   ],
   "source": [
    "print(x_train.isnull().sum())"
   ]
  },
  {
   "cell_type": "code",
   "execution_count": 14,
   "id": "fd4a595d-3e8e-420a-aaf5-7f9e2b567383",
   "metadata": {},
   "outputs": [
    {
     "name": "stdout",
     "output_type": "stream",
     "text": [
      "0\n",
      "0\n"
     ]
    }
   ],
   "source": [
    "# '환불금액' 컬럼의 결측치를 0으로 대치하기\n",
    "x_train['환불금액'] = x_train['환불금액'].fillna(0)\n",
    "x_test['환불금액'] = x_test['환불금액'].fillna(0)\n",
    "\n",
    "# 결측치가 조치되었는지, '환불금액' 컬럼의 결측치 개수를 확인하기\n",
    "print(x_train['환불금액'].isnull().sum())\n",
    "print(x_test['환불금액'].isnull().sum())"
   ]
  },
  {
   "cell_type": "markdown",
   "id": "6bb7a605-2ab2-4bc4-9841-313a1dd72853",
   "metadata": {},
   "source": [
    "#### **범주형 변수를 인코딩하기**"
   ]
  },
  {
   "cell_type": "code",
   "execution_count": 15,
   "id": "d1d8419d-4d54-4289-b6ee-03e51b0b19b3",
   "metadata": {},
   "outputs": [
    {
     "name": "stdout",
     "output_type": "stream",
     "text": [
      "['기타' '스포츠' '남성 캐주얼' '보석' '디자이너' '시티웨어' '명품' '농산물' '화장품' '골프' '구두' '가공식품'\n",
      " '수산품' '아동' '차/커피' '캐주얼' '섬유잡화' '육류' '축산가공' '젓갈/반찬' '액세서리' '피혁잡화' '일용잡화'\n",
      " '주방가전' '주방용품' '건강식품' '가구' '주류' '모피/피혁' '남성 트랜디' '셔츠' '남성정장' '생활잡화'\n",
      " '트래디셔널' '란제리/내의' '커리어' '침구/수예' '대형가전' '통신/컴퓨터' '식기' '소형가전' '악기']\n",
      "42\n",
      "['강남점' '잠실점' '관악점' '광주점' '본  점' '일산점' '대전점' '부산본점' '분당점' '영등포점' '미아점'\n",
      " '청량리점' '안양점' '부평점' '동래점' '포항점' '노원점' '창원점' '센텀시티점' '인천점' '대구점' '전주점'\n",
      " '울산점' '상인점']\n",
      "24\n"
     ]
    }
   ],
   "source": [
    "# '주구매상품' 컬럼에서 중복을 제외한 값들을 확인하기\n",
    "print(x_train['주구매상품'].unique())\n",
    "\n",
    "# '주구매상품' 컬럼에서 중복을 제외한 값들의 개수 세기\n",
    "print(x_train['주구매상품'].unique().size)\n",
    "\n",
    "# '주구매지점' 컬럼에서 중복을 제외한 값들을 확인하기\n",
    "print(x_train['주구매지점'].unique())\n",
    "\n",
    "# '주구매지점' 컬럼에서 중복을 제외한 값들의 개수 세기\n",
    "print(x_train['주구매지점'].unique().size)"
   ]
  },
  {
   "cell_type": "code",
   "execution_count": 16,
   "id": "0e8e22c5-8b21-46da-ab7f-530e508ac72a",
   "metadata": {},
   "outputs": [],
   "source": [
    "# sklearn 패키지의 preprocessing 모듈에서 LabelEncoder 함수를 가져오기\n",
    "from sklearn.preprocessing import LabelEncoder\n",
    "\n",
    "# 라벨 인코딩 수행을 위한 encoder 함수 만들기\n",
    "encoder = LabelEncoder()"
   ]
  },
  {
   "cell_type": "code",
   "execution_count": 17,
   "id": "b286dc5c-ec35-4ce4-9af4-d9bdf31551b0",
   "metadata": {},
   "outputs": [
    {
     "name": "stdout",
     "output_type": "stream",
     "text": [
      "0     5\n",
      "1    21\n",
      "2     6\n",
      "3     5\n",
      "4    15\n",
      "5    11\n",
      "6    22\n",
      "7    13\n",
      "8     5\n",
      "9     9\n",
      "Name: 주구매상품, dtype: int32\n"
     ]
    }
   ],
   "source": [
    "# '주구매상품'에 대해 라벨 인코딩을 수행한 후, '주구매상품' 컬럼으로 다시 저장하기\n",
    "x_train['주구매상품'] = encoder.fit_transform(x_train['주구매상품'])\n",
    "\n",
    "# 라벨 인코딩 결과를 확인하기 위해 상위 10개의 행 확인하기\n",
    "print(x_train['주구매상품'].head(10))"
   ]
  },
  {
   "cell_type": "markdown",
   "id": "0c9b1d3b-ea75-4d28-9776-1de8dbd8e798",
   "metadata": {},
   "source": [
    "**라벨 인코딩의 변환 결과**는 **`classes_`** 키워드를 통해서 확인"
   ]
  },
  {
   "cell_type": "code",
   "execution_count": 18,
   "id": "67df717e-7b52-41a6-9cad-3ff9edaa6091",
   "metadata": {},
   "outputs": [
    {
     "name": "stdout",
     "output_type": "stream",
     "text": [
      "['가공식품' '가구' '건강식품' '골프' '구두' '기타' '남성 캐주얼' '남성 트랜디' '남성정장' '농산물' '대형가전'\n",
      " '디자이너' '란제리/내의' '명품' '모피/피혁' '보석' '생활잡화' '섬유잡화' '셔츠' '소형가전' '수산품' '스포츠'\n",
      " '시티웨어' '식기' '아동' '악기' '액세서리' '육류' '일용잡화' '젓갈/반찬' '주류' '주방가전' '주방용품'\n",
      " '차/커피' '축산가공' '침구/수예' '캐주얼' '커리어' '통신/컴퓨터' '트래디셔널' '피혁잡화' '화장품']\n"
     ]
    }
   ],
   "source": [
    "# '주구매상품' 컬럼에 대한 라벨 인코딩의 변환 순서 확인하기\n",
    "print(encoder.classes_)\n",
    "\n",
    "# 테스트 데이터도 라벨 인코딩 수행하기\n",
    "x_test['주구매상품'] = encoder.fit_transform(x_test['주구매상품'])"
   ]
  },
  {
   "cell_type": "code",
   "execution_count": 19,
   "id": "b1c86db1-f792-4b4d-88a1-fe6c9596540c",
   "metadata": {},
   "outputs": [
    {
     "name": "stdout",
     "output_type": "stream",
     "text": [
      "0     0\n",
      "1    19\n",
      "2     1\n",
      "3     2\n",
      "4     8\n",
      "5    18\n",
      "6     0\n",
      "7     8\n",
      "8     8\n",
      "9     5\n",
      "Name: 주구매지점, dtype: int32\n",
      "['강남점' '관악점' '광주점' '노원점' '대구점' '대전점' '동래점' '미아점' '본  점' '부산본점' '부평점' '분당점'\n",
      " '상인점' '센텀시티점' '안양점' '영등포점' '울산점' '인천점' '일산점' '잠실점' '전주점' '창원점' '청량리점'\n",
      " '포항점']\n"
     ]
    }
   ],
   "source": [
    "# '주구매지점'에 대해 라벨 인코딩을 수행한 후, '주구매지점' 컬럼으로 다시 저장하기\n",
    "x_train['주구매지점'] = encoder.fit_transform(x_train['주구매지점'])\n",
    "\n",
    "# 라벨 인코딩 결과를 확인하기 위해 상위 10개의 행 확인하기\n",
    "print(x_train['주구매지점'].head(10))\n",
    "\n",
    "# '주구매지점' 컬럼에 대한 라벨 인코딩의 변환 순서 확인하기\n",
    "print(encoder.classes_)\n",
    "\n",
    "# 테스트 데이터의 '주구매지점' 컬럼도 라벨 인코딩 수행하기\n",
    "x_test['주구매지점'] = encoder.fit_transform(x_test['주구매지점'])"
   ]
  },
  {
   "cell_type": "markdown",
   "id": "31aa9816-1f34-4b66-8069-067ca5ec3df6",
   "metadata": {},
   "source": [
    "#### **파생변수 만들기**"
   ]
  },
  {
   "cell_type": "code",
   "execution_count": 20,
   "id": "3fd91b0c-a1c9-4e9d-a3d4-d92af6ae8f86",
   "metadata": {},
   "outputs": [],
   "source": [
    "# '환불금액' 컬럼이 0보다 큰지에 대한 조건을 condition 변수에 저장하기\n",
    "condition = x_train['환불금액']>0"
   ]
  },
  {
   "cell_type": "code",
   "execution_count": 21,
   "id": "14d00ad0-15ae-4ab9-8b78-16bd25d1c6b3",
   "metadata": {},
   "outputs": [],
   "source": [
    "# condition 조건에 맞으면, '환불금액_new' 컬럼을 1로 설정하기\n",
    "x_train.loc[condition, '환불금액_new'] = 1\n",
    "\n",
    "# condition 조건에 맞지 않으면, '환불금액_new' 컬럼을 0으로 설정하기\n",
    "x_train.loc[~condition, '환불금액_new'] = 0"
   ]
  },
  {
   "cell_type": "code",
   "execution_count": 22,
   "id": "2d7ad0b4-8a69-43ec-ac04-14efad31b984",
   "metadata": {},
   "outputs": [
    {
     "name": "stdout",
     "output_type": "stream",
     "text": [
      "           환불금액  환불금액_new\n",
      "0     6860000.0       1.0\n",
      "1      300000.0       1.0\n",
      "2           0.0       0.0\n",
      "3           0.0       0.0\n",
      "4           0.0       0.0\n",
      "...         ...       ...\n",
      "3495        0.0       0.0\n",
      "3496  6049600.0       1.0\n",
      "3497        0.0       0.0\n",
      "3498        0.0       0.0\n",
      "3499  5973000.0       1.0\n",
      "\n",
      "[3500 rows x 2 columns]\n"
     ]
    }
   ],
   "source": [
    "# '환불금액', '환불금액_new' 컬럼을 비교하기\n",
    "print(x_train[['환불금액', '환불금액_new']])"
   ]
  },
  {
   "cell_type": "code",
   "execution_count": 23,
   "id": "189cd94d-6eaa-497f-a018-56d1c84362dc",
   "metadata": {},
   "outputs": [],
   "source": [
    "# '환불금액' 컬럼의 삭제 내용은 바로 데이터 세트에 반영하기\n",
    "x_train = x_train.drop(columns=['환불금액'])"
   ]
  },
  {
   "cell_type": "code",
   "execution_count": 24,
   "id": "c428615e-3db9-476c-bf37-962c0036d4a6",
   "metadata": {},
   "outputs": [],
   "source": [
    "# 테스트 데이터 세트에서도 '환불금액_new'라는 파생변수 만들기 → ~는 not의 의미\n",
    "condition = x_test['환불금액']>0   # 교재가 틀린 부분\n",
    "x_test.loc[condition, '환불금액_new'] = 1\n",
    "x_test.loc[~condition, '환불금액_new'] = 0\n",
    "\n",
    "# '환불금액' 컬럼의 삭제 내용은 바로 데이터 세트에 반영하기\n",
    "x_test = x_test.drop(columns=['환불금액'])"
   ]
  },
  {
   "cell_type": "code",
   "execution_count": null,
   "id": "a9c82611-91b1-4844-a7ff-0ebd1393a481",
   "metadata": {},
   "outputs": [],
   "source": []
  },
  {
   "cell_type": "code",
   "execution_count": null,
   "id": "5807b4dc-61ba-48d1-92e8-c30d0072994f",
   "metadata": {},
   "outputs": [],
   "source": []
  },
  {
   "cell_type": "code",
   "execution_count": 25,
   "id": "37fa1788-f199-49b7-bd4e-39caf4af73a1",
   "metadata": {},
   "outputs": [
    {
     "data": {
      "text/html": [
       "<div>\n",
       "<style scoped>\n",
       "    .dataframe tbody tr th:only-of-type {\n",
       "        vertical-align: middle;\n",
       "    }\n",
       "\n",
       "    .dataframe tbody tr th {\n",
       "        vertical-align: top;\n",
       "    }\n",
       "\n",
       "    .dataframe thead th {\n",
       "        text-align: right;\n",
       "    }\n",
       "</style>\n",
       "<table border=\"1\" class=\"dataframe\">\n",
       "  <thead>\n",
       "    <tr style=\"text-align: right;\">\n",
       "      <th></th>\n",
       "      <th>총구매액</th>\n",
       "      <th>최대구매액</th>\n",
       "      <th>주구매상품</th>\n",
       "      <th>주구매지점</th>\n",
       "      <th>내점일수</th>\n",
       "      <th>내점당구매건수</th>\n",
       "      <th>주말방문비율</th>\n",
       "      <th>구매주기</th>\n",
       "      <th>환불금액_new</th>\n",
       "    </tr>\n",
       "  </thead>\n",
       "  <tbody>\n",
       "    <tr>\n",
       "      <th>2477</th>\n",
       "      <td>45995960</td>\n",
       "      <td>16518600</td>\n",
       "      <td>11</td>\n",
       "      <td>2</td>\n",
       "      <td>9</td>\n",
       "      <td>2.444444</td>\n",
       "      <td>0.045455</td>\n",
       "      <td>29</td>\n",
       "      <td>0.0</td>\n",
       "    </tr>\n",
       "    <tr>\n",
       "      <th>2478</th>\n",
       "      <td>98966360</td>\n",
       "      <td>19992000</td>\n",
       "      <td>0</td>\n",
       "      <td>9</td>\n",
       "      <td>14</td>\n",
       "      <td>2.428571</td>\n",
       "      <td>0.147059</td>\n",
       "      <td>24</td>\n",
       "      <td>0.0</td>\n",
       "    </tr>\n",
       "    <tr>\n",
       "      <th>2479</th>\n",
       "      <td>24255000</td>\n",
       "      <td>8950000</td>\n",
       "      <td>6</td>\n",
       "      <td>11</td>\n",
       "      <td>7</td>\n",
       "      <td>1.000000</td>\n",
       "      <td>0.285714</td>\n",
       "      <td>31</td>\n",
       "      <td>1.0</td>\n",
       "    </tr>\n",
       "    <tr>\n",
       "      <th>2480</th>\n",
       "      <td>692850</td>\n",
       "      <td>462500</td>\n",
       "      <td>5</td>\n",
       "      <td>8</td>\n",
       "      <td>2</td>\n",
       "      <td>3.500000</td>\n",
       "      <td>0.000000</td>\n",
       "      <td>4</td>\n",
       "      <td>0.0</td>\n",
       "    </tr>\n",
       "    <tr>\n",
       "      <th>2481</th>\n",
       "      <td>50978750</td>\n",
       "      <td>12636000</td>\n",
       "      <td>11</td>\n",
       "      <td>8</td>\n",
       "      <td>11</td>\n",
       "      <td>2.000000</td>\n",
       "      <td>0.500000</td>\n",
       "      <td>30</td>\n",
       "      <td>0.0</td>\n",
       "    </tr>\n",
       "  </tbody>\n",
       "</table>\n",
       "</div>"
      ],
      "text/plain": [
       "          총구매액     최대구매액  주구매상품  주구매지점  내점일수   내점당구매건수    주말방문비율  구매주기  \\\n",
       "2477  45995960  16518600     11      2     9  2.444444  0.045455    29   \n",
       "2478  98966360  19992000      0      9    14  2.428571  0.147059    24   \n",
       "2479  24255000   8950000      6     11     7  1.000000  0.285714    31   \n",
       "2480    692850    462500      5      8     2  3.500000  0.000000     4   \n",
       "2481  50978750  12636000     11      8    11  2.000000  0.500000    30   \n",
       "\n",
       "      환불금액_new  \n",
       "2477       0.0  \n",
       "2478       0.0  \n",
       "2479       1.0  \n",
       "2480       0.0  \n",
       "2481       0.0  "
      ]
     },
     "execution_count": 25,
     "metadata": {},
     "output_type": "execute_result"
    }
   ],
   "source": [
    "x_train[2477:2482]"
   ]
  },
  {
   "cell_type": "code",
   "execution_count": 26,
   "id": "bb381884-3348-485f-9575-53e9db5d5f67",
   "metadata": {},
   "outputs": [
    {
     "data": {
      "text/html": [
       "<div>\n",
       "<style scoped>\n",
       "    .dataframe tbody tr th:only-of-type {\n",
       "        vertical-align: middle;\n",
       "    }\n",
       "\n",
       "    .dataframe tbody tr th {\n",
       "        vertical-align: top;\n",
       "    }\n",
       "\n",
       "    .dataframe thead th {\n",
       "        text-align: right;\n",
       "    }\n",
       "</style>\n",
       "<table border=\"1\" class=\"dataframe\">\n",
       "  <thead>\n",
       "    <tr style=\"text-align: right;\">\n",
       "      <th></th>\n",
       "      <th>총구매액</th>\n",
       "      <th>최대구매액</th>\n",
       "      <th>주구매상품</th>\n",
       "      <th>주구매지점</th>\n",
       "      <th>내점일수</th>\n",
       "      <th>내점당구매건수</th>\n",
       "      <th>주말방문비율</th>\n",
       "      <th>구매주기</th>\n",
       "      <th>환불금액_new</th>\n",
       "    </tr>\n",
       "  </thead>\n",
       "  <tbody>\n",
       "    <tr>\n",
       "      <th>0</th>\n",
       "      <td>70900400</td>\n",
       "      <td>22000000</td>\n",
       "      <td>3</td>\n",
       "      <td>9</td>\n",
       "      <td>13</td>\n",
       "      <td>1.461538</td>\n",
       "      <td>0.789474</td>\n",
       "      <td>26</td>\n",
       "      <td>1.0</td>\n",
       "    </tr>\n",
       "    <tr>\n",
       "      <th>1</th>\n",
       "      <td>310533100</td>\n",
       "      <td>38558000</td>\n",
       "      <td>9</td>\n",
       "      <td>19</td>\n",
       "      <td>90</td>\n",
       "      <td>2.433333</td>\n",
       "      <td>0.369863</td>\n",
       "      <td>3</td>\n",
       "      <td>1.0</td>\n",
       "    </tr>\n",
       "    <tr>\n",
       "      <th>2</th>\n",
       "      <td>305264140</td>\n",
       "      <td>14825000</td>\n",
       "      <td>0</td>\n",
       "      <td>8</td>\n",
       "      <td>101</td>\n",
       "      <td>14.623762</td>\n",
       "      <td>0.083277</td>\n",
       "      <td>3</td>\n",
       "      <td>1.0</td>\n",
       "    </tr>\n",
       "    <tr>\n",
       "      <th>3</th>\n",
       "      <td>7594080</td>\n",
       "      <td>5225000</td>\n",
       "      <td>31</td>\n",
       "      <td>9</td>\n",
       "      <td>5</td>\n",
       "      <td>2.000000</td>\n",
       "      <td>0.000000</td>\n",
       "      <td>47</td>\n",
       "      <td>0.0</td>\n",
       "    </tr>\n",
       "    <tr>\n",
       "      <th>4</th>\n",
       "      <td>1795790</td>\n",
       "      <td>1411200</td>\n",
       "      <td>19</td>\n",
       "      <td>22</td>\n",
       "      <td>3</td>\n",
       "      <td>2.666667</td>\n",
       "      <td>0.125000</td>\n",
       "      <td>8</td>\n",
       "      <td>0.0</td>\n",
       "    </tr>\n",
       "    <tr>\n",
       "      <th>...</th>\n",
       "      <td>...</td>\n",
       "      <td>...</td>\n",
       "      <td>...</td>\n",
       "      <td>...</td>\n",
       "      <td>...</td>\n",
       "      <td>...</td>\n",
       "      <td>...</td>\n",
       "      <td>...</td>\n",
       "      <td>...</td>\n",
       "    </tr>\n",
       "    <tr>\n",
       "      <th>2477</th>\n",
       "      <td>82581500</td>\n",
       "      <td>23976000</td>\n",
       "      <td>3</td>\n",
       "      <td>9</td>\n",
       "      <td>8</td>\n",
       "      <td>1.750000</td>\n",
       "      <td>0.642857</td>\n",
       "      <td>40</td>\n",
       "      <td>0.0</td>\n",
       "    </tr>\n",
       "    <tr>\n",
       "      <th>2478</th>\n",
       "      <td>480000</td>\n",
       "      <td>480000</td>\n",
       "      <td>17</td>\n",
       "      <td>2</td>\n",
       "      <td>1</td>\n",
       "      <td>1.000000</td>\n",
       "      <td>0.000000</td>\n",
       "      <td>0</td>\n",
       "      <td>0.0</td>\n",
       "    </tr>\n",
       "    <tr>\n",
       "      <th>2479</th>\n",
       "      <td>260003790</td>\n",
       "      <td>25750000</td>\n",
       "      <td>6</td>\n",
       "      <td>8</td>\n",
       "      <td>19</td>\n",
       "      <td>3.736842</td>\n",
       "      <td>0.915493</td>\n",
       "      <td>18</td>\n",
       "      <td>0.0</td>\n",
       "    </tr>\n",
       "    <tr>\n",
       "      <th>2480</th>\n",
       "      <td>88991520</td>\n",
       "      <td>18120000</td>\n",
       "      <td>26</td>\n",
       "      <td>8</td>\n",
       "      <td>5</td>\n",
       "      <td>3.600000</td>\n",
       "      <td>0.444444</td>\n",
       "      <td>60</td>\n",
       "      <td>0.0</td>\n",
       "    </tr>\n",
       "    <tr>\n",
       "      <th>2481</th>\n",
       "      <td>623700</td>\n",
       "      <td>209000</td>\n",
       "      <td>0</td>\n",
       "      <td>15</td>\n",
       "      <td>2</td>\n",
       "      <td>5.000000</td>\n",
       "      <td>0.000000</td>\n",
       "      <td>31</td>\n",
       "      <td>0.0</td>\n",
       "    </tr>\n",
       "  </tbody>\n",
       "</table>\n",
       "<p>2482 rows × 9 columns</p>\n",
       "</div>"
      ],
      "text/plain": [
       "           총구매액     최대구매액  주구매상품  주구매지점  내점일수    내점당구매건수    주말방문비율  구매주기  \\\n",
       "0      70900400  22000000      3      9    13   1.461538  0.789474    26   \n",
       "1     310533100  38558000      9     19    90   2.433333  0.369863     3   \n",
       "2     305264140  14825000      0      8   101  14.623762  0.083277     3   \n",
       "3       7594080   5225000     31      9     5   2.000000  0.000000    47   \n",
       "4       1795790   1411200     19     22     3   2.666667  0.125000     8   \n",
       "...         ...       ...    ...    ...   ...        ...       ...   ...   \n",
       "2477   82581500  23976000      3      9     8   1.750000  0.642857    40   \n",
       "2478     480000    480000     17      2     1   1.000000  0.000000     0   \n",
       "2479  260003790  25750000      6      8    19   3.736842  0.915493    18   \n",
       "2480   88991520  18120000     26      8     5   3.600000  0.444444    60   \n",
       "2481     623700    209000      0     15     2   5.000000  0.000000    31   \n",
       "\n",
       "      환불금액_new  \n",
       "0          1.0  \n",
       "1          1.0  \n",
       "2          1.0  \n",
       "3          0.0  \n",
       "4          0.0  \n",
       "...        ...  \n",
       "2477       0.0  \n",
       "2478       0.0  \n",
       "2479       0.0  \n",
       "2480       0.0  \n",
       "2481       0.0  \n",
       "\n",
       "[2482 rows x 9 columns]"
      ]
     },
     "execution_count": 26,
     "metadata": {},
     "output_type": "execute_result"
    }
   ],
   "source": [
    "x_test"
   ]
  },
  {
   "cell_type": "code",
   "execution_count": null,
   "id": "d58955c7-4828-4e38-9cd7-20eca5312e3f",
   "metadata": {},
   "outputs": [],
   "source": []
  },
  {
   "cell_type": "code",
   "execution_count": null,
   "id": "373cff29-128e-4f74-a3e9-88cc20d15bcc",
   "metadata": {},
   "outputs": [],
   "source": []
  },
  {
   "cell_type": "markdown",
   "id": "e2eb6750-5a7c-4707-b419-57c797c00d02",
   "metadata": {},
   "source": [
    "#### **표준화 크기로 변환하기**"
   ]
  },
  {
   "cell_type": "code",
   "execution_count": 27,
   "id": "d1fe1bc1-04d6-4304-a244-30462c034850",
   "metadata": {},
   "outputs": [
    {
     "name": "stdout",
     "output_type": "stream",
     "text": [
      "           count          mean           std         min           25%  \\\n",
      "총구매액      3500.0  9.191925e+07  1.635065e+08 -52421520.0  4.747050e+06   \n",
      "최대구매액     3500.0  1.966424e+07  3.199235e+07  -2992000.0  2.875000e+06   \n",
      "주구매상품     3500.0  1.461200e+01  1.301995e+01         0.0  5.000000e+00   \n",
      "주구매지점     3500.0  1.073429e+01  5.636480e+00         0.0  8.000000e+00   \n",
      "내점일수      3500.0  1.925371e+01  2.717494e+01         1.0  2.000000e+00   \n",
      "내점당구매건수   3500.0  2.834963e+00  1.912368e+00         1.0  1.666667e+00   \n",
      "주말방문비율    3500.0  3.072463e-01  2.897516e-01         0.0  2.729090e-02   \n",
      "구매주기      3500.0  2.095829e+01  2.474868e+01         0.0  4.000000e+00   \n",
      "환불금액_new  3500.0  3.442857e-01  4.752027e-01         0.0  0.000000e+00   \n",
      "\n",
      "                   50%           75%           max  \n",
      "총구매액      2.822270e+07  1.065079e+08  2.323180e+09  \n",
      "최대구매액     9.837000e+06  2.296250e+07  7.066290e+08  \n",
      "주구매상품     9.000000e+00  2.200000e+01  4.100000e+01  \n",
      "주구매지점     9.000000e+00  1.500000e+01  2.300000e+01  \n",
      "내점일수      8.000000e+00  2.500000e+01  2.850000e+02  \n",
      "내점당구매건수   2.333333e+00  3.375000e+00  2.208333e+01  \n",
      "주말방문비율    2.564103e-01  4.489796e-01  1.000000e+00  \n",
      "구매주기      1.300000e+01  2.800000e+01  1.660000e+02  \n",
      "환불금액_new  0.000000e+00  1.000000e+00  1.000000e+00  \n"
     ]
    }
   ],
   "source": [
    "# 크기변환 전, x_train 세트의 기초통계량 확인하기\n",
    "print(x_train.describe().T)"
   ]
  },
  {
   "cell_type": "code",
   "execution_count": 28,
   "id": "45d6280d-7cee-442b-9b71-af005cc237a1",
   "metadata": {},
   "outputs": [],
   "source": [
    "# sklearn 패키지의 preprocessing 모듈에서 StandardScaler 함수를 가져오기\n",
    "from sklearn.preprocessing import StandardScaler\n",
    "\n",
    "# 표준화 크기변환을 수행하기 위한 scaler 객체 만들기\n",
    "scaler = StandardScaler()\n",
    "\n",
    "# scaler 객체로 표준화 크기변환을 수행하고, x_train의 컬럼명을 사용하기\n",
    "x_train = pd.DataFrame(scaler.fit_transform(x_train), columns=x_train.columns)"
   ]
  },
  {
   "cell_type": "code",
   "execution_count": 29,
   "id": "60c0183b-7510-456d-afd9-e7747a9aa44e",
   "metadata": {},
   "outputs": [],
   "source": [
    "# 테스트 데이터를 표준화 크기로 변환하기\n",
    "x_test = pd.DataFrame(scaler.transform(x_test), columns=x_test.columns)"
   ]
  },
  {
   "cell_type": "markdown",
   "id": "893f9da1-eb15-4dd3-a3eb-7c40281707f5",
   "metadata": {},
   "source": [
    "<span style=\"color:red\">***테스트 데이터는 `transform()` 함수만으로 값을 변환***</span>"
   ]
  },
  {
   "cell_type": "code",
   "execution_count": 30,
   "id": "1f0f3d2b-1509-44b4-98ce-4aedbba37a9f",
   "metadata": {},
   "outputs": [
    {
     "name": "stdout",
     "output_type": "stream",
     "text": [
      "           count          mean       std       min       25%       50%  \\\n",
      "총구매액      3500.0 -3.349701e-17  1.000143 -0.882909 -0.533218 -0.389621   \n",
      "최대구매액     3500.0 -4.263256e-17  1.000143 -0.708278 -0.524864 -0.307219   \n",
      "주구매상품     3500.0 -6.090366e-17  1.000143 -1.122438 -0.738357 -0.431093   \n",
      "주구매지점     3500.0 -8.767590e-17  1.000143 -1.904703 -0.485175 -0.307733   \n",
      "내점일수      3500.0  4.669281e-17  1.000143 -0.671807 -0.635003 -0.414180   \n",
      "내점당구매건수   3500.0 -2.618858e-16  1.000143 -0.959661 -0.611003 -0.262346   \n",
      "주말방문비율    3500.0  7.917476e-17  1.000143 -1.060530 -0.966329 -0.175472   \n",
      "구매주기      3500.0 -4.263256e-17  1.000143 -0.846966 -0.685318 -0.321610   \n",
      "환불금액_new  3500.0  1.218073e-17  1.000143 -0.724606 -0.724606 -0.724606   \n",
      "\n",
      "               75%        max  \n",
      "총구매액      0.089237  13.648260  \n",
      "최대구매액     0.103110  21.475852  \n",
      "주구매상품     0.567518   2.027026  \n",
      "주구매지점     0.756913   2.176441  \n",
      "내점일수      0.211486   9.780490  \n",
      "내점당구매건수   0.282432  10.066639  \n",
      "주말방문비율    0.489224   2.391196  \n",
      "구매주기      0.284570   5.861421  \n",
      "환불금액_new  1.380060   1.380060  \n"
     ]
    }
   ],
   "source": [
    "# 크기변화 후, x_train 세트의 기초통계량 확인하기\n",
    "print(x_train.describe().T)"
   ]
  },
  {
   "cell_type": "markdown",
   "id": "d410a95c-c283-4953-85c3-d03f75b29134",
   "metadata": {},
   "source": [
    "#### **상관관계 확인하기**"
   ]
  },
  {
   "cell_type": "markdown",
   "id": "5a589a3f-76c1-4bb0-bca6-f55d6cee3191",
   "metadata": {},
   "source": [
    "상관계수의 절댓값이 **0.6 이상**이면 강한 상관관계 → <span style=\"color:blue\">**다중공선성**</span>을 이유로 삭제"
   ]
  },
  {
   "cell_type": "code",
   "execution_count": 31,
   "id": "583d7447-6295-457c-ae1b-b59b864129ca",
   "metadata": {},
   "outputs": [
    {
     "name": "stdout",
     "output_type": "stream",
     "text": [
      "              총구매액     최대구매액  환불금액_new\n",
      "총구매액      1.000000  0.700080  0.403357\n",
      "최대구매액     0.700080  1.000000  0.330687\n",
      "환불금액_new  0.403357  0.330687  1.000000\n"
     ]
    }
   ],
   "source": [
    "# '총구매액', '최대구매액', '환불금액_new' 컬럼 간의 상관관계 구하기\n",
    "print(x_train[['총구매액', '최대구매액', '환불금액_new']].corr())"
   ]
  },
  {
   "cell_type": "code",
   "execution_count": 32,
   "id": "8522273b-68f4-4bf9-a804-cf08233fefdc",
   "metadata": {},
   "outputs": [],
   "source": [
    "# x_train 세트에서 '최대구매액' 컬럼을 삭제한 후, x_train에 저장하기\n",
    "x_train = x_train.drop(columns=['최대구매액'])"
   ]
  },
  {
   "cell_type": "code",
   "execution_count": 33,
   "id": "075769a5-cc4f-47cc-8ab5-f02f2183265b",
   "metadata": {},
   "outputs": [],
   "source": [
    "# x_test세트에서 '최대구매액' 컬럼을 삭제한 후, x_test에 저장하기\n",
    "x_test = x_test.drop(columns=['최대구매액'])"
   ]
  },
  {
   "cell_type": "markdown",
   "id": "9092da85-9323-465e-8c5f-89425b21f2e0",
   "metadata": {},
   "source": [
    "### **1.3 학습하고 평가하기**"
   ]
  },
  {
   "cell_type": "markdown",
   "id": "404c1106-4d0e-4379-bd11-caa2b3c1dae0",
   "metadata": {},
   "source": [
    "#### **데이터 학습시키기**"
   ]
  },
  {
   "cell_type": "code",
   "execution_count": 34,
   "id": "7f2b0fc1-e507-4983-87c6-1057d35f7dc0",
   "metadata": {},
   "outputs": [
    {
     "name": "stdout",
     "output_type": "stream",
     "text": [
      "   0\n",
      "0  1\n",
      "1  0\n",
      "2  0\n"
     ]
    }
   ],
   "source": [
    "# sklearn 패키지의 tree 모듈에서 DecisionTreeClassifier 함수를 가져오기\n",
    "from sklearn.tree import DecisionTreeClassifier\n",
    "\n",
    "# 의사결정나무 방식으로 수행되는 model 객체 만들기\n",
    "model = DecisionTreeClassifier()\n",
    "\n",
    "# x_train, y_train 세트로 model을 학습시키기\n",
    "model.fit(x_train, y_train)\n",
    "\n",
    "# 학습된 model을 활용하여 테스트 데이터의 종속변수를 예측하기\n",
    "y_test_predicted = model.predict(x_test)\n",
    "\n",
    "# 예측한 결과를 출력해보기\n",
    "print(pd.DataFrame(y_test_predicted).head(3))"
   ]
  },
  {
   "cell_type": "markdown",
   "id": "3a7097d0-f1df-4dd4-a423-9a36fe73627f",
   "metadata": {},
   "source": [
    "#### **하이퍼 파라미터 튜닝(Hyper Parameter Tuning)하기**"
   ]
  },
  {
   "cell_type": "code",
   "execution_count": 35,
   "id": "0e195848-be2d-4094-a822-6dce30f911d6",
   "metadata": {},
   "outputs": [
    {
     "name": "stdout",
     "output_type": "stream",
     "text": [
      "   0\n",
      "0  1\n",
      "1  0\n",
      "2  0\n"
     ]
    }
   ],
   "source": [
    "# 괄호 안에 하이퍼 파라미터를 입력하여 모델 객체를 생성하기\n",
    "# model = DecisionTreeClassifier(max_depth=10, criterion='entropy', random_state=10)\n",
    "model = DecisionTreeClassifier(random_state=10)\n",
    "\n",
    "# x_train, y_train 세트로 model 학습시키기\n",
    "model.fit(x_train, y_train)\n",
    "\n",
    "# 학습된 model을 활용하여 테스트 데이터의 종속변수를 예측하기\n",
    "y_test_predicted = model.predict(x_test)\n",
    "\n",
    "# 예측한 결과를 출력해보기\n",
    "print(pd.DataFrame(y_test_predicted).head(3))"
   ]
  },
  {
   "cell_type": "markdown",
   "id": "864b512d-e0bd-4203-a620-9c39bdc4df1f",
   "metadata": {},
   "source": [
    "<span style=\"color:orange\">***GridSearchCV() 함수***</span>"
   ]
  },
  {
   "cell_type": "code",
   "execution_count": 36,
   "id": "476d202a-622c-4940-9bce-e201dd97e08e",
   "metadata": {},
   "outputs": [],
   "source": [
    "# 하이퍼 파라미터 튜닝을 위한 GridSearchCV() 함수 가져오기\n",
    "from sklearn.model_selection import GridSearchCV\n",
    "\n",
    "# 병렬처리를 위한 Pipeline 함수 가져오기\n",
    "from sklearn.pipeline import Pipeline"
   ]
  },
  {
   "cell_type": "code",
   "execution_count": 37,
   "id": "0a3546a6-dd85-44c7-8457-37eec67a1496",
   "metadata": {},
   "outputs": [],
   "source": [
    "# 하이퍼 파라미터들과 튜닝할 값들을 작성하기\n",
    "parameters = {'model__max_depth': [3, 4, 5, 6],\n",
    "              'model__criterion': ['gini', 'entropy']}"
   ]
  },
  {
   "cell_type": "code",
   "execution_count": 38,
   "id": "85dd12e3-8e35-4cb4-bd34-7dc55652660e",
   "metadata": {},
   "outputs": [],
   "source": [
    "# 데이터 스케일링과 의사결정나무 분류 작업을 병렬처리하도록 모델 만들기\n",
    "pipeline_model = Pipeline([('scaler', StandardScaler()),\n",
    "                           ('model', DecisionTreeClassifier())])"
   ]
  },
  {
   "cell_type": "code",
   "execution_count": 39,
   "id": "9d31ae96-49fc-4f00-9aba-0865149b9b35",
   "metadata": {},
   "outputs": [],
   "source": [
    "grid_model = GridSearchCV(pipeline_model,\n",
    "                          param_grid=parameters,\n",
    "                          cv=3)"
   ]
  },
  {
   "cell_type": "code",
   "execution_count": 40,
   "id": "2c439895-2c7e-4067-9eb7-80eb4574190b",
   "metadata": {},
   "outputs": [
    {
     "name": "stdout",
     "output_type": "stream",
     "text": [
      "GridSearchCV(cv=3,\n",
      "             estimator=Pipeline(steps=[('scaler', StandardScaler()),\n",
      "                                       ('model', DecisionTreeClassifier())]),\n",
      "             param_grid={'model__criterion': ['gini', 'entropy'],\n",
      "                         'model__max_depth': [3, 4, 5, 6]})\n"
     ]
    }
   ],
   "source": [
    "print(grid_model.fit(x_train, y_train))"
   ]
  },
  {
   "cell_type": "code",
   "execution_count": 41,
   "id": "559d4284-ad77-4cce-9b30-e04326aed701",
   "metadata": {},
   "outputs": [],
   "source": [
    "best_model = grid_model.best_estimator_"
   ]
  },
  {
   "cell_type": "code",
   "execution_count": 42,
   "id": "c0da8838-50ee-4694-9bca-242b925e012f",
   "metadata": {},
   "outputs": [
    {
     "name": "stdout",
     "output_type": "stream",
     "text": [
      "      0\n",
      "0     0\n",
      "1     0\n",
      "2     0\n",
      "3     0\n",
      "4     0\n",
      "...  ..\n",
      "2477  1\n",
      "2478  0\n",
      "2479  0\n",
      "2480  0\n",
      "2481  1\n",
      "\n",
      "[2482 rows x 1 columns]\n"
     ]
    }
   ],
   "source": [
    "y_test_predicted = best_model.predict(x_test)\n",
    "print(pd.DataFrame(y_test_predicted))"
   ]
  },
  {
   "cell_type": "markdown",
   "id": "82a1d66a-78a8-4f55-b968-9ea2196e1dfb",
   "metadata": {},
   "source": [
    "#### **결과 예측하기**"
   ]
  },
  {
   "cell_type": "code",
   "execution_count": 43,
   "id": "e25198be-641f-4760-b39f-2d0ccea85c28",
   "metadata": {},
   "outputs": [
    {
     "name": "stdout",
     "output_type": "stream",
     "text": [
      "     0    1\n",
      "0  0.0  1.0\n",
      "1  1.0  0.0\n",
      "2  1.0  0.0\n",
      "3  0.0  1.0\n",
      "4  1.0  0.0\n"
     ]
    }
   ],
   "source": [
    "# model을 통해 x_test에 맞는 종속변수 확률을 구하기\n",
    "y_test_proba = model.predict_proba(x_test)\n",
    "\n",
    "# 종속변수의 0, 1에 대한 각 확률을 확인하기\n",
    "print(pd.DataFrame(y_test_proba).head())"
   ]
  },
  {
   "cell_type": "code",
   "execution_count": 44,
   "id": "4b2c3e18-c4be-4e38-9923-6b6edef5ecb6",
   "metadata": {},
   "outputs": [
    {
     "name": "stdout",
     "output_type": "stream",
     "text": [
      "0       1.0\n",
      "1       0.0\n",
      "2       0.0\n",
      "3       1.0\n",
      "4       0.0\n",
      "       ... \n",
      "2477    1.0\n",
      "2478    1.0\n",
      "2479    1.0\n",
      "2480    0.0\n",
      "2481    1.0\n",
      "Name: 1, Length: 2482, dtype: float64\n"
     ]
    }
   ],
   "source": [
    "# 성별이 남성인 확률값을 DataFrame 형태로 출력하기\n",
    "print(pd.DataFrame(y_test_proba)[1])\n",
    "\n",
    "# 위 결과를 result 변수에 저장하기\n",
    "result = pd.DataFrame(y_test_proba)[1]"
   ]
  },
  {
   "cell_type": "markdown",
   "id": "87342134-c44e-4668-b677-87f40336875e",
   "metadata": {},
   "source": [
    "#### **모델 평가하기**"
   ]
  },
  {
   "cell_type": "code",
   "execution_count": 45,
   "id": "2a7bc4c6-db14-446d-bcd3-7eaf9cae8cd4",
   "metadata": {},
   "outputs": [
    {
     "name": "stdout",
     "output_type": "stream",
     "text": [
      "0.9992401215805471\n"
     ]
    }
   ],
   "source": [
    "# x_train에 대한 종속변수를 예측하기\n",
    "y_train_predicted = model.predict(x_train)\n",
    "\n",
    "# ROC-AUC 평가지표를 계산하기 위한 함수를 가져오기\n",
    "from sklearn.metrics import roc_auc_score\n",
    "\n",
    "# 학습 데이터에 대한 y_train, y_train_predicted의 ROC-AUC 결과 확인하기\n",
    "print(roc_auc_score(y_train, y_train_predicted))"
   ]
  },
  {
   "cell_type": "code",
   "execution_count": 46,
   "id": "6478d4a1-8b6f-4cc8-87ff-11b24fd1d51e",
   "metadata": {},
   "outputs": [],
   "source": [
    "# 테스트 데이터로 모델 평가하기\n",
    "# from sklearn.model_selection import train_test_split\n",
    "# X_TRAIN, X_TEST, Y_TRAIN, Y_TEST = train_test_split(x_train, y_train, test_size=0.2, random_state=10)"
   ]
  },
  {
   "cell_type": "markdown",
   "id": "b2ca5909-a9e3-476b-9238-c80b69fe8973",
   "metadata": {},
   "source": [
    "### **1.4 결과 제출하기**"
   ]
  },
  {
   "cell_type": "code",
   "execution_count": 47,
   "id": "f568c480-3c88-4684-ab43-e468e76c3c7b",
   "metadata": {},
   "outputs": [
    {
     "data": {
      "text/html": [
       "<div>\n",
       "<style scoped>\n",
       "    .dataframe tbody tr th:only-of-type {\n",
       "        vertical-align: middle;\n",
       "    }\n",
       "\n",
       "    .dataframe tbody tr th {\n",
       "        vertical-align: top;\n",
       "    }\n",
       "\n",
       "    .dataframe thead th {\n",
       "        text-align: right;\n",
       "    }\n",
       "</style>\n",
       "<table border=\"1\" class=\"dataframe\">\n",
       "  <thead>\n",
       "    <tr style=\"text-align: right;\">\n",
       "      <th></th>\n",
       "      <th>cust_id</th>\n",
       "      <th>1</th>\n",
       "    </tr>\n",
       "  </thead>\n",
       "  <tbody>\n",
       "    <tr>\n",
       "      <th>0</th>\n",
       "      <td>3500</td>\n",
       "      <td>1.0</td>\n",
       "    </tr>\n",
       "    <tr>\n",
       "      <th>1</th>\n",
       "      <td>3501</td>\n",
       "      <td>0.0</td>\n",
       "    </tr>\n",
       "    <tr>\n",
       "      <th>2</th>\n",
       "      <td>3502</td>\n",
       "      <td>0.0</td>\n",
       "    </tr>\n",
       "    <tr>\n",
       "      <th>3</th>\n",
       "      <td>3503</td>\n",
       "      <td>1.0</td>\n",
       "    </tr>\n",
       "    <tr>\n",
       "      <th>4</th>\n",
       "      <td>3504</td>\n",
       "      <td>0.0</td>\n",
       "    </tr>\n",
       "    <tr>\n",
       "      <th>...</th>\n",
       "      <td>...</td>\n",
       "      <td>...</td>\n",
       "    </tr>\n",
       "    <tr>\n",
       "      <th>2477</th>\n",
       "      <td>5977</td>\n",
       "      <td>1.0</td>\n",
       "    </tr>\n",
       "    <tr>\n",
       "      <th>2478</th>\n",
       "      <td>5978</td>\n",
       "      <td>1.0</td>\n",
       "    </tr>\n",
       "    <tr>\n",
       "      <th>2479</th>\n",
       "      <td>5979</td>\n",
       "      <td>1.0</td>\n",
       "    </tr>\n",
       "    <tr>\n",
       "      <th>2480</th>\n",
       "      <td>5980</td>\n",
       "      <td>0.0</td>\n",
       "    </tr>\n",
       "    <tr>\n",
       "      <th>2481</th>\n",
       "      <td>5981</td>\n",
       "      <td>1.0</td>\n",
       "    </tr>\n",
       "  </tbody>\n",
       "</table>\n",
       "<p>2482 rows × 2 columns</p>\n",
       "</div>"
      ],
      "text/plain": [
       "      cust_id    1\n",
       "0        3500  1.0\n",
       "1        3501  0.0\n",
       "2        3502  0.0\n",
       "3        3503  1.0\n",
       "4        3504  0.0\n",
       "...       ...  ...\n",
       "2477     5977  1.0\n",
       "2478     5978  1.0\n",
       "2479     5979  1.0\n",
       "2480     5980  0.0\n",
       "2481     5981  1.0\n",
       "\n",
       "[2482 rows x 2 columns]"
      ]
     },
     "execution_count": 47,
     "metadata": {},
     "output_type": "execute_result"
    }
   ],
   "source": [
    "# x_test_cust_id 변수와 result 변수를 세로 방향으로 붙이기\n",
    "pd.concat([x_test_cust_id, result], axis=1)"
   ]
  },
  {
   "cell_type": "code",
   "execution_count": 48,
   "id": "4c393f7b-2ace-41d1-9d2a-0851f9f616f5",
   "metadata": {},
   "outputs": [
    {
     "data": {
      "text/html": [
       "<div>\n",
       "<style scoped>\n",
       "    .dataframe tbody tr th:only-of-type {\n",
       "        vertical-align: middle;\n",
       "    }\n",
       "\n",
       "    .dataframe tbody tr th {\n",
       "        vertical-align: top;\n",
       "    }\n",
       "\n",
       "    .dataframe thead th {\n",
       "        text-align: right;\n",
       "    }\n",
       "</style>\n",
       "<table border=\"1\" class=\"dataframe\">\n",
       "  <thead>\n",
       "    <tr style=\"text-align: right;\">\n",
       "      <th></th>\n",
       "      <th>cust_id</th>\n",
       "      <th>gender</th>\n",
       "    </tr>\n",
       "  </thead>\n",
       "  <tbody>\n",
       "    <tr>\n",
       "      <th>0</th>\n",
       "      <td>3500</td>\n",
       "      <td>1.0</td>\n",
       "    </tr>\n",
       "    <tr>\n",
       "      <th>1</th>\n",
       "      <td>3501</td>\n",
       "      <td>0.0</td>\n",
       "    </tr>\n",
       "    <tr>\n",
       "      <th>2</th>\n",
       "      <td>3502</td>\n",
       "      <td>0.0</td>\n",
       "    </tr>\n",
       "    <tr>\n",
       "      <th>3</th>\n",
       "      <td>3503</td>\n",
       "      <td>1.0</td>\n",
       "    </tr>\n",
       "    <tr>\n",
       "      <th>4</th>\n",
       "      <td>3504</td>\n",
       "      <td>0.0</td>\n",
       "    </tr>\n",
       "    <tr>\n",
       "      <th>...</th>\n",
       "      <td>...</td>\n",
       "      <td>...</td>\n",
       "    </tr>\n",
       "    <tr>\n",
       "      <th>2477</th>\n",
       "      <td>5977</td>\n",
       "      <td>1.0</td>\n",
       "    </tr>\n",
       "    <tr>\n",
       "      <th>2478</th>\n",
       "      <td>5978</td>\n",
       "      <td>1.0</td>\n",
       "    </tr>\n",
       "    <tr>\n",
       "      <th>2479</th>\n",
       "      <td>5979</td>\n",
       "      <td>1.0</td>\n",
       "    </tr>\n",
       "    <tr>\n",
       "      <th>2480</th>\n",
       "      <td>5980</td>\n",
       "      <td>0.0</td>\n",
       "    </tr>\n",
       "    <tr>\n",
       "      <th>2481</th>\n",
       "      <td>5981</td>\n",
       "      <td>1.0</td>\n",
       "    </tr>\n",
       "  </tbody>\n",
       "</table>\n",
       "<p>2482 rows × 2 columns</p>\n",
       "</div>"
      ],
      "text/plain": [
       "      cust_id  gender\n",
       "0        3500     1.0\n",
       "1        3501     0.0\n",
       "2        3502     0.0\n",
       "3        3503     1.0\n",
       "4        3504     0.0\n",
       "...       ...     ...\n",
       "2477     5977     1.0\n",
       "2478     5978     1.0\n",
       "2479     5979     1.0\n",
       "2480     5980     0.0\n",
       "2481     5981     1.0\n",
       "\n",
       "[2482 rows x 2 columns]"
      ]
     },
     "execution_count": 48,
     "metadata": {},
     "output_type": "execute_result"
    }
   ],
   "source": [
    "# '1' 컬럼명을 'gender' 컬럼명으로 변환하여 다시 결과를 확인하기\n",
    "pd.concat([x_test_cust_id, result], axis=1).rename(columns={1: 'gender'})"
   ]
  },
  {
   "cell_type": "code",
   "execution_count": 49,
   "id": "65310f5e-386f-443c-b6de-10a36c797bb9",
   "metadata": {},
   "outputs": [],
   "source": [
    "# 앞의 출력 결과를 final 변수에 저장하기\n",
    "final = pd.concat([x_test_cust_id, result], axis=1).rename(columns={1: 'gender'})\n",
    "\n",
    "# final 변수를 data 디렉토리 하위에 12345.csv 이름으로 저장하기\n",
    "final.to_csv('data/12345.csv', index=False)"
   ]
  },
  {
   "cell_type": "markdown",
   "id": "d217d20f-f213-409f-ad3a-cda7cd83c817",
   "metadata": {},
   "source": [
    "***`index=False` 필수***"
   ]
  },
  {
   "cell_type": "code",
   "execution_count": 50,
   "id": "1ae664bf-7fc2-4e26-b3eb-ded87bb9fe8e",
   "metadata": {},
   "outputs": [
    {
     "name": "stdout",
     "output_type": "stream",
     "text": [
      "      cust_id  gender\n",
      "0        3500     1.0\n",
      "1        3501     0.0\n",
      "2        3502     0.0\n",
      "3        3503     1.0\n",
      "4        3504     0.0\n",
      "...       ...     ...\n",
      "2477     5977     1.0\n",
      "2478     5978     1.0\n",
      "2479     5979     1.0\n",
      "2480     5980     0.0\n",
      "2481     5981     1.0\n",
      "\n",
      "[2482 rows x 2 columns]\n"
     ]
    }
   ],
   "source": [
    "# data 디렉토리 하위의 12345.csv 파일을 final 변수에 저장하기\n",
    "final = pd.read_csv('data/12345.csv')\n",
    "\n",
    "# final 변수의 데이터 확인하기\n",
    "print(final)"
   ]
  },
  {
   "cell_type": "code",
   "execution_count": 51,
   "id": "799d6f42-4907-4aa7-ab26-520d6ff01888",
   "metadata": {},
   "outputs": [
    {
     "name": "stdout",
     "output_type": "stream",
     "text": [
      "      cust_id  gender\n",
      "0        3500     1.0\n",
      "1        3501     0.0\n",
      "2        3502     0.0\n",
      "3        3503     1.0\n",
      "4        3504     0.0\n",
      "...       ...     ...\n",
      "2477     5977     1.0\n",
      "2478     5978     1.0\n",
      "2479     5979     1.0\n",
      "2480     5980     0.0\n",
      "2481     5981     1.0\n",
      "\n",
      "[2482 rows x 2 columns]\n"
     ]
    }
   ],
   "source": [
    "### 최종 제출 코드 ###\n",
    "\n",
    "# 라이브러리와 파일 읽기\n",
    "import pandas as pd\n",
    "x_train = pd.read_csv('data/x_train.csv', encoding='cp949')\n",
    "x_test = pd.read_csv('data/x_test.csv', encoding='cp949')\n",
    "y_train = pd.read_csv('data/y_train.csv', encoding='cp949')\n",
    "\n",
    "# 테스트 데이터의 cust_id 저장하기\n",
    "x_test_cust_id = x_test['cust_id']\n",
    "\n",
    "# cust_id 컬럼 삭제하기\n",
    "x_train = x_train.drop(columns=['cust_id'])\n",
    "y_train = y_train.drop(columns=['cust_id'])\n",
    "x_test = x_test.drop(columns=['cust_id'])\n",
    "\n",
    "# 결측치 처리하기\n",
    "x_train['환불금액'] = x_train['환불금액'].fillna(0)\n",
    "x_test['환불금액'] = x_test['환불금액'].fillna(0)\n",
    "\n",
    "# 라벨 인코딩 수행하기\n",
    "from sklearn.preprocessing import LabelEncoder\n",
    "encoder = LabelEncoder()\n",
    "x_train['주구매상품'] = encoder.fit_transform(x_train['주구매상품'])\n",
    "x_test['주구매상품'] = encoder.fit_transform(x_test['주구매상품'])\n",
    "x_train['주구매지점'] = encoder.fit_transform(x_train['주구매지점'])\n",
    "x_test['주구매지점'] = encoder.fit_transform(x_test['주구매지점'])\n",
    "\n",
    "# 파생변수 만들기\n",
    "condition = x_train['환불금액']>0\n",
    "x_train.loc[condition, '환불금액_new'] = 1\n",
    "x_train.loc[~condition, '환불금액_new'] = 0\n",
    "x_train = x_train.drop(columns=['환불금액'])\n",
    "condition = x_test['환불금액']>0\n",
    "x_test.loc[condition, '환불금액_new'] = 1\n",
    "x_test.loc[~condition, '환불금액_new'] = 0\n",
    "x_test = x_test.drop(columns=['환불금액'])\n",
    "\n",
    "# 데이터 스케일링: 표준화 크기로 변환하기\n",
    "from sklearn.preprocessing import StandardScaler\n",
    "scaler = StandardScaler()\n",
    "x_train = pd.DataFrame(scaler.fit_transform(x_train), columns=x_train.columns)\n",
    "x_test = pd.DataFrame(scaler.transform(x_test), columns=x_test.columns)\n",
    "\n",
    "# 불필요한 컬럼 삭제하기\n",
    "x_train = x_train.drop(columns=['최대구매액'])\n",
    "x_test = x_test.drop(columns=['최대구매액'])\n",
    "\n",
    "# # 학습용/검증용 데이터로 분리하기\n",
    "# from sklearn.model_selection import train_test_split\n",
    "# X_TRAIN, X_TEST, Y_TRAIN, Y_TEST = train_test_split(x_train, y_train, test_size=0.3, random_state=10)\n",
    "\n",
    "# 모델 학습 및 평가하기\n",
    "from sklearn.tree import DecisionTreeClassifier\n",
    "# model = DecisionTreeClassifier(max_depth=10, criterion='entropy', random_state=10)\n",
    "model = DecisionTreeClassifier(random_state=10)\n",
    "# model.fit(X_TRAIN, Y_TRAIN)\n",
    "# y_test_proba = model.predict_proba(X_TEST)\n",
    "model.fit(x_train, y_train)\n",
    "y_test_proba = model.predict_proba(x_test)\n",
    "\n",
    "# 결과 제출하기\n",
    "result = pd.DataFrame(y_test_proba)[1]\n",
    "final = pd.concat([x_test_cust_id, result], axis=1).rename(columns={1: 'gender'})\n",
    "final.to_csv('data/12345.csv', index=False)\n",
    "\n",
    "# 제출된 파일의 정상 여부를 확인하기\n",
    "final = pd.read_csv('data/12345.csv')\n",
    "print(final)"
   ]
  },
  {
   "cell_type": "code",
   "execution_count": null,
   "id": "ac7cd80e-5799-4e90-ae39-7c48a32e853d",
   "metadata": {},
   "outputs": [],
   "source": []
  }
 ],
 "metadata": {
  "kernelspec": {
   "display_name": "Python Multi",
   "language": "python",
   "name": "multi"
  },
  "language_info": {
   "codemirror_mode": {
    "name": "ipython",
    "version": 3
   },
   "file_extension": ".py",
   "mimetype": "text/x-python",
   "name": "python",
   "nbconvert_exporter": "python",
   "pygments_lexer": "ipython3",
   "version": "3.9.5"
  }
 },
 "nbformat": 4,
 "nbformat_minor": 5
}
