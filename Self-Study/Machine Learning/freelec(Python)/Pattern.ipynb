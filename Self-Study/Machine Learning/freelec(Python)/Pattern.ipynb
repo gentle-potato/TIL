{
 "cells": [
  {
   "cell_type": "markdown",
   "id": "87fc936d-366b-4f3a-a5d5-65f7da63a5bb",
   "metadata": {},
   "source": [
    "### **일괄로 패키지 가져오기**"
   ]
  },
  {
   "cell_type": "code",
   "execution_count": 1,
   "id": "8ff2a1e8-eb41-4868-b735-7c7b387c1abd",
   "metadata": {},
   "outputs": [],
   "source": [
    "import pandas as pd\n",
    "from sklearn.preprocessing import LabelEncoder\n",
    "from sklearn.preprocessing import StandardScaler, MinMaxScaler, RobustScaler\n",
    "from sklearn.model_selection import train_test_split\n",
    "from xgboost import XGBClassifier, XGBRegressor\n",
    "from sklearn.metrics import r2_score, roc_auc_score, f1_score"
   ]
  },
  {
   "cell_type": "markdown",
   "id": "0a475ce2-0e25-4eae-8ce2-983fcd22c6bb",
   "metadata": {},
   "source": [
    "### **파일 읽기**"
   ]
  },
  {
   "cell_type": "code",
   "execution_count": 2,
   "id": "9819de6e-2cb8-4348-b5e1-3a9222290886",
   "metadata": {},
   "outputs": [],
   "source": [
    "# pd.read_csv()"
   ]
  },
  {
   "cell_type": "markdown",
   "id": "fd0916cb-de6b-46fe-bd6e-279576280237",
   "metadata": {},
   "source": [
    "### **전처리**"
   ]
  },
  {
   "cell_type": "code",
   "execution_count": 3,
   "id": "0c03873d-c2ff-4896-98a9-38fea1782d94",
   "metadata": {},
   "outputs": [],
   "source": [
    "# x_train = x_train.drop(columns=[])    # 컬럼 삭제\n",
    "# x_train[].fillna()                    # 결측치 처리\n",
    "# x_train[].replace().replace()         # 값 교체, 결측치 처리\n",
    "# pd.get_dummies()                      # 원-핫 인코딩\n",
    "# scaler.fit_trainsform()               # 데이터 스케일링 수행\n",
    "# encoder.fit_trasform()                # 인코딩 수행\n",
    "# pd.concat()                           # 데이터 결함"
   ]
  },
  {
   "cell_type": "markdown",
   "id": "8b06b4fa-4fc2-4366-9972-549a9532603b",
   "metadata": {},
   "source": [
    "### **데이터 분리**"
   ]
  },
  {
   "cell_type": "code",
   "execution_count": 4,
   "id": "40ea68ce-a42b-437d-82b9-a758782a797f",
   "metadata": {},
   "outputs": [],
   "source": [
    "# X_TRAIN, X_TEST, Y_TRAIN, Y_TEST = train_test_split(x_train, y_train, test_size=0.2)"
   ]
  },
  {
   "cell_type": "markdown",
   "id": "72196735-89cb-4eb5-be22-bd06ff34af6f",
   "metadata": {},
   "source": [
    "### **모델 생성**"
   ]
  },
  {
   "cell_type": "code",
   "execution_count": 5,
   "id": "e2d18f47-7a23-4b70-829a-83870c152061",
   "metadata": {},
   "outputs": [],
   "source": [
    "model = XGBClassifier(eval_metric='error', random_state=10)"
   ]
  },
  {
   "cell_type": "markdown",
   "id": "db372395-7c41-4d47-8629-0ebccc2b2336",
   "metadata": {},
   "source": [
    "### **모델 학습**"
   ]
  },
  {
   "cell_type": "code",
   "execution_count": 6,
   "id": "f1a039b3-2f2a-4fba-901b-982f4059fe26",
   "metadata": {},
   "outputs": [],
   "source": [
    "# model.fit(X_TRIAN, Y_TRAIN)"
   ]
  },
  {
   "cell_type": "markdown",
   "id": "e5fdf869-15ca-492c-8817-1fbc49bec543",
   "metadata": {},
   "source": [
    "### **값 예측**"
   ]
  },
  {
   "cell_type": "code",
   "execution_count": 7,
   "id": "d84d88db-2cb6-4bd8-897b-b605b94dc5c8",
   "metadata": {},
   "outputs": [],
   "source": [
    "# y_test_predicted = pd.DataFrame(model.predict(x_test))"
   ]
  },
  {
   "cell_type": "markdown",
   "id": "1353d8da-c00b-440e-a487-831622e29fa7",
   "metadata": {},
   "source": [
    "### **파일 저장**"
   ]
  },
  {
   "cell_type": "code",
   "execution_count": 8,
   "id": "b234205d-b5b5-475a-9fb1-78d5c42ab8fd",
   "metadata": {},
   "outputs": [],
   "source": [
    "# final = pd.concat([x_test_id, y_test_predicted], axis=1)\n",
    "# final.to_csv('data/수험번호.csv', index=False)"
   ]
  },
  {
   "cell_type": "code",
   "execution_count": null,
   "id": "e0e824c6-847c-4605-88df-4936b9159dff",
   "metadata": {},
   "outputs": [],
   "source": []
  }
 ],
 "metadata": {
  "kernelspec": {
   "display_name": "Python Multi",
   "language": "python",
   "name": "multi"
  },
  "language_info": {
   "codemirror_mode": {
    "name": "ipython",
    "version": 3
   },
   "file_extension": ".py",
   "mimetype": "text/x-python",
   "name": "python",
   "nbconvert_exporter": "python",
   "pygments_lexer": "ipython3",
   "version": "3.9.5"
  }
 },
 "nbformat": 4,
 "nbformat_minor": 5
}
