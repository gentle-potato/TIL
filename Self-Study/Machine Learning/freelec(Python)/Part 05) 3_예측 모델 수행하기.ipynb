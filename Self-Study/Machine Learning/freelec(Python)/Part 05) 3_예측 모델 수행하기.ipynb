{
 "cells": [
  {
   "cell_type": "markdown",
   "id": "b4521468-0bf1-4d60-8d38-4eeabde78596",
   "metadata": {},
   "source": [
    "# **Part 05) 파이썬으로 초보 분석가 탈출하기**"
   ]
  },
  {
   "cell_type": "markdown",
   "id": "b98e3dfb-16fa-4bf6-abfb-35668ae0e313",
   "metadata": {},
   "source": [
    "## **3_예측 모델 수행하기**"
   ]
  },
  {
   "cell_type": "markdown",
   "id": "84c2f4c7-7f7d-4f00-bf62-06e64e6dbf65",
   "metadata": {},
   "source": [
    "### **3.1 데이터 탐색하기**"
   ]
  },
  {
   "cell_type": "markdown",
   "id": "9058d871-2d22-4413-b895-848579dc9644",
   "metadata": {},
   "source": [
    "#### **데이터 가져오기**"
   ]
  },
  {
   "cell_type": "code",
   "execution_count": 1,
   "id": "0de6623c-e8fe-4edb-a903-862967273ee8",
   "metadata": {},
   "outputs": [],
   "source": [
    "# pandas 라이브러리 가져오기\n",
    "import pandas as pd\n",
    "\n",
    "# 주어진 데이터 파일을 모두 읽어서, 각 DataFrame 변수에 저장하기\n",
    "x_train = pd.read_csv('data/bike_x_train.csv', encoding='cp949')\n",
    "x_test = pd.read_csv('data/bike_x_test.csv', encoding='cp949')\n",
    "y_train = pd.read_csv('data/bike_y_train.csv', encoding='cp949')\n",
    "y_train = y_train.rename(columns={'癤풼atetime': 'datetime'})"
   ]
  },
  {
   "cell_type": "code",
   "execution_count": 2,
   "id": "b9a1e462-d12b-444a-8aa5-beb2ff7a032b",
   "metadata": {},
   "outputs": [
    {
     "name": "stdout",
     "output_type": "stream",
     "text": [
      "          datetime  계절  공휴일  근무일  날씨    온도    체감온도  습도   풍속\n",
      "0  2011-01-01 0:00   1    0    0   1  9.84  14.395  81  0.0\n",
      "1  2011-01-01 1:00   1    0    0   1  9.02  13.635  80  0.0\n",
      "2  2011-01-01 2:00   1    0    0   1  9.02  13.635  80  0.0\n",
      "          datetime  계절  공휴일  근무일  날씨     온도    체감온도  습도       풍속\n",
      "0  2011-01-20 0:00   1    0    1   1  10.66  11.365  56  26.0027\n",
      "1  2011-01-20 1:00   1    0    1   1  10.66  13.635  56   0.0000\n",
      "2  2011-01-20 2:00   1    0    1   1  10.66  13.635  56   0.0000\n",
      "          datetime  count\n",
      "0  2011-01-01 0:00     16\n",
      "1  2011-01-01 1:00     40\n",
      "2  2011-01-01 2:00     32\n",
      "3  2011-01-01 3:00     13\n",
      "4  2011-01-01 4:00      1\n"
     ]
    }
   ],
   "source": [
    "# 독립변수인 x_train, x_test의 상위 3개의 행 확인하기\n",
    "print(x_train.head(3))\n",
    "print(x_test.head(3))\n",
    "\n",
    "# 종속변수인 y_train의 상위 5개의 행 확인하기\n",
    "print(y_train.head())"
   ]
  },
  {
   "cell_type": "markdown",
   "id": "26b413ad-7a33-45bf-ba34-705d34d1071c",
   "metadata": {},
   "source": [
    "#### **행/열 확인하기**"
   ]
  },
  {
   "cell_type": "code",
   "execution_count": 3,
   "id": "dc8a53fa-b52c-4351-88a4-432045989612",
   "metadata": {},
   "outputs": [
    {
     "name": "stdout",
     "output_type": "stream",
     "text": [
      "(10886, 9)\n",
      "(6493, 9)\n",
      "(10886, 2)\n"
     ]
    }
   ],
   "source": [
    "# 각 데이터 세트의 행과 열의 개수를 확인하기\n",
    "print(x_train.shape)\n",
    "print(x_test.shape)\n",
    "print(y_train.shape)"
   ]
  },
  {
   "cell_type": "markdown",
   "id": "0ad7c743-9465-42fe-b025-3b1c43360251",
   "metadata": {},
   "source": [
    "#### **요약 정보 확인하기**"
   ]
  },
  {
   "cell_type": "code",
   "execution_count": 4,
   "id": "d512ffe4-d136-4cc0-90ae-2c87c894cca7",
   "metadata": {},
   "outputs": [
    {
     "name": "stdout",
     "output_type": "stream",
     "text": [
      "<class 'pandas.core.frame.DataFrame'>\n",
      "RangeIndex: 10886 entries, 0 to 10885\n",
      "Data columns (total 9 columns):\n",
      " #   Column    Non-Null Count  Dtype  \n",
      "---  ------    --------------  -----  \n",
      " 0   datetime  10886 non-null  object \n",
      " 1   계절        10886 non-null  int64  \n",
      " 2   공휴일       10886 non-null  int64  \n",
      " 3   근무일       10886 non-null  int64  \n",
      " 4   날씨        10886 non-null  int64  \n",
      " 5   온도        10886 non-null  float64\n",
      " 6   체감온도      10886 non-null  float64\n",
      " 7   습도        10886 non-null  int64  \n",
      " 8   풍속        10886 non-null  float64\n",
      "dtypes: float64(3), int64(5), object(1)\n",
      "memory usage: 765.5+ KB\n",
      "None\n"
     ]
    }
   ],
   "source": [
    "# x_train 세트의 요약 정보 확인하기\n",
    "print(x_train.info())"
   ]
  },
  {
   "cell_type": "markdown",
   "id": "ca059271-bd65-4347-9c25-c1f915f50c27",
   "metadata": {},
   "source": [
    "#### **기초통계량 확인하기**"
   ]
  },
  {
   "cell_type": "code",
   "execution_count": 5,
   "id": "44124d5e-57e7-4bc9-9d0a-9af78118c5a8",
   "metadata": {},
   "outputs": [
    {
     "name": "stdout",
     "output_type": "stream",
     "text": [
      "        count       mean        std   min      25%     50%      75%       max\n",
      "계절    10886.0   2.506614   1.116174  1.00   2.0000   3.000   4.0000    4.0000\n",
      "공휴일   10886.0   0.028569   0.166599  0.00   0.0000   0.000   0.0000    1.0000\n",
      "근무일   10886.0   0.680875   0.466159  0.00   0.0000   1.000   1.0000    1.0000\n",
      "날씨    10886.0   1.418427   0.633839  1.00   1.0000   1.000   2.0000    4.0000\n",
      "온도    10886.0  20.230860   7.791590  0.82  13.9400  20.500  26.2400   41.0000\n",
      "체감온도  10886.0  23.655084   8.474601  0.76  16.6650  24.240  31.0600   45.4550\n",
      "습도    10886.0  61.886460  19.245033  0.00  47.0000  62.000  77.0000  100.0000\n",
      "풍속    10886.0  12.799395   8.164537  0.00   7.0015  12.998  16.9979   56.9969\n"
     ]
    }
   ],
   "source": [
    "print(x_train.describe().T)"
   ]
  },
  {
   "cell_type": "markdown",
   "id": "1992bb39-fb50-4f4e-9142-3118827c7aa4",
   "metadata": {},
   "source": [
    "#### **독립변수와 종속변수의 관계 확인하기**"
   ]
  },
  {
   "cell_type": "code",
   "execution_count": 6,
   "id": "8a04e16b-82bc-436e-a5bf-43279120e871",
   "metadata": {},
   "outputs": [],
   "source": [
    "# x_train, y_train을 세로 방향으로 통합한 후, data 변수에 저장하기\n",
    "data = pd.concat([x_train, y_train], axis=1)"
   ]
  },
  {
   "cell_type": "code",
   "execution_count": 7,
   "id": "3c03e5bd-97ac-4a4c-a93a-861c7d55ba0e",
   "metadata": {},
   "outputs": [
    {
     "name": "stdout",
     "output_type": "stream",
     "text": [
      "계절\n",
      "1    312498\n",
      "2    588282\n",
      "3    640662\n",
      "4    544034\n",
      "Name: count, dtype: int64\n"
     ]
    }
   ],
   "source": [
    "# '계절' 컬럼에 따른 'count'(자전거 대여량) 합계를 구하기\n",
    "# 1(봄), 2(여름), 3(가을), 4(겨울)\n",
    "print(data.groupby(['계절'])['count'].sum())"
   ]
  },
  {
   "cell_type": "markdown",
   "id": "557c8a53-db4f-4d26-bccd-353dc532cb08",
   "metadata": {},
   "source": [
    "가을의 자전거 대여량이 봄의 자전거 대여량에 비해 2배임을 확인"
   ]
  },
  {
   "cell_type": "code",
   "execution_count": 8,
   "id": "3e78292a-f0ac-4a17-bf3e-c56d79533666",
   "metadata": {},
   "outputs": [
    {
     "name": "stdout",
     "output_type": "stream",
     "text": [
      "공휴일\n",
      "0    2027668\n",
      "1      57808\n",
      "Name: count, dtype: int64\n"
     ]
    }
   ],
   "source": [
    "# '공휴일' 컬럼에 따른 'count'(자전거 대여량) 합계를 구하기\n",
    "# 0(공휴일 아님), 1(공휴일)\n",
    "print(data.groupby(['공휴일'])['count'].sum())"
   ]
  },
  {
   "cell_type": "markdown",
   "id": "babe8d7b-453f-46ec-bf11-24502a203020",
   "metadata": {},
   "source": [
    "공휴일이 아닌 날의 자전거 대여량은 공휴일의 자전거 대여량에 비해 약 40배"
   ]
  },
  {
   "cell_type": "code",
   "execution_count": 9,
   "id": "2baeb37d-434d-4cd0-b662-1d4baf4e32b0",
   "metadata": {},
   "outputs": [
    {
     "name": "stdout",
     "output_type": "stream",
     "text": [
      "근무일\n",
      "0     654872\n",
      "1    1430604\n",
      "Name: count, dtype: int64\n"
     ]
    }
   ],
   "source": [
    "# '근무일' 컬럼에 따른 'count'(자전거 대여량) 합계를 구하기\n",
    "# 0(근무일 아님), 1(근무일)\n",
    "print(data.groupby(['근무일'])['count'].sum())"
   ]
  },
  {
   "cell_type": "markdown",
   "id": "ef001ce5-a967-4a90-aa23-f4926e4fe8d9",
   "metadata": {},
   "source": [
    "근무일의 자전거 대여량은 근무일이 아닌 날의 자전거 대여량에 비해 약 2배를 넘어섬"
   ]
  },
  {
   "cell_type": "code",
   "execution_count": 10,
   "id": "adb5d224-35d2-40a6-ad07-770bedf1e789",
   "metadata": {},
   "outputs": [
    {
     "name": "stdout",
     "output_type": "stream",
     "text": [
      "날씨\n",
      "1    1476063\n",
      "2     507160\n",
      "3     102089\n",
      "4        164\n",
      "Name: count, dtype: int64\n"
     ]
    }
   ],
   "source": [
    "# '날씨' 컬럼에 따른 'count'(자전거 대여량) 합계를 구하기\n",
    "# 1(아주 깨끗한 날씨)\n",
    "# 2(안개와 구름이 있는 날씨)\n",
    "# 3(조금의 눈과 비 또는 조금의 천둥이 치는 날씨)\n",
    "# 4(아주 많은 비 또는 우박이 내리는 날씨)\n",
    "print(data.groupby(['날씨'])['count'].sum())"
   ]
  },
  {
   "cell_type": "markdown",
   "id": "cd7ba67b-d560-48a5-a2bd-f364c6f3b042",
   "metadata": {},
   "source": [
    "날씨가 좋을수록 자전거 대여량이 많아짐"
   ]
  },
  {
   "cell_type": "markdown",
   "id": "c6665eeb-cf83-4e60-9b5a-330e77708cd8",
   "metadata": {},
   "source": [
    "### **3.2 전처리하기**"
   ]
  },
  {
   "cell_type": "markdown",
   "id": "b5124943-946f-4350-8026-2ba77e82312d",
   "metadata": {},
   "source": [
    "#### **파생변수 만들기**"
   ]
  },
  {
   "cell_type": "markdown",
   "id": "1de5a485-23f5-4295-9143-fa75d27217a7",
   "metadata": {},
   "source": [
    "`pandas`라이브러리의 ***`to_datetime()`***"
   ]
  },
  {
   "cell_type": "code",
   "execution_count": 11,
   "id": "6c00da29-9f3f-4935-9ab2-0713cd180906",
   "metadata": {},
   "outputs": [],
   "source": [
    "# 'datetime' 컬럼의 데이터 타입을 날짜 타입(datetime)으로 변환하기\n",
    "x_train['datetime'] = pd.to_datetime(x_train['datetime'])"
   ]
  },
  {
   "cell_type": "markdown",
   "id": "f8fd0ff2-4d52-4aef-b06f-ca4abc251a92",
   "metadata": {},
   "source": [
    "- **`dt.year`**"
   ]
  },
  {
   "cell_type": "code",
   "execution_count": 12,
   "id": "69090991-5acd-4b3b-8059-5b93821de199",
   "metadata": {},
   "outputs": [
    {
     "data": {
      "text/plain": [
       "array([2011, 2012], dtype=int64)"
      ]
     },
     "execution_count": 12,
     "metadata": {},
     "output_type": "execute_result"
    }
   ],
   "source": [
    "# x_train의 'datetime' 컬럼에서 연도 데이터를 추출하여 'year' 컬럼에 저장하기\n",
    "x_train['year'] = x_train['datetime'].dt.year\n",
    "\n",
    "# x_train의 'year' 컬럼에서 중복 제거한 값을 확인하기\n",
    "x_train['year'].unique()"
   ]
  },
  {
   "cell_type": "markdown",
   "id": "92547b45-4b5f-48e2-a4c8-ceca91b1220c",
   "metadata": {},
   "source": [
    "- **`dt.month`**"
   ]
  },
  {
   "cell_type": "code",
   "execution_count": 13,
   "id": "465159cb-e9a8-4729-85b3-7e246ff7d116",
   "metadata": {},
   "outputs": [
    {
     "data": {
      "text/plain": [
       "array([ 1,  2,  3,  4,  5,  6,  7,  8,  9, 10, 11, 12], dtype=int64)"
      ]
     },
     "execution_count": 13,
     "metadata": {},
     "output_type": "execute_result"
    }
   ],
   "source": [
    "# x_train의 'datetime' 컬럼에서 연도 데이터를 추출하여 'year' 컬럼에 저장하기\n",
    "x_train['month'] = x_train['datetime'].dt.month\n",
    "\n",
    "# x_train의 'month' 컬럼에서 중복 제거한 값을 확인하기\n",
    "x_train['month'].unique()"
   ]
  },
  {
   "cell_type": "markdown",
   "id": "8100ec45-fc94-4ed8-a884-6c9c65e3d89e",
   "metadata": {},
   "source": [
    "- **`dt.day`**"
   ]
  },
  {
   "cell_type": "code",
   "execution_count": 14,
   "id": "93cf6e67-44f3-4fed-a282-3496a8b7f266",
   "metadata": {},
   "outputs": [
    {
     "data": {
      "text/plain": [
       "array([ 1,  2,  3,  4,  5,  6,  7,  8,  9, 10, 11, 12, 13, 14, 15, 16, 17,\n",
       "       18, 19], dtype=int64)"
      ]
     },
     "execution_count": 14,
     "metadata": {},
     "output_type": "execute_result"
    }
   ],
   "source": [
    "# x_train의 'datetime' 컬럼에서 연도 데이터를 추출하여 'year' 컬럼에 저장하기\n",
    "x_train['day'] = x_train['datetime'].dt.day\n",
    "\n",
    "# x_train의 'day' 컬럼에서 중복 제거한 값을 확인하기\n",
    "x_train['day'].unique()"
   ]
  },
  {
   "cell_type": "markdown",
   "id": "9680dfd7-cf30-40c1-a9bf-c11aacbd2370",
   "metadata": {},
   "source": [
    "- **`dt.hour`**"
   ]
  },
  {
   "cell_type": "code",
   "execution_count": 15,
   "id": "1cbb8e58-e000-435c-a4c9-269e8f660980",
   "metadata": {},
   "outputs": [
    {
     "data": {
      "text/plain": [
       "array([ 0,  1,  2,  3,  4,  5,  6,  7,  8,  9, 10, 11, 12, 13, 14, 15, 16,\n",
       "       17, 18, 19, 20, 21, 22, 23], dtype=int64)"
      ]
     },
     "execution_count": 15,
     "metadata": {},
     "output_type": "execute_result"
    }
   ],
   "source": [
    "# x_train의 'datetime' 컬럼에서 연도 데이터를 추출하여 'year' 컬럼에 저장하기\n",
    "x_train['hour'] = x_train['datetime'].dt.hour\n",
    "\n",
    "# x_train의 'hour' 컬럼에서 중복 제거한 값을 확인하기\n",
    "x_train['hour'].unique()"
   ]
  },
  {
   "cell_type": "markdown",
   "id": "f65bcdb2-8af1-4c7a-a269-8f9b36fd49ac",
   "metadata": {},
   "source": [
    "- **`dt.dayofweek`**"
   ]
  },
  {
   "cell_type": "code",
   "execution_count": 16,
   "id": "999ad615-d328-4575-8dec-fb6820ffeb4a",
   "metadata": {},
   "outputs": [
    {
     "data": {
      "text/plain": [
       "array([5, 6, 0, 1, 2, 3, 4], dtype=int64)"
      ]
     },
     "execution_count": 16,
     "metadata": {},
     "output_type": "execute_result"
    }
   ],
   "source": [
    "# x_train의 'datetime' 컬럼에서 연도 데이터를 추출하여 'year' 컬럼에 저장하기\n",
    "x_train['dayofweek'] = x_train['datetime'].dt.dayofweek\n",
    "\n",
    "# x_train의 'dayofweek' 컬럼에서 중복 제거한 값을 확인하기\n",
    "x_train['dayofweek'].unique()"
   ]
  },
  {
   "cell_type": "code",
   "execution_count": 17,
   "id": "35166c17-2546-47b3-9717-a6ee06ef1a79",
   "metadata": {},
   "outputs": [],
   "source": [
    "# 파생변수가 포함된 독립변수와 종속변수를 통합한 data2 만들기\n",
    "data2 = pd.concat([x_train, y_train], axis=1)"
   ]
  },
  {
   "cell_type": "code",
   "execution_count": 18,
   "id": "a4c225a6-1988-44c9-91f7-6e65537b0730",
   "metadata": {},
   "outputs": [
    {
     "name": "stdout",
     "output_type": "stream",
     "text": [
      "year\n",
      "2011     781979\n",
      "2012    1303497\n",
      "Name: count, dtype: int64\n"
     ]
    }
   ],
   "source": [
    "# 'year' 컬럼에 따른 'count' 합계를 구하기\n",
    "print(data2.groupby(['year'])['count'].sum())"
   ]
  },
  {
   "cell_type": "code",
   "execution_count": 19,
   "id": "b08a2966-2f88-498b-98e1-5fd710b9671a",
   "metadata": {},
   "outputs": [
    {
     "name": "stdout",
     "output_type": "stream",
     "text": [
      "month\n",
      "1      79884\n",
      "2      99113\n",
      "3     133501\n",
      "4     167402\n",
      "5     200147\n",
      "6     220733\n",
      "7     214617\n",
      "8     213516\n",
      "9     212529\n",
      "10    207434\n",
      "11    176440\n",
      "12    160160\n",
      "Name: count, dtype: int64\n"
     ]
    }
   ],
   "source": [
    "# 'month' 컬럼에 따른 'count' 합계를 구하기\n",
    "print(data2.groupby(['month'])['count'].sum())"
   ]
  },
  {
   "cell_type": "markdown",
   "id": "780e5640-b23f-4159-8053-0148f2fec2b1",
   "metadata": {},
   "source": [
    "특정한 월의 대여량이 월등히 높지 않고 비슷한 값을 가지고 있으므로, 분석 대상에서 제외"
   ]
  },
  {
   "cell_type": "code",
   "execution_count": 20,
   "id": "2d33694b-f2e8-4e20-9efe-1e9410ebc1fc",
   "metadata": {},
   "outputs": [],
   "source": [
    "# x_train에서 'month' 컬럼을 삭제하기\n",
    "x_train = x_train.drop(columns=['month'])"
   ]
  },
  {
   "cell_type": "code",
   "execution_count": 21,
   "id": "c0887537-a3a9-44af-9d01-54d590c74817",
   "metadata": {},
   "outputs": [
    {
     "name": "stdout",
     "output_type": "stream",
     "text": [
      "day\n",
      "1     103692\n",
      "2     105381\n",
      "3     111561\n",
      "4     112335\n",
      "5     109115\n",
      "6     108600\n",
      "7     105486\n",
      "8     102770\n",
      "9     108041\n",
      "10    111645\n",
      "11    111146\n",
      "12    109257\n",
      "13    111448\n",
      "14    112406\n",
      "15    115677\n",
      "16    109837\n",
      "17    118255\n",
      "18    108437\n",
      "19    110387\n",
      "Name: count, dtype: int64\n"
     ]
    }
   ],
   "source": [
    "# 'day' 컬럼에 따른 'count' 합계를 구하기\n",
    "print(data2.groupby(['day'])['count'].sum())"
   ]
  },
  {
   "cell_type": "markdown",
   "id": "38511b09-f221-4ea6-a9e1-c23f8e21f72c",
   "metadata": {},
   "source": [
    "모두 비슷한 값을 유지하고 있으므로, 분석 대상에서 제외"
   ]
  },
  {
   "cell_type": "code",
   "execution_count": 22,
   "id": "010ebf8e-99d4-472c-8289-701902a6ba44",
   "metadata": {},
   "outputs": [],
   "source": [
    "# x_train에서 'day' 컬럼을 삭제하기\n",
    "x_train = x_train.drop(columns=['day'])"
   ]
  },
  {
   "cell_type": "code",
   "execution_count": 23,
   "id": "4ce1480b-7243-4322-aa4d-26807034bba6",
   "metadata": {},
   "outputs": [
    {
     "name": "stdout",
     "output_type": "stream",
     "text": [
      "hour\n",
      "0      25088\n",
      "1      15372\n",
      "2      10259\n",
      "3       5091\n",
      "4       2832\n",
      "5       8935\n",
      "6      34698\n",
      "7      96968\n",
      "8     165060\n",
      "9     100910\n",
      "10     79667\n",
      "11     95857\n",
      "12    116968\n",
      "13    117551\n",
      "14    111010\n",
      "15    115960\n",
      "16    144266\n",
      "17    213757\n",
      "18    196472\n",
      "19    143767\n",
      "20    104204\n",
      "21     79057\n",
      "22     60911\n",
      "23     40816\n",
      "Name: count, dtype: int64\n"
     ]
    }
   ],
   "source": [
    "# 'hour' 컬럼에 따른 'count' 합계를 구하기\n",
    "print(data2.groupby(['hour'])['count'].sum())"
   ]
  },
  {
   "cell_type": "code",
   "execution_count": 24,
   "id": "9c17e929-b3af-411f-975e-5cadf4fe235c",
   "metadata": {},
   "outputs": [
    {
     "name": "stdout",
     "output_type": "stream",
     "text": [
      "dayofweek\n",
      "0    295296\n",
      "1    291985\n",
      "2    292226\n",
      "3    306401\n",
      "4    302504\n",
      "5    311518\n",
      "6    285546\n",
      "Name: count, dtype: int64\n"
     ]
    }
   ],
   "source": [
    "# 'dayofweek' 컬럼에 따른 'count' 합계를 구하기\n",
    "print(data2.groupby(['dayofweek'])['count'].sum())"
   ]
  },
  {
   "cell_type": "markdown",
   "id": "e00edcd5-63b0-41b0-8584-de7f07be396c",
   "metadata": {},
   "source": [
    "각 요일별 대여량은 큰 차이가 없기 때문에, 분석 대상에서 제외"
   ]
  },
  {
   "cell_type": "code",
   "execution_count": 25,
   "id": "e2b3ba69-6311-41bd-866c-efa22368f95c",
   "metadata": {},
   "outputs": [],
   "source": [
    "# x_train에서 'dayofweek' 컬럼을 삭제하기\n",
    "x_train = x_train.drop(columns=['dayofweek'])"
   ]
  },
  {
   "cell_type": "markdown",
   "id": "7c71205c-5fe0-4f9f-92b1-7da7fd392011",
   "metadata": {},
   "source": [
    "**테스트 데이터인 x_test도** 값을 예측하는 과정에 사용하므로 <span style=\"color:red\">**동일한 전처리 과정을 적용**</span>해야 함-!!"
   ]
  },
  {
   "cell_type": "code",
   "execution_count": 26,
   "id": "b7d1f27d-0bfb-4a3b-835f-e5540f743427",
   "metadata": {},
   "outputs": [],
   "source": [
    "x_test['datetime'] = pd.to_datetime(x_test['datetime'])\n",
    "x_test['year'] = x_test['datetime'].dt.year\n",
    "x_test['hour'] = x_test['datetime'].dt.hour"
   ]
  },
  {
   "cell_type": "markdown",
   "id": "1a02e3a0-b29a-42a1-8e74-0b17e745ecd9",
   "metadata": {},
   "source": [
    "#### **불필요한 컬럼 삭제하기**"
   ]
  },
  {
   "cell_type": "markdown",
   "id": "7158de36-f204-4293-856c-eb07b88ab258",
   "metadata": {},
   "source": [
    "추후 테스트 데이터의 `datetime` 컬럼 값은 최종 제출하는 결과 파일에 포함되어야 하므로, `x_test`의 `datetime` 컬럼 값은 `x_test_datetime` 변수에 별도로 저장하여 관리"
   ]
  },
  {
   "cell_type": "code",
   "execution_count": 27,
   "id": "883febd9-6253-4392-a514-effd0b67111a",
   "metadata": {},
   "outputs": [],
   "source": [
    "# x_test의 datetime 컬럼 값은 x_test_datetime 변수에 저장하기\n",
    "x_test_datetime = x_test['datetime']"
   ]
  },
  {
   "cell_type": "code",
   "execution_count": 28,
   "id": "a4f70934-83da-4a06-9711-ec135e4527de",
   "metadata": {},
   "outputs": [],
   "source": [
    "# x_train, x_test에서 datetime 컬럼을 삭제하기\n",
    "x_train = x_train.drop(columns=['datetime'])\n",
    "x_test = x_test.drop(columns=['datetime'])\n",
    "y_train = y_train.drop(columns=['datetime'])"
   ]
  },
  {
   "cell_type": "markdown",
   "id": "b34ee314-9c03-456a-b5d4-f51d6cfee778",
   "metadata": {},
   "source": [
    "### **3.3 학습하고 평가하기**"
   ]
  },
  {
   "cell_type": "markdown",
   "id": "535b4f28-00d3-47dd-8d5d-5d85b7858452",
   "metadata": {},
   "source": [
    "#### **데이터 분리하기**"
   ]
  },
  {
   "cell_type": "code",
   "execution_count": 29,
   "id": "646d0452-fee6-4e50-bafe-6ccfa2d1e630",
   "metadata": {},
   "outputs": [
    {
     "name": "stdout",
     "output_type": "stream",
     "text": [
      "(8708, 10)\n",
      "(2178, 10)\n",
      "(8708, 1)\n",
      "(2178, 1)\n"
     ]
    }
   ],
   "source": [
    "# 데이터를 분리하기 위한 train_test_split 함수를 가져오기\n",
    "from sklearn.model_selection import train_test_split\n",
    "\n",
    "# 학습용과 검증용을 8:2로 분리햐여, 각 4개의 변수에 저장하기\n",
    "X_TRAIN, X_TEST, Y_TRAIN, Y_TEST = train_test_split(x_train, y_train, test_size=0.2, random_state=10)\n",
    "\n",
    "# 분리된 데이터의 행/열 구조를 확인하기\n",
    "print(X_TRAIN.shape)\n",
    "print(X_TEST.shape)\n",
    "print(Y_TRAIN.shape)\n",
    "print(Y_TEST.shape)"
   ]
  },
  {
   "cell_type": "markdown",
   "id": "e70817c0-5502-4585-b56b-0377423dc9d2",
   "metadata": {},
   "source": [
    "#### **데이터 학습 및 하이퍼 파라미터 튜닝하기**"
   ]
  },
  {
   "cell_type": "markdown",
   "id": "6d83df03-0962-47af-9a8f-0164face662b",
   "metadata": {},
   "source": [
    "**예측 모델에 주로 사용하는** ***<span style=\"color:orange\">XGBRegressor</span>***"
   ]
  },
  {
   "cell_type": "code",
   "execution_count": 30,
   "id": "0d11163c-97a2-4558-82e3-942094e06776",
   "metadata": {},
   "outputs": [],
   "source": [
    "# xgboost 라이브러리에서 XGBRegressor 모델 가져오기\n",
    "from xgboost import XGBRegressor"
   ]
  },
  {
   "cell_type": "code",
   "execution_count": 31,
   "id": "6d7fa299-2cb4-482f-a513-84e594955e51",
   "metadata": {},
   "outputs": [
    {
     "data": {
      "text/plain": [
       "XGBRegressor(base_score=0.5, booster='gbtree', colsample_bylevel=1,\n",
       "             colsample_bynode=1, colsample_bytree=1, gamma=0, gpu_id=-1,\n",
       "             importance_type='gain', interaction_constraints='',\n",
       "             learning_rate=0.300000012, max_delta_step=0, max_depth=3,\n",
       "             min_child_weight=1, missing=nan, monotone_constraints='()',\n",
       "             n_estimators=100, n_jobs=8, num_parallel_tree=1, random_state=10,\n",
       "             reg_alpha=0, reg_lambda=1, scale_pos_weight=1, subsample=1,\n",
       "             tree_method='exact', validate_parameters=1, verbosity=None)"
      ]
     },
     "execution_count": 31,
     "metadata": {},
     "output_type": "execute_result"
    }
   ],
   "source": [
    "# XGBRegressor로 수행할 첫 번째 모델을 만들고, 공부시키기\n",
    "model_1 = XGBRegressor(n_estimators=100, max_depth=3, random_state=10)\n",
    "model_1.fit(X_TRAIN, Y_TRAIN)"
   ]
  },
  {
   "cell_type": "code",
   "execution_count": 32,
   "id": "3230d692-527f-485e-ad4e-105376dca8a2",
   "metadata": {},
   "outputs": [
    {
     "data": {
      "text/plain": [
       "XGBRegressor(base_score=0.5, booster='gbtree', colsample_bylevel=1,\n",
       "             colsample_bynode=1, colsample_bytree=1, gamma=0, gpu_id=-1,\n",
       "             importance_type='gain', interaction_constraints='',\n",
       "             learning_rate=0.300000012, max_delta_step=0, max_depth=5,\n",
       "             min_child_weight=1, missing=nan, monotone_constraints='()',\n",
       "             n_estimators=200, n_jobs=8, num_parallel_tree=1, random_state=10,\n",
       "             reg_alpha=0, reg_lambda=1, scale_pos_weight=1, subsample=1,\n",
       "             tree_method='exact', validate_parameters=1, verbosity=None)"
      ]
     },
     "execution_count": 32,
     "metadata": {},
     "output_type": "execute_result"
    }
   ],
   "source": [
    "# XGBRegressor로 수행할 두 번째 모델을 만들고, 공부시키기\n",
    "model_2 = XGBRegressor(n_estimators=200, max_depth=5, random_state=10)\n",
    "model_2.fit(X_TRAIN, Y_TRAIN)"
   ]
  },
  {
   "cell_type": "markdown",
   "id": "d9ef4d8a-2d55-4fe5-97ba-f4e06015af82",
   "metadata": {},
   "source": [
    "#### **결과 예측하기**"
   ]
  },
  {
   "cell_type": "code",
   "execution_count": 33,
   "id": "8c4156ef-f524-4f0e-8547-ab8d96d2eda0",
   "metadata": {},
   "outputs": [],
   "source": [
    "# 학습이 완료된 모델을 통해 y_test 값을 예측하기: 최종 결과 제출용\n",
    "y_test_predicted_1 = pd.DataFrame(model_1.predict(x_test)).rename(columns={0: 'count'})"
   ]
  },
  {
   "cell_type": "markdown",
   "id": "43f54b4d-e2fb-48f0-903b-022a7e0b4a72",
   "metadata": {},
   "source": [
    "예측된 `y_test` 변수(`y_test_predicted_1`)는 **음수로 예측될 가능성이 있으므로, 음수는 모두 0으로 변경**"
   ]
  },
  {
   "cell_type": "code",
   "execution_count": 34,
   "id": "1adaffc6-aa92-465b-806a-876fffd04200",
   "metadata": {},
   "outputs": [
    {
     "name": "stdout",
     "output_type": "stream",
     "text": [
      "        count\n",
      "0    2.139193\n",
      "1    0.979986\n",
      "2    0.000000\n",
      "3    0.000000\n",
      "4    0.000000\n",
      "5    7.486256\n",
      "6   79.849319\n",
      "7  141.700363\n",
      "8  319.266785\n",
      "9   91.251663\n"
     ]
    }
   ],
   "source": [
    "# y_test_predicted_1의 'count' 컬럼 값이 음수인 데이터를 추출하여, 0으로 바꾸기\n",
    "y_test_predicted_1[y_test_predicted_1['count']<0] = 0\n",
    "\n",
    "# y_test_predicted_1에서 상위 10개의 행 확인하기\n",
    "print(y_test_predicted_1.head(10))"
   ]
  },
  {
   "cell_type": "code",
   "execution_count": 35,
   "id": "25bfc9b8-e1d0-4e00-bc49-198a317b015b",
   "metadata": {},
   "outputs": [],
   "source": [
    "# 학습이 완료된 모델을 통해 Y_TEST 값을 예측하기: 평가지표 계산용\n",
    "Y_TEST_PREDICTED_1 = pd.DataFrame(model_1.predict(X_TEST)).rename(columns={0: 'count'})\n",
    "\n",
    "# Y_TEST_PREDICTED의 'count' 컬럼 값이 음수인 데이터를 추출하여, 0으로 바꾸기\n",
    "Y_TEST_PREDICTED_1[Y_TEST_PREDICTED_1['count']<0] = 0"
   ]
  },
  {
   "cell_type": "code",
   "execution_count": 36,
   "id": "e8b4fd5e-452e-44b7-be33-0f9e206e901b",
   "metadata": {},
   "outputs": [],
   "source": [
    "# 학습이 완료된 모델을 통해 y_test 값을 예측하기: 최종 결과 제출용\n",
    "y_test_predicted_2 = pd.DataFrame(model_2.predict(x_test)).rename(columns={0: 'count'})"
   ]
  },
  {
   "cell_type": "markdown",
   "id": "32b7b842-ac6a-40bc-9ce7-019785f89735",
   "metadata": {},
   "source": [
    "예측된 `y_test` 변수(`y_test_predicted_2`)는 **음수로 예측될 가능성이 있으므로, 음수는 모두 0으로 변경**"
   ]
  },
  {
   "cell_type": "code",
   "execution_count": 37,
   "id": "d249fffa-d56c-4078-9a06-140587d98f61",
   "metadata": {},
   "outputs": [
    {
     "name": "stdout",
     "output_type": "stream",
     "text": [
      "        count\n",
      "0   21.486200\n",
      "1    0.061608\n",
      "2    0.000000\n",
      "3    2.039008\n",
      "4    2.553952\n",
      "5   10.101068\n",
      "6   33.650478\n",
      "7  109.718521\n",
      "8  248.734039\n",
      "9  145.416061\n"
     ]
    }
   ],
   "source": [
    "# y_test_predicted_2의 'count' 컬럼 값이 음수인 데이터를 추출하여, 0으로 바꾸기\n",
    "y_test_predicted_2[y_test_predicted_2['count']<0] = 0\n",
    "\n",
    "# y_test_predicted_2에서 상위 10개의 행 확인하기\n",
    "print(y_test_predicted_2.head(10))"
   ]
  },
  {
   "cell_type": "code",
   "execution_count": 38,
   "id": "cf250f43-1047-4c5e-bbcf-5add5536f043",
   "metadata": {},
   "outputs": [],
   "source": [
    "# 학습이 완료된 모델을 통해 Y_TEST 값을 예측하기: 평가지표 계산용\n",
    "Y_TEST_PREDICTED_2 = pd.DataFrame(model_2.predict(X_TEST)).rename(columns={0: 'count'})\n",
    "\n",
    "# Y_TEST_PREDICTED의 'count' 컬럼 값이 음수인 데이터를 추출하여, 0으로 바꾸기\n",
    "Y_TEST_PREDICTED_2[Y_TEST_PREDICTED_2['count']<0] = 0"
   ]
  },
  {
   "cell_type": "markdown",
   "id": "9e5dad49-1e8c-46a0-b53e-a02230f5a798",
   "metadata": {},
   "source": [
    "#### **모델 평가하기**"
   ]
  },
  {
   "cell_type": "code",
   "execution_count": 39,
   "id": "3995cd13-e371-413d-b45d-b560bcafeed4",
   "metadata": {},
   "outputs": [],
   "source": [
    "# sklearn 패키지의 metrics 모듈에서 r2_score 함수를 가져오기\n",
    "from sklearn.metrics import r2_score"
   ]
  },
  {
   "cell_type": "markdown",
   "id": "b8f48290-00e6-4e38-8fd0-75b0232e7480",
   "metadata": {},
   "source": [
    "##### **- 1st 평가지표 결과**"
   ]
  },
  {
   "cell_type": "code",
   "execution_count": 40,
   "id": "b3e3f261-093c-4754-b4fb-f3290b267fc9",
   "metadata": {},
   "outputs": [
    {
     "name": "stdout",
     "output_type": "stream",
     "text": [
      "0.9044130641900863\n"
     ]
    }
   ],
   "source": [
    "# 1차 학습 모델의 R^2 평가지표 값을 확인하기\n",
    "print(r2_score(Y_TEST, Y_TEST_PREDICTED_1))"
   ]
  },
  {
   "cell_type": "markdown",
   "id": "e4a858e8-2d70-4863-b6ad-81a4a25c1e3f",
   "metadata": {},
   "source": [
    "##### **- 2nd 평가지표 결과**"
   ]
  },
  {
   "cell_type": "code",
   "execution_count": 41,
   "id": "5dea5aee-70b6-4b27-8f44-4f59b966c8ef",
   "metadata": {},
   "outputs": [
    {
     "name": "stdout",
     "output_type": "stream",
     "text": [
      "0.9381182890431057\n"
     ]
    }
   ],
   "source": [
    "# 2차 학습 모델의 R^2 평가지표 값을 확인하기\n",
    "print(r2_score(Y_TEST, Y_TEST_PREDICTED_2))"
   ]
  },
  {
   "cell_type": "markdown",
   "id": "185182c6-e6b3-4d95-9887-7aaff7b24bd5",
   "metadata": {},
   "source": [
    "### **3.4 결과 제출하기**"
   ]
  },
  {
   "cell_type": "code",
   "execution_count": 42,
   "id": "d73124df-4f07-484a-90aa-7a855888f0c7",
   "metadata": {},
   "outputs": [
    {
     "name": "stdout",
     "output_type": "stream",
     "text": [
      "                datetime       count\n",
      "0    2011-01-20 00:00:00   21.486200\n",
      "1    2011-01-20 01:00:00    0.061608\n",
      "2    2011-01-20 02:00:00    0.000000\n",
      "3    2011-01-20 03:00:00    2.039008\n",
      "4    2011-01-20 04:00:00    2.553952\n",
      "...                  ...         ...\n",
      "6488 2012-12-31 19:00:00  204.254379\n",
      "6489 2012-12-31 20:00:00  142.610077\n",
      "6490 2012-12-31 21:00:00  132.809982\n",
      "6491 2012-12-31 22:00:00   92.404938\n",
      "6492 2012-12-31 23:00:00   38.964684\n",
      "\n",
      "[6493 rows x 2 columns]\n"
     ]
    }
   ],
   "source": [
    "# x_test_datetime 변수와 y_test_predicted 변수를 세로 방향으로 붙이기\n",
    "print(pd.concat([x_test_datetime, y_test_predicted_2], axis=1))"
   ]
  },
  {
   "cell_type": "code",
   "execution_count": 43,
   "id": "fb9b4b4f-1958-4bca-9b7a-e6914e969422",
   "metadata": {},
   "outputs": [],
   "source": [
    "# 앞의 출력 결과를 final 변수에 저장하기\n",
    "final = pd.concat([x_test_datetime, y_test_predicted_2], axis=1)\n",
    "\n",
    "# final 변수를 data 디렉토리 하위에 2468.csv 이름으로 저장하기\n",
    "final.to_csv('data/2468.csv', index=False)"
   ]
  },
  {
   "cell_type": "code",
   "execution_count": 44,
   "id": "b5332040-052c-49a4-998b-3baf7f782263",
   "metadata": {},
   "outputs": [
    {
     "name": "stdout",
     "output_type": "stream",
     "text": [
      "                 datetime       count\n",
      "0     2011-01-20 00:00:00   21.486200\n",
      "1     2011-01-20 01:00:00    0.061608\n",
      "2     2011-01-20 02:00:00    0.000000\n",
      "3     2011-01-20 03:00:00    2.039008\n",
      "4     2011-01-20 04:00:00    2.553952\n",
      "...                   ...         ...\n",
      "6488  2012-12-31 19:00:00  204.254380\n",
      "6489  2012-12-31 20:00:00  142.610080\n",
      "6490  2012-12-31 21:00:00  132.809980\n",
      "6491  2012-12-31 22:00:00   92.404940\n",
      "6492  2012-12-31 23:00:00   38.964684\n",
      "\n",
      "[6493 rows x 2 columns]\n"
     ]
    }
   ],
   "source": [
    "# 제출된 파일의 정상 여부를 확인하기\n",
    "final = pd.read_csv('data/2468.csv')\n",
    "print(final)"
   ]
  },
  {
   "cell_type": "code",
   "execution_count": 45,
   "id": "013f56ef-7074-4e59-b2ab-6e19cbc981f2",
   "metadata": {},
   "outputs": [
    {
     "name": "stdout",
     "output_type": "stream",
     "text": [
      "0.9381182890431057\n",
      "                 datetime       count\n",
      "0     2011-01-20 00:00:00   21.486200\n",
      "1     2011-01-20 01:00:00    0.061608\n",
      "2     2011-01-20 02:00:00    0.000000\n",
      "3     2011-01-20 03:00:00    2.039008\n",
      "4     2011-01-20 04:00:00    2.553952\n",
      "...                   ...         ...\n",
      "6488  2012-12-31 19:00:00  204.254380\n",
      "6489  2012-12-31 20:00:00  142.610080\n",
      "6490  2012-12-31 21:00:00  132.809980\n",
      "6491  2012-12-31 22:00:00   92.404940\n",
      "6492  2012-12-31 23:00:00   38.964684\n",
      "\n",
      "[6493 rows x 2 columns]\n"
     ]
    }
   ],
   "source": [
    "### 최종 제출 코드 ###\n",
    "\n",
    "# 데이터 가져오기\n",
    "import pandas as pd\n",
    "x_train = pd.read_csv('data/bike_x_train.csv', encoding='cp949')\n",
    "x_test = pd.read_csv('data/bike_x_test.csv', encoding='cp949')\n",
    "y_train = pd.read_csv('data/bike_y_train.csv', encoding='cp949')\n",
    "y_train = y_train.rename(columns={'癤풼atetime': 'datetime'})\n",
    "\n",
    "# 전처리하기\n",
    "x_train['datetime'] = pd.to_datetime(x_train['datetime'])\n",
    "x_train['year'] = x_train['datetime'].dt.year\n",
    "x_train['hour'] = x_train['datetime'].dt.hour\n",
    "x_test['datetime'] = pd.to_datetime(x_test['datetime'])\n",
    "x_test['year'] = x_test['datetime'].dt.year\n",
    "x_test['hour'] = x_test['datetime'].dt.hour\n",
    "x_test_datetime = x_test['datetime']\n",
    "x_train = x_train.drop(columns=['datetime'])\n",
    "x_test = x_test.drop(columns=['datetime'])\n",
    "y_train = y_train.drop(columns=['datetime'])\n",
    "\n",
    "# 데이터 분리하기\n",
    "from sklearn.model_selection import train_test_split\n",
    "X_TRAIN, X_TEST, Y_TRAIN, Y_TEST = train_test_split(x_train, y_train, test_size=0.2, random_state=10)\n",
    "\n",
    "# 모델을 학습하고 테스트 데이터의 종속변수 값을 예측하기\n",
    "from xgboost import XGBRegressor\n",
    "model = XGBRegressor(n_estimators=200, max_depth=5, random_state=10)\n",
    "model.fit(X_TRAIN, Y_TRAIN)\n",
    "y_test_predicted = pd.DataFrame(model.predict(x_test)).rename(columns={0: 'count'})\n",
    "y_test_predicted[y_test_predicted['count']<0] = 0\n",
    "Y_TEST_PREDICTED = pd.DataFrame(model.predict(X_TEST)).rename(columns={0: 'count'})\n",
    "Y_TEST_PREDICTED[Y_TEST_PREDICTED['count']<0] = 0\n",
    "\n",
    "# 모델 평가하기\n",
    "from sklearn.metrics import r2_score\n",
    "print(r2_score(Y_TEST, Y_TEST_PREDICTED))\n",
    "\n",
    "# 결과 제출하기\n",
    "final = pd.concat([x_test_datetime, y_test_predicted], axis=1)\n",
    "final.to_csv('data/2468.csv', index=False)\n",
    "\n",
    "# 제출된 파일의 정상 여부를 확인하기\n",
    "final = pd.read_csv('data/2468.csv')\n",
    "print(final)"
   ]
  },
  {
   "cell_type": "code",
   "execution_count": null,
   "id": "202c8136-3725-4cf7-a1e9-93eb576003e4",
   "metadata": {},
   "outputs": [],
   "source": []
  }
 ],
 "metadata": {
  "kernelspec": {
   "display_name": "Python Multi",
   "language": "python",
   "name": "multi"
  },
  "language_info": {
   "codemirror_mode": {
    "name": "ipython",
    "version": 3
   },
   "file_extension": ".py",
   "mimetype": "text/x-python",
   "name": "python",
   "nbconvert_exporter": "python",
   "pygments_lexer": "ipython3",
   "version": "3.9.5"
  }
 },
 "nbformat": 4,
 "nbformat_minor": 5
}
