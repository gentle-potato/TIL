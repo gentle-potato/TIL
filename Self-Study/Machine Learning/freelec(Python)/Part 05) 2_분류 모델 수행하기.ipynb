{
 "cells": [
  {
   "cell_type": "markdown",
   "id": "8e4eb0e5-d2c4-4ee0-ae35-5aefa162e2a5",
   "metadata": {},
   "source": [
    "# **Part 05) 파이썬으로 초보 분석가 탈출하기**"
   ]
  },
  {
   "cell_type": "markdown",
   "id": "685fea83-e242-4705-8b6b-0e40e0add368",
   "metadata": {},
   "source": [
    "## **2_분류 모델 수행하기**"
   ]
  },
  {
   "cell_type": "markdown",
   "id": "7171c4f8-c302-4cdc-817c-7095831413e0",
   "metadata": {},
   "source": [
    "### **2.1 데이터 탐색하기**"
   ]
  },
  {
   "cell_type": "markdown",
   "id": "19fceec8-e38a-458e-9bf8-d0830aa3be8d",
   "metadata": {},
   "source": [
    "#### **데이터 가져오기**"
   ]
  },
  {
   "cell_type": "code",
   "execution_count": 1,
   "id": "3217582f-b8e6-46f6-9d4f-26f4159fe575",
   "metadata": {},
   "outputs": [],
   "source": [
    "# pandas 라이브러리 가져오기\n",
    "import pandas as pd\n",
    "\n",
    "# 주어진 데이터 파일을 모두 읽어서, 각 DataFrame 변수에 저장하기\n",
    "x_train = pd.read_csv('data/titanic_x_train.csv', encoding='cp949')\n",
    "x_test = pd.read_csv('data/titanic_x_test.csv', encoding='cp949')\n",
    "y_train = pd.read_csv('data/titanic_y_train.csv', encoding='cp949')"
   ]
  },
  {
   "cell_type": "code",
   "execution_count": 2,
   "id": "c5b24895-bf30-4c54-96bb-1fdc454ea444",
   "metadata": {},
   "outputs": [],
   "source": [
    "y_train = y_train.rename(columns={'癤풮assengerId': 'PassengerId'})"
   ]
  },
  {
   "cell_type": "code",
   "execution_count": 3,
   "id": "2564eac9-09d8-49c6-b294-847d9b30813e",
   "metadata": {},
   "outputs": [
    {
     "name": "stdout",
     "output_type": "stream",
     "text": [
      "                                   0\n",
      "PassengerId                        1\n",
      "티켓등급                               3\n",
      "승객이름         Braund, Mr. Owen Harris\n",
      "성별                              male\n",
      "나이                              22.0\n",
      "형제자매배우자수                           1\n",
      "부모자식수                              0\n",
      "티켓번호                       A/5 21171\n",
      "운임요금                            7.25\n",
      "객실번호                             NaN\n",
      "선착장                                S\n",
      "                            0\n",
      "PassengerId               892\n",
      "티켓등급                        3\n",
      "승객이름         Kelly, Mr. James\n",
      "성별                       male\n",
      "나이                       34.5\n",
      "형제자매배우자수                    0\n",
      "부모자식수                       0\n",
      "티켓번호                   330911\n",
      "운임요금                   7.8292\n",
      "객실번호                      NaN\n",
      "선착장                         Q\n"
     ]
    }
   ],
   "source": [
    "# x_train, x_test의 상위 1개 행을 확인하기\n",
    "print(x_train.head(1).T)\n",
    "\n",
    "print(x_test.head(1).T)"
   ]
  },
  {
   "cell_type": "code",
   "execution_count": 4,
   "id": "919b22b2-c4bb-459a-98e5-2dfbcbc62f8d",
   "metadata": {},
   "outputs": [
    {
     "name": "stdout",
     "output_type": "stream",
     "text": [
      "   PassengerId  Survived\n",
      "0            1         0\n",
      "1            2         1\n",
      "2            3         1\n",
      "3            4         1\n",
      "4            5         0\n"
     ]
    }
   ],
   "source": [
    "# y_train의 상위 5개 행을 가져오기\n",
    "print(y_train.head())"
   ]
  },
  {
   "cell_type": "markdown",
   "id": "e4f686fb-5468-48df-913a-92e986e4a684",
   "metadata": {},
   "source": [
    "#### **행/열 확인하기**"
   ]
  },
  {
   "cell_type": "code",
   "execution_count": 5,
   "id": "8b569dcf-7554-4a33-91f4-d395ce58a93f",
   "metadata": {},
   "outputs": [
    {
     "name": "stdout",
     "output_type": "stream",
     "text": [
      "(891, 11)\n",
      "(418, 11)\n",
      "(891, 2)\n"
     ]
    }
   ],
   "source": [
    "# 각 데이터 세트의 행과 열의 개수를 확인하기\n",
    "print(x_train.shape)\n",
    "print(x_test.shape)\n",
    "print(y_train.shape)"
   ]
  },
  {
   "cell_type": "markdown",
   "id": "03e2d860-d964-4fee-a95b-e3c8613c780a",
   "metadata": {},
   "source": [
    "#### **요약 정보 확인하기**"
   ]
  },
  {
   "cell_type": "code",
   "execution_count": 6,
   "id": "6129ec34-bac5-401e-abe9-8532028eff69",
   "metadata": {},
   "outputs": [
    {
     "name": "stdout",
     "output_type": "stream",
     "text": [
      "<class 'pandas.core.frame.DataFrame'>\n",
      "RangeIndex: 891 entries, 0 to 890\n",
      "Data columns (total 11 columns):\n",
      " #   Column       Non-Null Count  Dtype  \n",
      "---  ------       --------------  -----  \n",
      " 0   PassengerId  891 non-null    int64  \n",
      " 1   티켓등급         891 non-null    int64  \n",
      " 2   승객이름         891 non-null    object \n",
      " 3   성별           891 non-null    object \n",
      " 4   나이           714 non-null    float64\n",
      " 5   형제자매배우자수     891 non-null    int64  \n",
      " 6   부모자식수        891 non-null    int64  \n",
      " 7   티켓번호         891 non-null    object \n",
      " 8   운임요금         891 non-null    float64\n",
      " 9   객실번호         204 non-null    object \n",
      " 10  선착장          889 non-null    object \n",
      "dtypes: float64(2), int64(4), object(5)\n",
      "memory usage: 76.7+ KB\n",
      "None\n"
     ]
    }
   ],
   "source": [
    "# x_train 세트의 요약 정보 확인하기\n",
    "print(x_train.info())"
   ]
  },
  {
   "cell_type": "code",
   "execution_count": 7,
   "id": "8a2f3636-8d29-4fed-b9f9-1197a659f1e4",
   "metadata": {},
   "outputs": [
    {
     "name": "stdout",
     "output_type": "stream",
     "text": [
      "2\n",
      "['male' 'female']\n",
      "4\n",
      "['S' 'C' 'Q' nan]\n",
      "891\n",
      "681\n",
      "148\n"
     ]
    }
   ],
   "source": [
    "# '성별' 컬럼의 중복 제거한 값과 개수 확인하기\n",
    "print(x_train['성별'].unique().size)\n",
    "print(x_train['성별'].unique())\n",
    "\n",
    "# '선착장' 컬럼의 중복 제거한 값과 개수 확인하기\n",
    "print(x_train['선착장'].unique().size)\n",
    "print(x_train['선착장'].unique())\n",
    "\n",
    "# 나머지 3개 컬럼의 중복 제거한 값의 개수 확인하기\n",
    "print(x_train['승객이름'].unique().size)\n",
    "print(x_train['티켓번호'].unique().size)\n",
    "print(x_train['객실번호'].unique().size)"
   ]
  },
  {
   "cell_type": "markdown",
   "id": "8d36850c-ea80-4809-a90a-379d1bd8e51a",
   "metadata": {},
   "source": [
    "#### **기초통계량 확인하기**"
   ]
  },
  {
   "cell_type": "code",
   "execution_count": 8,
   "id": "c4e36150-bc27-4fa1-bda1-6445452ecaca",
   "metadata": {},
   "outputs": [
    {
     "name": "stdout",
     "output_type": "stream",
     "text": [
      "             count        mean         std   min       25%       50%    75%  \\\n",
      "PassengerId  891.0  446.000000  257.353842  1.00  223.5000  446.0000  668.5   \n",
      "티켓등급         891.0    2.308642    0.836071  1.00    2.0000    3.0000    3.0   \n",
      "나이           714.0   29.699118   14.526497  0.42   20.1250   28.0000   38.0   \n",
      "형제자매배우자수     891.0    0.523008    1.102743  0.00    0.0000    0.0000    1.0   \n",
      "부모자식수        891.0    0.381594    0.806057  0.00    0.0000    0.0000    0.0   \n",
      "운임요금         891.0   32.204208   49.693429  0.00    7.9104   14.4542   31.0   \n",
      "\n",
      "                  max  \n",
      "PassengerId  891.0000  \n",
      "티켓등급           3.0000  \n",
      "나이            80.0000  \n",
      "형제자매배우자수       8.0000  \n",
      "부모자식수          6.0000  \n",
      "운임요금         512.3292  \n"
     ]
    }
   ],
   "source": [
    "# x_train의 기초통계량을 확인하고, 가독성을 위해 행/열 바꿔서 출력하기\n",
    "print(x_train.describe().T)"
   ]
  },
  {
   "cell_type": "markdown",
   "id": "6660009c-bc97-46f2-810c-f075107ad064",
   "metadata": {},
   "source": [
    "#### **독립변수와 종속변수의 관계 확인하기**"
   ]
  },
  {
   "cell_type": "code",
   "execution_count": 9,
   "id": "25d51ae8-8809-429c-a338-dcefb522e49c",
   "metadata": {},
   "outputs": [],
   "source": [
    "# x_train, y_train을 세로 방향으로 통합한 후, data 변수에 저장하기\n",
    "data = pd.concat([x_train, y_train], axis=1)"
   ]
  },
  {
   "cell_type": "code",
   "execution_count": 10,
   "id": "a54dbf95-d8b5-44e6-96c9-1bd6822a74ff",
   "metadata": {},
   "outputs": [
    {
     "name": "stdout",
     "output_type": "stream",
     "text": [
      "성별\n",
      "female    0.742038\n",
      "male      0.188908\n",
      "Name: Survived, dtype: float64\n"
     ]
    }
   ],
   "source": [
    "# '성별' 컬럼에 따라 Survived의 평균값을 구하기\n",
    "print(data.groupby(['성별'])['Survived'].mean())"
   ]
  },
  {
   "cell_type": "code",
   "execution_count": 11,
   "id": "25af2bca-342d-4cac-97f3-007652f2f758",
   "metadata": {},
   "outputs": [
    {
     "name": "stdout",
     "output_type": "stream",
     "text": [
      "티켓등급\n",
      "1    0.629630\n",
      "2    0.472826\n",
      "3    0.242363\n",
      "Name: Survived, dtype: float64\n"
     ]
    }
   ],
   "source": [
    "# '티켓등급' 컬럼에 따라 Survived의 평균값을 구하기\n",
    "print(data.groupby(['티켓등급'])['Survived'].mean())"
   ]
  },
  {
   "cell_type": "code",
   "execution_count": 12,
   "id": "9d3eac20-352f-446a-8ab7-f58633079e80",
   "metadata": {},
   "outputs": [
    {
     "name": "stdout",
     "output_type": "stream",
     "text": [
      "선착장\n",
      "C    0.553571\n",
      "Q    0.389610\n",
      "S    0.336957\n",
      "Name: Survived, dtype: float64\n"
     ]
    }
   ],
   "source": [
    "# '선착장' 컬럼에 따라 Survived의 평균값을 구하기\n",
    "print(data.groupby(['선착장'])['Survived'].mean())"
   ]
  },
  {
   "cell_type": "markdown",
   "id": "261fd28a-0a5f-4835-85a0-76c044e77a41",
   "metadata": {},
   "source": [
    "`성별`, `티켓등급`, `선착장` 컬럼들은 최종적으로 분류해야 하는 `Survived` 컬럼과 명확한 관계가 있으므로 데이터 분석 대상에 반드시 포함"
   ]
  },
  {
   "cell_type": "markdown",
   "id": "40a971ab-0314-4ea0-8fdb-3859c574daee",
   "metadata": {},
   "source": [
    "### **2.2 전처리하기**"
   ]
  },
  {
   "cell_type": "markdown",
   "id": "6824f0ea-a8cd-4560-a20e-0ca66683df1d",
   "metadata": {},
   "source": [
    "**테스트 데이터인 x_test도** 값을 예측하는 과정에 사용하므로 <span style=\"color:red\">**동일한 전처리 과정을 적용**</span>해야 함-!!"
   ]
  },
  {
   "cell_type": "markdown",
   "id": "882754b8-9079-410c-b076-ec47b750cd75",
   "metadata": {},
   "source": [
    "#### **불필요한 컬럼 삭제하기**"
   ]
  },
  {
   "cell_type": "markdown",
   "id": "784659a1-1d65-479a-a330-34c1a6bc0737",
   "metadata": {},
   "source": [
    "추후 테스트 데이터의 `PassengerId` 컬럼 값은 최종 제출하는 결과 파일에 포함되어야 하므로 `x_test_passenger_id` 변수를 별도로 저장하여 관리"
   ]
  },
  {
   "cell_type": "code",
   "execution_count": 13,
   "id": "9d31374f-70a8-4e89-be27-17da85d23254",
   "metadata": {},
   "outputs": [],
   "source": [
    "# 테스트 데이터의 PassengerId 값은 x_test_passenger_id 변수에 저장하기\n",
    "x_test_passenger_id = x_test['PassengerId']"
   ]
  },
  {
   "cell_type": "code",
   "execution_count": 14,
   "id": "d56dc88b-7222-42f6-abb5-6532094df6b3",
   "metadata": {},
   "outputs": [
    {
     "name": "stdout",
     "output_type": "stream",
     "text": [
      "   티켓등급                                               승객이름      성별    나이  \\\n",
      "0     3                            Braund, Mr. Owen Harris    male  22.0   \n",
      "1     1  Cumings, Mrs. John Bradley (Florence Briggs Th...  female  38.0   \n",
      "2     3                             Heikkinen, Miss. Laina  female  26.0   \n",
      "3     1       Futrelle, Mrs. Jacques Heath (Lily May Peel)  female  35.0   \n",
      "4     3                           Allen, Mr. William Henry    male  35.0   \n",
      "\n",
      "   형제자매배우자수  부모자식수              티켓번호     운임요금  객실번호 선착장  \n",
      "0         1      0         A/5 21171   7.2500   NaN   S  \n",
      "1         1      0          PC 17599  71.2833   C85   C  \n",
      "2         0      0  STON/O2. 3101282   7.9250   NaN   S  \n",
      "3         1      0            113803  53.1000  C123   S  \n",
      "4         0      0            373450   8.0500   NaN   S  \n",
      "   Survived\n",
      "0         0\n",
      "1         1\n",
      "2         1\n",
      "3         1\n",
      "4         0\n"
     ]
    }
   ],
   "source": [
    "# PassengerId 컬럼을 삭제하기\n",
    "x_train = x_train.drop(columns=['PassengerId'])\n",
    "x_test = x_test.drop(columns=['PassengerId'])\n",
    "y_train = y_train.drop(columns=['PassengerId'])\n",
    "\n",
    "# 컬럼이 삭제된 상위 5개의 행 확인하기\n",
    "print(x_train.head())\n",
    "print(y_train.head())"
   ]
  },
  {
   "cell_type": "code",
   "execution_count": 15,
   "id": "79ea70a4-b4d7-444a-b7a6-c14977be08a1",
   "metadata": {},
   "outputs": [],
   "source": [
    "# 학습 데이터와 테스트 데이터에서 '티켓번호' 컬럼 삭제하기\n",
    "x_train = x_train.drop(columns=['티켓번호'])\n",
    "x_test = x_test.drop(columns=['티켓번호'])"
   ]
  },
  {
   "cell_type": "code",
   "execution_count": 16,
   "id": "668261c4-f39e-4f60-bd29-43d53dedcfe7",
   "metadata": {},
   "outputs": [],
   "source": [
    "# 학습 데이터와 테스트 데이터에서 '승객이름' 컬럼 삭제하기\n",
    "x_train = x_train.drop(columns=['승객이름'])\n",
    "x_test = x_test.drop(columns=['승객이름'])"
   ]
  },
  {
   "cell_type": "markdown",
   "id": "6ef20a69-77fd-4206-b3cf-88d1478d321f",
   "metadata": {},
   "source": [
    "#### **결측치 처리하기**"
   ]
  },
  {
   "cell_type": "code",
   "execution_count": 17,
   "id": "0ee3648d-e359-45a4-a358-905ea1f767cf",
   "metadata": {},
   "outputs": [
    {
     "name": "stdout",
     "output_type": "stream",
     "text": [
      "177\n",
      "687\n",
      "2\n"
     ]
    }
   ],
   "source": [
    "# '나이', '객실번호', '선착장' 컬럼의 결측값 개수 세기\n",
    "print(x_train['나이'].isnull().sum())\n",
    "print(x_train['객실번호'].isnull().sum())\n",
    "print(x_train['선착장'].isnull().sum())"
   ]
  },
  {
   "cell_type": "markdown",
   "id": "c5610c0b-6220-4d35-a525-ee213a645d73",
   "metadata": {},
   "source": [
    "`나이` 컬럼과 `Survived` 컬럼(생존 여부)에 대한 상관성 확인"
   ]
  },
  {
   "cell_type": "code",
   "execution_count": 18,
   "id": "b0a8c9c7-1b64-40e5-be1a-1f44e5de9960",
   "metadata": {},
   "outputs": [
    {
     "name": "stdout",
     "output_type": "stream",
     "text": [
      "                나이  Survived\n",
      "나이        1.000000 -0.077221\n",
      "Survived -0.077221  1.000000\n"
     ]
    }
   ],
   "source": [
    "# '나이'와 'Survived' 컬럼 간의 상관관계를 확인하기\n",
    "print(data[['나이', 'Survived']].corr())"
   ]
  },
  {
   "cell_type": "markdown",
   "id": "25c24f45-26b8-4e24-80a8-ae78820c4a4b",
   "metadata": {},
   "source": [
    "상관관계가 -0.08로 매우 낮아, `나이` 컬럼은 분석 대상에서 제외"
   ]
  },
  {
   "cell_type": "code",
   "execution_count": 19,
   "id": "cee6adca-2a11-474e-b4c7-cbceff4972e7",
   "metadata": {},
   "outputs": [],
   "source": [
    "# x_train에서 '나이' 컬럼을 삭제하기\n",
    "x_train = x_train.drop(columns=['나이'])\n",
    "\n",
    "# x_test에서 '나이' 컬럼을 삭제하기\n",
    "x_test = x_test.drop(columns=['나이'])"
   ]
  },
  {
   "cell_type": "code",
   "execution_count": 20,
   "id": "77accfc6-9526-4218-8781-d3bb9fbb1427",
   "metadata": {},
   "outputs": [
    {
     "name": "stdout",
     "output_type": "stream",
     "text": [
      "148\n"
     ]
    }
   ],
   "source": [
    "# x_train의 '객실번호' 값에서 중복을 제외한 값의 개수 세기\n",
    "print(x_train['객실번호'].unique().size)\n",
    "\n",
    "# x_train에서 '객실번호' 컬럼을 삭제하기\n",
    "x_train = x_train.drop(columns=['객실번호'])\n",
    "\n",
    "# x_test에서 '객실번호' 컬럼을 삭제하기\n",
    "x_test = x_test.drop(columns=['객실번호'])"
   ]
  },
  {
   "cell_type": "markdown",
   "id": "c3935b76-9f36-45c7-8c8d-f30ffff5ea86",
   "metadata": {},
   "source": [
    "`선착장` 컬럼은 학습 데이터의 결측치가 2개뿐이므로, **가장 많은 비율을 차지하는 값으로 적용**"
   ]
  },
  {
   "cell_type": "code",
   "execution_count": 21,
   "id": "8f20d8ba-2262-4f2c-b57d-803bc6c199d8",
   "metadata": {},
   "outputs": [
    {
     "name": "stdout",
     "output_type": "stream",
     "text": [
      "선착장\n",
      "C    168\n",
      "Q     77\n",
      "S    644\n",
      "Name: 선착장, dtype: int64\n"
     ]
    }
   ],
   "source": [
    "# '선착장' 컬럼별로 값의 개수를 세기\n",
    "print(x_train.groupby(['선착장'])['선착장'].count())"
   ]
  },
  {
   "cell_type": "code",
   "execution_count": 22,
   "id": "ac019b30-cb1b-4619-bdba-cdef14d89874",
   "metadata": {},
   "outputs": [
    {
     "name": "stdout",
     "output_type": "stream",
     "text": [
      "0\n"
     ]
    }
   ],
   "source": [
    "# x_train의 '선착장' 컬럼 결측치는 'S' 값으로 적용하기\n",
    "x_train['선착장'] = x_train['선착장'].fillna('S')\n",
    "\n",
    "# x_train의 '선착장' 컬럼에 결측치가 있는지 다시 확인하기\n",
    "print(x_train['선착장'].isnull().sum())"
   ]
  },
  {
   "cell_type": "code",
   "execution_count": 23,
   "id": "09fdd3c4-39af-4442-9869-fb1fb03c7fbe",
   "metadata": {},
   "outputs": [
    {
     "name": "stdout",
     "output_type": "stream",
     "text": [
      "0\n"
     ]
    }
   ],
   "source": [
    "# x_test의 '선착장' 컬럼에 결측치가 있는지 다시 확인하기\n",
    "print(x_test['선착장'].isnull().sum())"
   ]
  },
  {
   "cell_type": "markdown",
   "id": "867e2f6e-4d64-4c35-9ba2-81d8d03977fd",
   "metadata": {},
   "source": [
    "#### **범주형 변수를 인코딩하기**"
   ]
  },
  {
   "cell_type": "code",
   "execution_count": 24,
   "id": "a146a3cd-7fba-46b2-bfd6-4de74912053d",
   "metadata": {},
   "outputs": [],
   "source": [
    "# 학습 데이터의 '성별' 컬럼을 인코딩하기\n",
    "x_train['성별'] = x_train['성별'].replace('male', 0).replace('female', 1)\n",
    "\n",
    "# 테스트 데이터의 '성별' 컬럼을 인코딩하기\n",
    "x_test['성별'] = x_test['성별'].replace('male', 0).replace('female', 1)"
   ]
  },
  {
   "cell_type": "markdown",
   "id": "573d9667-5c42-42c5-975c-37ed4b0e5598",
   "metadata": {},
   "source": [
    "**원-핫 인코딩** → `pandas` 라이브러리의 ***`get_dummies()`*** 함수"
   ]
  },
  {
   "cell_type": "code",
   "execution_count": 25,
   "id": "453ef579-dfe0-4c32-a30e-06396c16b9a1",
   "metadata": {},
   "outputs": [
    {
     "name": "stdout",
     "output_type": "stream",
     "text": [
      "   티켓등급  성별  형제자매배우자수  부모자식수     운임요금 선착장  선착장_Q  선착장_S\n",
      "0     3   0         1      0   7.2500   S      0      1\n",
      "1     1   1         1      0  71.2833   C      0      0\n",
      "2     3   1         0      0   7.9250   S      0      1\n",
      "3     1   1         1      0  53.1000   S      0      1\n",
      "4     3   0         0      0   8.0500   S      0      1\n"
     ]
    }
   ],
   "source": [
    "# x_train의 '선착장' 컬럼에 대해 원-핫 인코딩을 수행한 후, '선착장_dummy'에 저장하기\n",
    "선착장_dummy = pd.get_dummies(x_train['선착장'], drop_first=True).rename(columns={'Q': '선착장_Q', 'S': '선착장_S'})\n",
    "\n",
    "# 기존 x_train의 우축에 '선착장_dummy' 변수를 덧붙여, x_train에 다시 저장하기\n",
    "x_train = pd.concat([x_train, 선착장_dummy], axis=1)\n",
    "\n",
    "# x_train의 상위 5개 행 확인하기\n",
    "print(x_train.head())"
   ]
  },
  {
   "cell_type": "code",
   "execution_count": 26,
   "id": "6340edb9-5a82-447d-9c68-3c09387eb718",
   "metadata": {},
   "outputs": [],
   "source": [
    "# 학습 데이터에서 '선착장' 컬럼 삭제하기\n",
    "x_train = x_train.drop(columns=['선착장'])"
   ]
  },
  {
   "cell_type": "code",
   "execution_count": 27,
   "id": "e9c48c01-08bd-46c8-9682-5c75e664819b",
   "metadata": {},
   "outputs": [],
   "source": [
    "# x_test의 '선착장' 컬럼에 대해 원-핫 인코딩을 수행하고, 기존 컬럼은 삭제하기\n",
    "선착장_dummy = pd.get_dummies(x_test['선착장'], drop_first=True).rename(columns={'Q': '선착장_Q', 'S': '선착장_S'})\n",
    "\n",
    "# 기존 x_test의 우측에 '선착장_dummy' 변수를 덧붙여, x_test에 다시 저장하기\n",
    "x_test = pd.concat([x_test, 선착장_dummy], axis=1)\n",
    "\n",
    "# 테스트 데이터에서 '선착장' 컬럼 삭제하기\n",
    "x_test = x_test.drop(columns=['선착장'])"
   ]
  },
  {
   "cell_type": "markdown",
   "id": "5cb86c07-63ed-4aca-92cc-3b076895348e",
   "metadata": {},
   "source": [
    "#### **파생변수 만들기**"
   ]
  },
  {
   "cell_type": "code",
   "execution_count": 28,
   "id": "d86e8401-b3ea-4304-9ca9-f565ce6a8f38",
   "metadata": {},
   "outputs": [
    {
     "name": "stdout",
     "output_type": "stream",
     "text": [
      "   형제자매배우자수  부모자식수  가족수\n",
      "0         1      0    1\n",
      "1         1      0    1\n",
      "2         0      0    0\n",
      "3         1      0    1\n",
      "4         0      0    0\n",
      "5         0      0    0\n",
      "6         0      0    0\n",
      "7         3      1    4\n",
      "8         0      2    2\n",
      "9         1      0    1\n"
     ]
    }
   ],
   "source": [
    "# '형제자매배우자수'와 '부모자식수' 컬럼을 더하여 '가족수'라는 컬럼을 만들기\n",
    "x_train['가족수'] = x_train['형제자매배우자수'] + x_train['부모자식수']\n",
    "\n",
    "# 결과 확인을 위해 상위 10개의 행 확인하기\n",
    "print(x_train[['형제자매배우자수', '부모자식수', '가족수']].head(10))"
   ]
  },
  {
   "cell_type": "code",
   "execution_count": 29,
   "id": "cae97d42-837d-40ae-a0db-e7fca2e608d4",
   "metadata": {},
   "outputs": [],
   "source": [
    "# 학습 데이터에서 '형제자매배우자수', '부모자식수' 컬럼 삭제하기\n",
    "x_train = x_train.drop(columns=['형제자매배우자수', '부모자식수'])"
   ]
  },
  {
   "cell_type": "code",
   "execution_count": 30,
   "id": "5b77f2f6-e212-4eea-8e31-8b245b2cab9c",
   "metadata": {},
   "outputs": [],
   "source": [
    "# '형제자매배우자수'와 '부모자식수' 컬럼을 더한 '가족수'라는 컬럼을 만들기\n",
    "x_test['가족수'] = x_test['형제자매배우자수'] + x_test['부모자식수']\n",
    "\n",
    "# 테스트 데이터에서 '형제자매배우자수', '부모자식수' 컬럼 삭제하기\n",
    "x_test = x_test.drop(columns=['형제자매배우자수', '부모자식수'])"
   ]
  },
  {
   "cell_type": "markdown",
   "id": "7d2ecc30-bac1-4fcb-a8a0-8d3bff39b372",
   "metadata": {},
   "source": [
    "### **2.3 학습하고 평가하기**"
   ]
  },
  {
   "cell_type": "markdown",
   "id": "f29523a1-544b-4e92-a003-988da3273bd2",
   "metadata": {},
   "source": [
    "평가해야 할 데이터를 추가로 만들기 위해서, **학습 데이터를 다시 학습용과 검증용으로 분리**"
   ]
  },
  {
   "cell_type": "markdown",
   "id": "7a4228b7-fc55-4c2a-82ab-af726b96ec34",
   "metadata": {},
   "source": [
    "#### **데이터 분리하기**"
   ]
  },
  {
   "cell_type": "code",
   "execution_count": 31,
   "id": "ad53f9e6-ed10-4e2b-862f-03803f051499",
   "metadata": {},
   "outputs": [
    {
     "name": "stdout",
     "output_type": "stream",
     "text": [
      "(712, 6)\n",
      "(179, 6)\n",
      "(712, 1)\n",
      "(179, 1)\n"
     ]
    }
   ],
   "source": [
    "# 데이터를 분리하기 위한 train_test_split 함수를 가져오기\n",
    "from sklearn.model_selection import train_test_split\n",
    "\n",
    "# 학습용과 검증용을 8:2로 분리하여, 각 4개의 변수에 저장하기\n",
    "X_TRAIN, X_TEST, Y_TRAIN, Y_TEST = train_test_split(x_train, y_train, test_size=0.2, random_state=10)\n",
    "\n",
    "# 분리된 데이터의 행/열 구조를 확인하기\n",
    "print(X_TRAIN.shape)\n",
    "print(X_TEST.shape)\n",
    "print(Y_TRAIN.shape)\n",
    "print(Y_TEST.shape)"
   ]
  },
  {
   "cell_type": "markdown",
   "id": "f212ecba-5a2f-489b-bcaf-c7ea7edd6885",
   "metadata": {},
   "source": [
    "#### **데이터 학습 및 하이퍼 파라미터 튜닝하기**"
   ]
  },
  {
   "cell_type": "markdown",
   "id": "ea8cdf3d-f8fe-4b3c-ae4d-d9bc2f0b42c2",
   "metadata": {},
   "source": [
    "**일반적으로 성능이 잘 나오는** ***<span style=\"color:orange\">XGBClassifier</span>***"
   ]
  },
  {
   "cell_type": "code",
   "execution_count": 32,
   "id": "49d67719-ff35-4f0c-9a55-09bc72eeea29",
   "metadata": {},
   "outputs": [],
   "source": [
    "# xgboost 라이브러리에서 제공하는 XGBClassifier 모델을 가져오기\n",
    "from xgboost import XGBClassifier"
   ]
  },
  {
   "cell_type": "code",
   "execution_count": 33,
   "id": "32ac6378-dd29-4725-80a4-591c3620efdc",
   "metadata": {},
   "outputs": [
    {
     "name": "stderr",
     "output_type": "stream",
     "text": [
      "C:\\Users\\khl06\\anaconda3\\envs\\multi\\lib\\site-packages\\xgboost\\sklearn.py:888: UserWarning: The use of label encoder in XGBClassifier is deprecated and will be removed in a future release. To remove this warning, do the following: 1) Pass option use_label_encoder=False when constructing XGBClassifier object; and 2) Encode your labels (y) as integers starting with 0, i.e. 0, 1, 2, ..., [num_class - 1].\n",
      "  warnings.warn(label_encoder_deprecation_msg, UserWarning)\n",
      "C:\\Users\\khl06\\anaconda3\\envs\\multi\\lib\\site-packages\\sklearn\\utils\\validation.py:63: DataConversionWarning: A column-vector y was passed when a 1d array was expected. Please change the shape of y to (n_samples, ), for example using ravel().\n",
      "  return f(*args, **kwargs)\n"
     ]
    },
    {
     "data": {
      "text/plain": [
       "XGBClassifier(base_score=0.5, booster='gbtree', colsample_bylevel=1,\n",
       "              colsample_bynode=1, colsample_bytree=1, eval_metric='error',\n",
       "              gamma=0, gpu_id=-1, importance_type='gain',\n",
       "              interaction_constraints='', learning_rate=0.300000012,\n",
       "              max_delta_step=0, max_depth=6, min_child_weight=1, missing=nan,\n",
       "              monotone_constraints='()', n_estimators=100, n_jobs=8,\n",
       "              num_parallel_tree=1, random_state=10, reg_alpha=0, reg_lambda=1,\n",
       "              scale_pos_weight=1, subsample=1, tree_method='exact',\n",
       "              validate_parameters=1, verbosity=None)"
      ]
     },
     "execution_count": 33,
     "metadata": {},
     "output_type": "execute_result"
    }
   ],
   "source": [
    "# XGBClassifier를 수행할 첫 번째 모델을 만들고, 공부시키기\n",
    "model_1 = XGBClassifier(eval_metric='error', random_state=10)\n",
    "model_1.fit(X_TRAIN, Y_TRAIN)"
   ]
  },
  {
   "cell_type": "markdown",
   "id": "a704f711-93d8-48c4-a5a3-33017e75794a",
   "metadata": {},
   "source": [
    "`eval_metric` 파라미터는 분류 모델로 학습을 수행하는 경우에 작성하는 대표값"
   ]
  },
  {
   "cell_type": "code",
   "execution_count": 34,
   "id": "b2ed4e62-d95b-468e-ae1d-bc9982eb4c1b",
   "metadata": {},
   "outputs": [
    {
     "data": {
      "text/plain": [
       "XGBClassifier(base_score=0.5, booster='gbtree', colsample_bylevel=1,\n",
       "              colsample_bynode=1, colsample_bytree=1, eval_metric='error',\n",
       "              gamma=0, gpu_id=-1, importance_type='gain',\n",
       "              interaction_constraints='', learning_rate=0.300000012,\n",
       "              max_delta_step=0, max_depth=5, min_child_weight=1, missing=nan,\n",
       "              monotone_constraints='()', n_estimators=100, n_jobs=8,\n",
       "              num_parallel_tree=1, random_state=10, reg_alpha=0, reg_lambda=1,\n",
       "              scale_pos_weight=1, subsample=1, tree_method='exact',\n",
       "              validate_parameters=1, verbosity=None)"
      ]
     },
     "execution_count": 34,
     "metadata": {},
     "output_type": "execute_result"
    }
   ],
   "source": [
    "# XGBClassifier를 수행할 두 번째 모델을 만들고, 공부시키기\n",
    "model_2 = XGBClassifier(n_estimators=100, max_depth=5, eval_metric='error', random_state=10)\n",
    "model_2.fit(X_TRAIN, Y_TRAIN)"
   ]
  },
  {
   "cell_type": "markdown",
   "id": "1d97980d-c5bf-41a9-8b50-747007baba78",
   "metadata": {},
   "source": [
    "#### **결과 예측하기**"
   ]
  },
  {
   "cell_type": "code",
   "execution_count": 35,
   "id": "fa72903b-b837-4ee9-bda9-11739b9e8f64",
   "metadata": {},
   "outputs": [
    {
     "name": "stdout",
     "output_type": "stream",
     "text": [
      "   Survived\n",
      "0         0\n",
      "1         0\n",
      "2         0\n",
      "3         0\n",
      "4         1\n",
      "5         0\n",
      "6         0\n",
      "7         1\n",
      "8         1\n",
      "9         0\n"
     ]
    }
   ],
   "source": [
    "# 학습이 완료된 모델을 통해 y_test 값을 예측하기: 최종 결과 제출용\n",
    "y_test_predicted_1 = pd.DataFrame(model_1.predict(x_test)).rename(columns={0: 'Survived'})\n",
    "\n",
    "# y_test_predicted_1 값 확이하기\n",
    "print(pd.DataFrame(y_test_predicted_1).head(10))"
   ]
  },
  {
   "cell_type": "code",
   "execution_count": 36,
   "id": "19f80d1a-a76b-4c87-82f4-5286aa5efe96",
   "metadata": {},
   "outputs": [
    {
     "name": "stdout",
     "output_type": "stream",
     "text": [
      "   Survived\n",
      "0         0\n",
      "1         0\n",
      "2         0\n",
      "3         0\n",
      "4         1\n",
      "5         0\n",
      "6         0\n",
      "7         1\n",
      "8         1\n",
      "9         0\n"
     ]
    }
   ],
   "source": [
    "print(y_test_predicted_1.head(10))"
   ]
  },
  {
   "cell_type": "code",
   "execution_count": 37,
   "id": "2a06f2ea-bf46-43df-94a8-1d42906ad24c",
   "metadata": {},
   "outputs": [
    {
     "name": "stdout",
     "output_type": "stream",
     "text": [
      "   Survived\n",
      "0         0\n",
      "1         1\n",
      "2         0\n",
      "3         0\n",
      "4         1\n",
      "5         0\n",
      "6         0\n",
      "7         1\n",
      "8         1\n",
      "9         0\n"
     ]
    }
   ],
   "source": [
    "# 학습이 완료된 모델을 통해 y_test 값을 예측하기: 최종 결과 제출용\n",
    "y_test_predicted_2 = pd.DataFrame(model_2.predict(x_test)).rename(columns={0: 'Survived'})\n",
    "\n",
    "# y_test_predicted_2 값 확이하기\n",
    "print(pd.DataFrame(y_test_predicted_2).head(10))"
   ]
  },
  {
   "cell_type": "code",
   "execution_count": 38,
   "id": "0c0bbb83-77c9-4037-9f60-a5038e2ce509",
   "metadata": {},
   "outputs": [],
   "source": [
    "# 학습이 완료된 모델을 통해 Y_TEST 값을 예측하기: 평가지표 계산용\n",
    "Y_TEST_PREDICTED_1 = pd.DataFrame(model_1.predict(X_TEST))"
   ]
  },
  {
   "cell_type": "code",
   "execution_count": 39,
   "id": "49f3dda5-be60-4880-a352-cbbeb45eddd1",
   "metadata": {},
   "outputs": [],
   "source": [
    "# 학습이 완료된 모델을 통해 Y_TEST 값을 예측하기: 평가지표 계산용\n",
    "Y_TEST_PREDICTED_2 = pd.DataFrame(model_2.predict(X_TEST))"
   ]
  },
  {
   "cell_type": "markdown",
   "id": "193415ba-274b-45ed-b4ba-5430f22c3e77",
   "metadata": {},
   "source": [
    "#### **모델 평가하기**"
   ]
  },
  {
   "cell_type": "code",
   "execution_count": 40,
   "id": "abb7ed7a-915c-42b6-ae62-10487902589c",
   "metadata": {},
   "outputs": [],
   "source": [
    "# sklearn 패키지의 metrics 모듈에서 roc_auc_score 함수를 가져오기\n",
    "from sklearn.metrics import roc_auc_score"
   ]
  },
  {
   "cell_type": "markdown",
   "id": "1b23c22d-99c5-4e36-898f-d44b8e158d52",
   "metadata": {},
   "source": [
    "##### **- 1st 평가지표 결과**"
   ]
  },
  {
   "cell_type": "code",
   "execution_count": 41,
   "id": "d7ba2c7b-ac13-406a-9303-9a9b602d4509",
   "metadata": {},
   "outputs": [
    {
     "name": "stdout",
     "output_type": "stream",
     "text": [
      "0.7731596360628619\n"
     ]
    }
   ],
   "source": [
    "# 1차 학습 모델의 ROC 평가지표 값을 확인하기\n",
    "print(roc_auc_score(Y_TEST, Y_TEST_PREDICTED_1))"
   ]
  },
  {
   "cell_type": "markdown",
   "id": "02ef3c0a-fa57-4208-87f0-76cfb88d8b8f",
   "metadata": {},
   "source": [
    "##### **- 2nd 평가지표 결과**"
   ]
  },
  {
   "cell_type": "code",
   "execution_count": 42,
   "id": "ba03feb3-2777-42f7-9edf-0d6b80b9fa95",
   "metadata": {},
   "outputs": [
    {
     "name": "stdout",
     "output_type": "stream",
     "text": [
      "0.7983181692859112\n"
     ]
    }
   ],
   "source": [
    "# 2차 학습 모델의 ROC 평가지표 값을 확인하기\n",
    "print(roc_auc_score(Y_TEST, Y_TEST_PREDICTED_2))"
   ]
  },
  {
   "cell_type": "markdown",
   "id": "85e4679b-d70e-4b98-a0be-454d59d92b99",
   "metadata": {},
   "source": [
    "### **2.4 결과 제출하기**"
   ]
  },
  {
   "cell_type": "code",
   "execution_count": 43,
   "id": "e037c218-51e1-42a4-a8cb-f9c50ef1f74a",
   "metadata": {},
   "outputs": [
    {
     "name": "stdout",
     "output_type": "stream",
     "text": [
      "     PassengerId  Survived\n",
      "0            892         0\n",
      "1            893         1\n",
      "2            894         0\n",
      "3            895         0\n",
      "4            896         1\n",
      "..           ...       ...\n",
      "413         1305         0\n",
      "414         1306         1\n",
      "415         1307         0\n",
      "416         1308         0\n",
      "417         1309         1\n",
      "\n",
      "[418 rows x 2 columns]\n"
     ]
    }
   ],
   "source": [
    "# x_test_passenger_id 변수와 y_test_predicted 변수를 세로 방향으로 붙이기\n",
    "print(pd.concat([x_test_passenger_id, y_test_predicted_2], axis=1))"
   ]
  },
  {
   "cell_type": "code",
   "execution_count": 44,
   "id": "c82ac6f9-8311-48d2-9681-1a6737cf93ab",
   "metadata": {},
   "outputs": [],
   "source": [
    "# 앞의 출력 결과를 final 변수에 저장하기\n",
    "final = pd.concat([x_test_passenger_id, y_test_predicted_2], axis=1)\n",
    "\n",
    "# final 변수를 data 디렉토리 하위에 13579.csv 이름으로 저장하기\n",
    "final.to_csv('data/13579.csv', index=False)"
   ]
  },
  {
   "cell_type": "code",
   "execution_count": 45,
   "id": "f823ea0c-dab7-4ac0-b8e3-9b34535e37ce",
   "metadata": {},
   "outputs": [
    {
     "name": "stdout",
     "output_type": "stream",
     "text": [
      "     PassengerId  Survived\n",
      "0            892         0\n",
      "1            893         1\n",
      "2            894         0\n",
      "3            895         0\n",
      "4            896         1\n",
      "..           ...       ...\n",
      "413         1305         0\n",
      "414         1306         1\n",
      "415         1307         0\n",
      "416         1308         0\n",
      "417         1309         1\n",
      "\n",
      "[418 rows x 2 columns]\n"
     ]
    }
   ],
   "source": [
    "# 제출된 파일의 정상 여부를 확인하기\n",
    "final = pd.read_csv('data/13579.csv')\n",
    "print(final)"
   ]
  },
  {
   "cell_type": "code",
   "execution_count": 46,
   "id": "c4c13003-b029-4135-b548-40b22df3f1eb",
   "metadata": {},
   "outputs": [
    {
     "name": "stdout",
     "output_type": "stream",
     "text": [
      "     PassengerId  Survived\n",
      "0            892         0\n",
      "1            893         1\n",
      "2            894         0\n",
      "3            895         0\n",
      "4            896         1\n",
      "..           ...       ...\n",
      "413         1305         0\n",
      "414         1306         1\n",
      "415         1307         0\n",
      "416         1308         0\n",
      "417         1309         1\n",
      "\n",
      "[418 rows x 2 columns]\n"
     ]
    },
    {
     "name": "stderr",
     "output_type": "stream",
     "text": [
      "C:\\Users\\khl06\\anaconda3\\envs\\multi\\lib\\site-packages\\xgboost\\sklearn.py:888: UserWarning: The use of label encoder in XGBClassifier is deprecated and will be removed in a future release. To remove this warning, do the following: 1) Pass option use_label_encoder=False when constructing XGBClassifier object; and 2) Encode your labels (y) as integers starting with 0, i.e. 0, 1, 2, ..., [num_class - 1].\n",
      "  warnings.warn(label_encoder_deprecation_msg, UserWarning)\n",
      "C:\\Users\\khl06\\anaconda3\\envs\\multi\\lib\\site-packages\\sklearn\\utils\\validation.py:63: DataConversionWarning: A column-vector y was passed when a 1d array was expected. Please change the shape of y to (n_samples, ), for example using ravel().\n",
      "  return f(*args, **kwargs)\n"
     ]
    }
   ],
   "source": [
    "### 최종 제출 코드 ###\n",
    "\n",
    "# 데이터 가져오기\n",
    "import pandas as pd\n",
    "x_train = pd.read_csv('data/titanic_x_train.csv', encoding='cp949')\n",
    "x_test = pd.read_csv('data/titanic_x_test.csv', encoding='cp949')\n",
    "y_train = pd.read_csv('data/titanic_y_train.csv', encoding='cp949')\n",
    "y_train = y_train.rename(columns={'癤풮assengerId': 'PassengerId'})\n",
    "\n",
    "# 전처리하기\n",
    "x_test_passenger_id = x_test['PassengerId']\n",
    "x_train = x_train.drop(columns=['PassengerId'])\n",
    "x_test = x_test.drop(columns=['PassengerId'])\n",
    "y_train = y_train.drop(columns=['PassengerId'])\n",
    "x_train = x_train.drop(columns=['티켓번호'])\n",
    "x_test = x_test.drop(columns=['티켓번호'])\n",
    "x_train = x_train.drop(columns=['승객이름'])\n",
    "x_test = x_test.drop(columns=['승객이름'])\n",
    "x_train = x_train.drop(columns=['나이'])\n",
    "x_test = x_test.drop(columns=['나이'])\n",
    "x_train = x_train.drop(columns=['객실번호'])\n",
    "x_test = x_test.drop(columns=['객실번호'])\n",
    "\n",
    "# 결측치 처리하기\n",
    "x_train['선착장'] = x_train['선착장'].fillna('S')\n",
    "x_test['선착장'] = x_test['선착장'].fillna('S')\n",
    "\n",
    "# 인코딩 수행하기\n",
    "x_train['성별'] = x_train['성별'].replace('male', 0).replace('female', 1)\n",
    "x_test['성별'] = x_test['성별'].replace('male', 0).replace('female', 1)\n",
    "선착장_dummy = pd.get_dummies(x_train['선착장'], drop_first=True).rename(columns={'Q': '선착장_Q', 'S': '선착장_S'})\n",
    "x_train = pd.concat([x_train, 선착장_dummy], axis=1)\n",
    "x_train = x_train.drop(columns=['선착장'])\n",
    "선착장_dummy = pd.get_dummies(x_test['선착장'], drop_first=True).rename(columns={'Q': '선착장_Q', 'S': '선착장_S'})\n",
    "x_test = pd.concat([x_test, 선착장_dummy], axis=1)\n",
    "x_test = x_test.drop(columns=['선착장'])\n",
    "\n",
    "# 파생변수 만들기\n",
    "x_train['가족수'] = x_train['형제자매배우자수'] + x_train['부모자식수']\n",
    "x_train = x_train.drop(columns=['형제자매배우자수', '부모자식수'])\n",
    "x_test['가족수'] = x_test['형제자매배우자수'] + x_test['부모자식수']\n",
    "x_test = x_test.drop(columns=['형제자매배우자수', '부모자식수'])\n",
    "\n",
    "# 데이터 분리하기\n",
    "from sklearn.model_selection import train_test_split\n",
    "X_TRAIN, X_TEST, Y_TRAIN, Y_TEST = train_test_split(x_train, y_train, test_size=0.2, random_state=10)\n",
    "\n",
    "# 모델 학습하기\n",
    "from xgboost import XGBClassifier\n",
    "model = XGBClassifier(n_estimators=100, max_depth=5, eval_metric='error', random_state=10)\n",
    "model.fit(X_TRAIN, Y_TRAIN)\n",
    "\n",
    "# 최종 결과를 파일로 저장하기\n",
    "y_test_predicted = pd.DataFrame(model.predict(x_test)).rename(columns={0: 'Survived'})\n",
    "final = pd.concat([x_test_passenger_id, y_test_predicted], axis=1)\n",
    "final.to_csv('data/13579.csv', index=False)\n",
    "\n",
    "# 제출된 파일의 정상 여부를 확인하기\n",
    "final = pd.read_csv('data/13579.csv')\n",
    "print(final)"
   ]
  },
  {
   "cell_type": "code",
   "execution_count": null,
   "id": "112c7384-5735-41d2-8a77-da715d88541d",
   "metadata": {},
   "outputs": [],
   "source": []
  }
 ],
 "metadata": {
  "kernelspec": {
   "display_name": "Python Multi",
   "language": "python",
   "name": "multi"
  },
  "language_info": {
   "codemirror_mode": {
    "name": "ipython",
    "version": 3
   },
   "file_extension": ".py",
   "mimetype": "text/x-python",
   "name": "python",
   "nbconvert_exporter": "python",
   "pygments_lexer": "ipython3",
   "version": "3.9.5"
  }
 },
 "nbformat": 4,
 "nbformat_minor": 5
}
