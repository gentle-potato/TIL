{
 "cells": [
  {
   "cell_type": "markdown",
   "id": "e932e657-6d70-4393-b70e-3b3e34fcf671",
   "metadata": {},
   "source": [
    "# **Part 04) 파이썬으로 초보 분석가 되기**"
   ]
  },
  {
   "cell_type": "markdown",
   "id": "4f1095f1-e717-46d1-aa24-77693082d5e0",
   "metadata": {},
   "source": [
    "## **2_복잡한 데이터 분석**"
   ]
  },
  {
   "cell_type": "markdown",
   "id": "7c835050-8848-4d64-bd5f-579811ab7f45",
   "metadata": {},
   "source": [
    "### **2.1 그룹별 집계/요약하기**"
   ]
  },
  {
   "cell_type": "code",
   "execution_count": 1,
   "id": "03ccf4a3-a053-4607-bcb2-76c65ccd5905",
   "metadata": {},
   "outputs": [],
   "source": [
    "import pandas as pd                     # 라이브러리 가져오기\n",
    "data = pd.read_csv('data/boston.csv')   # csv 파일 읽고 저장하기"
   ]
  },
  {
   "cell_type": "code",
   "execution_count": 2,
   "id": "c7341cb5-b870-41c6-a4a8-a6fa5060efea",
   "metadata": {},
   "outputs": [
    {
     "name": "stdout",
     "output_type": "stream",
     "text": [
      "330.0\n"
     ]
    }
   ],
   "source": [
    "# TAX 컬럼의 중위값 구하기\n",
    "tax_median = data['TAX'].median()\n",
    "\n",
    "# TAX 컬럼의 중위값 확인하기\n",
    "print(tax_median)"
   ]
  },
  {
   "cell_type": "code",
   "execution_count": 3,
   "id": "6c62fb01-242a-49ba-bd8e-8b156308548b",
   "metadata": {},
   "outputs": [
    {
     "name": "stdout",
     "output_type": "stream",
     "text": [
      "0      False\n",
      "1      False\n",
      "2      False\n",
      "3      False\n",
      "4      False\n",
      "       ...  \n",
      "501    False\n",
      "502    False\n",
      "503    False\n",
      "504    False\n",
      "505    False\n",
      "Name: TAX, Length: 506, dtype: bool\n"
     ]
    }
   ],
   "source": [
    "# TAX 컬럼에서 tax_median보다 큰지 여부를 확인하기\n",
    "print(data['TAX']>tax_median)"
   ]
  },
  {
   "cell_type": "code",
   "execution_count": 4,
   "id": "5d0cc78a-32f3-4b98-ae05-dfa0f40dba83",
   "metadata": {},
   "outputs": [
    {
     "name": "stdout",
     "output_type": "stream",
     "text": [
      "        CRIM    ZN  INDUS  CHAS    NOX     RM   AGE     DIS  RAD  TAX  \\\n",
      "54   0.01360  75.0   4.00     0  0.410  5.888  47.6  7.3197    3  469   \n",
      "65   0.03584  80.0   3.37     0  0.398  6.290  17.8  6.6115    4  337   \n",
      "66   0.04379  80.0   3.37     0  0.398  5.787  31.1  6.6115    4  337   \n",
      "67   0.05789  12.5   6.07     0  0.409  5.878  21.4  6.4980    4  345   \n",
      "68   0.13554  12.5   6.07     0  0.409  5.594  36.8  6.4980    4  345   \n",
      "..       ...   ...    ...   ...    ...    ...   ...     ...  ...  ...   \n",
      "496  0.28960   0.0   9.69     0  0.585  5.390  72.9  2.7986    6  391   \n",
      "497  0.26838   0.0   9.69     0  0.585    NaN  70.6  2.8927    6  391   \n",
      "498  0.23912   0.0   9.69     0  0.585  6.019  65.3  2.4091    6  391   \n",
      "499  0.17783   0.0   9.69     0  0.585  5.569  73.5  2.3999    6  391   \n",
      "500  0.22438   0.0   9.69     0  0.585  6.027  79.7  2.4982    6  391   \n",
      "\n",
      "     PTRATIO       B  LSTAT  MEDV  \n",
      "54      21.1  396.90  14.80  18.9  \n",
      "65      16.1  396.90   4.67  23.5  \n",
      "66      16.1  396.90  10.24  19.4  \n",
      "67      18.9  396.21   8.10  22.0  \n",
      "68      18.9  396.90  13.09  17.4  \n",
      "..       ...     ...    ...   ...  \n",
      "496     19.2  396.90  21.14  19.7  \n",
      "497     19.2  396.90  14.10  18.3  \n",
      "498     19.2  396.90  12.92  21.2  \n",
      "499     19.2  395.77  15.10  17.5  \n",
      "500     19.2  396.90  14.33  16.8  \n",
      "\n",
      "[250 rows x 14 columns]\n"
     ]
    }
   ],
   "source": [
    "# TAX 컬럼이 중위값보다 큰 값들만 추출해서 확인하기\n",
    "print(data[data['TAX']>tax_median])"
   ]
  },
  {
   "cell_type": "code",
   "execution_count": 5,
   "id": "8c80468e-f16a-460d-bca8-7c7ff3e31a65",
   "metadata": {},
   "outputs": [
    {
     "name": "stdout",
     "output_type": "stream",
     "text": [
      "     CHAS  RAD\n",
      "54      0    3\n",
      "65      0    4\n",
      "66      0    4\n",
      "67      0    4\n",
      "68      0    4\n",
      "..    ...  ...\n",
      "496     0    6\n",
      "497     0    6\n",
      "498     0    6\n",
      "499     0    6\n",
      "500     0    6\n",
      "\n",
      "[250 rows x 2 columns]\n"
     ]
    }
   ],
   "source": [
    "# TAX 컬럼에서 중위값보다 큰 값을 기준으로 CHAS 컬럼과 RAD 컬럼만 추출하기\n",
    "print(data[data['TAX']>tax_median][['CHAS', 'RAD']])\n",
    "\n",
    "# 앞선 결과를 data_new 변수에 저장하기\n",
    "data_new = data[data['TAX']>tax_median][['CHAS', 'RAD']]"
   ]
  },
  {
   "cell_type": "code",
   "execution_count": 6,
   "id": "1e09db7f-b9fd-496a-8d44-84e8ca207899",
   "metadata": {},
   "outputs": [
    {
     "name": "stdout",
     "output_type": "stream",
     "text": [
      "[0 1]\n",
      "[ 3  4  5  6  2  1 24]\n"
     ]
    }
   ],
   "source": [
    "# CHAS 컬럼에 들어있는 값 종류를 확인하기\n",
    "print(data_new['CHAS'].unique())\n",
    "\n",
    "# RAD 컬럼에 들어있는 값 종류를 확인하기\n",
    "print(data_new['RAD'].unique())"
   ]
  },
  {
   "cell_type": "code",
   "execution_count": 7,
   "id": "47318a62-5048-4322-bb6f-6d921cc11ebb",
   "metadata": {},
   "outputs": [
    {
     "name": "stdout",
     "output_type": "stream",
     "text": [
      "CHAS  RAD\n",
      "0     1        3\n",
      "      2        2\n",
      "      3        5\n",
      "      4       33\n",
      "      5       51\n",
      "      6       17\n",
      "      24     124\n",
      "1     5        7\n",
      "      24       8\n",
      "Name: RAD, dtype: int64\n"
     ]
    }
   ],
   "source": [
    "# CHAS, RAD 컬럼 순으로 그룹을 짓고, 그룹 안에 속한 RAD 컬럼 값을 센 변수 만들기\n",
    "data_new2 = data_new.groupby(['CHAS', 'RAD'])['RAD'].count()\n",
    "\n",
    "# data_new2 변수의 결과 확인하기\n",
    "print(data_new2)"
   ]
  },
  {
   "cell_type": "code",
   "execution_count": 8,
   "id": "af1dbf42-2cd9-4872-8e07-1e95901c8a44",
   "metadata": {},
   "outputs": [
    {
     "name": "stdout",
     "output_type": "stream",
     "text": [
      "<class 'pandas.core.series.Series'>\n",
      "Index(['RAD'], dtype='object')\n"
     ]
    }
   ],
   "source": [
    "# data_new2 변수의 데이터 타입 확인하기\n",
    "print(type(data_new2))\n",
    "\n",
    "# data_new2 변수를 DataFrame으로 변경하고, data_new3 변수에 저장하기\n",
    "data_new3 = pd.DataFrame(data_new2)\n",
    "print(data_new3.columns)"
   ]
  },
  {
   "cell_type": "code",
   "execution_count": 9,
   "id": "2e360456-3511-4d1e-996e-1296ecdaa4f0",
   "metadata": {},
   "outputs": [
    {
     "data": {
      "text/html": [
       "<div>\n",
       "<style scoped>\n",
       "    .dataframe tbody tr th:only-of-type {\n",
       "        vertical-align: middle;\n",
       "    }\n",
       "\n",
       "    .dataframe tbody tr th {\n",
       "        vertical-align: top;\n",
       "    }\n",
       "\n",
       "    .dataframe thead th {\n",
       "        text-align: right;\n",
       "    }\n",
       "</style>\n",
       "<table border=\"1\" class=\"dataframe\">\n",
       "  <thead>\n",
       "    <tr style=\"text-align: right;\">\n",
       "      <th></th>\n",
       "      <th></th>\n",
       "      <th>RAD</th>\n",
       "    </tr>\n",
       "    <tr>\n",
       "      <th>CHAS</th>\n",
       "      <th>RAD</th>\n",
       "      <th></th>\n",
       "    </tr>\n",
       "  </thead>\n",
       "  <tbody>\n",
       "    <tr>\n",
       "      <th rowspan=\"7\" valign=\"top\">0</th>\n",
       "      <th>1</th>\n",
       "      <td>3</td>\n",
       "    </tr>\n",
       "    <tr>\n",
       "      <th>2</th>\n",
       "      <td>2</td>\n",
       "    </tr>\n",
       "    <tr>\n",
       "      <th>3</th>\n",
       "      <td>5</td>\n",
       "    </tr>\n",
       "    <tr>\n",
       "      <th>4</th>\n",
       "      <td>33</td>\n",
       "    </tr>\n",
       "    <tr>\n",
       "      <th>5</th>\n",
       "      <td>51</td>\n",
       "    </tr>\n",
       "    <tr>\n",
       "      <th>6</th>\n",
       "      <td>17</td>\n",
       "    </tr>\n",
       "    <tr>\n",
       "      <th>24</th>\n",
       "      <td>124</td>\n",
       "    </tr>\n",
       "    <tr>\n",
       "      <th rowspan=\"2\" valign=\"top\">1</th>\n",
       "      <th>5</th>\n",
       "      <td>7</td>\n",
       "    </tr>\n",
       "    <tr>\n",
       "      <th>24</th>\n",
       "      <td>8</td>\n",
       "    </tr>\n",
       "  </tbody>\n",
       "</table>\n",
       "</div>"
      ],
      "text/plain": [
       "          RAD\n",
       "CHAS RAD     \n",
       "0    1      3\n",
       "     2      2\n",
       "     3      5\n",
       "     4     33\n",
       "     5     51\n",
       "     6     17\n",
       "     24   124\n",
       "1    5      7\n",
       "     24     8"
      ]
     },
     "execution_count": 9,
     "metadata": {},
     "output_type": "execute_result"
    }
   ],
   "source": [
    "data_new3"
   ]
  },
  {
   "cell_type": "code",
   "execution_count": 10,
   "id": "eba38ace-ac35-44a0-9cdd-e02655748866",
   "metadata": {},
   "outputs": [
    {
     "name": "stdout",
     "output_type": "stream",
     "text": [
      "          RAD\n",
      "CHAS RAD     \n",
      "0    1      3\n",
      "     2      2\n",
      "     3      5\n",
      "     4     33\n",
      "     5     51\n",
      "     6     17\n",
      "     24   124\n",
      "1    5      7\n",
      "     24     8\n"
     ]
    },
    {
     "name": "stderr",
     "output_type": "stream",
     "text": [
      "<ipython-input-10-d407f94fd02a>:2: UserWarning: Pandas doesn't allow columns to be created via a new attribute name - see https://pandas.pydata.org/pandas-docs/stable/indexing.html#attribute-access\n",
      "  data_new3.colunms = ['COUNT']\n"
     ]
    }
   ],
   "source": [
    "# data_new3 변수에서 count 연산을 수행한 결과 컬럼 이름은 COUNT로 저장하기\n",
    "data_new3.colunms = ['COUNT']\n",
    "\n",
    "# 최종 제출 가능한 data_new 값을 확인하기\n",
    "print(data_new3)"
   ]
  },
  {
   "cell_type": "code",
   "execution_count": 11,
   "id": "78dac05e-1c0b-4f47-8fab-72caa790aa92",
   "metadata": {},
   "outputs": [
    {
     "name": "stdout",
     "output_type": "stream",
     "text": [
      "          COUNT\n",
      "CHAS RAD       \n",
      "0    1        3\n",
      "     2        2\n",
      "     3        5\n",
      "     4       33\n",
      "     5       51\n",
      "     6       17\n",
      "     24     124\n",
      "1    5        7\n",
      "     24       8\n"
     ]
    }
   ],
   "source": [
    "### 최종 제출 코드 ###\n",
    "import pandas as pd\n",
    "data = pd.read_csv('data/boston.csv')\n",
    "tax_median = data['TAX'].median()\n",
    "data[data['TAX']>tax_median]\n",
    "data_new = data[data['TAX']>tax_median][['CHAS', 'RAD']]\n",
    "data_new2 = data_new.groupby(['CHAS', 'RAD'])['RAD'].count()\n",
    "data_new3 = pd.DataFrame(data_new2)\n",
    "data_new3.columns = ['COUNT']\n",
    "print(data_new3)"
   ]
  },
  {
   "cell_type": "code",
   "execution_count": 12,
   "id": "c2455652-20df-445d-aee1-77b81f3de8eb",
   "metadata": {},
   "outputs": [
    {
     "name": "stdout",
     "output_type": "stream",
     "text": [
      "Index(['COUNT'], dtype='object')\n"
     ]
    }
   ],
   "source": [
    "print(data_new3.columns)"
   ]
  },
  {
   "cell_type": "markdown",
   "id": "42b17ccc-30ed-42eb-a91c-6f391cf3fc80",
   "metadata": {},
   "source": [
    "### **2.2 오름차순/내림차순 정렬하기**"
   ]
  },
  {
   "cell_type": "code",
   "execution_count": 13,
   "id": "6c26b69c-4898-4071-a500-6ed7cab8fc07",
   "metadata": {},
   "outputs": [],
   "source": [
    "import pandas as pd                     # 라이브러리 가져오기\n",
    "data = pd.read_csv('data/boston.csv')   # csv 파일 읽고 저장하기"
   ]
  },
  {
   "cell_type": "code",
   "execution_count": 14,
   "id": "a953b950-204f-466d-a8c4-35c5e8d8ac67",
   "metadata": {},
   "outputs": [],
   "source": [
    "# TAX 컬럼을 추출하여 data_asc 변수에 저장하기\n",
    "data_asc = data['TAX'].copy()\n",
    "\n",
    "# TAX 컬럼을 추출하여 data_desc 변수에 저장하기\n",
    "data_desc = data['TAX'].copy()"
   ]
  },
  {
   "cell_type": "code",
   "execution_count": 15,
   "id": "94623c56-8465-47a1-a7a4-607bfb497250",
   "metadata": {},
   "outputs": [
    {
     "name": "stdout",
     "output_type": "stream",
     "text": [
      "353    187\n",
      "123    188\n",
      "122    188\n",
      "126    188\n",
      "125    188\n",
      "      ... \n",
      "492    711\n",
      "491    711\n",
      "490    711\n",
      "489    711\n",
      "488    711\n",
      "Name: TAX, Length: 506, dtype: int64\n"
     ]
    }
   ],
   "source": [
    "# data_asc 변수를 오름차순으로 정렬하기\n",
    "print(data_asc.sort_values(ascending=True))"
   ]
  },
  {
   "cell_type": "code",
   "execution_count": 16,
   "id": "cce14462-daab-4da5-814c-48067aebfb65",
   "metadata": {},
   "outputs": [
    {
     "name": "stdout",
     "output_type": "stream",
     "text": [
      "353    187\n",
      "123    188\n",
      "122    188\n",
      "126    188\n",
      "125    188\n",
      "      ... \n",
      "492    711\n",
      "491    711\n",
      "490    711\n",
      "489    711\n",
      "488    711\n",
      "Name: TAX, Length: 506, dtype: int64\n"
     ]
    }
   ],
   "source": [
    "# data_asc 변수를 오름차순으로 정렬하고, 정렬된 데이터를 data_asc 변수에 저장하기\n",
    "data_asc.sort_values(ascending=True, inplace=True)\n",
    "\n",
    "# data_asc 변수를 확인하기\n",
    "print(data_asc)"
   ]
  },
  {
   "cell_type": "code",
   "execution_count": 17,
   "id": "4b1048c1-07b3-4894-a7a3-47d1e1fecb62",
   "metadata": {},
   "outputs": [
    {
     "name": "stdout",
     "output_type": "stream",
     "text": [
      "492    711\n",
      "491    711\n",
      "490    711\n",
      "489    711\n",
      "488    711\n",
      "      ... \n",
      "121    188\n",
      "120    188\n",
      "125    188\n",
      "124    188\n",
      "353    187\n",
      "Name: TAX, Length: 506, dtype: int64\n"
     ]
    }
   ],
   "source": [
    "# data_desc 변수를 내림차순으로 정렬하기\n",
    "print(data_desc.sort_values(ascending=False))"
   ]
  },
  {
   "cell_type": "code",
   "execution_count": 18,
   "id": "0f80727c-8233-4a38-976f-08921520b603",
   "metadata": {},
   "outputs": [
    {
     "name": "stdout",
     "output_type": "stream",
     "text": [
      "492    711\n",
      "491    711\n",
      "490    711\n",
      "489    711\n",
      "488    711\n",
      "      ... \n",
      "121    188\n",
      "120    188\n",
      "125    188\n",
      "124    188\n",
      "353    187\n",
      "Name: TAX, Length: 506, dtype: int64\n"
     ]
    }
   ],
   "source": [
    "# data_desc 변수를 내림차순으로 정렬하고, 정렬된 데이터를 data_desc 변수에 저장하기\n",
    "data_desc.sort_values(ascending=False, inplace=True)\n",
    "\n",
    "# data_desc 변수를 확인하기\n",
    "print(data_desc)"
   ]
  },
  {
   "cell_type": "code",
   "execution_count": 19,
   "id": "dbc4230c-c537-49a3-82ef-530a21a03a7a",
   "metadata": {},
   "outputs": [
    {
     "name": "stdout",
     "output_type": "stream",
     "text": [
      "0      187\n",
      "1      188\n",
      "2      188\n",
      "3      188\n",
      "4      188\n",
      "      ... \n",
      "501    711\n",
      "502    711\n",
      "503    711\n",
      "504    711\n",
      "505    711\n",
      "Name: TAX, Length: 506, dtype: int64\n"
     ]
    }
   ],
   "source": [
    "# data_asc 변수의 인덱스를 재설정하기\n",
    "data_asc.reset_index(drop=True, inplace=True)\n",
    "\n",
    "# data_asc 변수를 확인하기\n",
    "print(data_asc)\n",
    "\n",
    "# data_desc 변수의 인덱스를 재설정하기\n",
    "data_desc.reset_index(drop=True, inplace=True)"
   ]
  },
  {
   "cell_type": "code",
   "execution_count": 20,
   "id": "6ddc22a3-2774-45ea-8837-86c17f30ff6e",
   "metadata": {},
   "outputs": [
    {
     "name": "stdout",
     "output_type": "stream",
     "text": [
      "     TAX  TAX\n",
      "0    187  711\n",
      "1    188  711\n",
      "2    188  711\n",
      "3    188  711\n",
      "4    188  711\n",
      "..   ...  ...\n",
      "501  711  188\n",
      "502  711  188\n",
      "503  711  188\n",
      "504  711  188\n",
      "505  711  187\n",
      "\n",
      "[506 rows x 2 columns]\n"
     ]
    }
   ],
   "source": [
    "# data_asc, data_desc 변수를 컬럼 기준으로 통합한 후, data_concat 변수에 저장하기\n",
    "data_concat = pd.concat([data_asc, data_desc], axis=1)\n",
    "\n",
    "# data_concat 변수 확인하기\n",
    "print(data_concat)"
   ]
  },
  {
   "cell_type": "code",
   "execution_count": 21,
   "id": "3b67406c-033b-45ea-a994-04a02f028455",
   "metadata": {},
   "outputs": [
    {
     "name": "stdout",
     "output_type": "stream",
     "text": [
      "0      187\n",
      "1      188\n",
      "2      188\n",
      "3      188\n",
      "4      188\n",
      "      ... \n",
      "501    711\n",
      "502    711\n",
      "503    711\n",
      "504    711\n",
      "505    711\n",
      "Name: TAX, Length: 506, dtype: int64\n"
     ]
    }
   ],
   "source": [
    "# data_concat 변수에서 첫 번째 컬럼을 추출하기\n",
    "print(data_concat.iloc[:, 0])"
   ]
  },
  {
   "cell_type": "code",
   "execution_count": 22,
   "id": "427d0a01-6f4c-4366-904e-8820c56eba6f",
   "metadata": {},
   "outputs": [
    {
     "name": "stdout",
     "output_type": "stream",
     "text": [
      "0      711\n",
      "1      711\n",
      "2      711\n",
      "3      711\n",
      "4      711\n",
      "      ... \n",
      "501    188\n",
      "502    188\n",
      "503    188\n",
      "504    188\n",
      "505    187\n",
      "Name: TAX, Length: 506, dtype: int64\n"
     ]
    }
   ],
   "source": [
    "# data_concat 변수에서 두 번째 컬럼을 추출하기\n",
    "print(data_concat.iloc[:, 1])"
   ]
  },
  {
   "cell_type": "code",
   "execution_count": 23,
   "id": "30bea4cd-dd57-4c48-955e-a87b3b798f5c",
   "metadata": {},
   "outputs": [
    {
     "name": "stdout",
     "output_type": "stream",
     "text": [
      "     TAX  TAX  diff\n",
      "0    187  711   524\n",
      "1    188  711   523\n",
      "2    188  711   523\n",
      "3    188  711   523\n",
      "4    188  711   523\n",
      "..   ...  ...   ...\n",
      "501  711  188   523\n",
      "502  711  188   523\n",
      "503  711  188   523\n",
      "504  711  188   523\n",
      "505  711  187   524\n",
      "\n",
      "[506 rows x 3 columns]\n"
     ]
    }
   ],
   "source": [
    "# (첫 번째 컬럼 - 두 번째 컬럼)에 절댓값을 취한 후, data_concat 변수의 diff 컬럼에 저장하기\n",
    "data_concat['diff'] = abs(data_concat.iloc[:, 0] - data_concat.iloc[:, 1])\n",
    "\n",
    "# diff 컬럼이 추가된 data_concat 변수 확인하기\n",
    "print(data_concat)"
   ]
  },
  {
   "cell_type": "code",
   "execution_count": 24,
   "id": "1f442bec-49a5-419e-ab1d-45a3b9799637",
   "metadata": {},
   "outputs": [
    {
     "name": "stdout",
     "output_type": "stream",
     "text": [
      "28490.598645951555\n"
     ]
    }
   ],
   "source": [
    "# diff 컬럼의 분산 구하기\n",
    "print(data_concat['diff'].var())"
   ]
  },
  {
   "cell_type": "code",
   "execution_count": 25,
   "id": "8cd38ce8-8582-4e63-a655-b434e2ca82c7",
   "metadata": {},
   "outputs": [
    {
     "name": "stdout",
     "output_type": "stream",
     "text": [
      "28490.598645951555\n"
     ]
    }
   ],
   "source": [
    "### 최종 제출 코드 ###\n",
    "import pandas as pd\n",
    "data = pd.read_csv('data/boston.csv')\n",
    "data_asc = data['TAX'].copy()\n",
    "data_desc = data['TAX'].copy()\n",
    "data_asc.sort_values(ascending=True, inplace=True)\n",
    "data_desc.sort_values(ascending=False, inplace=True)\n",
    "data_asc.reset_index(drop=True, inplace=True)\n",
    "data_desc.reset_index(drop=True, inplace=True)\n",
    "data_concat = pd.concat([data_asc, data_desc], axis=1)\n",
    "data_concat['diff'] = abs(data_concat.iloc[:, 0] - data_concat.iloc[:, 1])\n",
    "print(data_concat['diff'].var())"
   ]
  },
  {
   "cell_type": "markdown",
   "id": "b264a6ae-84d1-4456-a296-c33aeb5c4273",
   "metadata": {},
   "source": [
    "### **2.3 최소-최대 변환하기(MinMaxScaler)**"
   ]
  },
  {
   "cell_type": "code",
   "execution_count": 26,
   "id": "6b1a6b2f-7bc3-4b61-8315-52187d912200",
   "metadata": {},
   "outputs": [],
   "source": [
    "import pandas as pd                     # 라이브러리 가져오기\n",
    "data = pd.read_csv('data/boston.csv')   # csv 파일 읽고 저장하기\n",
    "\n",
    "# sklearn 라이브러리의 preprocessing 모듈에서 MinMaxScaler 함수를 가져오기\n",
    "from sklearn.preprocessing import MinMaxScaler"
   ]
  },
  {
   "cell_type": "code",
   "execution_count": 27,
   "id": "0b192c43-d1bb-4489-8021-a7b97308b9d5",
   "metadata": {},
   "outputs": [],
   "source": [
    "# MinMaxScaler() 함수를 수행할 빈 박스를 생성하기\n",
    "scaler = MinMaxScaler()"
   ]
  },
  {
   "cell_type": "code",
   "execution_count": 28,
   "id": "978dc0bd-c0dc-416b-a665-23c0f574a1ca",
   "metadata": {},
   "outputs": [],
   "source": [
    "# 최소-최대 척도로 변환하기\n",
    "data_minmax = scaler.fit_transform(data)"
   ]
  },
  {
   "cell_type": "code",
   "execution_count": 29,
   "id": "b0118893-06e1-4054-ada2-6ad16a771c2d",
   "metadata": {},
   "outputs": [
    {
     "name": "stdout",
     "output_type": "stream",
     "text": [
      "<class 'numpy.ndarray'>\n"
     ]
    }
   ],
   "source": [
    "# data_minmax 변수의 데이터 타입 확인하기\n",
    "print(type(data_minmax))"
   ]
  },
  {
   "cell_type": "code",
   "execution_count": 30,
   "id": "a46d602a-4f12-45e5-83c9-df7a94dd9237",
   "metadata": {},
   "outputs": [
    {
     "name": "stdout",
     "output_type": "stream",
     "text": [
      "       CRIM    ZN     INDUS  CHAS       NOX        RM       AGE       DIS  \\\n",
      "0  0.000000  0.18  0.067815   0.0  0.314815  0.577505  0.641607  0.269203   \n",
      "1  0.000236  0.00  0.242302   0.0  0.172840  0.547998  0.782698  0.348962   \n",
      "2  0.000236  0.00  0.242302   0.0  0.172840  0.694386  0.599382  0.348962   \n",
      "\n",
      "        RAD       TAX   PTRATIO         B     LSTAT      MEDV  \n",
      "0  0.000000  0.208015  0.287234  1.000000  0.089680  0.422222  \n",
      "1  0.043478  0.104962  0.553191  1.000000  0.204470  0.368889  \n",
      "2  0.043478  0.104962  0.553191  0.989737  0.063466  0.660000  \n"
     ]
    }
   ],
   "source": [
    "# data_minmax 변수를 DataFrame으로 변환하기\n",
    "data_minmax = pd.DataFrame(data_minmax, columns=data.columns)\n",
    "\n",
    "# data_minmax 변수의 상위 3개 행을 출력하기\n",
    "print(data_minmax.head(3))"
   ]
  },
  {
   "cell_type": "code",
   "execution_count": 31,
   "id": "a378abc9-9c77-4803-bb5a-1862735a7aa3",
   "metadata": {},
   "outputs": [
    {
     "name": "stdout",
     "output_type": "stream",
     "text": [
      "count    506.000000\n",
      "mean       0.389618\n",
      "std        0.204380\n",
      "min        0.000000\n",
      "25%        0.267222\n",
      "50%        0.360000\n",
      "75%        0.444444\n",
      "max        1.000000\n",
      "Name: MEDV, dtype: float64\n"
     ]
    }
   ],
   "source": [
    "# data_minmax 변수의 MEDV 컬럼에 대한 기초통계량 구하기\n",
    "print(data_minmax['MEDV'].describe())"
   ]
  },
  {
   "cell_type": "code",
   "execution_count": 32,
   "id": "c414cf37-83b4-4c7e-90b8-ee8ddab71dab",
   "metadata": {},
   "outputs": [
    {
     "name": "stdout",
     "output_type": "stream",
     "text": [
      "0      False\n",
      "1      False\n",
      "2       True\n",
      "3       True\n",
      "4       True\n",
      "       ...  \n",
      "501    False\n",
      "502    False\n",
      "503    False\n",
      "504    False\n",
      "505    False\n",
      "Name: MEDV, Length: 506, dtype: bool\n"
     ]
    }
   ],
   "source": [
    "# MEDV 컬럼의 값이 0.5보다 큰지를 확인하기\n",
    "print(data_minmax['MEDV']>0.5)"
   ]
  },
  {
   "cell_type": "code",
   "execution_count": 33,
   "id": "e93c559b-478d-4435-bb5f-383f6f1cacb8",
   "metadata": {},
   "outputs": [
    {
     "name": "stdout",
     "output_type": "stream",
     "text": [
      "         CRIM    ZN     INDUS  CHAS       NOX        RM       AGE       DIS  \\\n",
      "2    0.000236  0.00  0.242302   0.0  0.172840  0.694386  0.599382  0.348962   \n",
      "3    0.000293  0.00  0.063050   0.0  0.150206  0.658555  0.441813  0.448545   \n",
      "4    0.000705  0.00  0.063050   0.0  0.150206  0.687105  0.528321  0.448545   \n",
      "5    0.000264  0.00  0.063050   0.0  0.150206  0.549722  0.574665  0.448545   \n",
      "39   0.000240  0.75  0.091276   0.0  0.088477  0.581337  0.194645  0.388428   \n",
      "..        ...   ...       ...   ...       ...       ...       ...       ...   \n",
      "370  0.073423  0.00  0.646628   1.0  0.506173  0.662004  0.974253  0.006620   \n",
      "371  0.103698  0.00  0.646628   0.0  0.506173  0.508718  1.000000  0.003592   \n",
      "372  0.092851  0.00  0.646628   1.0  0.582305  0.443380  0.892894  0.000000   \n",
      "407  0.134256  0.00  0.646628   0.0  0.563786  0.392221  1.000000  0.014149   \n",
      "473  0.052159  0.00  0.646628   0.0  0.471193  0.655106  0.666323  0.127609   \n",
      "\n",
      "          RAD       TAX   PTRATIO         B     LSTAT      MEDV  \n",
      "2    0.043478  0.104962  0.553191  0.989737  0.063466  0.660000  \n",
      "3    0.086957  0.066794  0.648936  0.994276  0.033389  0.631111  \n",
      "4    0.086957  0.066794  0.648936  1.000000  0.099338  0.693333  \n",
      "5    0.086957  0.066794  0.648936  0.992990  0.096026  0.526667  \n",
      "39   0.086957  0.124046  0.606383  0.996798  0.071468  0.573333  \n",
      "..        ...       ...       ...       ...       ...       ...  \n",
      "370  1.000000  0.914122  0.808511  0.987770  0.033940  1.000000  \n",
      "371  1.000000  0.914122  0.808511  0.922462  0.215232  1.000000  \n",
      "372  1.000000  0.914122  0.808511  0.876393  0.197296  1.000000  \n",
      "407  1.000000  0.914122  0.808511  0.836578  0.286976  0.508889  \n",
      "473  1.000000  0.914122  0.808511  0.943971  0.274007  0.551111  \n",
      "\n",
      "[106 rows x 14 columns]\n"
     ]
    }
   ],
   "source": [
    "# data_minmax 변수의 MEDV 컬럼에서 0.5를 초과하는 전체 값을 출력하기\n",
    "print(data_minmax[data_minmax['MEDV']>0.5])"
   ]
  },
  {
   "cell_type": "code",
   "execution_count": 34,
   "id": "55bcf3ee-c795-4202-97b5-5c9ef9d26c07",
   "metadata": {},
   "outputs": [
    {
     "name": "stdout",
     "output_type": "stream",
     "text": [
      "2      0.660000\n",
      "3      0.631111\n",
      "4      0.693333\n",
      "5      0.526667\n",
      "39     0.573333\n",
      "         ...   \n",
      "370    1.000000\n",
      "371    1.000000\n",
      "372    1.000000\n",
      "407    0.508889\n",
      "473    0.551111\n",
      "Name: MEDV, Length: 106, dtype: float64\n",
      "106\n"
     ]
    }
   ],
   "source": [
    "# data_minmax 변수의 MEDV 컬럼에서 0.5를 초과하는 MEDV 값만 출력하기\n",
    "print(data_minmax[data_minmax['MEDV']>0.5]['MEDV'])\n",
    "\n",
    "# data_minmax 변수의 MEDV 컬럼에서 0.5를 초과하는 MEDV 값의 개수 세기\n",
    "print(data_minmax[data_minmax['MEDV']>0.5]['MEDV'].count())"
   ]
  },
  {
   "cell_type": "code",
   "execution_count": 35,
   "id": "3a61ddac-993e-498a-bce2-b28eaea3b758",
   "metadata": {},
   "outputs": [
    {
     "name": "stdout",
     "output_type": "stream",
     "text": [
      "106\n"
     ]
    }
   ],
   "source": [
    "### 최종 제출 코드 ###\n",
    "import pandas as pd\n",
    "from sklearn.preprocessing import MinMaxScaler\n",
    "data = pd.read_csv('data/boston.csv')\n",
    "scaler = MinMaxScaler()\n",
    "data_minmax = scaler.fit_transform(data)\n",
    "data_minmax = pd.DataFrame(data_minmax, columns=data.columns)\n",
    "print(data_minmax[data_minmax['MEDV']>0.5]['MEDV'].count())"
   ]
  },
  {
   "cell_type": "markdown",
   "id": "500ddeb9-c41e-4ffc-8fa4-71abf2c56353",
   "metadata": {},
   "source": [
    "### **2.4 빈도값 구하기**"
   ]
  },
  {
   "cell_type": "markdown",
   "id": "5f8d5e9a-3db6-4ec2-8200-4e33cae67747",
   "metadata": {},
   "source": [
    "##### **- 첫 번째 방법**"
   ]
  },
  {
   "cell_type": "code",
   "execution_count": 36,
   "id": "c39e227c-2498-4dde-b111-8d399f902597",
   "metadata": {},
   "outputs": [],
   "source": [
    "import pandas as pd                     # 라이브러리 가져오기\n",
    "data = pd.read_csv('data/boston.csv')   # csv 파일 읽고 저장하기"
   ]
  },
  {
   "cell_type": "code",
   "execution_count": 37,
   "id": "f4b77601-0237-4e9c-91da-c6ecb1e6ad78",
   "metadata": {},
   "outputs": [
    {
     "name": "stdout",
     "output_type": "stream",
     "text": [
      "0      65.2\n",
      "1      78.9\n",
      "2      61.1\n",
      "3      45.8\n",
      "4      54.2\n",
      "       ... \n",
      "501    69.1\n",
      "502    76.7\n",
      "503    91.0\n",
      "504    89.3\n",
      "505    80.8\n",
      "Name: AGE, Length: 506, dtype: float64\n"
     ]
    }
   ],
   "source": [
    "# data 변수의 AGE 컬럼 확인하기\n",
    "print(data['AGE'])"
   ]
  },
  {
   "cell_type": "code",
   "execution_count": 38,
   "id": "4cf82fe3-6f19-4933-87bf-1a781fc74a1d",
   "metadata": {},
   "outputs": [
    {
     "name": "stdout",
     "output_type": "stream",
     "text": [
      "0      65.0\n",
      "1      79.0\n",
      "2      61.0\n",
      "3      46.0\n",
      "4      54.0\n",
      "       ... \n",
      "501    69.0\n",
      "502    77.0\n",
      "503    91.0\n",
      "504    89.0\n",
      "505    81.0\n",
      "Name: AGE, Length: 506, dtype: float64\n"
     ]
    }
   ],
   "source": [
    "# data 변수들의 AGE 컬럼을 반올림해서 일의 자리로 만들기\n",
    "print(round(data['AGE'], 0))\n",
    "\n",
    "# 반올림한 값들을 data2 변수에 저장하기\n",
    "data2 = round(data['AGE'], 0)"
   ]
  },
  {
   "cell_type": "code",
   "execution_count": 39,
   "id": "9a9344b1-7e73-45de-a85d-5b83b4c23740",
   "metadata": {},
   "outputs": [
    {
     "name": "stdout",
     "output_type": "stream",
     "text": [
      "AGE\n",
      "3.0       1\n",
      "6.0       3\n",
      "7.0       3\n",
      "8.0       3\n",
      "9.0       1\n",
      "         ..\n",
      "96.0     15\n",
      "97.0     17\n",
      "98.0     19\n",
      "99.0     10\n",
      "100.0    43\n",
      "Name: AGE, Length: 91, dtype: int64\n"
     ]
    }
   ],
   "source": [
    "# Series인 data2 변수를 DataFrame으로 변환하여 data2에 다시 저장하기\n",
    "data2 = pd.DataFrame(data2)\n",
    "\n",
    "# data2 변수에서 AGE 컬럼으로 그룹화하고, 그룹별 AGE 컬럼의 개수 세기\n",
    "print(data2.groupby(['AGE'])['AGE'].count())"
   ]
  },
  {
   "cell_type": "code",
   "execution_count": 40,
   "id": "4b5eaeef-b41f-4b9a-8221-5eaaf50dbedd",
   "metadata": {},
   "outputs": [
    {
     "name": "stdout",
     "output_type": "stream",
     "text": [
      "AGE\n",
      "3.0       1\n",
      "6.0       3\n",
      "7.0       3\n",
      "8.0       3\n",
      "9.0       1\n",
      "         ..\n",
      "96.0     15\n",
      "97.0     17\n",
      "98.0     19\n",
      "99.0     10\n",
      "100.0    43\n",
      "Name: AGE, Length: 91, dtype: int64\n"
     ]
    }
   ],
   "source": [
    "# 그룹화 결과를 data3 변수에 저장하기\n",
    "data3 = data2.groupby(['AGE'])['AGE'].count()\n",
    "\n",
    "# data3 변수 확인하기\n",
    "print(data3)"
   ]
  },
  {
   "cell_type": "code",
   "execution_count": 41,
   "id": "2abe8983-a466-4dbf-8c2e-76b1b87b0f46",
   "metadata": {},
   "outputs": [
    {
     "name": "stdout",
     "output_type": "stream",
     "text": [
      "<class 'pandas.core.series.Series'>\n",
      "<class 'pandas.core.frame.DataFrame'>\n"
     ]
    }
   ],
   "source": [
    "# data3 변수의 데이터 타입 확인하기\n",
    "print(type(data3))\n",
    "\n",
    "# data3 변수를 DataFrame 타입으로 변환하기\n",
    "data3 = pd.DataFrame(data3)\n",
    "\n",
    "# data3 벼수의 데이터 타입 확인하기\n",
    "print(type(data3))"
   ]
  },
  {
   "cell_type": "code",
   "execution_count": 42,
   "id": "4f15cad2-22e1-40c6-9325-2ab296e5ee8d",
   "metadata": {},
   "outputs": [
    {
     "name": "stdout",
     "output_type": "stream",
     "text": [
      "Index(['AGE'], dtype='object')\n",
      "     COUNT\n",
      "AGE       \n",
      "3.0      1\n",
      "6.0      3\n",
      "7.0      3\n"
     ]
    }
   ],
   "source": [
    "# data3 변수의 컬럼 이름 확인하기\n",
    "print(data3.columns)\n",
    "\n",
    "# data3 변수의 유일한 컬럼은 COUNT로 설정하기\n",
    "data3.columns = ['COUNT']\n",
    "\n",
    "# data3 변수의 상위 3개 데이터 확인하기\n",
    "print(data3.head(3))"
   ]
  },
  {
   "cell_type": "code",
   "execution_count": 43,
   "id": "1c0ece2f-be70-4991-916c-46eca58ae292",
   "metadata": {},
   "outputs": [
    {
     "name": "stdout",
     "output_type": "stream",
     "text": [
      "   AGE  COUNT\n",
      "0  3.0      1\n",
      "1  6.0      3\n",
      "2  7.0      3\n"
     ]
    }
   ],
   "source": [
    "# data3 변수의 기존 인덱스는 컬럼으로 사용하고, 일련번호를 새로운 인덱스로 저장하기\n",
    "data3.reset_index(drop=False, inplace=True)\n",
    "\n",
    "# data3 변수의 상위 3개 데이터 확인하기\n",
    "print(data3.head(3))"
   ]
  },
  {
   "cell_type": "code",
   "execution_count": 44,
   "id": "ab8ff9bb-6b88-41c9-b3c3-e0ef8420b020",
   "metadata": {},
   "outputs": [
    {
     "name": "stdout",
     "output_type": "stream",
     "text": [
      "      AGE  COUNT\n",
      "90  100.0     43\n",
      "88   98.0     19\n",
      "87   97.0     17\n"
     ]
    }
   ],
   "source": [
    "# data3 변수의 COUNT 컬럼을 기준으로 내림차순 정렬하기\n",
    "data3.sort_values(by='COUNT', ascending=False, inplace=True)\n",
    "\n",
    "# data3 변수의 상위 3개 데이터 확인하기\n",
    "print(data3.head(3))"
   ]
  },
  {
   "cell_type": "code",
   "execution_count": 45,
   "id": "e1e7c764-070e-4ca8-bd07-c55f8498a520",
   "metadata": {},
   "outputs": [
    {
     "name": "stdout",
     "output_type": "stream",
     "text": [
      "100.0 43\n"
     ]
    }
   ],
   "source": [
    "# data3 변수의 AGE 컬럼에서 최빈값과 그 개수를 출력하기\n",
    "print(data3.iloc[0, 0], data3.iloc[0, 1])"
   ]
  },
  {
   "cell_type": "markdown",
   "id": "bd56e0ce-0de3-4eb3-92db-3272a09592b0",
   "metadata": {},
   "source": [
    "##### **- 두 번쨰 방법**"
   ]
  },
  {
   "cell_type": "code",
   "execution_count": 46,
   "id": "c1cbf28b-1937-4a90-966e-466cc9d61309",
   "metadata": {},
   "outputs": [],
   "source": [
    "# scipy 라이브러리의 stats 모듈에서 mode 함수 가져오기\n",
    "from scipy.stats import mode"
   ]
  },
  {
   "cell_type": "code",
   "execution_count": 47,
   "id": "3685ea7c-997e-4e44-9f87-b4e3e3189251",
   "metadata": {},
   "outputs": [
    {
     "name": "stdout",
     "output_type": "stream",
     "text": [
      "ModeResult(mode=array([[100.]]), count=array([[43]]))\n"
     ]
    }
   ],
   "source": [
    "# data2 변수의 최빈값과 개수 구하기\n",
    "print(mode(data2))"
   ]
  },
  {
   "cell_type": "code",
   "execution_count": 48,
   "id": "7f4086a5-3df2-4a45-84ad-c51df7cc1251",
   "metadata": {},
   "outputs": [
    {
     "name": "stdout",
     "output_type": "stream",
     "text": [
      "[[100.]]\n",
      "[[43]]\n"
     ]
    }
   ],
   "source": [
    "# data2 변수의 최빈값만 추출하기\n",
    "print(mode(data2)[0])\n",
    "\n",
    "# data2 변수의 최빈값 개수만 추출하기\n",
    "print(mode(data2)[1])"
   ]
  },
  {
   "cell_type": "code",
   "execution_count": 49,
   "id": "a5011121-f0a7-4e52-ae31-019885fc81af",
   "metadata": {},
   "outputs": [
    {
     "name": "stdout",
     "output_type": "stream",
     "text": [
      "100\n",
      "43\n",
      "100 43\n"
     ]
    }
   ],
   "source": [
    "# 최빈값을 정수형으로 변환하기\n",
    "print(int(mode(data2)[0]))\n",
    "\n",
    "# 최빈값 개수를 정수형으로 변환하기\n",
    "print(int(mode(data2)[1]))\n",
    "\n",
    "# 각 코드를 통합하여 최종 출력하기\n",
    "print(int(mode(data2)[0]), int(mode(data2)[1]))"
   ]
  },
  {
   "cell_type": "code",
   "execution_count": 50,
   "id": "6f333dcc-e5c1-45fc-a405-1688c6b55e9d",
   "metadata": {},
   "outputs": [
    {
     "name": "stdout",
     "output_type": "stream",
     "text": [
      "100 43\n"
     ]
    }
   ],
   "source": [
    "### 최종 제출 코드 ###\n",
    "import pandas as pd\n",
    "data = pd.read_csv('data/boston.csv')\n",
    "from scipy.stats import mode\n",
    "print(int(mode(round(data['AGE'], 0))[0]), int(mode(round(data['AGE'], 0))[1]))"
   ]
  },
  {
   "cell_type": "markdown",
   "id": "5ee4768b-4e9a-4000-b6f8-b65252d10619",
   "metadata": {},
   "source": [
    "### **2.5 표준 변환하기(StandardScaler)**"
   ]
  },
  {
   "cell_type": "code",
   "execution_count": 51,
   "id": "2412f1a2-0461-4134-94ec-955b056c0504",
   "metadata": {},
   "outputs": [],
   "source": [
    "import pandas as pd                     # 라이브러리 가져오기\n",
    "data = pd.read_csv('data/boston.csv')   # csv 파일 읽고 저장하기\n",
    "\n",
    "# sklearn 라이브러리의 preprocessing 모듈에서 StandardScaler 함수를 가져오기\n",
    "from sklearn.preprocessing import StandardScaler"
   ]
  },
  {
   "cell_type": "code",
   "execution_count": 52,
   "id": "a3bcb31d-2876-46f9-9bf8-85ad359f90d3",
   "metadata": {},
   "outputs": [],
   "source": [
    "# StandardScaler 함수를 수행할 빈 박스 생성하기\n",
    "scaler = StandardScaler()"
   ]
  },
  {
   "cell_type": "code",
   "execution_count": 53,
   "id": "91fd67e0-651a-425f-9c57-49919e41924a",
   "metadata": {},
   "outputs": [],
   "source": [
    "# 표준화 척도로 변환하기\n",
    "data_stdd = scaler.fit_transform(data)"
   ]
  },
  {
   "cell_type": "code",
   "execution_count": 54,
   "id": "3b2a1071-511a-4c02-9d92-151e653fab86",
   "metadata": {},
   "outputs": [
    {
     "name": "stdout",
     "output_type": "stream",
     "text": [
      "<class 'numpy.ndarray'>\n"
     ]
    }
   ],
   "source": [
    "# data_stdd 변수의 데이터 타입 확인하기\n",
    "print(type(data_stdd))"
   ]
  },
  {
   "cell_type": "code",
   "execution_count": 55,
   "id": "4b451430-ed9d-4e4e-9437-c68c5f60381d",
   "metadata": {},
   "outputs": [],
   "source": [
    "# data_stdd 변수를 DataFrame으로 변환하기\n",
    "data_stdd = pd.DataFrame(data_stdd, columns=data.columns)"
   ]
  },
  {
   "cell_type": "code",
   "execution_count": 56,
   "id": "cfb0ac14-a8db-45e3-8e92-22c8fd73189c",
   "metadata": {},
   "outputs": [
    {
     "name": "stdout",
     "output_type": "stream",
     "text": [
      "0      False\n",
      "1       True\n",
      "2       True\n",
      "3      False\n",
      "4      False\n",
      "       ...  \n",
      "501    False\n",
      "502    False\n",
      "503    False\n",
      "504    False\n",
      "505    False\n",
      "Name: DIS, Length: 506, dtype: bool\n"
     ]
    }
   ],
   "source": [
    "# DIS 컬럼의 값이 0.4보다 크고, 0.6보다 작은지를 확인하기\n",
    "print((data_stdd['DIS']>0.4) & (data_stdd['DIS']<0.6))"
   ]
  },
  {
   "cell_type": "code",
   "execution_count": 57,
   "id": "94e18e75-7b4b-4881-a5ea-587c563f6bd4",
   "metadata": {},
   "outputs": [
    {
     "name": "stdout",
     "output_type": "stream",
     "text": [
      "         CRIM        ZN     INDUS      CHAS       NOX        RM       AGE  \\\n",
      "1   -0.417339 -0.487722 -0.593381 -0.272599 -0.740262  0.192116  0.367166   \n",
      "2   -0.417342 -0.487722 -0.593381 -0.272599 -0.740262  1.272167 -0.265812   \n",
      "13  -0.347230 -0.487722 -0.437258 -0.272599 -0.144217 -0.475140 -0.240919   \n",
      "26  -0.342325 -0.487722 -0.437258 -0.272599 -0.144217 -0.667400  0.772557   \n",
      "78  -0.413947 -0.487722  0.247057 -0.272599 -1.016689 -0.075069 -0.528960   \n",
      "84  -0.414630 -0.487722 -0.969827 -0.272599 -0.913029  0.146879 -0.731655   \n",
      "276 -0.408334  1.229060 -0.689681  3.668398 -0.930305  1.388089 -0.696095   \n",
      "277 -0.413387  1.229060 -0.689681  3.668398 -0.930305  0.764656 -1.457091   \n",
      "280 -0.416354  0.370669 -1.139082 -0.272599 -0.965723  2.169853 -0.144906   \n",
      "322 -0.379654 -0.487722 -0.548149 -0.272599 -0.532942 -0.345082 -0.664090   \n",
      "323 -0.387477 -0.487722 -0.548149 -0.272599 -0.532942 -0.815837  0.203588   \n",
      "324 -0.380824 -0.487722 -0.548149 -0.272599 -0.532942  0.183634 -1.012584   \n",
      "338 -0.416670 -0.487722 -0.867691 -0.272599 -0.342899 -0.319635 -1.112153   \n",
      "339 -0.414120 -0.487722 -0.867691 -0.272599 -0.342899 -0.424248 -0.824113   \n",
      "340 -0.413359 -0.487722 -0.867691 -0.272599 -0.342899 -0.448280 -0.358269   \n",
      "\n",
      "          DIS       RAD       TAX   PTRATIO         B     LSTAT      MEDV  \n",
      "1    0.557160 -0.867883 -0.987329 -0.303094  0.441052 -0.492439 -0.101524  \n",
      "2    0.557160 -0.867883 -0.987329 -0.303094  0.396427 -1.208727  1.324247  \n",
      "13   0.433754 -0.637962 -0.601276  1.176466  0.441052 -0.615792 -0.232129  \n",
      "26   0.421632 -0.637962 -0.601276  1.176466  0.221545  0.302346 -0.645712  \n",
      "78   0.579502 -0.523001 -0.060801  0.113032  0.325926 -0.043883 -0.145059  \n",
      "84   0.467933 -0.752922 -0.957633  0.020560  0.441052 -0.425156  0.148802  \n",
      "276  0.471641 -0.637962 -0.916058 -0.395567  0.357175 -0.925576  1.160990  \n",
      "277  0.507579 -0.637962 -0.916058 -0.395567  0.403225 -1.190505  1.150107  \n",
      "280  0.427669 -0.523001 -1.141751 -1.643945  0.335904 -1.246574  2.488808  \n",
      "322  0.440219 -0.523001 -0.720062  0.529158  0.441052 -0.694290 -0.232129  \n",
      "323  0.440219 -0.523001 -0.720062  0.529158  0.377788 -0.127988 -0.438920  \n",
      "324  0.440219 -0.523001 -0.720062  0.529158  0.441052 -0.915764  0.268523  \n",
      "338  0.483525 -0.523001 -1.094237  0.806576  0.432719 -0.580749 -0.210362  \n",
      "339  0.483525 -0.523001 -1.094237  0.806576  0.441052 -0.408335 -0.384502  \n",
      "340  0.483525 -0.523001 -1.094237  0.806576  0.441052 -0.471413 -0.417153  \n"
     ]
    }
   ],
   "source": [
    "# data_stdd 변수의 DIS 컬럼이 0.4 ~ 0.6 사이에 있는 전체 값을 출력하기\n",
    "print(data_stdd[(data_stdd['DIS']>0.4) & (data_stdd['DIS']<0.6)])"
   ]
  },
  {
   "cell_type": "code",
   "execution_count": 58,
   "id": "cbcdf8a7-f44e-47fb-a5d5-ef7482f96ea2",
   "metadata": {},
   "outputs": [],
   "source": [
    "# 간소화 목적으로 앞의 결과 데이터를 data_stdd 변수에 다시 저장하기\n",
    "data_stdd = data_stdd[(data_stdd['DIS']>0.4) & (data_stdd['DIS']<0.6)]"
   ]
  },
  {
   "cell_type": "code",
   "execution_count": 59,
   "id": "e04d864a-8235-4b6f-819c-3cf09e4d14f7",
   "metadata": {},
   "outputs": [
    {
     "name": "stdout",
     "output_type": "stream",
     "text": [
      "1      0.557160\n",
      "2      0.557160\n",
      "13     0.433754\n",
      "26     0.421632\n",
      "78     0.579502\n",
      "84     0.467933\n",
      "276    0.471641\n",
      "277    0.507579\n",
      "280    0.427669\n",
      "322    0.440219\n",
      "323    0.440219\n",
      "324    0.440219\n",
      "338    0.483525\n",
      "339    0.483525\n",
      "340    0.483525\n",
      "Name: DIS, dtype: float64\n"
     ]
    }
   ],
   "source": [
    "# data_stdd 변수의 DIS 컬럼만 추출하기\n",
    "print(data_stdd['DIS'])"
   ]
  },
  {
   "cell_type": "code",
   "execution_count": 60,
   "id": "99848ff8-3f5e-4b76-acf1-c118446cf445",
   "metadata": {},
   "outputs": [
    {
     "name": "stdout",
     "output_type": "stream",
     "text": [
      "0.479684212855197\n",
      "0.48\n"
     ]
    }
   ],
   "source": [
    "# DIS 컬럼의 평균값 구하기\n",
    "print(data_stdd['DIS'].mean())\n",
    "\n",
    "# DIS 컬럼의 평균값을 소수점 셋째 자리에서 반올림하기\n",
    "print(round(data_stdd['DIS'].mean(), 2))"
   ]
  },
  {
   "cell_type": "code",
   "execution_count": 61,
   "id": "28114209-ea4a-4b0f-a0e1-2f666c4c597f",
   "metadata": {},
   "outputs": [
    {
     "name": "stdout",
     "output_type": "stream",
     "text": [
      "0.48\n"
     ]
    }
   ],
   "source": [
    "### 최종 제출 코드 ###\n",
    "import pandas as pd\n",
    "data = pd.read_csv('data/boston.csv')\n",
    "from sklearn.preprocessing import StandardScaler\n",
    "scaler = StandardScaler()\n",
    "data_stdd = scaler.fit_transform(data)\n",
    "data_stdd = pd.DataFrame(data_stdd, columns=data.columns)\n",
    "data_stdd = data_stdd[(data_stdd['DIS']>0.4) & (data_stdd['DIS']<0.6)]\n",
    "print(round(data_stdd['DIS'].mean(), 2))"
   ]
  },
  {
   "cell_type": "markdown",
   "id": "66b1f5f5-49ed-4792-918e-4aaaedd7f0c9",
   "metadata": {},
   "source": [
    "### **2.6 유니크한 값 구하기**"
   ]
  },
  {
   "cell_type": "markdown",
   "id": "4d47cfe0-6718-49ad-942d-891d5764a5b2",
   "metadata": {},
   "source": [
    "##### **- 첫 번째 방법**"
   ]
  },
  {
   "cell_type": "code",
   "execution_count": 62,
   "id": "0189fabe-d5e7-4952-879e-c856ea7815db",
   "metadata": {},
   "outputs": [],
   "source": [
    "import pandas as pd                     # 라이브러리 가져오기\n",
    "data = pd.read_csv('data/boston.csv')   # csv 파일 읽고 저장하기"
   ]
  },
  {
   "cell_type": "code",
   "execution_count": 63,
   "id": "64e8c4ac-bc67-48a8-b501-df67681824ce",
   "metadata": {},
   "outputs": [
    {
     "name": "stdout",
     "output_type": "stream",
     "text": [
      "Index(['CRIM', 'ZN', 'INDUS', 'CHAS', 'NOX', 'RM', 'AGE', 'DIS', 'RAD', 'TAX',\n",
      "       'PTRATIO', 'B', 'LSTAT', 'MEDV'],\n",
      "      dtype='object')\n",
      "14\n"
     ]
    }
   ],
   "source": [
    "# data 변수의 컬럼 목록 확인하기\n",
    "print(data.columns)\n",
    "\n",
    "# data 변수의 컬럼 목록을 data_col 변수에 저장하기\n",
    "data_col = data.columns\n",
    "\n",
    "# data_col 변수 안의 개수 구하기\n",
    "print(data_col.size)"
   ]
  },
  {
   "cell_type": "code",
   "execution_count": 64,
   "id": "4f95468d-8fbe-4d36-9b8c-4f729f9a4ffa",
   "metadata": {},
   "outputs": [
    {
     "name": "stdout",
     "output_type": "stream",
     "text": [
      "[0 1]\n"
     ]
    }
   ],
   "source": [
    "# CHAS 컬럼에서 유일한 값들의 목록 확인하기\n",
    "print(data['CHAS'].unique())"
   ]
  },
  {
   "cell_type": "code",
   "execution_count": 65,
   "id": "d589f09b-3cd6-444e-b5f3-1da8a4e0deae",
   "metadata": {},
   "outputs": [
    {
     "data": {
      "text/plain": [
       "0    471\n",
       "1     35\n",
       "Name: CHAS, dtype: int64"
      ]
     },
     "execution_count": 65,
     "metadata": {},
     "output_type": "execute_result"
    }
   ],
   "source": [
    "data['CHAS'].value_counts()"
   ]
  },
  {
   "cell_type": "code",
   "execution_count": 66,
   "id": "ea41fab1-e6c9-4dcf-9275-c99bb1d95b55",
   "metadata": {},
   "outputs": [
    {
     "name": "stdout",
     "output_type": "stream",
     "text": [
      "   0\n",
      "0  0\n",
      "1  1\n",
      "0    2\n",
      "dtype: int64\n"
     ]
    }
   ],
   "source": [
    "# DataFrame 타입으로 변환하기\n",
    "print(pd.DataFrame(data['CHAS'].unique()))\n",
    "\n",
    "# 결과 건수를 계산하기\n",
    "print(pd.DataFrame(data['CHAS'].unique()).count())"
   ]
  },
  {
   "cell_type": "code",
   "execution_count": 67,
   "id": "6ab48d74-997e-4c89-993f-9de9ec59b79c",
   "metadata": {},
   "outputs": [
    {
     "name": "stdout",
     "output_type": "stream",
     "text": [
      "2\n"
     ]
    }
   ],
   "source": [
    "# CHAS 컬럼의 유니크한 값 개수를 정수형으로 변환해 출력하기\n",
    "print(int(pd.DataFrame(data['CHAS'].unique()).count()))"
   ]
  },
  {
   "cell_type": "code",
   "execution_count": 68,
   "id": "0771a89c-a5fd-48ff-b6a1-e7f94d5d3bf7",
   "metadata": {},
   "outputs": [
    {
     "name": "stdout",
     "output_type": "stream",
     "text": [
      "218.0\n"
     ]
    }
   ],
   "source": [
    "# data 변수의 각 컬럼에 대해서 유니크한 값을 구한 후, 평균값 구하기\n",
    "print((int(pd.DataFrame(data['CRIM'].unique()).count()) +\n",
    "       int(pd.DataFrame(data['ZN'].unique()).count()) +\n",
    "       int(pd.DataFrame(data['INDUS'].unique()).count()) +\n",
    "       int(pd.DataFrame(data['CHAS'].unique()).count()) +\n",
    "       int(pd.DataFrame(data['NOX'].unique()).count()) +\n",
    "       int(pd.DataFrame(data['RM'].unique()).count()) +\n",
    "       int(pd.DataFrame(data['AGE'].unique()).count()) +\n",
    "       int(pd.DataFrame(data['DIS'].unique()).count()) +\n",
    "       int(pd.DataFrame(data['RAD'].unique()).count()) +\n",
    "       int(pd.DataFrame(data['TAX'].unique()).count()) +\n",
    "       int(pd.DataFrame(data['PTRATIO'].unique()).count()) +\n",
    "       int(pd.DataFrame(data['B'].unique()).count()) +\n",
    "       int(pd.DataFrame(data['LSTAT'].unique()).count()) +\n",
    "       int(pd.DataFrame(data['MEDV'].unique()).count()))\n",
    "       / data_col.size)"
   ]
  },
  {
   "cell_type": "markdown",
   "id": "467a3fac-7e81-477f-a269-731bed31e934",
   "metadata": {},
   "source": [
    "##### **- 두 번째 방법**"
   ]
  },
  {
   "cell_type": "code",
   "execution_count": 69,
   "id": "64efaa21-4041-49c8-bb5d-d8f2671e7800",
   "metadata": {},
   "outputs": [],
   "source": [
    "# 최초 합계는 0으로 설정하기\n",
    "sum = 0\n",
    "\n",
    "# data 변수의 컬럼별로 유니크한 값 개수를 구한 후, sum 변수에 더하는 for문 만들기\n",
    "for i in data_col:\n",
    "    sum = sum + int(pd.DataFrame(data[i].unique()).count()[0])   # [0] 없어도 됨!"
   ]
  },
  {
   "cell_type": "code",
   "execution_count": 70,
   "id": "80adfdac-25b8-4663-9efe-88988e2f41c5",
   "metadata": {},
   "outputs": [
    {
     "name": "stdout",
     "output_type": "stream",
     "text": [
      "3052\n"
     ]
    }
   ],
   "source": [
    "# sum 변수 확인하기\n",
    "print(sum)"
   ]
  },
  {
   "cell_type": "code",
   "execution_count": 71,
   "id": "2620ea6d-1267-4ddd-992b-6382fadb0e1b",
   "metadata": {},
   "outputs": [
    {
     "name": "stdout",
     "output_type": "stream",
     "text": [
      "14\n",
      "218.0\n"
     ]
    }
   ],
   "source": [
    "# data_col 변수의 사이즈 확인하기\n",
    "print(data_col.size)\n",
    "\n",
    "# sum 변수에서 data_col.size 값을 나누기\n",
    "print(sum / data_col.size)"
   ]
  },
  {
   "cell_type": "code",
   "execution_count": null,
   "id": "7dcfdd80-d7ec-4411-b275-0a8aa064a873",
   "metadata": {},
   "outputs": [],
   "source": []
  }
 ],
 "metadata": {
  "kernelspec": {
   "display_name": "Python Multi",
   "language": "python",
   "name": "multi"
  },
  "language_info": {
   "codemirror_mode": {
    "name": "ipython",
    "version": 3
   },
   "file_extension": ".py",
   "mimetype": "text/x-python",
   "name": "python",
   "nbconvert_exporter": "python",
   "pygments_lexer": "ipython3",
   "version": "3.9.5"
  }
 },
 "nbformat": 4,
 "nbformat_minor": 5
}
