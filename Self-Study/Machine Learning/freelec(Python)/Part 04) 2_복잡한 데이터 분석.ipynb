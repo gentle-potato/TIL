{
 "cells": [
  {
   "cell_type": "markdown",
   "id": "e932e657-6d70-4393-b70e-3b3e34fcf671",
   "metadata": {},
   "source": [
    "# **Part 04) 파이썬으로 초보 분석가 되기**"
   ]
  },
  {
   "cell_type": "markdown",
   "id": "4f1095f1-e717-46d1-aa24-77693082d5e0",
   "metadata": {},
   "source": [
    "## **2_복잡한 데이터 분석**"
   ]
  },
  {
   "cell_type": "markdown",
   "id": "7c835050-8848-4d64-bd5f-579811ab7f45",
   "metadata": {},
   "source": [
    "### **2.1 그룹별 집계/요약하기**"
   ]
  },
  {
   "cell_type": "code",
   "execution_count": 1,
   "id": "03ccf4a3-a053-4607-bcb2-76c65ccd5905",
   "metadata": {},
   "outputs": [],
   "source": [
    "import pandas as pd                     # 라이브러리 가져오기\n",
    "data = pd.read_csv('data/boston.csv')   # csv 파일 읽고 저장하기"
   ]
  },
  {
   "cell_type": "code",
   "execution_count": 2,
   "id": "c7341cb5-b870-41c6-a4a8-a6fa5060efea",
   "metadata": {},
   "outputs": [
    {
     "name": "stdout",
     "output_type": "stream",
     "text": [
      "330.0\n"
     ]
    }
   ],
   "source": [
    "# TAX 컬럼의 중위값 구하기\n",
    "tax_median = data['TAX'].median()\n",
    "\n",
    "# TAX 컬럼의 중위값 확인하기\n",
    "print(tax_median)"
   ]
  },
  {
   "cell_type": "code",
   "execution_count": 3,
   "id": "6c62fb01-242a-49ba-bd8e-8b156308548b",
   "metadata": {},
   "outputs": [
    {
     "name": "stdout",
     "output_type": "stream",
     "text": [
      "0      False\n",
      "1      False\n",
      "2      False\n",
      "3      False\n",
      "4      False\n",
      "       ...  \n",
      "501    False\n",
      "502    False\n",
      "503    False\n",
      "504    False\n",
      "505    False\n",
      "Name: TAX, Length: 506, dtype: bool\n"
     ]
    }
   ],
   "source": [
    "# TAX 컬럼에서 tax_median보다 큰지 여부를 확인하기\n",
    "print(data['TAX']>tax_median)"
   ]
  },
  {
   "cell_type": "code",
   "execution_count": 4,
   "id": "5d0cc78a-32f3-4b98-ae05-dfa0f40dba83",
   "metadata": {},
   "outputs": [
    {
     "name": "stdout",
     "output_type": "stream",
     "text": [
      "        CRIM    ZN  INDUS  CHAS    NOX     RM   AGE     DIS  RAD  TAX  \\\n",
      "54   0.01360  75.0   4.00     0  0.410  5.888  47.6  7.3197    3  469   \n",
      "65   0.03584  80.0   3.37     0  0.398  6.290  17.8  6.6115    4  337   \n",
      "66   0.04379  80.0   3.37     0  0.398  5.787  31.1  6.6115    4  337   \n",
      "67   0.05789  12.5   6.07     0  0.409  5.878  21.4  6.4980    4  345   \n",
      "68   0.13554  12.5   6.07     0  0.409  5.594  36.8  6.4980    4  345   \n",
      "..       ...   ...    ...   ...    ...    ...   ...     ...  ...  ...   \n",
      "496  0.28960   0.0   9.69     0  0.585  5.390  72.9  2.7986    6  391   \n",
      "497  0.26838   0.0   9.69     0  0.585    NaN  70.6  2.8927    6  391   \n",
      "498  0.23912   0.0   9.69     0  0.585  6.019  65.3  2.4091    6  391   \n",
      "499  0.17783   0.0   9.69     0  0.585  5.569  73.5  2.3999    6  391   \n",
      "500  0.22438   0.0   9.69     0  0.585  6.027  79.7  2.4982    6  391   \n",
      "\n",
      "     PTRATIO       B  LSTAT  MEDV  \n",
      "54      21.1  396.90  14.80  18.9  \n",
      "65      16.1  396.90   4.67  23.5  \n",
      "66      16.1  396.90  10.24  19.4  \n",
      "67      18.9  396.21   8.10  22.0  \n",
      "68      18.9  396.90  13.09  17.4  \n",
      "..       ...     ...    ...   ...  \n",
      "496     19.2  396.90  21.14  19.7  \n",
      "497     19.2  396.90  14.10  18.3  \n",
      "498     19.2  396.90  12.92  21.2  \n",
      "499     19.2  395.77  15.10  17.5  \n",
      "500     19.2  396.90  14.33  16.8  \n",
      "\n",
      "[250 rows x 14 columns]\n"
     ]
    }
   ],
   "source": [
    "# TAX 컬럼이 중위값보다 큰 값들만 추출해서 확인하기\n",
    "print(data[data['TAX']>tax_median])"
   ]
  },
  {
   "cell_type": "code",
   "execution_count": 5,
   "id": "8c80468e-f16a-460d-bca8-7c7ff3e31a65",
   "metadata": {},
   "outputs": [
    {
     "name": "stdout",
     "output_type": "stream",
     "text": [
      "     CHAS  RAD\n",
      "54      0    3\n",
      "65      0    4\n",
      "66      0    4\n",
      "67      0    4\n",
      "68      0    4\n",
      "..    ...  ...\n",
      "496     0    6\n",
      "497     0    6\n",
      "498     0    6\n",
      "499     0    6\n",
      "500     0    6\n",
      "\n",
      "[250 rows x 2 columns]\n"
     ]
    }
   ],
   "source": [
    "# TAX 컬럼에서 중위값보다 큰 값을 기준으로 CHAS 컬럼과 RAD 컬럼만 추출하기\n",
    "print(data[data['TAX']>tax_median][['CHAS', 'RAD']])\n",
    "\n",
    "# 앞선 결과를 data_new 변수에 저장하기\n",
    "data_new = data[data['TAX']>tax_median][['CHAS', 'RAD']]"
   ]
  },
  {
   "cell_type": "code",
   "execution_count": 6,
   "id": "1e09db7f-b9fd-496a-8d44-84e8ca207899",
   "metadata": {},
   "outputs": [
    {
     "name": "stdout",
     "output_type": "stream",
     "text": [
      "[0 1]\n",
      "[ 3  4  5  6  2  1 24]\n"
     ]
    }
   ],
   "source": [
    "# CHAS 컬럼에 들어있는 값 종류를 확인하기\n",
    "print(data_new['CHAS'].unique())\n",
    "\n",
    "# RAD 컬럼에 들어있는 값 종류를 확인하기\n",
    "print(data_new['RAD'].unique())"
   ]
  },
  {
   "cell_type": "code",
   "execution_count": 7,
   "id": "47318a62-5048-4322-bb6f-6d921cc11ebb",
   "metadata": {},
   "outputs": [
    {
     "name": "stdout",
     "output_type": "stream",
     "text": [
      "CHAS  RAD\n",
      "0     1        3\n",
      "      2        2\n",
      "      3        5\n",
      "      4       33\n",
      "      5       51\n",
      "      6       17\n",
      "      24     124\n",
      "1     5        7\n",
      "      24       8\n",
      "Name: RAD, dtype: int64\n"
     ]
    }
   ],
   "source": [
    "# CHAS, RAD 컬럼 순으로 그룹을 짓고, 그룹 안에 속한 RAD 컬럼 값을 센 변수 만들기\n",
    "data_new2 = data_new.groupby(['CHAS', 'RAD'])['RAD'].count()\n",
    "\n",
    "# data_new2 변수의 결과 확인하기\n",
    "print(data_new2)"
   ]
  },
  {
   "cell_type": "code",
   "execution_count": 8,
   "id": "af1dbf42-2cd9-4872-8e07-1e95901c8a44",
   "metadata": {},
   "outputs": [
    {
     "name": "stdout",
     "output_type": "stream",
     "text": [
      "<class 'pandas.core.series.Series'>\n",
      "Index(['RAD'], dtype='object')\n"
     ]
    }
   ],
   "source": [
    "# data_new2 변수의 데이터 타입 확인하기\n",
    "print(type(data_new2))\n",
    "\n",
    "# data_new2 변수를 DataFrame으로 변경하고, data_new3 변수에 저장하기\n",
    "data_new3 = pd.DataFrame(data_new2)\n",
    "print(data_new3.columns)"
   ]
  },
  {
   "cell_type": "code",
   "execution_count": 9,
   "id": "2e360456-3511-4d1e-996e-1296ecdaa4f0",
   "metadata": {},
   "outputs": [
    {
     "data": {
      "text/html": [
       "<div>\n",
       "<style scoped>\n",
       "    .dataframe tbody tr th:only-of-type {\n",
       "        vertical-align: middle;\n",
       "    }\n",
       "\n",
       "    .dataframe tbody tr th {\n",
       "        vertical-align: top;\n",
       "    }\n",
       "\n",
       "    .dataframe thead th {\n",
       "        text-align: right;\n",
       "    }\n",
       "</style>\n",
       "<table border=\"1\" class=\"dataframe\">\n",
       "  <thead>\n",
       "    <tr style=\"text-align: right;\">\n",
       "      <th></th>\n",
       "      <th></th>\n",
       "      <th>RAD</th>\n",
       "    </tr>\n",
       "    <tr>\n",
       "      <th>CHAS</th>\n",
       "      <th>RAD</th>\n",
       "      <th></th>\n",
       "    </tr>\n",
       "  </thead>\n",
       "  <tbody>\n",
       "    <tr>\n",
       "      <th rowspan=\"7\" valign=\"top\">0</th>\n",
       "      <th>1</th>\n",
       "      <td>3</td>\n",
       "    </tr>\n",
       "    <tr>\n",
       "      <th>2</th>\n",
       "      <td>2</td>\n",
       "    </tr>\n",
       "    <tr>\n",
       "      <th>3</th>\n",
       "      <td>5</td>\n",
       "    </tr>\n",
       "    <tr>\n",
       "      <th>4</th>\n",
       "      <td>33</td>\n",
       "    </tr>\n",
       "    <tr>\n",
       "      <th>5</th>\n",
       "      <td>51</td>\n",
       "    </tr>\n",
       "    <tr>\n",
       "      <th>6</th>\n",
       "      <td>17</td>\n",
       "    </tr>\n",
       "    <tr>\n",
       "      <th>24</th>\n",
       "      <td>124</td>\n",
       "    </tr>\n",
       "    <tr>\n",
       "      <th rowspan=\"2\" valign=\"top\">1</th>\n",
       "      <th>5</th>\n",
       "      <td>7</td>\n",
       "    </tr>\n",
       "    <tr>\n",
       "      <th>24</th>\n",
       "      <td>8</td>\n",
       "    </tr>\n",
       "  </tbody>\n",
       "</table>\n",
       "</div>"
      ],
      "text/plain": [
       "          RAD\n",
       "CHAS RAD     \n",
       "0    1      3\n",
       "     2      2\n",
       "     3      5\n",
       "     4     33\n",
       "     5     51\n",
       "     6     17\n",
       "     24   124\n",
       "1    5      7\n",
       "     24     8"
      ]
     },
     "execution_count": 9,
     "metadata": {},
     "output_type": "execute_result"
    }
   ],
   "source": [
    "data_new3"
   ]
  },
  {
   "cell_type": "code",
   "execution_count": 10,
   "id": "eba38ace-ac35-44a0-9cdd-e02655748866",
   "metadata": {},
   "outputs": [
    {
     "name": "stdout",
     "output_type": "stream",
     "text": [
      "          RAD\n",
      "CHAS RAD     \n",
      "0    1      3\n",
      "     2      2\n",
      "     3      5\n",
      "     4     33\n",
      "     5     51\n",
      "     6     17\n",
      "     24   124\n",
      "1    5      7\n",
      "     24     8\n"
     ]
    },
    {
     "name": "stderr",
     "output_type": "stream",
     "text": [
      "<ipython-input-10-d407f94fd02a>:2: UserWarning: Pandas doesn't allow columns to be created via a new attribute name - see https://pandas.pydata.org/pandas-docs/stable/indexing.html#attribute-access\n",
      "  data_new3.colunms = ['COUNT']\n"
     ]
    }
   ],
   "source": [
    "# data_new3 변수에서 count 연산을 수행한 결과 컬럼 이름은 COUNT로 저장하기\n",
    "data_new3.colunms = ['COUNT']\n",
    "\n",
    "# 최종 제출 가능한 data_new 값을 확인하기\n",
    "print(data_new3)"
   ]
  },
  {
   "cell_type": "code",
   "execution_count": 11,
   "id": "78dac05e-1c0b-4f47-8fab-72caa790aa92",
   "metadata": {},
   "outputs": [
    {
     "name": "stdout",
     "output_type": "stream",
     "text": [
      "          COUNT\n",
      "CHAS RAD       \n",
      "0    1        3\n",
      "     2        2\n",
      "     3        5\n",
      "     4       33\n",
      "     5       51\n",
      "     6       17\n",
      "     24     124\n",
      "1    5        7\n",
      "     24       8\n"
     ]
    }
   ],
   "source": [
    "### 최종 제출 코드 ###\n",
    "import pandas as pd\n",
    "data = pd.read_csv('data/boston.csv')\n",
    "tax_median = data['TAX'].median()\n",
    "data[data['TAX']>tax_median]\n",
    "data_new = data[data['TAX']>tax_median][['CHAS', 'RAD']]\n",
    "data_new2 = data_new.groupby(['CHAS', 'RAD'])['RAD'].count()\n",
    "data_new3 = pd.DataFrame(data_new2)\n",
    "data_new3.columns = ['COUNT']\n",
    "print(data_new3)"
   ]
  },
  {
   "cell_type": "code",
   "execution_count": 12,
   "id": "c2455652-20df-445d-aee1-77b81f3de8eb",
   "metadata": {},
   "outputs": [
    {
     "name": "stdout",
     "output_type": "stream",
     "text": [
      "Index(['COUNT'], dtype='object')\n"
     ]
    }
   ],
   "source": [
    "print(data_new3.columns)"
   ]
  },
  {
   "cell_type": "markdown",
   "id": "42b17ccc-30ed-42eb-a91c-6f391cf3fc80",
   "metadata": {},
   "source": [
    "### **2.2 오름차순/내림차순 정렬하기**"
   ]
  },
  {
   "cell_type": "code",
   "execution_count": 13,
   "id": "6c26b69c-4898-4071-a500-6ed7cab8fc07",
   "metadata": {},
   "outputs": [],
   "source": [
    "import pandas as pd                     # 라이브러리 가져오기\n",
    "data = pd.read_csv('data/boston.csv')   # csv 파일 읽고 저장하기"
   ]
  },
  {
   "cell_type": "code",
   "execution_count": 14,
   "id": "a953b950-204f-466d-a8c4-35c5e8d8ac67",
   "metadata": {},
   "outputs": [],
   "source": [
    "# TAX 컬럼을 추출하여 data_asc 변수에 저장하기\n",
    "data_asc = data['TAX'].copy()\n",
    "\n",
    "# TAX 컬럼을 추출하여 data_desc 변수에 저장하기\n",
    "data_desc = data['TAX'].copy()"
   ]
  },
  {
   "cell_type": "code",
   "execution_count": 15,
   "id": "94623c56-8465-47a1-a7a4-607bfb497250",
   "metadata": {},
   "outputs": [
    {
     "name": "stdout",
     "output_type": "stream",
     "text": [
      "353    187\n",
      "123    188\n",
      "122    188\n",
      "126    188\n",
      "125    188\n",
      "      ... \n",
      "492    711\n",
      "491    711\n",
      "490    711\n",
      "489    711\n",
      "488    711\n",
      "Name: TAX, Length: 506, dtype: int64\n"
     ]
    }
   ],
   "source": [
    "# data_asc 변수를 오름차순으로 정렬하기\n",
    "print(data_asc.sort_values(ascending=True))"
   ]
  },
  {
   "cell_type": "code",
   "execution_count": 16,
   "id": "cce14462-daab-4da5-814c-48067aebfb65",
   "metadata": {},
   "outputs": [
    {
     "name": "stdout",
     "output_type": "stream",
     "text": [
      "353    187\n",
      "123    188\n",
      "122    188\n",
      "126    188\n",
      "125    188\n",
      "      ... \n",
      "492    711\n",
      "491    711\n",
      "490    711\n",
      "489    711\n",
      "488    711\n",
      "Name: TAX, Length: 506, dtype: int64\n"
     ]
    }
   ],
   "source": [
    "# data_asc 변수를 오름차순으로 정렬하고, 정렬된 데이터를 data_asc 변수에 저장하기\n",
    "data_asc.sort_values(ascending=True, inplace=True)\n",
    "\n",
    "# data_asc 변수를 확인하기\n",
    "print(data_asc)"
   ]
  },
  {
   "cell_type": "code",
   "execution_count": 17,
   "id": "4b1048c1-07b3-4894-a7a3-47d1e1fecb62",
   "metadata": {},
   "outputs": [
    {
     "name": "stdout",
     "output_type": "stream",
     "text": [
      "492    711\n",
      "491    711\n",
      "490    711\n",
      "489    711\n",
      "488    711\n",
      "      ... \n",
      "121    188\n",
      "120    188\n",
      "125    188\n",
      "124    188\n",
      "353    187\n",
      "Name: TAX, Length: 506, dtype: int64\n"
     ]
    }
   ],
   "source": [
    "# data_desc 변수를 내림차순으로 정렬하기\n",
    "print(data_desc.sort_values(ascending=False))"
   ]
  },
  {
   "cell_type": "code",
   "execution_count": 18,
   "id": "0f80727c-8233-4a38-976f-08921520b603",
   "metadata": {},
   "outputs": [
    {
     "name": "stdout",
     "output_type": "stream",
     "text": [
      "492    711\n",
      "491    711\n",
      "490    711\n",
      "489    711\n",
      "488    711\n",
      "      ... \n",
      "121    188\n",
      "120    188\n",
      "125    188\n",
      "124    188\n",
      "353    187\n",
      "Name: TAX, Length: 506, dtype: int64\n"
     ]
    }
   ],
   "source": [
    "# data_desc 변수를 내림차순으로 정렬하고, 정렬된 데이터를 data_desc 변수에 저장하기\n",
    "data_desc.sort_values(ascending=False, inplace=True)\n",
    "\n",
    "# data_desc 변수를 확인하기\n",
    "print(data_desc)"
   ]
  },
  {
   "cell_type": "code",
   "execution_count": 19,
   "id": "dbc4230c-c537-49a3-82ef-530a21a03a7a",
   "metadata": {},
   "outputs": [
    {
     "name": "stdout",
     "output_type": "stream",
     "text": [
      "0      187\n",
      "1      188\n",
      "2      188\n",
      "3      188\n",
      "4      188\n",
      "      ... \n",
      "501    711\n",
      "502    711\n",
      "503    711\n",
      "504    711\n",
      "505    711\n",
      "Name: TAX, Length: 506, dtype: int64\n"
     ]
    }
   ],
   "source": [
    "# data_asc 변수의 인덱스를 재설정하기\n",
    "data_asc.reset_index(drop=True, inplace=True)\n",
    "\n",
    "# data_asc 변수를 확인하기\n",
    "print(data_asc)\n",
    "\n",
    "# data_desc 변수의 인덱스를 재설정하기\n",
    "data_desc.reset_index(drop=True, inplace=True)"
   ]
  },
  {
   "cell_type": "code",
   "execution_count": 20,
   "id": "6ddc22a3-2774-45ea-8837-86c17f30ff6e",
   "metadata": {},
   "outputs": [
    {
     "name": "stdout",
     "output_type": "stream",
     "text": [
      "     TAX  TAX\n",
      "0    187  711\n",
      "1    188  711\n",
      "2    188  711\n",
      "3    188  711\n",
      "4    188  711\n",
      "..   ...  ...\n",
      "501  711  188\n",
      "502  711  188\n",
      "503  711  188\n",
      "504  711  188\n",
      "505  711  187\n",
      "\n",
      "[506 rows x 2 columns]\n"
     ]
    }
   ],
   "source": [
    "# data_asc, data_desc 변수를 컬럼 기준으로 통합한 후, data_concat 변수에 저장하기\n",
    "data_concat = pd.concat([data_asc, data_desc], axis=1)\n",
    "\n",
    "# data_concat 변수 확인하기\n",
    "print(data_concat)"
   ]
  },
  {
   "cell_type": "code",
   "execution_count": 21,
   "id": "3b67406c-033b-45ea-a994-04a02f028455",
   "metadata": {},
   "outputs": [
    {
     "name": "stdout",
     "output_type": "stream",
     "text": [
      "0      187\n",
      "1      188\n",
      "2      188\n",
      "3      188\n",
      "4      188\n",
      "      ... \n",
      "501    711\n",
      "502    711\n",
      "503    711\n",
      "504    711\n",
      "505    711\n",
      "Name: TAX, Length: 506, dtype: int64\n"
     ]
    }
   ],
   "source": [
    "# data_concat 변수에서 첫 번째 컬럼을 추출하기\n",
    "print(data_concat.iloc[:, 0])"
   ]
  },
  {
   "cell_type": "code",
   "execution_count": 22,
   "id": "427d0a01-6f4c-4366-904e-8820c56eba6f",
   "metadata": {},
   "outputs": [
    {
     "name": "stdout",
     "output_type": "stream",
     "text": [
      "0      711\n",
      "1      711\n",
      "2      711\n",
      "3      711\n",
      "4      711\n",
      "      ... \n",
      "501    188\n",
      "502    188\n",
      "503    188\n",
      "504    188\n",
      "505    187\n",
      "Name: TAX, Length: 506, dtype: int64\n"
     ]
    }
   ],
   "source": [
    "# data_concat 변수에서 두 번째 컬럼을 추출하기\n",
    "print(data_concat.iloc[:, 1])"
   ]
  },
  {
   "cell_type": "code",
   "execution_count": 23,
   "id": "30bea4cd-dd57-4c48-955e-a87b3b798f5c",
   "metadata": {},
   "outputs": [
    {
     "name": "stdout",
     "output_type": "stream",
     "text": [
      "     TAX  TAX  diff\n",
      "0    187  711   524\n",
      "1    188  711   523\n",
      "2    188  711   523\n",
      "3    188  711   523\n",
      "4    188  711   523\n",
      "..   ...  ...   ...\n",
      "501  711  188   523\n",
      "502  711  188   523\n",
      "503  711  188   523\n",
      "504  711  188   523\n",
      "505  711  187   524\n",
      "\n",
      "[506 rows x 3 columns]\n"
     ]
    }
   ],
   "source": [
    "# (첫 번째 컬럼 - 두 번째 컬럼)에 절댓값을 취한 후, data_concat 변수의 diff 컬럼에 저장하기\n",
    "data_concat['diff'] = abs(data_concat.iloc[:, 0] - data_concat.iloc[:, 1])\n",
    "\n",
    "# diff 컬럼이 추가된 data_concat 변수 확인하기\n",
    "print(data_concat)"
   ]
  },
  {
   "cell_type": "code",
   "execution_count": 24,
   "id": "1f442bec-49a5-419e-ab1d-45a3b9799637",
   "metadata": {},
   "outputs": [
    {
     "name": "stdout",
     "output_type": "stream",
     "text": [
      "28490.598645951555\n"
     ]
    }
   ],
   "source": [
    "# diff 컬럼의 분산 구하기\n",
    "print(data_concat['diff'].var())"
   ]
  },
  {
   "cell_type": "code",
   "execution_count": 25,
   "id": "8cd38ce8-8582-4e63-a655-b434e2ca82c7",
   "metadata": {},
   "outputs": [
    {
     "name": "stdout",
     "output_type": "stream",
     "text": [
      "28490.598645951555\n"
     ]
    }
   ],
   "source": [
    "### 최종 제출 코드 ###\n",
    "import pandas as pd\n",
    "data = pd.read_csv('data/boston.csv')\n",
    "data_asc = data['TAX'].copy()\n",
    "data_desc = data['TAX'].copy()\n",
    "data_asc.sort_values(ascending=True, inplace=True)\n",
    "data_desc.sort_values(ascending=False, inplace=True)\n",
    "data_asc.reset_index(drop=True, inplace=True)\n",
    "data_desc.reset_index(drop=True, inplace=True)\n",
    "data_concat = pd.concat([data_asc, data_desc], axis=1)\n",
    "data_concat['diff'] = abs(data_concat.iloc[:, 0] - data_concat.iloc[:, 1])\n",
    "print(data_concat['diff'].var())"
   ]
  },
  {
   "cell_type": "code",
   "execution_count": null,
   "id": "f665aaa6-17f3-4132-904d-7f203b6110ef",
   "metadata": {},
   "outputs": [],
   "source": []
  }
 ],
 "metadata": {
  "kernelspec": {
   "display_name": "Python Multi",
   "language": "python",
   "name": "multi"
  },
  "language_info": {
   "codemirror_mode": {
    "name": "ipython",
    "version": 3
   },
   "file_extension": ".py",
   "mimetype": "text/x-python",
   "name": "python",
   "nbconvert_exporter": "python",
   "pygments_lexer": "ipython3",
   "version": "3.9.5"
  }
 },
 "nbformat": 4,
 "nbformat_minor": 5
}
