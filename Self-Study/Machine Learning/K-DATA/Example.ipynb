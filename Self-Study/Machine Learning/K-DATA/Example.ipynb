{
 "cells": [
  {
   "cell_type": "markdown",
   "id": "73d9885a-d0c1-472c-a2cb-0722bf001a5d",
   "metadata": {},
   "source": [
    "### **단답형**"
   ]
  },
  {
   "cell_type": "markdown",
   "id": "98f5d005-93c8-4632-9244-6085e9b3ffe5",
   "metadata": {},
   "source": [
    "***Q)*** 여러 명의 사용자들이 컴퓨터에 저장된 많은 자료들을 쉽고 빠르게 조회, 추가, 수정, 삭제할 수 있도록 해주는 소프트웨어는 무엇인가?"
   ]
  },
  {
   "cell_type": "markdown",
   "id": "fc759043-61e6-4890-950a-e28c958bbefe",
   "metadata": {},
   "source": [
    "***A)*** DBMS(데이터베이스 관리 시스템)"
   ]
  },
  {
   "cell_type": "markdown",
   "id": "2cd16d08-fd96-45f9-99eb-e15ede20c7ac",
   "metadata": {},
   "source": [
    "### **작업형 제1유형**"
   ]
  },
  {
   "cell_type": "markdown",
   "id": "e13e403e-33c4-40d6-a7d2-d02b174be498",
   "metadata": {},
   "source": [
    "***Q)*** mtcars 데이터셋(mtcars.csv)의 qsec 컬럼을 최소-최대 척도(Min-Max Scaler)로 변환한 후 0.5보다 큰 값을 가지는 레코드 수를 구하시오."
   ]
  },
  {
   "cell_type": "markdown",
   "id": "9d9b0ca0-4f72-45c0-8c90-b69d40b5103d",
   "metadata": {},
   "source": [
    "***A)***"
   ]
  },
  {
   "cell_type": "code",
   "execution_count": 1,
   "id": "a8ebd325-30c9-47a8-b88a-0e730a8b8dae",
   "metadata": {},
   "outputs": [
    {
     "name": "stdout",
     "output_type": "stream",
     "text": [
      "          Unnamed: 0   mpg  cyl   disp   hp  drat     wt   qsec  vs  am  gear  \\\n",
      "0          Mazda RX4  21.0    6  160.0  110  3.90  2.620  16.46   0   1     4   \n",
      "1      Mazda RX4 Wag  21.0    6  160.0  110  3.90  2.875  17.02   0   1     4   \n",
      "2         Datsun 710  22.8    4  108.0   93  3.85  2.320  18.61   1   1     4   \n",
      "3     Hornet 4 Drive  21.4    6  258.0  110  3.08  3.215  19.44   1   0     3   \n",
      "4  Hornet Sportabout  18.7    8  360.0  175  3.15  3.440  17.02   0   0     3   \n",
      "\n",
      "   carb  \n",
      "0     4  \n",
      "1     4  \n",
      "2     1  \n",
      "3     1  \n",
      "4     2  \n"
     ]
    }
   ],
   "source": [
    "import pandas as pd\n",
    "data = pd.read_csv('data/mtcars.csv')\n",
    "print(data.head())"
   ]
  },
  {
   "cell_type": "code",
   "execution_count": 2,
   "id": "60c0d80d-6f13-4bfc-9c7d-554d534a8682",
   "metadata": {},
   "outputs": [
    {
     "name": "stdout",
     "output_type": "stream",
     "text": [
      "[[0.23333333]\n",
      " [0.3       ]\n",
      " [0.48928571]\n",
      " [0.58809524]\n",
      " [0.3       ]\n",
      " [0.68095238]\n",
      " [0.15952381]\n",
      " [0.6547619 ]\n",
      " [1.        ]\n",
      " [0.45238095]\n",
      " [0.52380952]\n",
      " [0.3452381 ]\n",
      " [0.36904762]\n",
      " [0.41666667]\n",
      " [0.41428571]\n",
      " [0.3952381 ]\n",
      " [0.34761905]\n",
      " [0.59166667]\n",
      " [0.47857143]\n",
      " [0.64285714]\n",
      " [0.65595238]\n",
      " [0.28214286]\n",
      " [0.33333333]\n",
      " [0.10833333]\n",
      " [0.30357143]\n",
      " [0.52380952]\n",
      " [0.26190476]\n",
      " [0.28571429]\n",
      " [0.        ]\n",
      " [0.11904762]\n",
      " [0.01190476]\n",
      " [0.48809524]]\n"
     ]
    }
   ],
   "source": [
    "from sklearn.preprocessing import MinMaxScaler\n",
    "scaler = MinMaxScaler()\n",
    "data_qsec_scaled = scaler.fit_transform(data[['qsec']])\n",
    "print(data_qsec_scaled)"
   ]
  },
  {
   "cell_type": "code",
   "execution_count": 3,
   "id": "7d6a418a-dcbb-4f10-84a3-cc97f6c4e634",
   "metadata": {},
   "outputs": [
    {
     "name": "stdout",
     "output_type": "stream",
     "text": [
      "0     0.233333\n",
      "1     0.300000\n",
      "2     0.489286\n",
      "3     0.588095\n",
      "4     0.300000\n",
      "5     0.680952\n",
      "6     0.159524\n",
      "7     0.654762\n",
      "8     1.000000\n",
      "9     0.452381\n",
      "10    0.523810\n",
      "11    0.345238\n",
      "12    0.369048\n",
      "13    0.416667\n",
      "14    0.414286\n",
      "15    0.395238\n",
      "16    0.347619\n",
      "17    0.591667\n",
      "18    0.478571\n",
      "19    0.642857\n",
      "20    0.655952\n",
      "21    0.282143\n",
      "22    0.333333\n",
      "23    0.108333\n",
      "24    0.303571\n",
      "25    0.523810\n",
      "26    0.261905\n",
      "27    0.285714\n",
      "28    0.000000\n",
      "29    0.119048\n",
      "30    0.011905\n",
      "31    0.488095\n",
      "Name: qsec, dtype: float64\n"
     ]
    }
   ],
   "source": [
    "data['qsec'] = pd.DataFrame(data_qsec_scaled)\n",
    "print(data['qsec'])"
   ]
  },
  {
   "cell_type": "code",
   "execution_count": 4,
   "id": "007491d6-75dd-4bd7-ab9c-47ae2b651281",
   "metadata": {},
   "outputs": [
    {
     "name": "stdout",
     "output_type": "stream",
     "text": [
      "count    32.000000\n",
      "mean      0.398661\n",
      "std       0.212731\n",
      "min       0.000000\n",
      "25%       0.284821\n",
      "50%       0.382143\n",
      "75%       0.523810\n",
      "max       1.000000\n",
      "Name: qsec, dtype: float64\n"
     ]
    }
   ],
   "source": [
    "print(data['qsec'].describe())"
   ]
  },
  {
   "cell_type": "code",
   "execution_count": 5,
   "id": "e6a3f3d5-6c0f-468a-b1d0-f96c27b3a6cf",
   "metadata": {},
   "outputs": [
    {
     "name": "stdout",
     "output_type": "stream",
     "text": [
      "9\n"
     ]
    }
   ],
   "source": [
    "print(data[data['qsec']>0.5]['qsec'].count())"
   ]
  },
  {
   "cell_type": "markdown",
   "id": "b471f558-5a10-4dfe-b8a5-184469d88152",
   "metadata": {},
   "source": [
    "***A)*** 9"
   ]
  },
  {
   "cell_type": "markdown",
   "id": "9a522edc-ba35-4eec-8a95-e2929cce179b",
   "metadata": {},
   "source": [
    "### **작업형 제2유형**"
   ]
  },
  {
   "cell_type": "markdown",
   "id": "b4cf9423-589b-4c17-a818-4596412b8432",
   "metadata": {},
   "source": [
    "고객 3,500명에 대한 학습용 데이터(y_train.csv, X_train.csv)를 이용하여 성별 예측 모형을 만든 후, 이를 평가용 데이터(X_test.csv)에 적용하여 얻은 2,482명 고객의 성별 예측값(남자일 확률)을 다음과 같은 형식의 CSV 파일로 생성하시오.<br>\n",
    "(제출한 모델의 성능은 ROC-AUC 평가지표에 따라 채점)"
   ]
  },
  {
   "cell_type": "code",
   "execution_count": 6,
   "id": "ab5663e3-a6bf-4d72-add9-71ef016f2b93",
   "metadata": {},
   "outputs": [],
   "source": [
    "import pandas as pd\n",
    "x_train = pd.read_csv('data/X_train.csv', encoding='cp949')\n",
    "x_test = pd.read_csv('data/X_test.csv', encoding='cp949')\n",
    "y_train = pd.read_csv('data/y_train.csv', encoding='cp949')"
   ]
  },
  {
   "cell_type": "code",
   "execution_count": 7,
   "id": "c79a2d95-e421-4c67-98d9-026e14a451b0",
   "metadata": {},
   "outputs": [
    {
     "name": "stdout",
     "output_type": "stream",
     "text": [
      "(3500, 10)\n",
      "(2482, 10)\n",
      "(3500, 2)\n"
     ]
    }
   ],
   "source": [
    "print(x_train.shape)\n",
    "print(x_test.shape)\n",
    "print(y_train.shape)"
   ]
  },
  {
   "cell_type": "code",
   "execution_count": 8,
   "id": "a90c13a0-23fb-4ef8-8c4e-abe07a1a574f",
   "metadata": {},
   "outputs": [
    {
     "name": "stdout",
     "output_type": "stream",
     "text": [
      "   cust_id      총구매액     최대구매액       환불금액   주구매상품 주구매지점  내점일수   내점당구매건수  \\\n",
      "0        0  68282840  11264000  6860000.0      기타   강남점    19  3.894737   \n",
      "1        1   2136000   2136000   300000.0     스포츠   잠실점     2  1.500000   \n",
      "2        2   3197000   1639000        NaN  남성 캐주얼   관악점     2  2.000000   \n",
      "3        3  16077620   4935000        NaN      기타   광주점    18  2.444444   \n",
      "4        4  29050000  24000000        NaN      보석  본  점     2  1.500000   \n",
      "\n",
      "     주말방문비율  구매주기  \n",
      "0  0.527027    17  \n",
      "1  0.000000     1  \n",
      "2  0.000000     1  \n",
      "3  0.318182    16  \n",
      "4  0.000000    85  \n",
      "   cust_id       총구매액     최대구매액        환불금액 주구매상품 주구매지점  내점일수    내점당구매건수  \\\n",
      "0     3500   70900400  22000000   4050000.0    골프  부산본점    13   1.461538   \n",
      "1     3501  310533100  38558000  48034700.0   농산물   잠실점    90   2.433333   \n",
      "2     3502  305264140  14825000  30521000.0  가공식품  본  점   101  14.623762   \n",
      "3     3503    7594080   5225000         NaN  주방용품  부산본점     5   2.000000   \n",
      "4     3504    1795790   1411200         NaN   수산품  청량리점     3   2.666667   \n",
      "\n",
      "     주말방문비율  구매주기  \n",
      "0  0.789474    26  \n",
      "1  0.369863     3  \n",
      "2  0.083277     3  \n",
      "3  0.000000    47  \n",
      "4  0.125000     8  \n",
      "   cust_id  gender\n",
      "0        0       0\n",
      "1        1       0\n",
      "2        2       1\n",
      "3        3       1\n",
      "4        4       0\n"
     ]
    }
   ],
   "source": [
    "print(x_train.head())\n",
    "print(x_test.head())\n",
    "print(y_train.head())"
   ]
  },
  {
   "cell_type": "code",
   "execution_count": 9,
   "id": "cc931694-cef9-4081-b25e-2ed2202dcd90",
   "metadata": {},
   "outputs": [
    {
     "name": "stdout",
     "output_type": "stream",
     "text": [
      "                 0         1        2         3         4\n",
      "cust_id          0         1        2         3         4\n",
      "총구매액      68282840   2136000  3197000  16077620  29050000\n",
      "최대구매액     11264000   2136000  1639000   4935000  24000000\n",
      "환불금액     6860000.0  300000.0      NaN       NaN       NaN\n",
      "주구매상품           기타       스포츠   남성 캐주얼        기타        보석\n",
      "주구매지점          강남점       잠실점      관악점       광주점      본  점\n",
      "내점일수            19         2        2        18         2\n",
      "내점당구매건수   3.894737       1.5      2.0  2.444444       1.5\n",
      "주말방문비율    0.527027       0.0      0.0  0.318182       0.0\n",
      "구매주기            17         1        1        16        85\n"
     ]
    }
   ],
   "source": [
    "print(x_train.head().T)"
   ]
  },
  {
   "cell_type": "code",
   "execution_count": 10,
   "id": "0e0dae81-5a8e-4b4e-ad88-5b167a22a98f",
   "metadata": {},
   "outputs": [
    {
     "name": "stdout",
     "output_type": "stream",
     "text": [
      "<class 'pandas.core.frame.DataFrame'>\n",
      "RangeIndex: 3500 entries, 0 to 3499\n",
      "Data columns (total 10 columns):\n",
      " #   Column   Non-Null Count  Dtype  \n",
      "---  ------   --------------  -----  \n",
      " 0   cust_id  3500 non-null   int64  \n",
      " 1   총구매액     3500 non-null   int64  \n",
      " 2   최대구매액    3500 non-null   int64  \n",
      " 3   환불금액     1205 non-null   float64\n",
      " 4   주구매상품    3500 non-null   object \n",
      " 5   주구매지점    3500 non-null   object \n",
      " 6   내점일수     3500 non-null   int64  \n",
      " 7   내점당구매건수  3500 non-null   float64\n",
      " 8   주말방문비율   3500 non-null   float64\n",
      " 9   구매주기     3500 non-null   int64  \n",
      "dtypes: float64(3), int64(5), object(2)\n",
      "memory usage: 273.6+ KB\n",
      "None\n"
     ]
    }
   ],
   "source": [
    "print(x_train.info())"
   ]
  },
  {
   "cell_type": "code",
   "execution_count": 11,
   "id": "b6e2f482-7853-45ac-a9c9-90e25b2d6d54",
   "metadata": {},
   "outputs": [
    {
     "name": "stdout",
     "output_type": "stream",
     "text": [
      "           cust_id          총구매액         최대구매액          환불금액         내점일수  \\\n",
      "count  3500.000000  3.500000e+03  3.500000e+03  1.205000e+03  3500.000000   \n",
      "mean   1749.500000  9.191925e+07  1.966424e+07  2.407822e+07    19.253714   \n",
      "std    1010.507298  1.635065e+08  3.199235e+07  4.746453e+07    27.174942   \n",
      "min       0.000000 -5.242152e+07 -2.992000e+06  5.600000e+03     1.000000   \n",
      "25%     874.750000  4.747050e+06  2.875000e+06  2.259000e+06     2.000000   \n",
      "50%    1749.500000  2.822270e+07  9.837000e+06  7.392000e+06     8.000000   \n",
      "75%    2624.250000  1.065079e+08  2.296250e+07  2.412000e+07    25.000000   \n",
      "max    3499.000000  2.323180e+09  7.066290e+08  5.637530e+08   285.000000   \n",
      "\n",
      "           내점당구매건수       주말방문비율         구매주기  \n",
      "count  3500.000000  3500.000000  3500.000000  \n",
      "mean      2.834963     0.307246    20.958286  \n",
      "std       1.912368     0.289752    24.748682  \n",
      "min       1.000000     0.000000     0.000000  \n",
      "25%       1.666667     0.027291     4.000000  \n",
      "50%       2.333333     0.256410    13.000000  \n",
      "75%       3.375000     0.448980    28.000000  \n",
      "max      22.083333     1.000000   166.000000  \n"
     ]
    }
   ],
   "source": [
    "print(x_train.describe())"
   ]
  },
  {
   "cell_type": "code",
   "execution_count": 12,
   "id": "7be9020d-7a40-439b-acf4-6186a4c26fd0",
   "metadata": {},
   "outputs": [],
   "source": [
    "x_test_cust_id = x_test['cust_id']"
   ]
  },
  {
   "cell_type": "code",
   "execution_count": 13,
   "id": "c93df6aa-9146-4b17-b5bd-6695066d4288",
   "metadata": {},
   "outputs": [],
   "source": [
    "x_train = x_train.drop(columns=['cust_id'])\n",
    "x_test = x_test.drop(columns=['cust_id'])\n",
    "y_train = y_train.drop(columns=['cust_id'])"
   ]
  },
  {
   "cell_type": "code",
   "execution_count": 14,
   "id": "45a4b911-fb46-4f43-b871-742dea07130d",
   "metadata": {},
   "outputs": [
    {
     "name": "stdout",
     "output_type": "stream",
     "text": [
      "총구매액          0\n",
      "최대구매액         0\n",
      "환불금액       2295\n",
      "주구매상품         0\n",
      "주구매지점         0\n",
      "내점일수          0\n",
      "내점당구매건수       0\n",
      "주말방문비율        0\n",
      "구매주기          0\n",
      "dtype: int64\n"
     ]
    }
   ],
   "source": [
    "print(x_train.isnull().sum())"
   ]
  },
  {
   "cell_type": "code",
   "execution_count": 15,
   "id": "90c24001-e44e-40c9-9bef-80d7f9908240",
   "metadata": {},
   "outputs": [
    {
     "name": "stdout",
     "output_type": "stream",
     "text": [
      "총구매액          0\n",
      "최대구매액         0\n",
      "환불금액       1611\n",
      "주구매상품         0\n",
      "주구매지점         0\n",
      "내점일수          0\n",
      "내점당구매건수       0\n",
      "주말방문비율        0\n",
      "구매주기          0\n",
      "dtype: int64\n"
     ]
    }
   ],
   "source": [
    "print(x_test.isnull().sum())"
   ]
  },
  {
   "cell_type": "code",
   "execution_count": 16,
   "id": "51bcba3f-4df7-4ce3-ad29-abb767f00fcc",
   "metadata": {},
   "outputs": [
    {
     "name": "stdout",
     "output_type": "stream",
     "text": [
      "총구매액       0\n",
      "최대구매액      0\n",
      "환불금액       0\n",
      "주구매상품      0\n",
      "주구매지점      0\n",
      "내점일수       0\n",
      "내점당구매건수    0\n",
      "주말방문비율     0\n",
      "구매주기       0\n",
      "dtype: int64\n",
      "총구매액       0\n",
      "최대구매액      0\n",
      "환불금액       0\n",
      "주구매상품      0\n",
      "주구매지점      0\n",
      "내점일수       0\n",
      "내점당구매건수    0\n",
      "주말방문비율     0\n",
      "구매주기       0\n",
      "dtype: int64\n"
     ]
    }
   ],
   "source": [
    "x_train['환불금액'] = x_train['환불금액'].fillna(0)\n",
    "x_test['환불금액'] = x_test['환불금액'].fillna(0)\n",
    "\n",
    "print(x_train.isnull().sum())\n",
    "print(x_test.isnull().sum())"
   ]
  },
  {
   "cell_type": "code",
   "execution_count": 17,
   "id": "36a6b149-0c45-4ab0-a5ee-d02fff2f0913",
   "metadata": {},
   "outputs": [
    {
     "name": "stdout",
     "output_type": "stream",
     "text": [
      "['기타' '스포츠' '남성 캐주얼' '보석' '디자이너' '시티웨어' '명품' '농산물' '화장품' '골프' '구두' '가공식품'\n",
      " '수산품' '아동' '차/커피' '캐주얼' '섬유잡화' '육류' '축산가공' '젓갈/반찬' '액세서리' '피혁잡화' '일용잡화'\n",
      " '주방가전' '주방용품' '건강식품' '가구' '주류' '모피/피혁' '남성 트랜디' '셔츠' '남성정장' '생활잡화'\n",
      " '트래디셔널' '란제리/내의' '커리어' '침구/수예' '대형가전' '통신/컴퓨터' '식기' '소형가전' '악기']\n",
      "42\n",
      "['강남점' '잠실점' '관악점' '광주점' '본  점' '일산점' '대전점' '부산본점' '분당점' '영등포점' '미아점'\n",
      " '청량리점' '안양점' '부평점' '동래점' '포항점' '노원점' '창원점' '센텀시티점' '인천점' '대구점' '전주점'\n",
      " '울산점' '상인점']\n",
      "24\n"
     ]
    }
   ],
   "source": [
    "print(x_train['주구매상품'].unique())\n",
    "print(x_train['주구매상품'].unique().size)\n",
    "print(x_train['주구매지점'].unique())\n",
    "print(x_train['주구매지점'].unique().size)"
   ]
  },
  {
   "cell_type": "code",
   "execution_count": 18,
   "id": "ace75635-f8a0-4d69-9d1e-e54fd86ceafa",
   "metadata": {},
   "outputs": [
    {
     "name": "stdout",
     "output_type": "stream",
     "text": [
      "0     5\n",
      "1    21\n",
      "2     6\n",
      "3     5\n",
      "4    15\n",
      "5    11\n",
      "6    22\n",
      "7    13\n",
      "8     5\n",
      "9     9\n",
      "Name: 주구매상품, dtype: int32\n"
     ]
    }
   ],
   "source": [
    "from sklearn.preprocessing import LabelEncoder\n",
    "encoder = LabelEncoder()\n",
    "x_train['주구매상품'] = encoder.fit_transform(x_train['주구매상품'])\n",
    "print(x_train['주구매상품'].head(10))\n",
    "x_test['주구매상품'] = encoder.fit_transform(x_test['주구매상품'])"
   ]
  },
  {
   "cell_type": "code",
   "execution_count": 19,
   "id": "271c657f-323a-4486-9cd6-77222571e4ea",
   "metadata": {},
   "outputs": [
    {
     "name": "stdout",
     "output_type": "stream",
     "text": [
      "0     0\n",
      "1    19\n",
      "2     1\n",
      "3     2\n",
      "4     8\n",
      "5    18\n",
      "6     0\n",
      "7     8\n",
      "8     8\n",
      "9     5\n",
      "Name: 주구매지점, dtype: int32\n"
     ]
    }
   ],
   "source": [
    "x_train['주구매지점'] = encoder.fit_transform(x_train['주구매지점'])\n",
    "print(x_train['주구매지점'].head(10))\n",
    "x_test['주구매지점'] = encoder.fit_transform(x_test['주구매지점'])"
   ]
  },
  {
   "cell_type": "code",
   "execution_count": 20,
   "id": "2ce458f5-9b00-4be0-9a3f-6876b6adad1e",
   "metadata": {},
   "outputs": [
    {
     "name": "stdout",
     "output_type": "stream",
     "text": [
      "           환불금액  환불금액_new\n",
      "0     6860000.0       1.0\n",
      "1      300000.0       1.0\n",
      "2           0.0       0.0\n",
      "3           0.0       0.0\n",
      "4           0.0       0.0\n",
      "...         ...       ...\n",
      "3495        0.0       0.0\n",
      "3496  6049600.0       1.0\n",
      "3497        0.0       0.0\n",
      "3498        0.0       0.0\n",
      "3499  5973000.0       1.0\n",
      "\n",
      "[3500 rows x 2 columns]\n"
     ]
    }
   ],
   "source": [
    "condition = x_train['환불금액']>0\n",
    "x_train.loc[condition, '환불금액_new'] = 1\n",
    "x_train.loc[~condition, '환불금액_new'] = 0\n",
    "print(x_train[['환불금액', '환불금액_new']])"
   ]
  },
  {
   "cell_type": "code",
   "execution_count": 21,
   "id": "b6eca00f-5406-45d6-8056-0fa82045d27f",
   "metadata": {},
   "outputs": [],
   "source": [
    "x_train = x_train.drop(columns='환불금액')"
   ]
  },
  {
   "cell_type": "code",
   "execution_count": 22,
   "id": "44d15172-96e8-4bac-9e61-69a784c14f8c",
   "metadata": {},
   "outputs": [
    {
     "name": "stdout",
     "output_type": "stream",
     "text": [
      "            환불금액  환불금액_new\n",
      "0      4050000.0       1.0\n",
      "1     48034700.0       1.0\n",
      "2     30521000.0       1.0\n",
      "3            0.0       0.0\n",
      "4            0.0       0.0\n",
      "...          ...       ...\n",
      "2477         0.0       0.0\n",
      "2478         0.0       0.0\n",
      "2479         0.0       0.0\n",
      "2480         0.0       0.0\n",
      "2481         0.0       0.0\n",
      "\n",
      "[2482 rows x 2 columns]\n"
     ]
    }
   ],
   "source": [
    "condition = x_test['환불금액']>0\n",
    "x_test.loc[condition, '환불금액_new'] = 1\n",
    "x_test.loc[~condition, '환불금액_new'] = 0\n",
    "print(x_test[['환불금액', '환불금액_new']])"
   ]
  },
  {
   "cell_type": "code",
   "execution_count": 23,
   "id": "1d372f07-5e21-4a17-8718-40ecd06426cb",
   "metadata": {},
   "outputs": [],
   "source": [
    "x_test = x_test.drop(columns=['환불금액'])"
   ]
  },
  {
   "cell_type": "code",
   "execution_count": 24,
   "id": "f070f617-62b3-4a74-a0d8-965352bcabc6",
   "metadata": {},
   "outputs": [
    {
     "name": "stdout",
     "output_type": "stream",
     "text": [
      "           count          mean           std         min           25%  \\\n",
      "총구매액      3500.0  9.191925e+07  1.635065e+08 -52421520.0  4.747050e+06   \n",
      "최대구매액     3500.0  1.966424e+07  3.199235e+07  -2992000.0  2.875000e+06   \n",
      "주구매상품     3500.0  1.461200e+01  1.301995e+01         0.0  5.000000e+00   \n",
      "주구매지점     3500.0  1.073429e+01  5.636480e+00         0.0  8.000000e+00   \n",
      "내점일수      3500.0  1.925371e+01  2.717494e+01         1.0  2.000000e+00   \n",
      "내점당구매건수   3500.0  2.834963e+00  1.912368e+00         1.0  1.666667e+00   \n",
      "주말방문비율    3500.0  3.072463e-01  2.897516e-01         0.0  2.729090e-02   \n",
      "구매주기      3500.0  2.095829e+01  2.474868e+01         0.0  4.000000e+00   \n",
      "환불금액_new  3500.0  3.442857e-01  4.752027e-01         0.0  0.000000e+00   \n",
      "\n",
      "                   50%           75%           max  \n",
      "총구매액      2.822270e+07  1.065079e+08  2.323180e+09  \n",
      "최대구매액     9.837000e+06  2.296250e+07  7.066290e+08  \n",
      "주구매상품     9.000000e+00  2.200000e+01  4.100000e+01  \n",
      "주구매지점     9.000000e+00  1.500000e+01  2.300000e+01  \n",
      "내점일수      8.000000e+00  2.500000e+01  2.850000e+02  \n",
      "내점당구매건수   2.333333e+00  3.375000e+00  2.208333e+01  \n",
      "주말방문비율    2.564103e-01  4.489796e-01  1.000000e+00  \n",
      "구매주기      1.300000e+01  2.800000e+01  1.660000e+02  \n",
      "환불금액_new  0.000000e+00  1.000000e+00  1.000000e+00  \n"
     ]
    }
   ],
   "source": [
    "print(x_train.describe().T)"
   ]
  },
  {
   "cell_type": "code",
   "execution_count": 25,
   "id": "a883e499-bc1d-41ef-87a8-3d3e670c61a6",
   "metadata": {},
   "outputs": [],
   "source": [
    "from sklearn.preprocessing import StandardScaler\n",
    "scaler = StandardScaler()\n",
    "x_train = pd.DataFrame(scaler.fit_transform(x_train), columns=x_train.columns)"
   ]
  },
  {
   "cell_type": "code",
   "execution_count": 26,
   "id": "355d3f1b-cacf-45d9-96fb-317ef3be0fdf",
   "metadata": {},
   "outputs": [],
   "source": [
    "x_test = pd.DataFrame(scaler.transform(x_test), columns=x_test.columns)"
   ]
  },
  {
   "cell_type": "code",
   "execution_count": 27,
   "id": "0a0e4d87-675c-4a8e-8ddd-e309896a6a40",
   "metadata": {},
   "outputs": [
    {
     "name": "stdout",
     "output_type": "stream",
     "text": [
      "           count          mean       std       min       25%       50%  \\\n",
      "총구매액      3500.0 -3.349701e-17  1.000143 -0.882909 -0.533218 -0.389621   \n",
      "최대구매액     3500.0 -4.263256e-17  1.000143 -0.708278 -0.524864 -0.307219   \n",
      "주구매상품     3500.0 -6.090366e-17  1.000143 -1.122438 -0.738357 -0.431093   \n",
      "주구매지점     3500.0 -8.767590e-17  1.000143 -1.904703 -0.485175 -0.307733   \n",
      "내점일수      3500.0  4.669281e-17  1.000143 -0.671807 -0.635003 -0.414180   \n",
      "내점당구매건수   3500.0 -2.618858e-16  1.000143 -0.959661 -0.611003 -0.262346   \n",
      "주말방문비율    3500.0  7.917476e-17  1.000143 -1.060530 -0.966329 -0.175472   \n",
      "구매주기      3500.0 -4.263256e-17  1.000143 -0.846966 -0.685318 -0.321610   \n",
      "환불금액_new  3500.0  1.218073e-17  1.000143 -0.724606 -0.724606 -0.724606   \n",
      "\n",
      "               75%        max  \n",
      "총구매액      0.089237  13.648260  \n",
      "최대구매액     0.103110  21.475852  \n",
      "주구매상품     0.567518   2.027026  \n",
      "주구매지점     0.756913   2.176441  \n",
      "내점일수      0.211486   9.780490  \n",
      "내점당구매건수   0.282432  10.066639  \n",
      "주말방문비율    0.489224   2.391196  \n",
      "구매주기      0.284570   5.861421  \n",
      "환불금액_new  1.380060   1.380060  \n"
     ]
    }
   ],
   "source": [
    "print(x_train.describe().T)"
   ]
  },
  {
   "cell_type": "code",
   "execution_count": 28,
   "id": "a631a71e-5f5c-4bea-91c3-150a936f36c7",
   "metadata": {},
   "outputs": [
    {
     "name": "stdout",
     "output_type": "stream",
     "text": [
      "              총구매액     최대구매액  환불금액_new\n",
      "총구매액      1.000000  0.700080  0.403357\n",
      "최대구매액     0.700080  1.000000  0.330687\n",
      "환불금액_new  0.403357  0.330687  1.000000\n"
     ]
    }
   ],
   "source": [
    "print(x_train[['총구매액', '최대구매액', '환불금액_new']].corr())"
   ]
  },
  {
   "cell_type": "code",
   "execution_count": 29,
   "id": "67d2c67b-7808-456d-8cea-ed89bda8b3d0",
   "metadata": {},
   "outputs": [],
   "source": [
    "x_train = x_train.drop(columns=['최대구매액'])\n",
    "x_test = x_test.drop(columns=['최대구매액'])"
   ]
  },
  {
   "cell_type": "code",
   "execution_count": 30,
   "id": "97dd55b8-0cc9-49e6-a867-3787981be696",
   "metadata": {},
   "outputs": [
    {
     "name": "stdout",
     "output_type": "stream",
     "text": [
      "(2800, 8)\n",
      "(700, 8)\n",
      "(2800, 1)\n",
      "(700, 1)\n"
     ]
    }
   ],
   "source": [
    "from sklearn.model_selection import train_test_split\n",
    "X_TRAIN, X_TEST, Y_TRAIN, Y_TEST = train_test_split(x_train, y_train, test_size=0.2, random_state=10)\n",
    "print(X_TRAIN.shape)\n",
    "print(X_TEST.shape)\n",
    "print(Y_TRAIN.shape)\n",
    "print(Y_TEST.shape)"
   ]
  },
  {
   "cell_type": "code",
   "execution_count": 31,
   "id": "8d401694-803d-4c74-8722-222c4ed7dda5",
   "metadata": {},
   "outputs": [],
   "source": [
    "# XGBClassifier"
   ]
  },
  {
   "cell_type": "code",
   "execution_count": 32,
   "id": "59e44ca9-6d98-4d27-b75d-70f2819ff33f",
   "metadata": {},
   "outputs": [
    {
     "name": "stdout",
     "output_type": "stream",
     "text": [
      "[21:29:38] WARNING: ..\\src\\learner.cc:1061: Starting in XGBoost 1.3.0, the default evaluation metric used with the objective 'binary:logistic' was changed from 'error' to 'logloss'. Explicitly set eval_metric if you'd like to restore the old behavior.\n"
     ]
    },
    {
     "name": "stderr",
     "output_type": "stream",
     "text": [
      "C:\\Users\\khl06\\anaconda3\\envs\\multi\\lib\\site-packages\\xgboost\\sklearn.py:888: UserWarning: The use of label encoder in XGBClassifier is deprecated and will be removed in a future release. To remove this warning, do the following: 1) Pass option use_label_encoder=False when constructing XGBClassifier object; and 2) Encode your labels (y) as integers starting with 0, i.e. 0, 1, 2, ..., [num_class - 1].\n",
      "  warnings.warn(label_encoder_deprecation_msg, UserWarning)\n",
      "C:\\Users\\khl06\\anaconda3\\envs\\multi\\lib\\site-packages\\sklearn\\utils\\validation.py:63: DataConversionWarning: A column-vector y was passed when a 1d array was expected. Please change the shape of y to (n_samples, ), for example using ravel().\n",
      "  return f(*args, **kwargs)\n"
     ]
    },
    {
     "data": {
      "text/plain": [
       "XGBClassifier(base_score=0.5, booster='gbtree', colsample_bylevel=1,\n",
       "              colsample_bynode=1, colsample_bytree=1, gamma=0, gpu_id=-1,\n",
       "              importance_type='gain', interaction_constraints='',\n",
       "              learning_rate=0.300000012, max_delta_step=0, max_depth=6,\n",
       "              min_child_weight=1, missing=nan, monotone_constraints='()',\n",
       "              n_estimators=100, n_jobs=8, num_parallel_tree=1, random_state=10,\n",
       "              reg_alpha=0, reg_lambda=1, scale_pos_weight=1, subsample=1,\n",
       "              tree_method='exact', validate_parameters=1, verbosity=None)"
      ]
     },
     "execution_count": 32,
     "metadata": {},
     "output_type": "execute_result"
    }
   ],
   "source": [
    "from xgboost import XGBClassifier\n",
    "# xgb = XGBClassifier(n_estimators=100, max_depth=5, random_state=10)\n",
    "xgb = XGBClassifier(random_state=10)\n",
    "xgb.fit(X_TRAIN, Y_TRAIN)"
   ]
  },
  {
   "cell_type": "code",
   "execution_count": 33,
   "id": "ff3dce59-c37c-4824-8f1b-1221ee300bbd",
   "metadata": {},
   "outputs": [
    {
     "name": "stdout",
     "output_type": "stream",
     "text": [
      "          0         1\n",
      "0  0.593489  0.406511\n",
      "1  0.913076  0.086924\n",
      "2  0.552362  0.447638\n",
      "3  0.338698  0.661302\n",
      "4  0.771377  0.228623\n"
     ]
    }
   ],
   "source": [
    "y_test_predicted_xgb = pd.DataFrame(xgb.predict_proba(x_test))\n",
    "print(y_test_predicted_xgb.head())"
   ]
  },
  {
   "cell_type": "code",
   "execution_count": 34,
   "id": "0951ec87-d8df-4a5f-94d7-c5d81fe8415c",
   "metadata": {},
   "outputs": [
    {
     "name": "stdout",
     "output_type": "stream",
     "text": [
      "          0         1\n",
      "0  0.457034  0.542966\n",
      "1  0.081434  0.918566\n",
      "2  0.268165  0.731835\n",
      "3  0.371825  0.628175\n",
      "4  0.886727  0.113273\n"
     ]
    }
   ],
   "source": [
    "Y_TEST_PREDICTED_XGB = pd.DataFrame(xgb.predict_proba(X_TEST))\n",
    "print(Y_TEST_PREDICTED_XGB.head())"
   ]
  },
  {
   "cell_type": "code",
   "execution_count": 35,
   "id": "ab8b39d0-e97d-4662-92ae-7ce4a4ebb30a",
   "metadata": {},
   "outputs": [],
   "source": [
    "# LogisticRegression"
   ]
  },
  {
   "cell_type": "code",
   "execution_count": 36,
   "id": "62837317-279c-4f7b-a9f7-0d9d6a2e034a",
   "metadata": {},
   "outputs": [
    {
     "name": "stderr",
     "output_type": "stream",
     "text": [
      "C:\\Users\\khl06\\anaconda3\\envs\\multi\\lib\\site-packages\\sklearn\\utils\\validation.py:63: DataConversionWarning: A column-vector y was passed when a 1d array was expected. Please change the shape of y to (n_samples, ), for example using ravel().\n",
      "  return f(*args, **kwargs)\n"
     ]
    },
    {
     "data": {
      "text/plain": [
       "LogisticRegression(random_state=10)"
      ]
     },
     "execution_count": 36,
     "metadata": {},
     "output_type": "execute_result"
    }
   ],
   "source": [
    "from sklearn.linear_model import LogisticRegression\n",
    "log = LogisticRegression(random_state=10)\n",
    "log.fit(X_TRAIN, Y_TRAIN)"
   ]
  },
  {
   "cell_type": "code",
   "execution_count": 37,
   "id": "f2484ae7-a59b-4fbe-98da-211aa57ccbda",
   "metadata": {},
   "outputs": [
    {
     "name": "stdout",
     "output_type": "stream",
     "text": [
      "          0         1\n",
      "0  0.639174  0.360826\n",
      "1  0.799250  0.200750\n",
      "2  0.873279  0.126721\n",
      "3  0.641186  0.358814\n",
      "4  0.562825  0.437175\n"
     ]
    }
   ],
   "source": [
    "y_test_predicted_log = pd.DataFrame(log.predict_proba(x_test))\n",
    "print(y_test_predicted_log.head())"
   ]
  },
  {
   "cell_type": "code",
   "execution_count": 38,
   "id": "9f0fba32-afc3-42ad-bc92-296fd519284b",
   "metadata": {},
   "outputs": [
    {
     "name": "stdout",
     "output_type": "stream",
     "text": [
      "          0         1\n",
      "0  0.755876  0.244124\n",
      "1  0.394670  0.605330\n",
      "2  0.400200  0.599800\n",
      "3  0.627400  0.372600\n",
      "4  0.784707  0.215293\n"
     ]
    }
   ],
   "source": [
    "Y_TEST_PREDICTED_LOG = pd.DataFrame(log.predict_proba(X_TEST))\n",
    "print(Y_TEST_PREDICTED_LOG.head())"
   ]
  },
  {
   "cell_type": "code",
   "execution_count": 39,
   "id": "f8d859ef-e01b-423b-a53b-67041437c2b3",
   "metadata": {},
   "outputs": [],
   "source": [
    "# RandomForestClassifier"
   ]
  },
  {
   "cell_type": "code",
   "execution_count": 40,
   "id": "ba458b9f-aeb1-421e-83f8-e7d0b9446610",
   "metadata": {},
   "outputs": [
    {
     "name": "stderr",
     "output_type": "stream",
     "text": [
      "<ipython-input-40-1128980314fa>:3: DataConversionWarning: A column-vector y was passed when a 1d array was expected. Please change the shape of y to (n_samples,), for example using ravel().\n",
      "  rf.fit(X_TRAIN, Y_TRAIN)\n"
     ]
    },
    {
     "data": {
      "text/plain": [
       "RandomForestClassifier(random_state=10)"
      ]
     },
     "execution_count": 40,
     "metadata": {},
     "output_type": "execute_result"
    }
   ],
   "source": [
    "from sklearn.ensemble import RandomForestClassifier\n",
    "rf = RandomForestClassifier(random_state=10)\n",
    "rf.fit(X_TRAIN, Y_TRAIN)"
   ]
  },
  {
   "cell_type": "code",
   "execution_count": 41,
   "id": "253fddef-a172-4e79-ba7a-48eef77fc5f0",
   "metadata": {},
   "outputs": [
    {
     "name": "stdout",
     "output_type": "stream",
     "text": [
      "      0     1\n",
      "0  0.36  0.64\n",
      "1  0.73  0.27\n",
      "2  0.83  0.17\n",
      "3  0.54  0.46\n",
      "4  0.59  0.41\n"
     ]
    }
   ],
   "source": [
    "y_test_predicted_rf = pd.DataFrame(rf.predict_proba(x_test))\n",
    "print(y_test_predicted_rf.head())"
   ]
  },
  {
   "cell_type": "code",
   "execution_count": 42,
   "id": "5552cbf0-9454-4b17-8a65-00559eee7e6f",
   "metadata": {},
   "outputs": [
    {
     "name": "stdout",
     "output_type": "stream",
     "text": [
      "        0     1\n",
      "0    0.55  0.45\n",
      "1    0.16  0.84\n",
      "2    0.54  0.46\n",
      "3    0.56  0.44\n",
      "4    0.69  0.31\n",
      "..    ...   ...\n",
      "695  0.63  0.37\n",
      "696  0.77  0.23\n",
      "697  0.50  0.50\n",
      "698  0.42  0.58\n",
      "699  0.18  0.82\n",
      "\n",
      "[700 rows x 2 columns]\n"
     ]
    }
   ],
   "source": [
    "Y_TEST_PREDICTED_RF = pd.DataFrame(rf.predict_proba(X_TEST))\n",
    "print(Y_TEST_PREDICTED_RF)"
   ]
  },
  {
   "cell_type": "code",
   "execution_count": 43,
   "id": "195d02bd-0c78-46e7-b25c-e8e4049f65ed",
   "metadata": {},
   "outputs": [
    {
     "data": {
      "text/plain": [
       "['AdaBoostClassifier',\n",
       " 'AdaBoostRegressor',\n",
       " 'BaggingClassifier',\n",
       " 'BaggingRegressor',\n",
       " 'BaseEnsemble',\n",
       " 'ExtraTreesClassifier',\n",
       " 'ExtraTreesRegressor',\n",
       " 'GradientBoostingClassifier',\n",
       " 'GradientBoostingRegressor',\n",
       " 'IsolationForest',\n",
       " 'RandomForestClassifier',\n",
       " 'RandomForestRegressor',\n",
       " 'RandomTreesEmbedding',\n",
       " 'StackingClassifier',\n",
       " 'StackingRegressor',\n",
       " 'VotingClassifier',\n",
       " 'VotingRegressor',\n",
       " '__all__',\n",
       " '__builtins__',\n",
       " '__cached__',\n",
       " '__doc__',\n",
       " '__file__',\n",
       " '__loader__',\n",
       " '__name__',\n",
       " '__package__',\n",
       " '__path__',\n",
       " '__spec__',\n",
       " '_bagging',\n",
       " '_base',\n",
       " '_forest',\n",
       " '_gb',\n",
       " '_gb_losses',\n",
       " '_gradient_boosting',\n",
       " '_iforest',\n",
       " '_stacking',\n",
       " '_voting',\n",
       " '_weight_boosting',\n",
       " 'typing']"
      ]
     },
     "execution_count": 43,
     "metadata": {},
     "output_type": "execute_result"
    }
   ],
   "source": [
    "import sklearn.ensemble\n",
    "dir(sklearn.ensemble)"
   ]
  },
  {
   "cell_type": "code",
   "execution_count": 44,
   "id": "26744076-d630-4fdf-b8bc-683f332c7ab3",
   "metadata": {},
   "outputs": [],
   "source": [
    "# GBM"
   ]
  },
  {
   "cell_type": "code",
   "execution_count": 45,
   "id": "af4ecf3f-0f40-4026-896d-8a9a231a0b96",
   "metadata": {},
   "outputs": [
    {
     "name": "stderr",
     "output_type": "stream",
     "text": [
      "C:\\Users\\khl06\\anaconda3\\envs\\multi\\lib\\site-packages\\sklearn\\utils\\validation.py:63: DataConversionWarning: A column-vector y was passed when a 1d array was expected. Please change the shape of y to (n_samples, ), for example using ravel().\n",
      "  return f(*args, **kwargs)\n"
     ]
    },
    {
     "data": {
      "text/plain": [
       "GradientBoostingClassifier(random_state=10)"
      ]
     },
     "execution_count": 45,
     "metadata": {},
     "output_type": "execute_result"
    }
   ],
   "source": [
    "from sklearn.ensemble import GradientBoostingClassifier\n",
    "gbm = GradientBoostingClassifier(random_state=10)\n",
    "gbm.fit(X_TRAIN, Y_TRAIN)"
   ]
  },
  {
   "cell_type": "code",
   "execution_count": 46,
   "id": "46600eb0-3df5-4112-b982-9ca94d2e9291",
   "metadata": {},
   "outputs": [
    {
     "name": "stdout",
     "output_type": "stream",
     "text": [
      "          0         1\n",
      "0  0.586514  0.413486\n",
      "1  0.737545  0.262455\n",
      "2  0.586382  0.413618\n",
      "3  0.526559  0.473441\n",
      "4  0.590401  0.409599\n"
     ]
    }
   ],
   "source": [
    "y_test_predicted_gbm = pd.DataFrame(gbm.predict_proba(x_test))\n",
    "print(y_test_predicted_gbm.head())"
   ]
  },
  {
   "cell_type": "code",
   "execution_count": 47,
   "id": "eff65dce-9bc2-4794-a758-ce77513006ce",
   "metadata": {},
   "outputs": [
    {
     "name": "stdout",
     "output_type": "stream",
     "text": [
      "          0         1\n",
      "0  0.619954  0.380046\n",
      "1  0.265947  0.734053\n",
      "2  0.276056  0.723944\n",
      "3  0.568630  0.431370\n",
      "4  0.669415  0.330585\n"
     ]
    }
   ],
   "source": [
    "Y_TEST_PREDICTED_GBM = pd.DataFrame(gbm.predict_proba(X_TEST))\n",
    "print(Y_TEST_PREDICTED_GBM.head())"
   ]
  },
  {
   "cell_type": "code",
   "execution_count": 48,
   "id": "005770dc-001b-4e48-a28c-84c37927ae3a",
   "metadata": {},
   "outputs": [
    {
     "name": "stdout",
     "output_type": "stream",
     "text": [
      "XGBClassifier              : 0.6424367981745032\n",
      "LogisticRegression         : 0.6414245395510033\n",
      "RandomForestClassifier     : 0.6515428365545461\n",
      "GradientBoostingClassifier : 0.6589674962040302\n"
     ]
    }
   ],
   "source": [
    "from sklearn.metrics import roc_auc_score\n",
    "print('XGBClassifier              :', roc_auc_score(Y_TEST, Y_TEST_PREDICTED_XGB[1]))\n",
    "print('LogisticRegression         :', roc_auc_score(Y_TEST, Y_TEST_PREDICTED_LOG[1]))\n",
    "print('RandomForestClassifier     :', roc_auc_score(Y_TEST, Y_TEST_PREDICTED_RF[1]))\n",
    "print('GradientBoostingClassifier :', roc_auc_score(Y_TEST, Y_TEST_PREDICTED_GBM[1]))"
   ]
  },
  {
   "cell_type": "code",
   "execution_count": 49,
   "id": "71c2a55b-7dcb-44af-8256-897b77b2443c",
   "metadata": {},
   "outputs": [
    {
     "name": "stdout",
     "output_type": "stream",
     "text": [
      "      cust_id    gender\n",
      "0        3500  0.413486\n",
      "1        3501  0.262455\n",
      "2        3502  0.413618\n",
      "3        3503  0.473441\n",
      "4        3504  0.409599\n",
      "...       ...       ...\n",
      "2477     5977  0.503313\n",
      "2478     5978  0.531997\n",
      "2479     5979  0.445411\n",
      "2480     5980  0.465261\n",
      "2481     5981  0.505664\n",
      "\n",
      "[2482 rows x 2 columns]\n"
     ]
    }
   ],
   "source": [
    "final = pd.concat([x_test_cust_id, y_test_predicted_gbm[1]], axis=1).rename(columns={1: 'gender'})\n",
    "print(final)"
   ]
  },
  {
   "cell_type": "code",
   "execution_count": 50,
   "id": "dd0ab821-fb56-4278-9eb9-8177341fabdb",
   "metadata": {},
   "outputs": [],
   "source": [
    "final.to_csv('data/example.csv', index=False)"
   ]
  },
  {
   "cell_type": "code",
   "execution_count": 51,
   "id": "b2f28892-5bdb-4501-a3f0-39c98c26f16b",
   "metadata": {},
   "outputs": [
    {
     "name": "stdout",
     "output_type": "stream",
     "text": [
      "      cust_id    gender\n",
      "0        3500  0.413486\n",
      "1        3501  0.262455\n",
      "2        3502  0.413618\n",
      "3        3503  0.473441\n",
      "4        3504  0.409599\n",
      "...       ...       ...\n",
      "2477     5977  0.503313\n",
      "2478     5978  0.531997\n",
      "2479     5979  0.445411\n",
      "2480     5980  0.465261\n",
      "2481     5981  0.505664\n",
      "\n",
      "[2482 rows x 2 columns]\n"
     ]
    }
   ],
   "source": [
    "final = pd.read_csv('data/example.csv')\n",
    "print(final)"
   ]
  },
  {
   "cell_type": "code",
   "execution_count": null,
   "id": "bf19b83c-a35d-4f2c-87cc-901a2549a8e0",
   "metadata": {},
   "outputs": [],
   "source": []
  }
 ],
 "metadata": {
  "kernelspec": {
   "display_name": "Python Multi",
   "language": "python",
   "name": "multi"
  },
  "language_info": {
   "codemirror_mode": {
    "name": "ipython",
    "version": 3
   },
   "file_extension": ".py",
   "mimetype": "text/x-python",
   "name": "python",
   "nbconvert_exporter": "python",
   "pygments_lexer": "ipython3",
   "version": "3.9.5"
  }
 },
 "nbformat": 4,
 "nbformat_minor": 5
}
