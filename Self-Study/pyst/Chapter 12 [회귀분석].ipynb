{
 "cells": [
  {
   "cell_type": "markdown",
   "id": "8c41252a-b6b0-476e-8590-a7565f04aac3",
   "metadata": {},
   "source": [
    "# Chapter 12 [회귀분석]"
   ]
  },
  {
   "cell_type": "code",
   "execution_count": 1,
   "id": "886ddda7-e87f-436a-b776-aeb08fe122b6",
   "metadata": {},
   "outputs": [],
   "source": [
    "import numpy as np\n",
    "import pandas as pd\n",
    "import matplotlib.pyplot as plt\n",
    "from scipy import stats\n",
    "import statsmodels.formula.api as smf\n",
    "\n",
    "%precision 3\n",
    "%matplotlib inline"
   ]
  },
  {
   "cell_type": "code",
   "execution_count": 2,
   "id": "8abdf222-3fa7-49dc-8849-a017a8a91389",
   "metadata": {},
   "outputs": [
    {
     "name": "stdout",
     "output_type": "stream",
     "text": [
      "20\n"
     ]
    },
    {
     "data": {
      "text/html": [
       "<div>\n",
       "<style scoped>\n",
       "    .dataframe tbody tr th:only-of-type {\n",
       "        vertical-align: middle;\n",
       "    }\n",
       "\n",
       "    .dataframe tbody tr th {\n",
       "        vertical-align: top;\n",
       "    }\n",
       "\n",
       "    .dataframe thead th {\n",
       "        text-align: right;\n",
       "    }\n",
       "</style>\n",
       "<table border=\"1\" class=\"dataframe\">\n",
       "  <thead>\n",
       "    <tr style=\"text-align: right;\">\n",
       "      <th></th>\n",
       "      <th>quiz</th>\n",
       "      <th>final_test</th>\n",
       "      <th>sleep_time</th>\n",
       "      <th>school_method</th>\n",
       "    </tr>\n",
       "  </thead>\n",
       "  <tbody>\n",
       "    <tr>\n",
       "      <th>0</th>\n",
       "      <td>4.2</td>\n",
       "      <td>67</td>\n",
       "      <td>7.2</td>\n",
       "      <td>bus</td>\n",
       "    </tr>\n",
       "    <tr>\n",
       "      <th>1</th>\n",
       "      <td>7.2</td>\n",
       "      <td>71</td>\n",
       "      <td>7.9</td>\n",
       "      <td>bicycle</td>\n",
       "    </tr>\n",
       "    <tr>\n",
       "      <th>2</th>\n",
       "      <td>0.0</td>\n",
       "      <td>19</td>\n",
       "      <td>5.3</td>\n",
       "      <td>bus</td>\n",
       "    </tr>\n",
       "    <tr>\n",
       "      <th>3</th>\n",
       "      <td>3.0</td>\n",
       "      <td>35</td>\n",
       "      <td>6.8</td>\n",
       "      <td>walk</td>\n",
       "    </tr>\n",
       "    <tr>\n",
       "      <th>4</th>\n",
       "      <td>1.5</td>\n",
       "      <td>35</td>\n",
       "      <td>7.5</td>\n",
       "      <td>walk</td>\n",
       "    </tr>\n",
       "  </tbody>\n",
       "</table>\n",
       "</div>"
      ],
      "text/plain": [
       "   quiz  final_test  sleep_time school_method\n",
       "0   4.2          67         7.2           bus\n",
       "1   7.2          71         7.9       bicycle\n",
       "2   0.0          19         5.3           bus\n",
       "3   3.0          35         6.8          walk\n",
       "4   1.5          35         7.5          walk"
      ]
     },
     "execution_count": 2,
     "metadata": {},
     "output_type": "execute_result"
    }
   ],
   "source": [
    "df = pd.read_csv('../../../Source/누구나 파이썬 통계분석/source/python_stat_sample-master/data/ch12_scores_reg.csv')\n",
    "n = len(df)\n",
    "print(n)\n",
    "df.head()"
   ]
  },
  {
   "cell_type": "code",
   "execution_count": null,
   "id": "d48c03b3-1edc-46e1-973c-746ddc03e9bd",
   "metadata": {},
   "outputs": [],
   "source": []
  },
  {
   "cell_type": "markdown",
   "id": "41d65152-49c0-4b32-8d14-3dfb3b33195d",
   "metadata": {},
   "source": [
    "## 12.1 단순회귀모형"
   ]
  },
  {
   "cell_type": "markdown",
   "id": "f293a05d-777c-456b-81ee-b04a83ae11f7",
   "metadata": {},
   "source": [
    "***회귀분석(regression analysis)**<br>\n",
    ": 인과관계가 의심되는 복수의 변수를 사용하요 어느 변수로부터 다른 변후의 값을 예측하는 기법<br>\n",
    "<br>\n",
    "**독립변수(independent variable)** : 원인이 되는 변수<br>\n",
    "**종속변수(dependent variable)** : 결과가 되는 변수"
   ]
  },
  {
   "cell_type": "markdown",
   "id": "741f52f3-906d-4960-93fd-178ecce74fb3",
   "metadata": {},
   "source": [
    "***단순회귀모형(simple regression analysis)** : 회귀분석에서 독립변수와 종속변수가 1개씩인 가장 단순한 모델"
   ]
  },
  {
   "cell_type": "code",
   "execution_count": 3,
   "id": "f27a6891-c7f7-485a-960b-35b8f418c271",
   "metadata": {},
   "outputs": [],
   "source": [
    "x = np.array(df['quiz'])\n",
    "y = np.array(df['final_test'])\n",
    "p = 1"
   ]
  },
  {
   "cell_type": "code",
   "execution_count": 4,
   "id": "a585854c-d973-4f1c-96c1-fedb5949b70d",
   "metadata": {},
   "outputs": [
    {
     "data": {
      "image/png": "[encoded data removed]",
      "text/plain": [
       "<Figure size 720x432 with 1 Axes>"
      ]
     },
     "metadata": {
      "needs_background": "light"
     },
     "output_type": "display_data"
    }
   ],
   "source": [
    "poly_fit = np.polyfit(x, y, 1)\n",
    "poly_1d = np.poly1d(poly_fit)\n",
    "xs = np.linspace(x.min(), x.max())\n",
    "ys = poly_1d(xs)\n",
    "\n",
    "fig = plt.figure(figsize=(10, 6))\n",
    "ax = fig.add_subplot(111)\n",
    "ax.set_xlabel('quiz')\n",
    "ax.set_ylabel('final test')\n",
    "ax.plot(xs, ys, color='gray', \n",
    "        label=f'{poly_fit[1]:.2f}+{poly_fit[0]:.2f}x')\n",
    "ax.scatter(x, y)\n",
    "ax.legend()\n",
    "\n",
    "plt.show()"
   ]
  },
  {
   "cell_type": "code",
   "execution_count": null,
   "id": "1271d610-c03a-460d-83dc-e634e2201873",
   "metadata": {},
   "outputs": [],
   "source": []
  },
  {
   "cell_type": "markdown",
   "id": "22f8e323-de24-4e46-9a69-4798ca3594ce",
   "metadata": {},
   "source": [
    "### 12.1.1 회귀분석에서의 가설"
   ]
  },
  {
   "cell_type": "markdown",
   "id": "8f5a6e54-8d2d-4d1b-92af-f3702d321a59",
   "metadata": {},
   "source": [
    "<center>$Y_i=\\beta_0+\\beta_1+\\epsilon_i$   $(i=1, 2, ..., n)$</center>"
   ]
  },
  {
   "cell_type": "markdown",
   "id": "cc95e73a-e427-4068-8571-688e1f5ffeab",
   "metadata": {},
   "source": [
    "***회귀직선(regression line)**\n",
    "<center>$y=\\hat{\\beta_0}+\\hat{\\beta_1}x$</center><br>"
   ]
  },
  {
   "cell_type": "markdown",
   "id": "d9bcd7f0-73cd-4b81-9a47-7531fdcd3123",
   "metadata": {},
   "source": [
    "**회귀계수(regressino coefficient)** : $\\hat{\\beta_0}, \\hat{\\beta_1}$"
   ]
  },
  {
   "cell_type": "code",
   "execution_count": null,
   "id": "f5774cf8-3321-40a7-85c0-5aa42f4224df",
   "metadata": {},
   "outputs": [],
   "source": []
  },
  {
   "cell_type": "markdown",
   "id": "1c6a8eb8-448a-49e6-b507-01094b3f8fc1",
   "metadata": {},
   "source": [
    "### 12.1.2 statsmodels에 의한 회귀분석"
   ]
  },
  {
   "cell_type": "code",
   "execution_count": 5,
   "id": "9c421da4-fa01-42d3-9008-244dbd423c73",
   "metadata": {},
   "outputs": [
    {
     "data": {
      "text/html": [
       "<table class=\"simpletable\">\n",
       "<caption>OLS Regression Results</caption>\n",
       "<tr>\n",
       "  <th>Dep. Variable:</th>       <td>final_test</td>    <th>  R-squared:         </th> <td>   0.676</td>\n",
       "</tr>\n",
       "<tr>\n",
       "  <th>Model:</th>                   <td>OLS</td>       <th>  Adj. R-squared:    </th> <td>   0.658</td>\n",
       "</tr>\n",
       "<tr>\n",
       "  <th>Method:</th>             <td>Least Squares</td>  <th>  F-statistic:       </th> <td>   37.61</td>\n",
       "</tr>\n",
       "<tr>\n",
       "  <th>Date:</th>             <td>Fri, 09 Jul 2021</td> <th>  Prob (F-statistic):</th> <td>8.59e-06</td>\n",
       "</tr>\n",
       "<tr>\n",
       "  <th>Time:</th>                 <td>14:05:09</td>     <th>  Log-Likelihood:    </th> <td> -76.325</td>\n",
       "</tr>\n",
       "<tr>\n",
       "  <th>No. Observations:</th>      <td>    20</td>      <th>  AIC:               </th> <td>   156.7</td>\n",
       "</tr>\n",
       "<tr>\n",
       "  <th>Df Residuals:</th>          <td>    18</td>      <th>  BIC:               </th> <td>   158.6</td>\n",
       "</tr>\n",
       "<tr>\n",
       "  <th>Df Model:</th>              <td>     1</td>      <th>                     </th>     <td> </td>   \n",
       "</tr>\n",
       "<tr>\n",
       "  <th>Covariance Type:</th>      <td>nonrobust</td>    <th>                     </th>     <td> </td>   \n",
       "</tr>\n",
       "</table>\n",
       "<table class=\"simpletable\">\n",
       "<tr>\n",
       "      <td></td>         <th>coef</th>     <th>std err</th>      <th>t</th>      <th>P>|t|</th>  <th>[0.025</th>    <th>0.975]</th>  \n",
       "</tr>\n",
       "<tr>\n",
       "  <th>Intercept</th> <td>   23.6995</td> <td>    4.714</td> <td>    5.028</td> <td> 0.000</td> <td>   13.796</td> <td>   33.603</td>\n",
       "</tr>\n",
       "<tr>\n",
       "  <th>quiz</th>      <td>    6.5537</td> <td>    1.069</td> <td>    6.133</td> <td> 0.000</td> <td>    4.309</td> <td>    8.799</td>\n",
       "</tr>\n",
       "</table>\n",
       "<table class=\"simpletable\">\n",
       "<tr>\n",
       "  <th>Omnibus:</th>       <td> 2.139</td> <th>  Durbin-Watson:     </th> <td>   1.478</td>\n",
       "</tr>\n",
       "<tr>\n",
       "  <th>Prob(Omnibus):</th> <td> 0.343</td> <th>  Jarque-Bera (JB):  </th> <td>   1.773</td>\n",
       "</tr>\n",
       "<tr>\n",
       "  <th>Skew:</th>          <td> 0.670</td> <th>  Prob(JB):          </th> <td>   0.412</td>\n",
       "</tr>\n",
       "<tr>\n",
       "  <th>Kurtosis:</th>      <td> 2.422</td> <th>  Cond. No.          </th> <td>    8.32</td>\n",
       "</tr>\n",
       "</table><br/><br/>Notes:<br/>[1] Standard Errors assume that the covariance matrix of the errors is correctly specified."
      ],
      "text/plain": [
       "<class 'statsmodels.iolib.summary.Summary'>\n",
       "\"\"\"\n",
       "                            OLS Regression Results                            \n",
       "==============================================================================\n",
       "Dep. Variable:             final_test   R-squared:                       0.676\n",
       "Model:                            OLS   Adj. R-squared:                  0.658\n",
       "Method:                 Least Squares   F-statistic:                     37.61\n",
       "Date:                Fri, 09 Jul 2021   Prob (F-statistic):           8.59e-06\n",
       "Time:                        14:05:09   Log-Likelihood:                -76.325\n",
       "No. Observations:                  20   AIC:                             156.7\n",
       "Df Residuals:                      18   BIC:                             158.6\n",
       "Df Model:                           1                                         \n",
       "Covariance Type:            nonrobust                                         \n",
       "==============================================================================\n",
       "                 coef    std err          t      P>|t|      [0.025      0.975]\n",
       "------------------------------------------------------------------------------\n",
       "Intercept     23.6995      4.714      5.028      0.000      13.796      33.603\n",
       "quiz           6.5537      1.069      6.133      0.000       4.309       8.799\n",
       "==============================================================================\n",
       "Omnibus:                        2.139   Durbin-Watson:                   1.478\n",
       "Prob(Omnibus):                  0.343   Jarque-Bera (JB):                1.773\n",
       "Skew:                           0.670   Prob(JB):                        0.412\n",
       "Kurtosis:                       2.422   Cond. No.                         8.32\n",
       "==============================================================================\n",
       "\n",
       "Notes:\n",
       "[1] Standard Errors assume that the covariance matrix of the errors is correctly specified.\n",
       "\"\"\""
      ]
     },
     "execution_count": 5,
     "metadata": {},
     "output_type": "execute_result"
    }
   ],
   "source": [
    "formula = 'final_test ~ quiz'\n",
    "result = smf.ols(formula, df).fit()\n",
    "\n",
    "result.summary()"
   ]
  },
  {
   "cell_type": "code",
   "execution_count": null,
   "id": "37ad74a3-7c52-4723-8ce4-ff0811d5aa85",
   "metadata": {},
   "outputs": [],
   "source": []
  },
  {
   "cell_type": "markdown",
   "id": "ff390f17-457e-46f8-9336-940992351b83",
   "metadata": {},
   "source": [
    "### 12.1.3 회귀계수"
   ]
  },
  {
   "cell_type": "markdown",
   "id": "59ecf1d0-375b-4f26-b859-8750c9ebf7ed",
   "metadata": {},
   "source": [
    "***잔차(residual)**$ : y_i-\\hat{y_i}$<br>\n",
    "***잔차제곱합(RSS : residual sum of squares)**<br>\n",
    "<br>\n",
    "<center>$\\sum_i^n\\hat\\epsilon^2$</center>"
   ]
  },
  {
   "cell_type": "markdown",
   "id": "31e16847-f6ec-4dad-a2f2-c7db9b25b724",
   "metadata": {},
   "source": [
    "- 점추정"
   ]
  },
  {
   "cell_type": "code",
   "execution_count": 6,
   "id": "aeddf0df-dc41-4ac0-937e-cfb3620b0173",
   "metadata": {},
   "outputs": [
    {
     "data": {
      "text/plain": [
       "array([[1. , 4.2],\n",
       "       [1. , 7.2],\n",
       "       [1. , 0. ],\n",
       "       [1. , 3. ],\n",
       "       [1. , 1.5],\n",
       "       [1. , 0.9],\n",
       "       [1. , 1.9],\n",
       "       [1. , 3.5],\n",
       "       [1. , 4. ],\n",
       "       [1. , 5.4],\n",
       "       [1. , 4.2],\n",
       "       [1. , 6.9],\n",
       "       [1. , 2. ],\n",
       "       [1. , 8.8],\n",
       "       [1. , 0.3],\n",
       "       [1. , 6.7],\n",
       "       [1. , 4.2],\n",
       "       [1. , 5.6],\n",
       "       [1. , 1.4],\n",
       "       [1. , 2. ]])"
      ]
     },
     "execution_count": 6,
     "metadata": {},
     "output_type": "execute_result"
    }
   ],
   "source": [
    "X = np.array([np.ones_like(x), x]).T\n",
    "\n",
    "X"
   ]
  },
  {
   "cell_type": "code",
   "execution_count": 7,
   "id": "ee5311ca-a039-4721-9c80-aeb122bf6158",
   "metadata": {},
   "outputs": [
    {
     "name": "stderr",
     "output_type": "stream",
     "text": [
      "<ipython-input-7-a60e3660cc78>:1: FutureWarning: `rcond` parameter will change to the default of machine precision times ``max(M, N)`` where M and N are the input matrix dimensions.\n",
      "To use the future default and silence this warning we advise to pass `rcond=None`, to keep using the old, explicitly pass `rcond=-1`.\n",
      "  beta0_hat, beta1_hat = np.linalg.lstsq(X, y)[0]\n"
     ]
    },
    {
     "data": {
      "text/plain": [
       "(23.699495346731215, 6.5537326060430825)"
      ]
     },
     "execution_count": 7,
     "metadata": {},
     "output_type": "execute_result"
    }
   ],
   "source": [
    "beta0_hat, beta1_hat = np.linalg.lstsq(X, y)[0]\n",
    "\n",
    "beta0_hat, beta1_hat"
   ]
  },
  {
   "cell_type": "code",
   "execution_count": 8,
   "id": "7b86b29a-2ca6-48d2-abbc-01abafc2d589",
   "metadata": {},
   "outputs": [],
   "source": [
    "y_hat = beta0_hat + beta1_hat * x\n",
    "eps_hat = y - y_hat"
   ]
  },
  {
   "cell_type": "code",
   "execution_count": 9,
   "id": "ff264b6f-559c-429a-8397-aef2d161cad0",
   "metadata": {},
   "outputs": [
    {
     "data": {
      "text/plain": [
       "134.290434734959"
      ]
     },
     "execution_count": 9,
     "metadata": {},
     "output_type": "execute_result"
    }
   ],
   "source": [
    "s_var = np.var(eps_hat, ddof=p+1)\n",
    "s_var"
   ]
  },
  {
   "cell_type": "markdown",
   "id": "9a3360ea-7728-4ab8-b39c-bc230d738547",
   "metadata": {},
   "source": [
    "- 구간추정"
   ]
  },
  {
   "cell_type": "code",
   "execution_count": 10,
   "id": "4944b48e-bebf-4c86-acbd-5afa66c4f3db",
   "metadata": {},
   "outputs": [],
   "source": [
    "C0, C1 = np.diag(np.linalg.pinv(np.dot(X.T, X)))"
   ]
  },
  {
   "cell_type": "markdown",
   "id": "7c6de454-abea-4e6e-ab55-375f45952a5e",
   "metadata": {},
   "source": [
    "****회귀계수의 신뢰구간***<br>\n",
    "회귀계수 $\\beta_0, \\beta_1$의 신뢰수준 $100(1-\\alpha)$%의 신뢰구간은<br>\n",
    "<br>\n",
    "<center>$[\\hat\\beta_i-t_{\\alpha/2}(n-2)\\sqrt{\\hat{\\sigma}^2C_i}, \\hat\\beta_i-t_{(1-\\alpha/2)}(n-2)\\sqrt{\\hat{\\sigma}^2C_i}]$   $(i=0, 1)$</center>"
   ]
  },
  {
   "cell_type": "code",
   "execution_count": 11,
   "id": "e4187c76-4cc1-44e4-850f-a860d7ad79d0",
   "metadata": {},
   "outputs": [
    {
     "data": {
      "text/plain": [
       "(4.713837012645705, 1.0685841387335373)"
      ]
     },
     "execution_count": 11,
     "metadata": {},
     "output_type": "execute_result"
    }
   ],
   "source": [
    "np.sqrt(s_var * C0), np.sqrt(s_var * C1)"
   ]
  },
  {
   "cell_type": "code",
   "execution_count": 12,
   "id": "228aff3a-6788-48ff-bbe3-e5b3cf73c19d",
   "metadata": {},
   "outputs": [
    {
     "data": {
      "text/plain": [
       "(13.796091272760249, 33.60289942070218)"
      ]
     },
     "execution_count": 12,
     "metadata": {},
     "output_type": "execute_result"
    }
   ],
   "source": [
    "rv = stats.t(n-2)\n",
    "\n",
    "lcl = beta0_hat - rv.isf(0.025) * np.sqrt(s_var * C0)\n",
    "hcl = beta0_hat - rv.isf(0.975) * np.sqrt(s_var * C0)\n",
    "lcl, hcl"
   ]
  },
  {
   "cell_type": "code",
   "execution_count": 13,
   "id": "d0c7e8b2-b280-4d28-be60-ed8750230b76",
   "metadata": {},
   "outputs": [
    {
     "data": {
      "text/plain": [
       "(4.308720637125891, 8.798744574960274)"
      ]
     },
     "execution_count": 13,
     "metadata": {},
     "output_type": "execute_result"
    }
   ],
   "source": [
    "rv = stats.t(n-2)\n",
    "\n",
    "lcl = beta1_hat - rv.isf(0.025) * np.sqrt(s_var * C1)\n",
    "hcl = beta1_hat - rv.isf(0.975) * np.sqrt(s_var * C1)\n",
    "lcl, hcl"
   ]
  },
  {
   "cell_type": "markdown",
   "id": "4f01ae3a-18a5-4ee7-a2c2-d25849f27b8c",
   "metadata": {},
   "source": [
    "- $t$ 검정"
   ]
  },
  {
   "cell_type": "markdown",
   "id": "d8bbceca-eadc-4693-ae58-e8d57fb47c75",
   "metadata": {},
   "source": [
    "검정통계량<br>\n",
    "<center>$t=\\frac{\\hat\\beta_1-\\beta_1}{\\sqrt{\\hat\\sigma^2C_1}}$</center>"
   ]
  },
  {
   "cell_type": "markdown",
   "id": "73f68208-d6c0-46a8-9bd7-8dbf564122fd",
   "metadata": {},
   "source": [
    "귀무가설에서 $\\beta_1=0$이므로<br>\n",
    "<center>$t=\\frac{\\hat\\beta_1}{\\sqrt{\\hat\\sigma^2C_1}}$</center>"
   ]
  },
  {
   "cell_type": "code",
   "execution_count": 14,
   "id": "36b4f8a2-e59d-4052-b2cf-4177e942e948",
   "metadata": {},
   "outputs": [
    {
     "data": {
      "text/plain": [
       "6.133099274532022"
      ]
     },
     "execution_count": 14,
     "metadata": {},
     "output_type": "execute_result"
    }
   ],
   "source": [
    "t = beta1_hat / np.sqrt(s_var * C1)\n",
    "\n",
    "t"
   ]
  },
  {
   "cell_type": "code",
   "execution_count": 15,
   "id": "de1431a2-118e-4a2f-9ca8-3eb553d5d292",
   "metadata": {},
   "outputs": [
    {
     "data": {
      "text/plain": [
       "8.590875866687497e-06"
      ]
     },
     "execution_count": 15,
     "metadata": {},
     "output_type": "execute_result"
    }
   ],
   "source": [
    "(1 - rv.cdf(t)) * 2"
   ]
  },
  {
   "cell_type": "code",
   "execution_count": 16,
   "id": "10aa016c-1fcb-47d6-971b-96d6e2387dd9",
   "metadata": {},
   "outputs": [
    {
     "data": {
      "text/plain": [
       "5.027644206440128"
      ]
     },
     "execution_count": 16,
     "metadata": {},
     "output_type": "execute_result"
    }
   ],
   "source": [
    "t = beta0_hat / np.sqrt(s_var * C0)\n",
    "t"
   ]
  },
  {
   "cell_type": "code",
   "execution_count": 17,
   "id": "47c6751d-dd90-4188-bff8-12b1506c8c88",
   "metadata": {},
   "outputs": [
    {
     "data": {
      "text/plain": [
       "8.745298393209033e-05"
      ]
     },
     "execution_count": 17,
     "metadata": {},
     "output_type": "execute_result"
    }
   ],
   "source": [
    "(1 - rv.cdf(t)) * 2"
   ]
  },
  {
   "cell_type": "code",
   "execution_count": null,
   "id": "37e31c48-9130-45a7-a244-c96daf8005b8",
   "metadata": {},
   "outputs": [],
   "source": []
  },
  {
   "cell_type": "markdown",
   "id": "fb3562ca-0f35-4fe2-8150-97cfc143d67e",
   "metadata": {},
   "source": [
    "## 12.2 중회귀모형"
   ]
  },
  {
   "cell_type": "markdown",
   "id": "cdec9dd7-338d-46fd-8540-ddeafd7644a3",
   "metadata": {},
   "source": [
    "***중회귀모형(multiple regression model)** : 설명변수가 2개 이상인 회귀모형"
   ]
  },
  {
   "cell_type": "code",
   "execution_count": 18,
   "id": "09123e74-8c57-420f-bd90-cd828dfee870",
   "metadata": {},
   "outputs": [
    {
     "data": {
      "text/html": [
       "<table class=\"simpletable\">\n",
       "<caption>OLS Regression Results</caption>\n",
       "<tr>\n",
       "  <th>Dep. Variable:</th>       <td>final_test</td>    <th>  R-squared:         </th> <td>   0.756</td>\n",
       "</tr>\n",
       "<tr>\n",
       "  <th>Model:</th>                   <td>OLS</td>       <th>  Adj. R-squared:    </th> <td>   0.727</td>\n",
       "</tr>\n",
       "<tr>\n",
       "  <th>Method:</th>             <td>Least Squares</td>  <th>  F-statistic:       </th> <td>   26.35</td>\n",
       "</tr>\n",
       "<tr>\n",
       "  <th>Date:</th>             <td>Fri, 09 Jul 2021</td> <th>  Prob (F-statistic):</th> <td>6.19e-06</td>\n",
       "</tr>\n",
       "<tr>\n",
       "  <th>Time:</th>                 <td>14:05:09</td>     <th>  Log-Likelihood:    </th> <td> -73.497</td>\n",
       "</tr>\n",
       "<tr>\n",
       "  <th>No. Observations:</th>      <td>    20</td>      <th>  AIC:               </th> <td>   153.0</td>\n",
       "</tr>\n",
       "<tr>\n",
       "  <th>Df Residuals:</th>          <td>    17</td>      <th>  BIC:               </th> <td>   156.0</td>\n",
       "</tr>\n",
       "<tr>\n",
       "  <th>Df Model:</th>              <td>     2</td>      <th>                     </th>     <td> </td>   \n",
       "</tr>\n",
       "<tr>\n",
       "  <th>Covariance Type:</th>      <td>nonrobust</td>    <th>                     </th>     <td> </td>   \n",
       "</tr>\n",
       "</table>\n",
       "<table class=\"simpletable\">\n",
       "<tr>\n",
       "       <td></td>         <th>coef</th>     <th>std err</th>      <th>t</th>      <th>P>|t|</th>  <th>[0.025</th>    <th>0.975]</th>  \n",
       "</tr>\n",
       "<tr>\n",
       "  <th>Intercept</th>  <td>   -1.8709</td> <td>   11.635</td> <td>   -0.161</td> <td> 0.874</td> <td>  -26.420</td> <td>   22.678</td>\n",
       "</tr>\n",
       "<tr>\n",
       "  <th>quiz</th>       <td>    6.4289</td> <td>    0.956</td> <td>    6.725</td> <td> 0.000</td> <td>    4.412</td> <td>    8.446</td>\n",
       "</tr>\n",
       "<tr>\n",
       "  <th>sleep_time</th> <td>    4.1917</td> <td>    1.778</td> <td>    2.357</td> <td> 0.031</td> <td>    0.440</td> <td>    7.943</td>\n",
       "</tr>\n",
       "</table>\n",
       "<table class=\"simpletable\">\n",
       "<tr>\n",
       "  <th>Omnibus:</th>       <td> 2.073</td> <th>  Durbin-Watson:     </th> <td>   1.508</td>\n",
       "</tr>\n",
       "<tr>\n",
       "  <th>Prob(Omnibus):</th> <td> 0.355</td> <th>  Jarque-Bera (JB):  </th> <td>   1.716</td>\n",
       "</tr>\n",
       "<tr>\n",
       "  <th>Skew:</th>          <td> 0.660</td> <th>  Prob(JB):          </th> <td>   0.424</td>\n",
       "</tr>\n",
       "<tr>\n",
       "  <th>Kurtosis:</th>      <td> 2.437</td> <th>  Cond. No.          </th> <td>    38.0</td>\n",
       "</tr>\n",
       "</table><br/><br/>Notes:<br/>[1] Standard Errors assume that the covariance matrix of the errors is correctly specified."
      ],
      "text/plain": [
       "<class 'statsmodels.iolib.summary.Summary'>\n",
       "\"\"\"\n",
       "                            OLS Regression Results                            \n",
       "==============================================================================\n",
       "Dep. Variable:             final_test   R-squared:                       0.756\n",
       "Model:                            OLS   Adj. R-squared:                  0.727\n",
       "Method:                 Least Squares   F-statistic:                     26.35\n",
       "Date:                Fri, 09 Jul 2021   Prob (F-statistic):           6.19e-06\n",
       "Time:                        14:05:09   Log-Likelihood:                -73.497\n",
       "No. Observations:                  20   AIC:                             153.0\n",
       "Df Residuals:                      17   BIC:                             156.0\n",
       "Df Model:                           2                                         \n",
       "Covariance Type:            nonrobust                                         \n",
       "==============================================================================\n",
       "                 coef    std err          t      P>|t|      [0.025      0.975]\n",
       "------------------------------------------------------------------------------\n",
       "Intercept     -1.8709     11.635     -0.161      0.874     -26.420      22.678\n",
       "quiz           6.4289      0.956      6.725      0.000       4.412       8.446\n",
       "sleep_time     4.1917      1.778      2.357      0.031       0.440       7.943\n",
       "==============================================================================\n",
       "Omnibus:                        2.073   Durbin-Watson:                   1.508\n",
       "Prob(Omnibus):                  0.355   Jarque-Bera (JB):                1.716\n",
       "Skew:                           0.660   Prob(JB):                        0.424\n",
       "Kurtosis:                       2.437   Cond. No.                         38.0\n",
       "==============================================================================\n",
       "\n",
       "Notes:\n",
       "[1] Standard Errors assume that the covariance matrix of the errors is correctly specified.\n",
       "\"\"\""
      ]
     },
     "execution_count": 18,
     "metadata": {},
     "output_type": "execute_result"
    }
   ],
   "source": [
    "formula = 'final_test ~ quiz + sleep_time'\n",
    "result = smf.ols(formula, df).fit()\n",
    "\n",
    "result.summary()"
   ]
  },
  {
   "cell_type": "code",
   "execution_count": null,
   "id": "adf4c565-c3e4-46d8-a2e5-991e75f73864",
   "metadata": {},
   "outputs": [],
   "source": []
  },
  {
   "cell_type": "markdown",
   "id": "8c03e84e-88e3-499d-930e-927acc167f39",
   "metadata": {},
   "source": [
    "### 12.2.1 회귀계수"
   ]
  },
  {
   "cell_type": "code",
   "execution_count": 19,
   "id": "a36907b3-5e45-41cf-b23b-87e2ef7bdb83",
   "metadata": {},
   "outputs": [],
   "source": [
    "x1 = df['quiz']\n",
    "x2 = df['sleep_time']\n",
    "y = df['final_test']\n",
    "p = 2"
   ]
  },
  {
   "cell_type": "code",
   "execution_count": 20,
   "id": "747dde19-b044-4347-86bd-6be728c893a8",
   "metadata": {},
   "outputs": [
    {
     "name": "stderr",
     "output_type": "stream",
     "text": [
      "<ipython-input-20-b89b5e76aa72>:2: FutureWarning: `rcond` parameter will change to the default of machine precision times ``max(M, N)`` where M and N are the input matrix dimensions.\n",
      "To use the future default and silence this warning we advise to pass `rcond=None`, to keep using the old, explicitly pass `rcond=-1`.\n",
      "  beta0_hat, beta1_hat, beta2_hat = np.linalg.lstsq(X, y)[0]\n"
     ]
    },
    {
     "data": {
      "text/plain": [
       "(-1.8709143470995935, 6.428878343002369, 4.191706546398685)"
      ]
     },
     "execution_count": 20,
     "metadata": {},
     "output_type": "execute_result"
    }
   ],
   "source": [
    "X = np.array([np.ones_like(x1), x1, x2]).T\n",
    "beta0_hat, beta1_hat, beta2_hat = np.linalg.lstsq(X, y)[0]\n",
    "\n",
    "beta0_hat, beta1_hat, beta2_hat"
   ]
  },
  {
   "cell_type": "code",
   "execution_count": 21,
   "id": "7ae70626-e1fd-4ec2-9d53-394885ec8558",
   "metadata": {},
   "outputs": [],
   "source": [
    "y_hat = beta0_hat + beta1_hat * x1 + beta2_hat * x2\n",
    "eps_hat = y - y_hat"
   ]
  },
  {
   "cell_type": "code",
   "execution_count": 22,
   "id": "fe2813bb-96df-4275-94fb-1688ec12e703",
   "metadata": {},
   "outputs": [],
   "source": [
    "s_var = np.sum(eps_hat ** 2) / (n - p - 1)\n",
    "C0, C1, C2 = np.diag(np.linalg.pinv(np.dot(X.T, X)))"
   ]
  },
  {
   "cell_type": "code",
   "execution_count": 23,
   "id": "3d253870-2ff1-42ac-9725-6018728745d2",
   "metadata": {},
   "outputs": [
    {
     "data": {
      "text/plain": [
       "(0.4402533325435001, 7.94315976025387)"
      ]
     },
     "execution_count": 23,
     "metadata": {},
     "output_type": "execute_result"
    }
   ],
   "source": [
    "rv = stats.t(n-p-1)\n",
    "\n",
    "lcl = beta2_hat - rv.isf(0.025) * np.sqrt(s_var * C2)\n",
    "hcl = beta2_hat - rv.isf(0.975) * np.sqrt(s_var * C2)\n",
    "lcl, hcl"
   ]
  },
  {
   "cell_type": "code",
   "execution_count": null,
   "id": "b6bbe065-29fb-490c-963f-e5087ba519cc",
   "metadata": {},
   "outputs": [],
   "source": []
  },
  {
   "cell_type": "markdown",
   "id": "9558410d-7ec2-4f7e-ab4b-24a786637a05",
   "metadata": {},
   "source": [
    "### 12.2.2 가변수"
   ]
  },
  {
   "cell_type": "markdown",
   "id": "d7c2023b-eb75-4184-a371-f9879f9ccb35",
   "metadata": {},
   "source": [
    "**가변수(dummy variable)** : 질적변수를 변환하여 양적변수와 동일하게 취급할 수 있게 하는 기법"
   ]
  },
  {
   "cell_type": "code",
   "execution_count": 24,
   "id": "c9fee84b-f46a-46a8-9f38-6f475c1d0469",
   "metadata": {},
   "outputs": [
    {
     "data": {
      "text/html": [
       "<table class=\"simpletable\">\n",
       "<caption>OLS Regression Results</caption>\n",
       "<tr>\n",
       "  <th>Dep. Variable:</th>       <td>final_test</td>    <th>  R-squared:         </th> <td>   0.782</td>\n",
       "</tr>\n",
       "<tr>\n",
       "  <th>Model:</th>                   <td>OLS</td>       <th>  Adj. R-squared:    </th> <td>   0.724</td>\n",
       "</tr>\n",
       "<tr>\n",
       "  <th>Method:</th>             <td>Least Squares</td>  <th>  F-statistic:       </th> <td>   13.46</td>\n",
       "</tr>\n",
       "<tr>\n",
       "  <th>Date:</th>             <td>Fri, 09 Jul 2021</td> <th>  Prob (F-statistic):</th> <td>7.47e-05</td>\n",
       "</tr>\n",
       "<tr>\n",
       "  <th>Time:</th>                 <td>14:05:09</td>     <th>  Log-Likelihood:    </th> <td> -72.368</td>\n",
       "</tr>\n",
       "<tr>\n",
       "  <th>No. Observations:</th>      <td>    20</td>      <th>  AIC:               </th> <td>   154.7</td>\n",
       "</tr>\n",
       "<tr>\n",
       "  <th>Df Residuals:</th>          <td>    15</td>      <th>  BIC:               </th> <td>   159.7</td>\n",
       "</tr>\n",
       "<tr>\n",
       "  <th>Df Model:</th>              <td>     4</td>      <th>                     </th>     <td> </td>   \n",
       "</tr>\n",
       "<tr>\n",
       "  <th>Covariance Type:</th>      <td>nonrobust</td>    <th>                     </th>     <td> </td>   \n",
       "</tr>\n",
       "</table>\n",
       "<table class=\"simpletable\">\n",
       "<tr>\n",
       "            <td></td>               <th>coef</th>     <th>std err</th>      <th>t</th>      <th>P>|t|</th>  <th>[0.025</th>    <th>0.975]</th>  \n",
       "</tr>\n",
       "<tr>\n",
       "  <th>Intercept</th>             <td>    1.3330</td> <td>   12.434</td> <td>    0.107</td> <td> 0.916</td> <td>  -25.169</td> <td>   27.835</td>\n",
       "</tr>\n",
       "<tr>\n",
       "  <th>school_method[T.bus]</th>  <td>   -1.8118</td> <td>    6.324</td> <td>   -0.286</td> <td> 0.778</td> <td>  -15.292</td> <td>   11.668</td>\n",
       "</tr>\n",
       "<tr>\n",
       "  <th>school_method[T.walk]</th> <td>   -7.6555</td> <td>    6.420</td> <td>   -1.192</td> <td> 0.252</td> <td>  -21.339</td> <td>    6.028</td>\n",
       "</tr>\n",
       "<tr>\n",
       "  <th>quiz</th>                  <td>    6.0029</td> <td>    1.033</td> <td>    5.809</td> <td> 0.000</td> <td>    3.800</td> <td>    8.206</td>\n",
       "</tr>\n",
       "<tr>\n",
       "  <th>sleep_time</th>            <td>    4.5238</td> <td>    1.809</td> <td>    2.501</td> <td> 0.024</td> <td>    0.668</td> <td>    8.380</td>\n",
       "</tr>\n",
       "</table>\n",
       "<table class=\"simpletable\">\n",
       "<tr>\n",
       "  <th>Omnibus:</th>       <td> 1.764</td> <th>  Durbin-Watson:     </th> <td>   1.418</td>\n",
       "</tr>\n",
       "<tr>\n",
       "  <th>Prob(Omnibus):</th> <td> 0.414</td> <th>  Jarque-Bera (JB):  </th> <td>   0.989</td>\n",
       "</tr>\n",
       "<tr>\n",
       "  <th>Skew:</th>          <td> 0.545</td> <th>  Prob(JB):          </th> <td>   0.610</td>\n",
       "</tr>\n",
       "<tr>\n",
       "  <th>Kurtosis:</th>      <td> 2.985</td> <th>  Cond. No.          </th> <td>    41.8</td>\n",
       "</tr>\n",
       "</table><br/><br/>Notes:<br/>[1] Standard Errors assume that the covariance matrix of the errors is correctly specified."
      ],
      "text/plain": [
       "<class 'statsmodels.iolib.summary.Summary'>\n",
       "\"\"\"\n",
       "                            OLS Regression Results                            \n",
       "==============================================================================\n",
       "Dep. Variable:             final_test   R-squared:                       0.782\n",
       "Model:                            OLS   Adj. R-squared:                  0.724\n",
       "Method:                 Least Squares   F-statistic:                     13.46\n",
       "Date:                Fri, 09 Jul 2021   Prob (F-statistic):           7.47e-05\n",
       "Time:                        14:05:09   Log-Likelihood:                -72.368\n",
       "No. Observations:                  20   AIC:                             154.7\n",
       "Df Residuals:                      15   BIC:                             159.7\n",
       "Df Model:                           4                                         \n",
       "Covariance Type:            nonrobust                                         \n",
       "=========================================================================================\n",
       "                            coef    std err          t      P>|t|      [0.025      0.975]\n",
       "-----------------------------------------------------------------------------------------\n",
       "Intercept                 1.3330     12.434      0.107      0.916     -25.169      27.835\n",
       "school_method[T.bus]     -1.8118      6.324     -0.286      0.778     -15.292      11.668\n",
       "school_method[T.walk]    -7.6555      6.420     -1.192      0.252     -21.339       6.028\n",
       "quiz                      6.0029      1.033      5.809      0.000       3.800       8.206\n",
       "sleep_time                4.5238      1.809      2.501      0.024       0.668       8.380\n",
       "==============================================================================\n",
       "Omnibus:                        1.764   Durbin-Watson:                   1.418\n",
       "Prob(Omnibus):                  0.414   Jarque-Bera (JB):                0.989\n",
       "Skew:                           0.545   Prob(JB):                        0.610\n",
       "Kurtosis:                       2.985   Cond. No.                         41.8\n",
       "==============================================================================\n",
       "\n",
       "Notes:\n",
       "[1] Standard Errors assume that the covariance matrix of the errors is correctly specified.\n",
       "\"\"\""
      ]
     },
     "execution_count": 24,
     "metadata": {},
     "output_type": "execute_result"
    }
   ],
   "source": [
    "formula = 'final_test ~ quiz + sleep_time + school_method'\n",
    "result = smf.ols(formula, df).fit()\n",
    "result.summary()"
   ]
  },
  {
   "cell_type": "code",
   "execution_count": null,
   "id": "5c26863b-138b-48e9-a8f1-355cba46a51a",
   "metadata": {},
   "outputs": [],
   "source": []
  },
  {
   "cell_type": "markdown",
   "id": "d06fc83c-1233-4ee1-8ba6-882bfaa9f87a",
   "metadata": {},
   "source": [
    "## 12.3 모형의 선택"
   ]
  },
  {
   "cell_type": "code",
   "execution_count": 25,
   "id": "09c211fb-e54b-4077-8a95-0cbbc454ec5e",
   "metadata": {},
   "outputs": [
    {
     "data": {
      "text/html": [
       "<table class=\"simpletable\">\n",
       "<caption>OLS Regression Results</caption>\n",
       "<tr>\n",
       "  <th>Dep. Variable:</th>       <td>final_test</td>    <th>  R-squared:         </th> <td>   0.676</td>\n",
       "</tr>\n",
       "<tr>\n",
       "  <th>Model:</th>                   <td>OLS</td>       <th>  Adj. R-squared:    </th> <td>   0.658</td>\n",
       "</tr>\n",
       "<tr>\n",
       "  <th>Method:</th>             <td>Least Squares</td>  <th>  F-statistic:       </th> <td>   37.61</td>\n",
       "</tr>\n",
       "<tr>\n",
       "  <th>Date:</th>             <td>Fri, 09 Jul 2021</td> <th>  Prob (F-statistic):</th> <td>8.59e-06</td>\n",
       "</tr>\n",
       "<tr>\n",
       "  <th>Time:</th>                 <td>14:05:09</td>     <th>  Log-Likelihood:    </th> <td> -76.325</td>\n",
       "</tr>\n",
       "<tr>\n",
       "  <th>No. Observations:</th>      <td>    20</td>      <th>  AIC:               </th> <td>   156.7</td>\n",
       "</tr>\n",
       "<tr>\n",
       "  <th>Df Residuals:</th>          <td>    18</td>      <th>  BIC:               </th> <td>   158.6</td>\n",
       "</tr>\n",
       "<tr>\n",
       "  <th>Df Model:</th>              <td>     1</td>      <th>                     </th>     <td> </td>   \n",
       "</tr>\n",
       "<tr>\n",
       "  <th>Covariance Type:</th>      <td>nonrobust</td>    <th>                     </th>     <td> </td>   \n",
       "</tr>\n",
       "</table>\n",
       "<table class=\"simpletable\">\n",
       "<tr>\n",
       "      <td></td>         <th>coef</th>     <th>std err</th>      <th>t</th>      <th>P>|t|</th>  <th>[0.025</th>    <th>0.975]</th>  \n",
       "</tr>\n",
       "<tr>\n",
       "  <th>Intercept</th> <td>   23.6995</td> <td>    4.714</td> <td>    5.028</td> <td> 0.000</td> <td>   13.796</td> <td>   33.603</td>\n",
       "</tr>\n",
       "<tr>\n",
       "  <th>quiz</th>      <td>    6.5537</td> <td>    1.069</td> <td>    6.133</td> <td> 0.000</td> <td>    4.309</td> <td>    8.799</td>\n",
       "</tr>\n",
       "</table>\n",
       "<table class=\"simpletable\">\n",
       "<tr>\n",
       "  <th>Omnibus:</th>       <td> 2.139</td> <th>  Durbin-Watson:     </th> <td>   1.478</td>\n",
       "</tr>\n",
       "<tr>\n",
       "  <th>Prob(Omnibus):</th> <td> 0.343</td> <th>  Jarque-Bera (JB):  </th> <td>   1.773</td>\n",
       "</tr>\n",
       "<tr>\n",
       "  <th>Skew:</th>          <td> 0.670</td> <th>  Prob(JB):          </th> <td>   0.412</td>\n",
       "</tr>\n",
       "<tr>\n",
       "  <th>Kurtosis:</th>      <td> 2.422</td> <th>  Cond. No.          </th> <td>    8.32</td>\n",
       "</tr>\n",
       "</table><br/><br/>Notes:<br/>[1] Standard Errors assume that the covariance matrix of the errors is correctly specified."
      ],
      "text/plain": [
       "<class 'statsmodels.iolib.summary.Summary'>\n",
       "\"\"\"\n",
       "                            OLS Regression Results                            \n",
       "==============================================================================\n",
       "Dep. Variable:             final_test   R-squared:                       0.676\n",
       "Model:                            OLS   Adj. R-squared:                  0.658\n",
       "Method:                 Least Squares   F-statistic:                     37.61\n",
       "Date:                Fri, 09 Jul 2021   Prob (F-statistic):           8.59e-06\n",
       "Time:                        14:05:09   Log-Likelihood:                -76.325\n",
       "No. Observations:                  20   AIC:                             156.7\n",
       "Df Residuals:                      18   BIC:                             158.6\n",
       "Df Model:                           1                                         \n",
       "Covariance Type:            nonrobust                                         \n",
       "==============================================================================\n",
       "                 coef    std err          t      P>|t|      [0.025      0.975]\n",
       "------------------------------------------------------------------------------\n",
       "Intercept     23.6995      4.714      5.028      0.000      13.796      33.603\n",
       "quiz           6.5537      1.069      6.133      0.000       4.309       8.799\n",
       "==============================================================================\n",
       "Omnibus:                        2.139   Durbin-Watson:                   1.478\n",
       "Prob(Omnibus):                  0.343   Jarque-Bera (JB):                1.773\n",
       "Skew:                           0.670   Prob(JB):                        0.412\n",
       "Kurtosis:                       2.422   Cond. No.                         8.32\n",
       "==============================================================================\n",
       "\n",
       "Notes:\n",
       "[1] Standard Errors assume that the covariance matrix of the errors is correctly specified.\n",
       "\"\"\""
      ]
     },
     "execution_count": 25,
     "metadata": {},
     "output_type": "execute_result"
    }
   ],
   "source": [
    "x = np.array(df['quiz'])\n",
    "y = np.array(df['final_test'])\n",
    "p = 1\n",
    "\n",
    "formula = 'final_test ~ quiz'\n",
    "result = smf.ols(formula, df).fit()\n",
    "result.summary()"
   ]
  },
  {
   "cell_type": "code",
   "execution_count": 26,
   "id": "e0ab973b-d046-4145-865e-2f8a6d530b09",
   "metadata": {},
   "outputs": [
    {
     "data": {
      "text/plain": [
       "array([51.225, 70.886, 23.699, 43.361, 33.53 , 29.598, 36.152, 46.638,\n",
       "       49.914, 59.09 , 51.225, 68.92 , 36.807, 81.372, 25.666, 67.61 ,\n",
       "       51.225, 60.4  , 32.875, 36.807])"
      ]
     },
     "execution_count": 26,
     "metadata": {},
     "output_type": "execute_result"
    }
   ],
   "source": [
    "y_hat = np.array(result.fittedvalues)\n",
    "\n",
    "y_hat"
   ]
  },
  {
   "cell_type": "code",
   "execution_count": 27,
   "id": "9bb21323-6479-42b7-ace4-15af44cb37ef",
   "metadata": {},
   "outputs": [
    {
     "data": {
      "text/plain": [
       "array([ 15.775,   0.114,  -4.699,  -8.361,   1.47 ,  10.402, -13.152,\n",
       "        -9.638, -10.914,  -4.09 , -11.225,   1.08 ,  -7.807,   6.628,\n",
       "        21.334,   9.39 ,   0.775,  -5.4  , -14.875,  23.193])"
      ]
     },
     "execution_count": 27,
     "metadata": {},
     "output_type": "execute_result"
    }
   ],
   "source": [
    "eps_hat = np.array(result.resid)\n",
    "\n",
    "eps_hat"
   ]
  },
  {
   "cell_type": "code",
   "execution_count": 28,
   "id": "7e856624-6ac7-4ba3-8e65-dd17af774d79",
   "metadata": {},
   "outputs": [
    {
     "data": {
      "text/plain": [
       "2417.2278252292626"
      ]
     },
     "execution_count": 28,
     "metadata": {},
     "output_type": "execute_result"
    }
   ],
   "source": [
    "# 잔차제곱합\n",
    "np.sum(eps_hat ** 2)"
   ]
  },
  {
   "cell_type": "code",
   "execution_count": null,
   "id": "f5c8a18e-db9d-4811-9c0c-92e66db94440",
   "metadata": {},
   "outputs": [],
   "source": []
  },
  {
   "cell_type": "markdown",
   "id": "84765f7a-4c58-4d32-929d-7adc02de7ade",
   "metadata": {},
   "source": [
    "### 12.3.1 결정계수"
   ]
  },
  {
   "cell_type": "markdown",
   "id": "334084e4-1439-448f-b499-8d7e25b2277e",
   "metadata": {},
   "source": [
    "**결정계수(R-squared)** : 모형의 데이터에 대한 적합도를 나타내는 기본적인 지표로, $R^2$로 표기"
   ]
  },
  {
   "cell_type": "markdown",
   "id": "cfd3bea0-8ec4-455b-b0a5-c57d18263f0c",
   "metadata": {},
   "source": [
    "- **총변동(total variation)**<br>\n",
    "<br>\n",
    "$\\sum_{i=1}^n(y_i-\\bar{y})^2$<br>\n",
    "<br>\n",
    "- **회귀변동(regression variation)**<br>\n",
    "<br>\n",
    "$\\sum_{i=1}^n(\\hat{y_i}-\\bar{y})^2$<br>\n",
    "<br>\n",
    "- **잔차변동(residual variation)**<br>\n",
    "<br>\n",
    "$\\sum_{i=1}^n\\hat\\epsilon_i^2$<br>\n",
    "<br>\n",
    "- <span style=\"color:blue\">**총변동 = 회귀변동 + 잔차변동**</span>"
   ]
  },
  {
   "cell_type": "markdown",
   "id": "68eab36c-ae9e-48bc-8b2a-d0db89ab30a4",
   "metadata": {},
   "source": [
    "<center>$R^2=\\frac{회귀변동}{총변동}=1-\\frac{잔차변동}{총변동}$</center>"
   ]
  },
  {
   "cell_type": "code",
   "execution_count": 29,
   "id": "9d3453b5-0bc3-4ed1-9987-5d55d675e955",
   "metadata": {},
   "outputs": [],
   "source": [
    "total_var = np.sum((y - np.mean(y))**2)\n",
    "exp_var = np.sum((y_hat - np.mean(y))**2)\n",
    "unexp_var = np.sum(eps_hat ** 2)"
   ]
  },
  {
   "cell_type": "code",
   "execution_count": 30,
   "id": "76f88ffe-fed3-43eb-af51-b4a30fea8e77",
   "metadata": {},
   "outputs": [
    {
     "data": {
      "text/plain": [
       "(7468.55, 7468.5499999999965)"
      ]
     },
     "execution_count": 30,
     "metadata": {},
     "output_type": "execute_result"
    }
   ],
   "source": [
    "total_var, exp_var + unexp_var"
   ]
  },
  {
   "cell_type": "code",
   "execution_count": 31,
   "id": "1239f0cf-e443-45a7-85f2-485425695e54",
   "metadata": {},
   "outputs": [
    {
     "data": {
      "text/plain": [
       "0.6763457665504996"
      ]
     },
     "execution_count": 31,
     "metadata": {},
     "output_type": "execute_result"
    }
   ],
   "source": [
    "exp_var / total_var"
   ]
  },
  {
   "cell_type": "code",
   "execution_count": 32,
   "id": "d57612df-ef41-46f7-804b-2923de361fd9",
   "metadata": {},
   "outputs": [
    {
     "data": {
      "text/plain": [
       "0.6763457665505004"
      ]
     },
     "execution_count": 32,
     "metadata": {},
     "output_type": "execute_result"
    }
   ],
   "source": [
    "np.corrcoef(x, y)[0, 1] ** 2"
   ]
  },
  {
   "cell_type": "code",
   "execution_count": null,
   "id": "44c6364e-9c39-4989-9967-465ba91c0379",
   "metadata": {},
   "outputs": [],
   "source": []
  },
  {
   "cell_type": "markdown",
   "id": "81addee6-27c0-4775-af48-e618f57dffb8",
   "metadata": {},
   "source": [
    "### 12.3.2 조정결정계수"
   ]
  },
  {
   "cell_type": "markdown",
   "id": "ecc5eedc-8939-45b6-a490-a62b6571e8f5",
   "metadata": {},
   "source": [
    "**조정결정계수(adjusted R-square)**<br>\n",
    ": 설명변수를 추가했을 때 그 설명변수에 어느 정도 이상의 설명력이 없는 경우 결정계수의 값이 증가하지 않도록 조정하는 결정계수<br>\n",
    "<br>\n",
    "<center>$\\bar{R}^2=1-\\frac{잔차변동/{(n-p-1)}}{총변동/{n-1}}$</center>"
   ]
  },
  {
   "cell_type": "code",
   "execution_count": 33,
   "id": "64ed4c96-54df-4566-b615-37f200b351a5",
   "metadata": {},
   "outputs": [
    {
     "data": {
      "text/plain": [
       "0.6583649758033057"
      ]
     },
     "execution_count": 33,
     "metadata": {},
     "output_type": "execute_result"
    }
   ],
   "source": [
    "1 - (unexp_var / (n - p - 1)) / (total_var / (n - 1))"
   ]
  },
  {
   "cell_type": "code",
   "execution_count": null,
   "id": "bf80cca6-db18-4b5e-94a7-9a0374742863",
   "metadata": {},
   "outputs": [],
   "source": []
  },
  {
   "cell_type": "markdown",
   "id": "5f2a0b29-c754-4275-854d-20fe26da46b0",
   "metadata": {},
   "source": [
    "### 12.3.3 $F$검정"
   ]
  },
  {
   "cell_type": "markdown",
   "id": "ed42b163-e8ad-4cda-bf34-d0561646aa8c",
   "metadata": {},
   "source": [
    "---\n",
    "\n",
    "귀무가설 : $\\beta_1=\\beta_2=...=\\beta_p=0$<br>\n",
    "대립가설 : 적어도 하나의 $\\beta_i$는 0이 아니다.\n",
    "\n",
    "---\n",
    "<br>\n",
    "<center>$F=\\frac{회귀변동/p}{잔차변동/{(n-p-1)}}$</center>"
   ]
  },
  {
   "cell_type": "code",
   "execution_count": 34,
   "id": "df1166b4-025d-4a87-8a6f-d4183fee25a1",
   "metadata": {},
   "outputs": [
    {
     "data": {
      "text/plain": [
       "37.61490671126521"
      ]
     },
     "execution_count": 34,
     "metadata": {},
     "output_type": "execute_result"
    }
   ],
   "source": [
    "f = (exp_var / p)  / (unexp_var / (n - p - 1))\n",
    "\n",
    "f"
   ]
  },
  {
   "cell_type": "code",
   "execution_count": 35,
   "id": "cd0a8293-af92-464a-90fe-333420e67c95",
   "metadata": {},
   "outputs": [
    {
     "data": {
      "text/plain": [
       "8.590875866687497e-06"
      ]
     },
     "execution_count": 35,
     "metadata": {},
     "output_type": "execute_result"
    }
   ],
   "source": [
    "rv = stats.f(p, n-p-1)\n",
    "1 - rv.cdf(f)"
   ]
  },
  {
   "cell_type": "code",
   "execution_count": null,
   "id": "e10b2a94-d151-452a-8904-4fc865fddb9e",
   "metadata": {},
   "outputs": [],
   "source": []
  },
  {
   "cell_type": "markdown",
   "id": "14d521ea-f4f3-4d60-af11-4f2228f9b6b7",
   "metadata": {},
   "source": [
    "### 12.3.4 최대로그우도와 AIC"
   ]
  },
  {
   "cell_type": "markdown",
   "id": "71001f53-fb26-411d-b04e-387be2743233",
   "metadata": {},
   "source": [
    "- 우도"
   ]
  },
  {
   "cell_type": "markdown",
   "id": "6d08ee14-2e32-4cb5-9c6b-ee98ca451b59",
   "metadata": {},
   "source": [
    "**우도(likelihood)** : 어떤 관측값을 얻을 확률<br>\n",
    "<br>\n",
    "<center>$L=\\Pi_{i=1}f(x_i)$</center><br>\n",
    "<br>\n",
    "<center>$logL=\\sum_{i=1}log f(x_i)$</center><br>"
   ]
  },
  {
   "cell_type": "code",
   "execution_count": 36,
   "id": "c6f18a25-0ef0-4e43-a83c-ee73144da5f5",
   "metadata": {},
   "outputs": [
    {
     "data": {
      "text/plain": [
       "0.030869999999999995"
      ]
     },
     "execution_count": 36,
     "metadata": {},
     "output_type": "execute_result"
    }
   ],
   "source": [
    "prob = 0.3\n",
    "coin_result = [0, 1, 0, 0, 1]\n",
    "\n",
    "rv = stats.bernoulli(prob)\n",
    "L = np.prod(rv.pmf(coin_result))\n",
    "\n",
    "L"
   ]
  },
  {
   "cell_type": "code",
   "execution_count": 37,
   "id": "fe280831-9de9-4ae5-a76d-b909a7dcbc97",
   "metadata": {},
   "outputs": [
    {
     "data": {
      "image/png": "[encoded data removed]",
      "text/plain": [
       "<Figure size 720x432 with 1 Axes>"
      ]
     },
     "metadata": {
      "needs_background": "light"
     },
     "output_type": "display_data"
    }
   ],
   "source": [
    "ps = np.linspace(0, 1, 100)\n",
    "Ls = [np.prod(stats.bernoulli(prob).pmf(coin_result))\n",
    "      for prob in ps]\n",
    "\n",
    "fig = plt.figure(figsize=(10, 6))\n",
    "ax = fig.add_subplot(111)\n",
    "ax.plot(ps, Ls, label='likelihood function', color='gray')\n",
    "ax.legend(fontsize=16)\n",
    "plt.show()"
   ]
  },
  {
   "cell_type": "code",
   "execution_count": 38,
   "id": "da894deb-7f2f-4eb1-9dfa-44add4e24f6f",
   "metadata": {},
   "outputs": [
    {
     "data": {
      "text/plain": [
       "-3.365058335046282"
      ]
     },
     "execution_count": 38,
     "metadata": {},
     "output_type": "execute_result"
    }
   ],
   "source": [
    "prob = 0.4\n",
    "rv = stats.bernoulli(prob)\n",
    "mll = np.sum(np.log(rv.pmf([0, 1, 0, 0, 1])))\n",
    "\n",
    "mll"
   ]
  },
  {
   "cell_type": "markdown",
   "id": "c0449cf1-ce88-4216-9c0e-418ac0858c0a",
   "metadata": {},
   "source": [
    "- **최대로그우도(maximum log-likelihood)**<br>\n",
    "<br>\n",
    "$N(\\hat{y}, \\frac{1}{n}\\sum_{i=1}^n\\hat\\epsilon_i)$의 밀도함수를 $f(x)$로 하여<br>\n",
    "<br>\n",
    "<center>$\\sum_{i=1}^nlogf(y_i)$</center>"
   ]
  },
  {
   "cell_type": "code",
   "execution_count": 39,
   "id": "019dfa5f-8f55-44f0-aa2d-8718d3248276",
   "metadata": {},
   "outputs": [
    {
     "data": {
      "text/plain": [
       "-76.32521428624038"
      ]
     },
     "execution_count": 39,
     "metadata": {},
     "output_type": "execute_result"
    }
   ],
   "source": [
    "rv = stats.norm(y_hat, np.sqrt(unexp_var / n))\n",
    "mll = np.sum(np.log(rv.pdf(y)))\n",
    "mll"
   ]
  },
  {
   "cell_type": "markdown",
   "id": "6b47b961-18a1-44ae-8536-681ed2297ef1",
   "metadata": {},
   "source": [
    "- AIC"
   ]
  },
  {
   "cell_type": "markdown",
   "id": "4e1a5668-041e-4b22-bf5b-f5607d78de06",
   "metadata": {},
   "source": [
    "**AIC(Akaike's information criterion)** : 모형의 복잡도(설명변수의 수)와 데이터에 대한 적합도의 균형을 잡는 지표<br>\n",
    "<br>\n",
    "<center>$AIC=-2×최대로그우도+2×회귀계수의 수$</center>"
   ]
  },
  {
   "cell_type": "code",
   "execution_count": 40,
   "id": "4d8227a2-9583-492d-a9ca-1c2bfb61ce8c",
   "metadata": {},
   "outputs": [
    {
     "data": {
      "text/plain": [
       "156.65042857248076"
      ]
     },
     "execution_count": 40,
     "metadata": {},
     "output_type": "execute_result"
    }
   ],
   "source": [
    "aic = -2 * mll + 2 * (p+1)\n",
    "\n",
    "aic"
   ]
  },
  {
   "cell_type": "markdown",
   "id": "50236cbe-222e-401e-8951-67312b4c68c5",
   "metadata": {},
   "source": [
    "- 베이지안 정보 기준"
   ]
  },
  {
   "cell_type": "markdown",
   "id": "bdcf74c2-4c21-4c8e-ad43-109490bf4017",
   "metadata": {},
   "source": [
    "**베이지안 정보 기준(Bayesian information criterion, BIC)**<br>\n",
    "<br>\n",
    "<center>$BIC=-2×최대로그우도+logn×회귀계수의 수$</center>"
   ]
  },
  {
   "cell_type": "code",
   "execution_count": 41,
   "id": "7effc734-4789-4789-b25f-72526f9078c9",
   "metadata": {},
   "outputs": [
    {
     "data": {
      "text/plain": [
       "158.64189311958876"
      ]
     },
     "execution_count": 41,
     "metadata": {},
     "output_type": "execute_result"
    }
   ],
   "source": [
    "bic = -2 * mll + np.log(n) * (p+1)\n",
    "\n",
    "bic"
   ]
  },
  {
   "cell_type": "code",
   "execution_count": null,
   "id": "cf1bce93-924c-471a-a0b7-7a3111c4974a",
   "metadata": {},
   "outputs": [],
   "source": []
  },
  {
   "cell_type": "markdown",
   "id": "60aaeb8f-3c99-450b-aeff-642f476246a3",
   "metadata": {},
   "source": [
    "## 12.4 모형의 타당성"
   ]
  },
  {
   "cell_type": "markdown",
   "id": "5dedcdc5-67f7-4e7b-8842-9f129e258bc7",
   "metadata": {},
   "source": [
    "모형의 타당성<br>\n",
    ": 처음에 회귀분석에 관해서 세운 '오차항 $\\epsilon_i$는 서로 독립이고 $N(0, \\sigma^2)$을 따른다.'라는 가정을 만족하고 있는지 여부를 체크하는 것"
   ]
  },
  {
   "cell_type": "code",
   "execution_count": 42,
   "id": "41dde7a3-0d28-42c2-adf4-32617dd7afb9",
   "metadata": {},
   "outputs": [
    {
     "data": {
      "text/html": [
       "<table class=\"simpletable\">\n",
       "<caption>OLS Regression Results</caption>\n",
       "<tr>\n",
       "  <th>Dep. Variable:</th>       <td>final_test</td>    <th>  R-squared:         </th> <td>   0.756</td>\n",
       "</tr>\n",
       "<tr>\n",
       "  <th>Model:</th>                   <td>OLS</td>       <th>  Adj. R-squared:    </th> <td>   0.727</td>\n",
       "</tr>\n",
       "<tr>\n",
       "  <th>Method:</th>             <td>Least Squares</td>  <th>  F-statistic:       </th> <td>   26.35</td>\n",
       "</tr>\n",
       "<tr>\n",
       "  <th>Date:</th>             <td>Fri, 09 Jul 2021</td> <th>  Prob (F-statistic):</th> <td>6.19e-06</td>\n",
       "</tr>\n",
       "<tr>\n",
       "  <th>Time:</th>                 <td>14:05:10</td>     <th>  Log-Likelihood:    </th> <td> -73.497</td>\n",
       "</tr>\n",
       "<tr>\n",
       "  <th>No. Observations:</th>      <td>    20</td>      <th>  AIC:               </th> <td>   153.0</td>\n",
       "</tr>\n",
       "<tr>\n",
       "  <th>Df Residuals:</th>          <td>    17</td>      <th>  BIC:               </th> <td>   156.0</td>\n",
       "</tr>\n",
       "<tr>\n",
       "  <th>Df Model:</th>              <td>     2</td>      <th>                     </th>     <td> </td>   \n",
       "</tr>\n",
       "<tr>\n",
       "  <th>Covariance Type:</th>      <td>nonrobust</td>    <th>                     </th>     <td> </td>   \n",
       "</tr>\n",
       "</table>\n",
       "<table class=\"simpletable\">\n",
       "<tr>\n",
       "       <td></td>         <th>coef</th>     <th>std err</th>      <th>t</th>      <th>P>|t|</th>  <th>[0.025</th>    <th>0.975]</th>  \n",
       "</tr>\n",
       "<tr>\n",
       "  <th>Intercept</th>  <td>   -1.8709</td> <td>   11.635</td> <td>   -0.161</td> <td> 0.874</td> <td>  -26.420</td> <td>   22.678</td>\n",
       "</tr>\n",
       "<tr>\n",
       "  <th>quiz</th>       <td>    6.4289</td> <td>    0.956</td> <td>    6.725</td> <td> 0.000</td> <td>    4.412</td> <td>    8.446</td>\n",
       "</tr>\n",
       "<tr>\n",
       "  <th>sleep_time</th> <td>    4.1917</td> <td>    1.778</td> <td>    2.357</td> <td> 0.031</td> <td>    0.440</td> <td>    7.943</td>\n",
       "</tr>\n",
       "</table>\n",
       "<table class=\"simpletable\">\n",
       "<tr>\n",
       "  <th>Omnibus:</th>       <td> 2.073</td> <th>  Durbin-Watson:     </th> <td>   1.508</td>\n",
       "</tr>\n",
       "<tr>\n",
       "  <th>Prob(Omnibus):</th> <td> 0.355</td> <th>  Jarque-Bera (JB):  </th> <td>   1.716</td>\n",
       "</tr>\n",
       "<tr>\n",
       "  <th>Skew:</th>          <td> 0.660</td> <th>  Prob(JB):          </th> <td>   0.424</td>\n",
       "</tr>\n",
       "<tr>\n",
       "  <th>Kurtosis:</th>      <td> 2.437</td> <th>  Cond. No.          </th> <td>    38.0</td>\n",
       "</tr>\n",
       "</table><br/><br/>Notes:<br/>[1] Standard Errors assume that the covariance matrix of the errors is correctly specified."
      ],
      "text/plain": [
       "<class 'statsmodels.iolib.summary.Summary'>\n",
       "\"\"\"\n",
       "                            OLS Regression Results                            \n",
       "==============================================================================\n",
       "Dep. Variable:             final_test   R-squared:                       0.756\n",
       "Model:                            OLS   Adj. R-squared:                  0.727\n",
       "Method:                 Least Squares   F-statistic:                     26.35\n",
       "Date:                Fri, 09 Jul 2021   Prob (F-statistic):           6.19e-06\n",
       "Time:                        14:05:10   Log-Likelihood:                -73.497\n",
       "No. Observations:                  20   AIC:                             153.0\n",
       "Df Residuals:                      17   BIC:                             156.0\n",
       "Df Model:                           2                                         \n",
       "Covariance Type:            nonrobust                                         \n",
       "==============================================================================\n",
       "                 coef    std err          t      P>|t|      [0.025      0.975]\n",
       "------------------------------------------------------------------------------\n",
       "Intercept     -1.8709     11.635     -0.161      0.874     -26.420      22.678\n",
       "quiz           6.4289      0.956      6.725      0.000       4.412       8.446\n",
       "sleep_time     4.1917      1.778      2.357      0.031       0.440       7.943\n",
       "==============================================================================\n",
       "Omnibus:                        2.073   Durbin-Watson:                   1.508\n",
       "Prob(Omnibus):                  0.355   Jarque-Bera (JB):                1.716\n",
       "Skew:                           0.660   Prob(JB):                        0.424\n",
       "Kurtosis:                       2.437   Cond. No.                         38.0\n",
       "==============================================================================\n",
       "\n",
       "Notes:\n",
       "[1] Standard Errors assume that the covariance matrix of the errors is correctly specified.\n",
       "\"\"\""
      ]
     },
     "execution_count": 42,
     "metadata": {},
     "output_type": "execute_result"
    }
   ],
   "source": [
    "formula = 'final_test ~ quiz + sleep_time'\n",
    "result = smf.ols(formula, df).fit()\n",
    "\n",
    "result.summary()"
   ]
  },
  {
   "cell_type": "code",
   "execution_count": 43,
   "id": "a1b2f14e-3f68-41f2-95ad-de233b1a83cf",
   "metadata": {},
   "outputs": [],
   "source": [
    "eps_hat = np.array(result.resid)"
   ]
  },
  {
   "cell_type": "code",
   "execution_count": null,
   "id": "534ba82e-6c22-4656-9a98-fa0c1e06d2d4",
   "metadata": {},
   "outputs": [],
   "source": []
  },
  {
   "cell_type": "markdown",
   "id": "97f7f59e-eb33-4cc0-b562-40f9a574c257",
   "metadata": {},
   "source": [
    "### 12.4.1 정규성 검정"
   ]
  },
  {
   "cell_type": "code",
   "execution_count": 44,
   "id": "7c65eebb-5ed7-4aa9-9c5f-fde661e1531e",
   "metadata": {},
   "outputs": [
    {
     "data": {
      "text/plain": [
       "0.660"
      ]
     },
     "execution_count": 44,
     "metadata": {},
     "output_type": "execute_result"
    }
   ],
   "source": [
    "# 왜도\n",
    "stats.skew(eps_hat)"
   ]
  },
  {
   "cell_type": "code",
   "execution_count": 45,
   "id": "1080af32-eaef-44b2-a742-d10ad63b138a",
   "metadata": {},
   "outputs": [
    {
     "data": {
      "text/plain": [
       "2.437"
      ]
     },
     "execution_count": 45,
     "metadata": {},
     "output_type": "execute_result"
    }
   ],
   "source": [
    "# 첨도\n",
    "stats.kurtosis(eps_hat, fisher=False)"
   ]
  },
  {
   "cell_type": "code",
   "execution_count": null,
   "id": "9ca85e45-d544-47df-a467-6b4f71f2f29e",
   "metadata": {},
   "outputs": [],
   "source": []
  },
  {
   "cell_type": "markdown",
   "id": "e2473054-b961-45e7-bc0a-5ec9103cbb65",
   "metadata": {},
   "source": [
    "### 12.4.2 더빈-왓슨비"
   ]
  },
  {
   "cell_type": "markdown",
   "id": "d3604188-c09f-4bf4-b401-42181f64d51a",
   "metadata": {},
   "source": [
    "**더빈-왓슨비(Durbin_Watson ratil)** : 다른 오차항이 서로 무상관인지 여부를 체크하는 지표<br>\n",
    "<br>\n",
    "데이터가 <span style=\"color:orange\">**시계열 데이터**</span>인 경우에 특히 중요한 데이터"
   ]
  },
  {
   "cell_type": "code",
   "execution_count": 46,
   "id": "35041085-9872-4ce8-bc09-909b7ae8b9b8",
   "metadata": {},
   "outputs": [
    {
     "data": {
      "text/plain": [
       "1.5082185264423011"
      ]
     },
     "execution_count": 46,
     "metadata": {},
     "output_type": "execute_result"
    }
   ],
   "source": [
    "np.sum(np.diff(eps_hat, 1) ** 2) / np.sum(eps_hat ** 2)"
   ]
  },
  {
   "cell_type": "code",
   "execution_count": null,
   "id": "f4a69e2e-4105-45ae-8d1e-d74b9c52d91d",
   "metadata": {},
   "outputs": [],
   "source": []
  },
  {
   "cell_type": "markdown",
   "id": "4ff51fb7-2f18-4029-8137-7d48873eba43",
   "metadata": {},
   "source": [
    "### 12.4.3 다중공선성"
   ]
  },
  {
   "cell_type": "code",
   "execution_count": 47,
   "id": "0f680a9c-d730-4070-947d-82983c43ae8e",
   "metadata": {},
   "outputs": [
    {
     "data": {
      "text/html": [
       "<div>\n",
       "<style scoped>\n",
       "    .dataframe tbody tr th:only-of-type {\n",
       "        vertical-align: middle;\n",
       "    }\n",
       "\n",
       "    .dataframe tbody tr th {\n",
       "        vertical-align: top;\n",
       "    }\n",
       "\n",
       "    .dataframe thead th {\n",
       "        text-align: right;\n",
       "    }\n",
       "</style>\n",
       "<table border=\"1\" class=\"dataframe\">\n",
       "  <thead>\n",
       "    <tr style=\"text-align: right;\">\n",
       "      <th></th>\n",
       "      <th>quiz</th>\n",
       "      <th>final_test</th>\n",
       "      <th>sleep_time</th>\n",
       "      <th>school_method</th>\n",
       "      <th>mid_test</th>\n",
       "    </tr>\n",
       "  </thead>\n",
       "  <tbody>\n",
       "    <tr>\n",
       "      <th>0</th>\n",
       "      <td>4.2</td>\n",
       "      <td>67</td>\n",
       "      <td>7.2</td>\n",
       "      <td>bus</td>\n",
       "      <td>8.4</td>\n",
       "    </tr>\n",
       "    <tr>\n",
       "      <th>1</th>\n",
       "      <td>7.2</td>\n",
       "      <td>71</td>\n",
       "      <td>7.9</td>\n",
       "      <td>bicycle</td>\n",
       "      <td>14.4</td>\n",
       "    </tr>\n",
       "    <tr>\n",
       "      <th>2</th>\n",
       "      <td>0.0</td>\n",
       "      <td>19</td>\n",
       "      <td>5.3</td>\n",
       "      <td>bus</td>\n",
       "      <td>0.0</td>\n",
       "    </tr>\n",
       "    <tr>\n",
       "      <th>3</th>\n",
       "      <td>3.0</td>\n",
       "      <td>35</td>\n",
       "      <td>6.8</td>\n",
       "      <td>walk</td>\n",
       "      <td>6.0</td>\n",
       "    </tr>\n",
       "    <tr>\n",
       "      <th>4</th>\n",
       "      <td>1.5</td>\n",
       "      <td>35</td>\n",
       "      <td>7.5</td>\n",
       "      <td>walk</td>\n",
       "      <td>3.0</td>\n",
       "    </tr>\n",
       "  </tbody>\n",
       "</table>\n",
       "</div>"
      ],
      "text/plain": [
       "   quiz  final_test  sleep_time school_method  mid_test\n",
       "0   4.2          67         7.2           bus       8.4\n",
       "1   7.2          71         7.9       bicycle      14.4\n",
       "2   0.0          19         5.3           bus       0.0\n",
       "3   3.0          35         6.8          walk       6.0\n",
       "4   1.5          35         7.5          walk       3.0"
      ]
     },
     "execution_count": 47,
     "metadata": {},
     "output_type": "execute_result"
    }
   ],
   "source": [
    "df['mid_test'] = df['quiz'] * 2\n",
    "\n",
    "df.head()"
   ]
  },
  {
   "cell_type": "code",
   "execution_count": 48,
   "id": "59058461-43ae-45b2-8833-7c4ac8c01a22",
   "metadata": {},
   "outputs": [
    {
     "data": {
      "text/html": [
       "<table class=\"simpletable\">\n",
       "<caption>OLS Regression Results</caption>\n",
       "<tr>\n",
       "  <th>Dep. Variable:</th>       <td>final_test</td>    <th>  R-squared:         </th> <td>   0.676</td>\n",
       "</tr>\n",
       "<tr>\n",
       "  <th>Model:</th>                   <td>OLS</td>       <th>  Adj. R-squared:    </th> <td>   0.658</td>\n",
       "</tr>\n",
       "<tr>\n",
       "  <th>Method:</th>             <td>Least Squares</td>  <th>  F-statistic:       </th> <td>   37.61</td>\n",
       "</tr>\n",
       "<tr>\n",
       "  <th>Date:</th>             <td>Fri, 09 Jul 2021</td> <th>  Prob (F-statistic):</th> <td>8.59e-06</td>\n",
       "</tr>\n",
       "<tr>\n",
       "  <th>Time:</th>                 <td>14:05:10</td>     <th>  Log-Likelihood:    </th> <td> -76.325</td>\n",
       "</tr>\n",
       "<tr>\n",
       "  <th>No. Observations:</th>      <td>    20</td>      <th>  AIC:               </th> <td>   156.7</td>\n",
       "</tr>\n",
       "<tr>\n",
       "  <th>Df Residuals:</th>          <td>    18</td>      <th>  BIC:               </th> <td>   158.6</td>\n",
       "</tr>\n",
       "<tr>\n",
       "  <th>Df Model:</th>              <td>     1</td>      <th>                     </th>     <td> </td>   \n",
       "</tr>\n",
       "<tr>\n",
       "  <th>Covariance Type:</th>      <td>nonrobust</td>    <th>                     </th>     <td> </td>   \n",
       "</tr>\n",
       "</table>\n",
       "<table class=\"simpletable\">\n",
       "<tr>\n",
       "      <td></td>         <th>coef</th>     <th>std err</th>      <th>t</th>      <th>P>|t|</th>  <th>[0.025</th>    <th>0.975]</th>  \n",
       "</tr>\n",
       "<tr>\n",
       "  <th>Intercept</th> <td>   23.6995</td> <td>    4.714</td> <td>    5.028</td> <td> 0.000</td> <td>   13.796</td> <td>   33.603</td>\n",
       "</tr>\n",
       "<tr>\n",
       "  <th>quiz</th>      <td>    1.3107</td> <td>    0.214</td> <td>    6.133</td> <td> 0.000</td> <td>    0.862</td> <td>    1.760</td>\n",
       "</tr>\n",
       "<tr>\n",
       "  <th>mid_test</th>  <td>    2.6215</td> <td>    0.427</td> <td>    6.133</td> <td> 0.000</td> <td>    1.723</td> <td>    3.519</td>\n",
       "</tr>\n",
       "</table>\n",
       "<table class=\"simpletable\">\n",
       "<tr>\n",
       "  <th>Omnibus:</th>       <td> 2.139</td> <th>  Durbin-Watson:     </th> <td>   1.478</td>\n",
       "</tr>\n",
       "<tr>\n",
       "  <th>Prob(Omnibus):</th> <td> 0.343</td> <th>  Jarque-Bera (JB):  </th> <td>   1.773</td>\n",
       "</tr>\n",
       "<tr>\n",
       "  <th>Skew:</th>          <td> 0.670</td> <th>  Prob(JB):          </th> <td>   0.412</td>\n",
       "</tr>\n",
       "<tr>\n",
       "  <th>Kurtosis:</th>      <td> 2.422</td> <th>  Cond. No.          </th> <td>1.11e+17</td>\n",
       "</tr>\n",
       "</table><br/><br/>Notes:<br/>[1] Standard Errors assume that the covariance matrix of the errors is correctly specified.<br/>[2] The smallest eigenvalue is 1.58e-31. This might indicate that there are<br/>strong multicollinearity problems or that the design matrix is singular."
      ],
      "text/plain": [
       "<class 'statsmodels.iolib.summary.Summary'>\n",
       "\"\"\"\n",
       "                            OLS Regression Results                            \n",
       "==============================================================================\n",
       "Dep. Variable:             final_test   R-squared:                       0.676\n",
       "Model:                            OLS   Adj. R-squared:                  0.658\n",
       "Method:                 Least Squares   F-statistic:                     37.61\n",
       "Date:                Fri, 09 Jul 2021   Prob (F-statistic):           8.59e-06\n",
       "Time:                        14:05:10   Log-Likelihood:                -76.325\n",
       "No. Observations:                  20   AIC:                             156.7\n",
       "Df Residuals:                      18   BIC:                             158.6\n",
       "Df Model:                           1                                         \n",
       "Covariance Type:            nonrobust                                         \n",
       "==============================================================================\n",
       "                 coef    std err          t      P>|t|      [0.025      0.975]\n",
       "------------------------------------------------------------------------------\n",
       "Intercept     23.6995      4.714      5.028      0.000      13.796      33.603\n",
       "quiz           1.3107      0.214      6.133      0.000       0.862       1.760\n",
       "mid_test       2.6215      0.427      6.133      0.000       1.723       3.519\n",
       "==============================================================================\n",
       "Omnibus:                        2.139   Durbin-Watson:                   1.478\n",
       "Prob(Omnibus):                  0.343   Jarque-Bera (JB):                1.773\n",
       "Skew:                           0.670   Prob(JB):                        0.412\n",
       "Kurtosis:                       2.422   Cond. No.                     1.11e+17\n",
       "==============================================================================\n",
       "\n",
       "Notes:\n",
       "[1] Standard Errors assume that the covariance matrix of the errors is correctly specified.\n",
       "[2] The smallest eigenvalue is 1.58e-31. This might indicate that there are\n",
       "strong multicollinearity problems or that the design matrix is singular.\n",
       "\"\"\""
      ]
     },
     "execution_count": 48,
     "metadata": {},
     "output_type": "execute_result"
    }
   ],
   "source": [
    "formula = 'final_test ~ quiz + mid_test'\n",
    "result = smf.ols(formula, df).fit()\n",
    "\n",
    "result.summary()"
   ]
  },
  {
   "cell_type": "code",
   "execution_count": null,
   "id": "5dcf6b79-a61a-4627-9973-07282f79dadc",
   "metadata": {},
   "outputs": [],
   "source": []
  }
 ],
 "metadata": {
  "kernelspec": {
   "display_name": "Python Multi",
   "language": "python",
   "name": "multi"
  },
  "language_info": {
   "codemirror_mode": {
    "name": "ipython",
    "version": 3
   },
   "file_extension": ".py",
   "mimetype": "text/x-python",
   "name": "python",
   "nbconvert_exporter": "python",
   "pygments_lexer": "ipython3",
   "version": "3.9.5"
  }
 },
 "nbformat": 4,
 "nbformat_minor": 5
}
