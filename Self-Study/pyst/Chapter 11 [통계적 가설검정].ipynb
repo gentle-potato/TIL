{
 "cells": [
  {
   "cell_type": "markdown",
   "id": "03dd2f39-7a88-4e85-855b-dfe61ced7e06",
   "metadata": {},
   "source": [
    "# Chapter 11 [통계적 가설검정]"
   ]
  },
  {
   "cell_type": "code",
   "execution_count": null,
   "id": "e83ad4a6-6aa1-4f2e-9ac2-a14126582bca",
   "metadata": {},
   "outputs": [],
   "source": []
  },
  {
   "cell_type": "code",
   "execution_count": null,
   "id": "8bd074cc-d715-499c-b608-3a31893aea6e",
   "metadata": {},
   "outputs": [],
   "source": []
  },
  {
   "cell_type": "code",
   "execution_count": null,
   "id": "795f2338-6d50-4ee0-a591-e8420715c705",
   "metadata": {},
   "outputs": [],
   "source": []
  },
  {
   "cell_type": "markdown",
   "id": "f9920f77-2de0-4b7f-a915-6e770048f43e",
   "metadata": {},
   "source": [
    "## 11.1 통계적 가설검정"
   ]
  },
  {
   "cell_type": "markdown",
   "id": "a8357fbc-a580-45b3-96f1-2f83caef814a",
   "metadata": {},
   "source": [
    "### 11.1.1 통계적 가설검정의 기본"
   ]
  },
  {
   "cell_type": "code",
   "execution_count": null,
   "id": "922f50e2-024e-42dc-920e-0e3a202ea042",
   "metadata": {},
   "outputs": [],
   "source": []
  },
  {
   "cell_type": "code",
   "execution_count": null,
   "id": "1f9bc75b-193e-4e68-ad1b-d11cc81c5563",
   "metadata": {},
   "outputs": [],
   "source": []
  },
  {
   "cell_type": "code",
   "execution_count": null,
   "id": "0ca4c6b2-fff8-410b-8d77-439058ac0791",
   "metadata": {},
   "outputs": [],
   "source": []
  },
  {
   "cell_type": "code",
   "execution_count": null,
   "id": "835a6d66-73f9-4f03-8b20-392a45694c6a",
   "metadata": {},
   "outputs": [],
   "source": []
  },
  {
   "cell_type": "code",
   "execution_count": null,
   "id": "74ab4392-35bd-47f4-8224-7c06383ac207",
   "metadata": {},
   "outputs": [],
   "source": []
  },
  {
   "cell_type": "markdown",
   "id": "7c92c42e-e651-41d8-b5bf-b965072825d3",
   "metadata": {},
   "source": [
    "### 11.1.2 단측검정과 양측검정"
   ]
  },
  {
   "cell_type": "code",
   "execution_count": null,
   "id": "e7c4aced-c56b-48e5-8aed-1e5f58412b3b",
   "metadata": {},
   "outputs": [],
   "source": []
  },
  {
   "cell_type": "code",
   "execution_count": null,
   "id": "de0246ec-4523-45b8-aee6-3e264aa8aa0a",
   "metadata": {},
   "outputs": [],
   "source": []
  },
  {
   "cell_type": "code",
   "execution_count": null,
   "id": "74d96dd7-627d-4615-a114-9c28a0007e55",
   "metadata": {},
   "outputs": [],
   "source": []
  },
  {
   "cell_type": "code",
   "execution_count": null,
   "id": "c984f418-5637-4a54-9268-899134892ba8",
   "metadata": {},
   "outputs": [],
   "source": []
  },
  {
   "cell_type": "code",
   "execution_count": null,
   "id": "9b16a601-2297-4189-b720-30c88f9dfb58",
   "metadata": {},
   "outputs": [],
   "source": []
  },
  {
   "cell_type": "markdown",
   "id": "026a57ec-4482-43f5-8b5e-78132c563faa",
   "metadata": {},
   "source": [
    "### 11.1.3 가설검정의 두 가지 오류"
   ]
  },
  {
   "cell_type": "code",
   "execution_count": null,
   "id": "7f6a6b5d-72ec-4798-a6f9-83548bb3811b",
   "metadata": {},
   "outputs": [],
   "source": []
  },
  {
   "cell_type": "code",
   "execution_count": null,
   "id": "7b361f08-b9e5-46f7-b8d0-b983d14f873f",
   "metadata": {},
   "outputs": [],
   "source": []
  },
  {
   "cell_type": "code",
   "execution_count": null,
   "id": "8ffa1d84-4f38-4e6c-9d48-7409b40fb65e",
   "metadata": {},
   "outputs": [],
   "source": []
  },
  {
   "cell_type": "code",
   "execution_count": null,
   "id": "438c5432-6777-4d16-8fe6-bbacb70bea4a",
   "metadata": {},
   "outputs": [],
   "source": []
  },
  {
   "cell_type": "code",
   "execution_count": null,
   "id": "2b3fc3fe-74e1-461f-9679-986cc20986dd",
   "metadata": {},
   "outputs": [],
   "source": []
  },
  {
   "cell_type": "code",
   "execution_count": null,
   "id": "9bec1b72-c92f-4c9b-9193-ade77544d02e",
   "metadata": {},
   "outputs": [],
   "source": []
  },
  {
   "cell_type": "markdown",
   "id": "ee0dccbc-e096-4126-b020-2c6cf3ccbacb",
   "metadata": {},
   "source": [
    "## 11.2 기본적인 가설검정"
   ]
  },
  {
   "cell_type": "markdown",
   "id": "b2a35a36-69e1-4feb-ad64-dd7f3d64ef05",
   "metadata": {},
   "source": [
    "### 11.2.1 정규분포의 모평균에 대한 검정 : 모분산을 알고 있는 경우"
   ]
  },
  {
   "cell_type": "code",
   "execution_count": null,
   "id": "95ff023a-5b7c-4fcd-99b3-a9db7b8df526",
   "metadata": {},
   "outputs": [],
   "source": []
  },
  {
   "cell_type": "code",
   "execution_count": null,
   "id": "9f7d07f3-58a9-4d5d-848d-5540d4fd78cf",
   "metadata": {},
   "outputs": [],
   "source": []
  },
  {
   "cell_type": "code",
   "execution_count": null,
   "id": "2f7fd9c0-8b3c-43ac-a848-64605bfe6afd",
   "metadata": {},
   "outputs": [],
   "source": []
  },
  {
   "cell_type": "markdown",
   "id": "4dfbbeb1-e968-47a4-8fdf-37b7263a2bd9",
   "metadata": {},
   "source": [
    "### 11.2.2 정규분포의 모분산에 대한 검정"
   ]
  },
  {
   "cell_type": "code",
   "execution_count": null,
   "id": "eaf9e9d9-3efb-45ef-b51f-2c5f7f50a7a5",
   "metadata": {},
   "outputs": [],
   "source": []
  },
  {
   "cell_type": "code",
   "execution_count": null,
   "id": "4b5fa73a-31dc-4eaf-a9b5-1ae4d6af61fe",
   "metadata": {},
   "outputs": [],
   "source": []
  },
  {
   "cell_type": "code",
   "execution_count": null,
   "id": "874b5f05-9553-40cf-ad5c-73b6f125055e",
   "metadata": {},
   "outputs": [],
   "source": []
  },
  {
   "cell_type": "code",
   "execution_count": null,
   "id": "05b5ac2c-68e9-4b2d-bd70-545a47acc4da",
   "metadata": {},
   "outputs": [],
   "source": []
  },
  {
   "cell_type": "code",
   "execution_count": null,
   "id": "0b7416ea-870b-4a35-9f17-07119fec3fe8",
   "metadata": {},
   "outputs": [],
   "source": []
  },
  {
   "cell_type": "markdown",
   "id": "568fc7ce-0678-48c8-a326-adccc1af68ac",
   "metadata": {},
   "source": [
    "### 11.2.3 정규분포의 모평균에 대한 검정 : 모분산을 모르는 경우"
   ]
  },
  {
   "cell_type": "code",
   "execution_count": null,
   "id": "c0a43555-0095-4653-9ca9-9cead71d5113",
   "metadata": {},
   "outputs": [],
   "source": []
  },
  {
   "cell_type": "code",
   "execution_count": null,
   "id": "21c40644-67b9-4de7-be2b-95ac9357c16c",
   "metadata": {},
   "outputs": [],
   "source": []
  },
  {
   "cell_type": "code",
   "execution_count": null,
   "id": "a4757bbc-403a-4107-8a52-a9125cbaeb4c",
   "metadata": {},
   "outputs": [],
   "source": []
  },
  {
   "cell_type": "code",
   "execution_count": null,
   "id": "2e4d04cb-00c4-41eb-aaf6-6836498f69e1",
   "metadata": {},
   "outputs": [],
   "source": []
  },
  {
   "cell_type": "code",
   "execution_count": null,
   "id": "61046a21-0eed-4285-b98c-f8e3a5b197b4",
   "metadata": {},
   "outputs": [],
   "source": []
  },
  {
   "cell_type": "markdown",
   "id": "febd1776-b410-4a1f-b241-fe623587edd0",
   "metadata": {},
   "source": [
    "## 11.3 2표본 문제에 관한 가설검정"
   ]
  },
  {
   "cell_type": "code",
   "execution_count": null,
   "id": "ccf02765-0e03-4cc0-af82-5b996eba9205",
   "metadata": {},
   "outputs": [],
   "source": []
  },
  {
   "cell_type": "markdown",
   "id": "5207bc2f-d8e9-47db-a066-d88057d07de0",
   "metadata": {},
   "source": [
    "### 11.3.1 대응비교 $t$ 검정"
   ]
  },
  {
   "cell_type": "code",
   "execution_count": null,
   "id": "75364828-d74f-4566-84f9-5db9dabe52d0",
   "metadata": {},
   "outputs": [],
   "source": []
  },
  {
   "cell_type": "code",
   "execution_count": null,
   "id": "650d8f95-9c9c-47e1-b78e-6ae27ad9d157",
   "metadata": {},
   "outputs": [],
   "source": []
  },
  {
   "cell_type": "code",
   "execution_count": null,
   "id": "48155276-52d8-48f0-916e-e27cbdb2d724",
   "metadata": {},
   "outputs": [],
   "source": []
  },
  {
   "cell_type": "code",
   "execution_count": null,
   "id": "e5f32ad5-d3ec-4c64-8074-0a63c7ebcf4e",
   "metadata": {},
   "outputs": [],
   "source": []
  },
  {
   "cell_type": "code",
   "execution_count": null,
   "id": "250b46a0-1aa6-4d2b-a88b-cb085a8966f2",
   "metadata": {},
   "outputs": [],
   "source": []
  },
  {
   "cell_type": "markdown",
   "id": "e0780049-8572-45c3-aa0a-ec6906390605",
   "metadata": {},
   "source": [
    "### 11.3.2 독립비교 $t$ 검정"
   ]
  },
  {
   "cell_type": "code",
   "execution_count": null,
   "id": "630c2f57-b077-4c3c-9a29-59b150bf586a",
   "metadata": {},
   "outputs": [],
   "source": []
  },
  {
   "cell_type": "code",
   "execution_count": null,
   "id": "5cfc5fe5-e8f1-427d-8fbd-16eb8d2e068e",
   "metadata": {},
   "outputs": [],
   "source": []
  },
  {
   "cell_type": "code",
   "execution_count": null,
   "id": "063c7d3d-1d7a-4121-a9ec-c3783d23e9ec",
   "metadata": {},
   "outputs": [],
   "source": []
  },
  {
   "cell_type": "code",
   "execution_count": null,
   "id": "5415c9f9-3f51-46a6-a134-2bc6ea77abbf",
   "metadata": {},
   "outputs": [],
   "source": []
  },
  {
   "cell_type": "code",
   "execution_count": null,
   "id": "50604fe6-3700-4fcd-91de-04a29a639ab8",
   "metadata": {},
   "outputs": [],
   "source": []
  },
  {
   "cell_type": "code",
   "execution_count": null,
   "id": "76c4a7ba-8ec2-46f0-8285-71a4e34a0898",
   "metadata": {},
   "outputs": [],
   "source": []
  },
  {
   "cell_type": "markdown",
   "id": "733e8aea-4e3c-4634-adfe-a100e18d843e",
   "metadata": {},
   "source": [
    "### 11.3.3 윌콕슨의 부호순위검정"
   ]
  },
  {
   "cell_type": "code",
   "execution_count": null,
   "id": "5ddb82ed-f02c-4faa-9baf-8391047133d8",
   "metadata": {},
   "outputs": [],
   "source": []
  },
  {
   "cell_type": "code",
   "execution_count": null,
   "id": "63e0122f-7165-4873-a23b-403f963b6b64",
   "metadata": {},
   "outputs": [],
   "source": []
  },
  {
   "cell_type": "code",
   "execution_count": null,
   "id": "716d437a-1198-44c8-b42f-a7be0aea46d5",
   "metadata": {},
   "outputs": [],
   "source": []
  },
  {
   "cell_type": "code",
   "execution_count": null,
   "id": "85373fe3-a3f1-4016-ae21-24834de5e46d",
   "metadata": {},
   "outputs": [],
   "source": []
  },
  {
   "cell_type": "code",
   "execution_count": null,
   "id": "8714176e-ca87-41a5-b823-0f715ccaa241",
   "metadata": {},
   "outputs": [],
   "source": []
  },
  {
   "cell_type": "code",
   "execution_count": null,
   "id": "20eb23ef-9c9a-4870-8b17-a095b3a9ed8a",
   "metadata": {},
   "outputs": [],
   "source": []
  },
  {
   "cell_type": "markdown",
   "id": "fe84bca3-acec-4de1-8c4f-c81579bfea77",
   "metadata": {},
   "source": [
    "### 11.3.4 만·위트니의 U 검정"
   ]
  },
  {
   "cell_type": "code",
   "execution_count": null,
   "id": "c2f8eda7-711f-4b3b-b278-6dd68fa60b13",
   "metadata": {},
   "outputs": [],
   "source": []
  },
  {
   "cell_type": "code",
   "execution_count": null,
   "id": "d795ce0b-242b-45cb-a53a-c558ea25ccdc",
   "metadata": {},
   "outputs": [],
   "source": []
  },
  {
   "cell_type": "code",
   "execution_count": null,
   "id": "12d5dc6b-c218-4ee6-baf7-90fc5d0f6b6b",
   "metadata": {},
   "outputs": [],
   "source": []
  },
  {
   "cell_type": "code",
   "execution_count": null,
   "id": "83e8fb70-8b1a-48fc-8908-628b953f5357",
   "metadata": {},
   "outputs": [],
   "source": []
  },
  {
   "cell_type": "code",
   "execution_count": null,
   "id": "a3cb506d-4ab1-4217-88c3-7ca364aa36a6",
   "metadata": {},
   "outputs": [],
   "source": []
  },
  {
   "cell_type": "markdown",
   "id": "e4199035-a0ef-464b-9db0-71462bbab7cd",
   "metadata": {},
   "source": [
    "### 11.3.5 카이제곱검정"
   ]
  },
  {
   "cell_type": "code",
   "execution_count": null,
   "id": "44ac049e-c50e-4ed2-9339-1061677735b7",
   "metadata": {},
   "outputs": [],
   "source": []
  },
  {
   "cell_type": "code",
   "execution_count": null,
   "id": "007e2a74-2299-48c5-a9d5-5f188845b415",
   "metadata": {},
   "outputs": [],
   "source": []
  },
  {
   "cell_type": "code",
   "execution_count": null,
   "id": "bba24571-425c-4dd2-9918-ab3c378774e5",
   "metadata": {},
   "outputs": [],
   "source": []
  },
  {
   "cell_type": "code",
   "execution_count": null,
   "id": "e82d0c03-817a-48a9-87e5-a8246ebeac19",
   "metadata": {},
   "outputs": [],
   "source": []
  },
  {
   "cell_type": "code",
   "execution_count": null,
   "id": "9c51d952-5e8f-4860-88d2-6a6febf28fe1",
   "metadata": {},
   "outputs": [],
   "source": []
  },
  {
   "cell_type": "code",
   "execution_count": null,
   "id": "c7e8f157-c0be-4954-97a9-dc3053dd3d13",
   "metadata": {},
   "outputs": [],
   "source": []
  }
 ],
 "metadata": {
  "kernelspec": {
   "display_name": "Python Multi",
   "language": "python",
   "name": "multi"
  },
  "language_info": {
   "codemirror_mode": {
    "name": "ipython",
    "version": 3
   },
   "file_extension": ".py",
   "mimetype": "text/x-python",
   "name": "python",
   "nbconvert_exporter": "python",
   "pygments_lexer": "ipython3",
   "version": "3.9.5"
  }
 },
 "nbformat": 4,
 "nbformat_minor": 5
}
