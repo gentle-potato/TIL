{
 "cells": [
  {
   "cell_type": "markdown",
   "id": "21c2afba-ce20-496c-bc79-b8f3a02fe010",
   "metadata": {},
   "source": [
    "## 문제 06 유형(DataSet_06.csv 이용)"
   ]
  },
  {
   "cell_type": "markdown",
   "id": "ab51bf11-63a2-488c-a050-ee13c30c1b1f",
   "metadata": {},
   "source": [
    "## 주택 관련 정보를 바탕으로 주택 가격을 예측해 보고자 한다. 다음은 확보한 주택 관련 데이터로 총 19개 컬럼으로 구성되어 있다."
   ]
  },
  {
   "cell_type": "code",
   "execution_count": 1,
   "id": "9530ce96-d2b7-44b2-9732-b2abe43158ff",
   "metadata": {},
   "outputs": [],
   "source": [
    "import pandas as pd"
   ]
  },
  {
   "cell_type": "code",
   "execution_count": 2,
   "id": "9e2c7db6-2611-4e13-a40c-91ba8b0a5374",
   "metadata": {},
   "outputs": [
    {
     "data": {
      "text/html": [
       "<div>\n",
       "<style scoped>\n",
       "    .dataframe tbody tr th:only-of-type {\n",
       "        vertical-align: middle;\n",
       "    }\n",
       "\n",
       "    .dataframe tbody tr th {\n",
       "        vertical-align: top;\n",
       "    }\n",
       "\n",
       "    .dataframe thead th {\n",
       "        text-align: right;\n",
       "    }\n",
       "</style>\n",
       "<table border=\"1\" class=\"dataframe\">\n",
       "  <thead>\n",
       "    <tr style=\"text-align: right;\">\n",
       "      <th></th>\n",
       "      <th>id</th>\n",
       "      <th>date</th>\n",
       "      <th>price</th>\n",
       "      <th>bedrooms</th>\n",
       "      <th>bathrooms</th>\n",
       "      <th>sqft_living</th>\n",
       "      <th>sqft_lot</th>\n",
       "      <th>floors</th>\n",
       "      <th>waterfront</th>\n",
       "      <th>view</th>\n",
       "      <th>condition</th>\n",
       "      <th>grade</th>\n",
       "      <th>sqft_above</th>\n",
       "      <th>sqft_basement</th>\n",
       "      <th>yr_built</th>\n",
       "      <th>yr_renovated</th>\n",
       "      <th>zipcode</th>\n",
       "      <th>sqft_living15</th>\n",
       "      <th>sqft_lot15</th>\n",
       "    </tr>\n",
       "  </thead>\n",
       "  <tbody>\n",
       "    <tr>\n",
       "      <th>0</th>\n",
       "      <td>2597000006</td>\n",
       "      <td>20150309T000000</td>\n",
       "      <td>347500.0</td>\n",
       "      <td>3</td>\n",
       "      <td>1.50</td>\n",
       "      <td>1180</td>\n",
       "      <td>8353</td>\n",
       "      <td>1.0</td>\n",
       "      <td>0</td>\n",
       "      <td>0</td>\n",
       "      <td>3</td>\n",
       "      <td>7</td>\n",
       "      <td>1180</td>\n",
       "      <td>0</td>\n",
       "      <td>1960</td>\n",
       "      <td>0</td>\n",
       "      <td>98155</td>\n",
       "      <td>1710</td>\n",
       "      <td>8748</td>\n",
       "    </tr>\n",
       "    <tr>\n",
       "      <th>1</th>\n",
       "      <td>8813400345</td>\n",
       "      <td>20150414T000000</td>\n",
       "      <td>575000.0</td>\n",
       "      <td>2</td>\n",
       "      <td>1.00</td>\n",
       "      <td>980</td>\n",
       "      <td>3663</td>\n",
       "      <td>1.0</td>\n",
       "      <td>0</td>\n",
       "      <td>0</td>\n",
       "      <td>5</td>\n",
       "      <td>7</td>\n",
       "      <td>980</td>\n",
       "      <td>0</td>\n",
       "      <td>1909</td>\n",
       "      <td>0</td>\n",
       "      <td>98105</td>\n",
       "      <td>1620</td>\n",
       "      <td>3706</td>\n",
       "    </tr>\n",
       "    <tr>\n",
       "      <th>2</th>\n",
       "      <td>226059106</td>\n",
       "      <td>20150102T000000</td>\n",
       "      <td>489500.0</td>\n",
       "      <td>3</td>\n",
       "      <td>1.75</td>\n",
       "      <td>2090</td>\n",
       "      <td>65558</td>\n",
       "      <td>1.0</td>\n",
       "      <td>0</td>\n",
       "      <td>0</td>\n",
       "      <td>3</td>\n",
       "      <td>8</td>\n",
       "      <td>1330</td>\n",
       "      <td>760</td>\n",
       "      <td>1977</td>\n",
       "      <td>0</td>\n",
       "      <td>98072</td>\n",
       "      <td>2450</td>\n",
       "      <td>47178</td>\n",
       "    </tr>\n",
       "    <tr>\n",
       "      <th>3</th>\n",
       "      <td>8645500270</td>\n",
       "      <td>20141028T000000</td>\n",
       "      <td>246000.0</td>\n",
       "      <td>4</td>\n",
       "      <td>1.75</td>\n",
       "      <td>1720</td>\n",
       "      <td>7455</td>\n",
       "      <td>1.0</td>\n",
       "      <td>0</td>\n",
       "      <td>0</td>\n",
       "      <td>4</td>\n",
       "      <td>7</td>\n",
       "      <td>1020</td>\n",
       "      <td>700</td>\n",
       "      <td>1963</td>\n",
       "      <td>0</td>\n",
       "      <td>98058</td>\n",
       "      <td>1720</td>\n",
       "      <td>7700</td>\n",
       "    </tr>\n",
       "    <tr>\n",
       "      <th>4</th>\n",
       "      <td>7010700550</td>\n",
       "      <td>20141114T000000</td>\n",
       "      <td>595000.0</td>\n",
       "      <td>3</td>\n",
       "      <td>2.50</td>\n",
       "      <td>2030</td>\n",
       "      <td>5100</td>\n",
       "      <td>2.0</td>\n",
       "      <td>0</td>\n",
       "      <td>0</td>\n",
       "      <td>3</td>\n",
       "      <td>7</td>\n",
       "      <td>2030</td>\n",
       "      <td>0</td>\n",
       "      <td>2008</td>\n",
       "      <td>0</td>\n",
       "      <td>98199</td>\n",
       "      <td>1790</td>\n",
       "      <td>4380</td>\n",
       "    </tr>\n",
       "    <tr>\n",
       "      <th>...</th>\n",
       "      <td>...</td>\n",
       "      <td>...</td>\n",
       "      <td>...</td>\n",
       "      <td>...</td>\n",
       "      <td>...</td>\n",
       "      <td>...</td>\n",
       "      <td>...</td>\n",
       "      <td>...</td>\n",
       "      <td>...</td>\n",
       "      <td>...</td>\n",
       "      <td>...</td>\n",
       "      <td>...</td>\n",
       "      <td>...</td>\n",
       "      <td>...</td>\n",
       "      <td>...</td>\n",
       "      <td>...</td>\n",
       "      <td>...</td>\n",
       "      <td>...</td>\n",
       "      <td>...</td>\n",
       "    </tr>\n",
       "    <tr>\n",
       "      <th>4318</th>\n",
       "      <td>7663700531</td>\n",
       "      <td>20150106T000000</td>\n",
       "      <td>325000.0</td>\n",
       "      <td>2</td>\n",
       "      <td>1.00</td>\n",
       "      <td>620</td>\n",
       "      <td>14823</td>\n",
       "      <td>1.0</td>\n",
       "      <td>0</td>\n",
       "      <td>0</td>\n",
       "      <td>3</td>\n",
       "      <td>6</td>\n",
       "      <td>620</td>\n",
       "      <td>0</td>\n",
       "      <td>1926</td>\n",
       "      <td>0</td>\n",
       "      <td>98125</td>\n",
       "      <td>1400</td>\n",
       "      <td>7930</td>\n",
       "    </tr>\n",
       "    <tr>\n",
       "      <th>4319</th>\n",
       "      <td>7399200770</td>\n",
       "      <td>20141209T000000</td>\n",
       "      <td>417400.0</td>\n",
       "      <td>3</td>\n",
       "      <td>3.00</td>\n",
       "      <td>2680</td>\n",
       "      <td>12285</td>\n",
       "      <td>1.0</td>\n",
       "      <td>0</td>\n",
       "      <td>0</td>\n",
       "      <td>4</td>\n",
       "      <td>8</td>\n",
       "      <td>2680</td>\n",
       "      <td>0</td>\n",
       "      <td>1970</td>\n",
       "      <td>0</td>\n",
       "      <td>98055</td>\n",
       "      <td>2610</td>\n",
       "      <td>9558</td>\n",
       "    </tr>\n",
       "    <tr>\n",
       "      <th>4320</th>\n",
       "      <td>1324300126</td>\n",
       "      <td>20150313T000000</td>\n",
       "      <td>415000.0</td>\n",
       "      <td>2</td>\n",
       "      <td>2.50</td>\n",
       "      <td>1160</td>\n",
       "      <td>1219</td>\n",
       "      <td>3.0</td>\n",
       "      <td>0</td>\n",
       "      <td>0</td>\n",
       "      <td>3</td>\n",
       "      <td>8</td>\n",
       "      <td>1160</td>\n",
       "      <td>0</td>\n",
       "      <td>2007</td>\n",
       "      <td>0</td>\n",
       "      <td>98107</td>\n",
       "      <td>1320</td>\n",
       "      <td>2800</td>\n",
       "    </tr>\n",
       "    <tr>\n",
       "      <th>4321</th>\n",
       "      <td>8562750250</td>\n",
       "      <td>20140704T000000</td>\n",
       "      <td>600000.0</td>\n",
       "      <td>3</td>\n",
       "      <td>2.50</td>\n",
       "      <td>2320</td>\n",
       "      <td>7609</td>\n",
       "      <td>2.0</td>\n",
       "      <td>0</td>\n",
       "      <td>0</td>\n",
       "      <td>3</td>\n",
       "      <td>8</td>\n",
       "      <td>2320</td>\n",
       "      <td>0</td>\n",
       "      <td>2003</td>\n",
       "      <td>0</td>\n",
       "      <td>98027</td>\n",
       "      <td>2590</td>\n",
       "      <td>4000</td>\n",
       "    </tr>\n",
       "    <tr>\n",
       "      <th>4322</th>\n",
       "      <td>4036800170</td>\n",
       "      <td>20140623T000000</td>\n",
       "      <td>453000.0</td>\n",
       "      <td>4</td>\n",
       "      <td>1.75</td>\n",
       "      <td>2120</td>\n",
       "      <td>7420</td>\n",
       "      <td>1.0</td>\n",
       "      <td>0</td>\n",
       "      <td>0</td>\n",
       "      <td>4</td>\n",
       "      <td>7</td>\n",
       "      <td>1060</td>\n",
       "      <td>1060</td>\n",
       "      <td>1956</td>\n",
       "      <td>0</td>\n",
       "      <td>98008</td>\n",
       "      <td>1540</td>\n",
       "      <td>7420</td>\n",
       "    </tr>\n",
       "  </tbody>\n",
       "</table>\n",
       "<p>4323 rows × 19 columns</p>\n",
       "</div>"
      ],
      "text/plain": [
       "              id             date     price  bedrooms  bathrooms  sqft_living  \\\n",
       "0     2597000006  20150309T000000  347500.0         3       1.50         1180   \n",
       "1     8813400345  20150414T000000  575000.0         2       1.00          980   \n",
       "2      226059106  20150102T000000  489500.0         3       1.75         2090   \n",
       "3     8645500270  20141028T000000  246000.0         4       1.75         1720   \n",
       "4     7010700550  20141114T000000  595000.0         3       2.50         2030   \n",
       "...          ...              ...       ...       ...        ...          ...   \n",
       "4318  7663700531  20150106T000000  325000.0         2       1.00          620   \n",
       "4319  7399200770  20141209T000000  417400.0         3       3.00         2680   \n",
       "4320  1324300126  20150313T000000  415000.0         2       2.50         1160   \n",
       "4321  8562750250  20140704T000000  600000.0         3       2.50         2320   \n",
       "4322  4036800170  20140623T000000  453000.0         4       1.75         2120   \n",
       "\n",
       "      sqft_lot  floors  waterfront  view  condition  grade  sqft_above  \\\n",
       "0         8353     1.0           0     0          3      7        1180   \n",
       "1         3663     1.0           0     0          5      7         980   \n",
       "2        65558     1.0           0     0          3      8        1330   \n",
       "3         7455     1.0           0     0          4      7        1020   \n",
       "4         5100     2.0           0     0          3      7        2030   \n",
       "...        ...     ...         ...   ...        ...    ...         ...   \n",
       "4318     14823     1.0           0     0          3      6         620   \n",
       "4319     12285     1.0           0     0          4      8        2680   \n",
       "4320      1219     3.0           0     0          3      8        1160   \n",
       "4321      7609     2.0           0     0          3      8        2320   \n",
       "4322      7420     1.0           0     0          4      7        1060   \n",
       "\n",
       "      sqft_basement  yr_built  yr_renovated  zipcode  sqft_living15  \\\n",
       "0                 0      1960             0    98155           1710   \n",
       "1                 0      1909             0    98105           1620   \n",
       "2               760      1977             0    98072           2450   \n",
       "3               700      1963             0    98058           1720   \n",
       "4                 0      2008             0    98199           1790   \n",
       "...             ...       ...           ...      ...            ...   \n",
       "4318              0      1926             0    98125           1400   \n",
       "4319              0      1970             0    98055           2610   \n",
       "4320              0      2007             0    98107           1320   \n",
       "4321              0      2003             0    98027           2590   \n",
       "4322           1060      1956             0    98008           1540   \n",
       "\n",
       "      sqft_lot15  \n",
       "0           8748  \n",
       "1           3706  \n",
       "2          47178  \n",
       "3           7700  \n",
       "4           4380  \n",
       "...          ...  \n",
       "4318        7930  \n",
       "4319        9558  \n",
       "4320        2800  \n",
       "4321        4000  \n",
       "4322        7420  \n",
       "\n",
       "[4323 rows x 19 columns]"
      ]
     },
     "execution_count": 2,
     "metadata": {},
     "output_type": "execute_result"
    }
   ],
   "source": [
    "dataset6 = pd.read_csv('DataSet/DataSet_06.csv')\n",
    "\n",
    "dataset6"
   ]
  },
  {
   "cell_type": "code",
   "execution_count": 3,
   "id": "3d9f086e-cb7a-456e-9e70-78f5acc01c0d",
   "metadata": {},
   "outputs": [
    {
     "data": {
      "text/plain": [
       "Index(['id', 'date', 'price', 'bedrooms', 'bathrooms', 'sqft_living',\n",
       "       'sqft_lot', 'floors', 'waterfront', 'view', 'condition', 'grade',\n",
       "       'sqft_above', 'sqft_basement', 'yr_built', 'yr_renovated', 'zipcode',\n",
       "       'sqft_living15', 'sqft_lot15'],\n",
       "      dtype='object')"
      ]
     },
     "execution_count": 3,
     "metadata": {},
     "output_type": "execute_result"
    }
   ],
   "source": [
    "dataset6.columns"
   ]
  },
  {
   "cell_type": "code",
   "execution_count": 4,
   "id": "136e2cce-5f02-4b30-880f-72c644b8dc67",
   "metadata": {},
   "outputs": [
    {
     "data": {
      "text/plain": [
       "id                 int64\n",
       "date              object\n",
       "price            float64\n",
       "bedrooms           int64\n",
       "bathrooms        float64\n",
       "sqft_living        int64\n",
       "sqft_lot           int64\n",
       "floors           float64\n",
       "waterfront         int64\n",
       "view               int64\n",
       "condition          int64\n",
       "grade              int64\n",
       "sqft_above         int64\n",
       "sqft_basement      int64\n",
       "yr_built           int64\n",
       "yr_renovated       int64\n",
       "zipcode            int64\n",
       "sqft_living15      int64\n",
       "sqft_lot15         int64\n",
       "dtype: object"
      ]
     },
     "execution_count": 4,
     "metadata": {},
     "output_type": "execute_result"
    }
   ],
   "source": [
    "dataset6.dtypes"
   ]
  },
  {
   "cell_type": "code",
   "execution_count": 5,
   "id": "a25e4420-940e-473c-9abc-445c0996fcfa",
   "metadata": {},
   "outputs": [
    {
     "name": "stdout",
     "output_type": "stream",
     "text": [
      "<class 'pandas.core.frame.DataFrame'>\n",
      "RangeIndex: 4323 entries, 0 to 4322\n",
      "Data columns (total 19 columns):\n",
      " #   Column         Non-Null Count  Dtype  \n",
      "---  ------         --------------  -----  \n",
      " 0   id             4323 non-null   int64  \n",
      " 1   date           4323 non-null   object \n",
      " 2   price          4323 non-null   float64\n",
      " 3   bedrooms       4323 non-null   int64  \n",
      " 4   bathrooms      4323 non-null   float64\n",
      " 5   sqft_living    4323 non-null   int64  \n",
      " 6   sqft_lot       4323 non-null   int64  \n",
      " 7   floors         4323 non-null   float64\n",
      " 8   waterfront     4323 non-null   int64  \n",
      " 9   view           4323 non-null   int64  \n",
      " 10  condition      4323 non-null   int64  \n",
      " 11  grade          4323 non-null   int64  \n",
      " 12  sqft_above     4323 non-null   int64  \n",
      " 13  sqft_basement  4323 non-null   int64  \n",
      " 14  yr_built       4323 non-null   int64  \n",
      " 15  yr_renovated   4323 non-null   int64  \n",
      " 16  zipcode        4323 non-null   int64  \n",
      " 17  sqft_living15  4323 non-null   int64  \n",
      " 18  sqft_lot15     4323 non-null   int64  \n",
      "dtypes: float64(3), int64(15), object(1)\n",
      "memory usage: 641.8+ KB\n"
     ]
    }
   ],
   "source": [
    "dataset6.info()"
   ]
  },
  {
   "cell_type": "markdown",
   "id": "04c1a283-32ab-444d-849d-6e4df5ec1c02",
   "metadata": {},
   "source": [
    "### 1. 강변 조망이 가능한지 여부(waterfront)에 따라 평균 주택 가격을 계산하고 조망이 가능한 경우와 그렇지 않은 경우의 평균 가격 차이의 절대값을 구하시오. 답은 소수점 이하는 버리고 정수부만 기술하시오.<br>(답안 예시) 1234567"
   ]
  },
  {
   "cell_type": "code",
   "execution_count": 6,
   "id": "2d43e120-63a9-4415-81d0-c74541b4254f",
   "metadata": {},
   "outputs": [
    {
     "data": {
      "text/plain": [
       "waterfront\n",
       "0    5.321651e+05\n",
       "1    1.699438e+06\n",
       "Name: price, dtype: float64"
      ]
     },
     "execution_count": 6,
     "metadata": {},
     "output_type": "execute_result"
    }
   ],
   "source": [
    "Q1 = dataset6.groupby('waterfront')['price'].mean()\n",
    "\n",
    "Q1"
   ]
  },
  {
   "cell_type": "code",
   "execution_count": 7,
   "id": "ca35987f-d30c-43e1-a54b-dd7e38a0ce5f",
   "metadata": {},
   "outputs": [
    {
     "data": {
      "text/plain": [
       "1167272.748018648"
      ]
     },
     "execution_count": 7,
     "metadata": {},
     "output_type": "execute_result"
    }
   ],
   "source": [
    "abs(Q1[0] - Q1[1])"
   ]
  },
  {
   "cell_type": "markdown",
   "id": "21fb856d-84a7-4eb2-965b-70a17a1a238c",
   "metadata": {},
   "source": [
    "#### 정답 : ***1167272***"
   ]
  },
  {
   "cell_type": "code",
   "execution_count": 8,
   "id": "48f29d73-4708-4979-ba60-28a98f3da7b1",
   "metadata": {},
   "outputs": [],
   "source": [
    "# 수업 풀이\n",
    "q1_1 = dataset6[dataset6.waterfront==1]['price'].mean()\n",
    "q1_2 = dataset6[dataset6.waterfront==0]['price'].mean()"
   ]
  },
  {
   "cell_type": "code",
   "execution_count": 9,
   "id": "71a2e719-2c4d-43cb-a502-34b895fb92f9",
   "metadata": {},
   "outputs": [
    {
     "data": {
      "text/plain": [
       "1167272.748018648"
      ]
     },
     "execution_count": 9,
     "metadata": {},
     "output_type": "execute_result"
    }
   ],
   "source": [
    "abs(q1_1 - q1_2)"
   ]
  },
  {
   "cell_type": "markdown",
   "id": "df9721e1-b86e-4bbb-bb45-7c1f1f782f63",
   "metadata": {},
   "source": [
    "### 2. price, bedrooms, bathrooms, sqft_living, sqft_lot, floors, yr_built 등 7개의 변수 간의 상관분석을 수행하고 price와의 상관계수의 절대값이 가장 큰 변수와 가장 작은 변수를 차례로 기술하시오.<br>(답안 예시) view, zipcode"
   ]
  },
  {
   "cell_type": "code",
   "execution_count": 10,
   "id": "703e5e42-7c61-4a7f-930f-8024c327694d",
   "metadata": {},
   "outputs": [
    {
     "data": {
      "text/html": [
       "<div>\n",
       "<style scoped>\n",
       "    .dataframe tbody tr th:only-of-type {\n",
       "        vertical-align: middle;\n",
       "    }\n",
       "\n",
       "    .dataframe tbody tr th {\n",
       "        vertical-align: top;\n",
       "    }\n",
       "\n",
       "    .dataframe thead th {\n",
       "        text-align: right;\n",
       "    }\n",
       "</style>\n",
       "<table border=\"1\" class=\"dataframe\">\n",
       "  <thead>\n",
       "    <tr style=\"text-align: right;\">\n",
       "      <th></th>\n",
       "      <th>price</th>\n",
       "      <th>bedrooms</th>\n",
       "      <th>bathrooms</th>\n",
       "      <th>sqft_living</th>\n",
       "      <th>sqft_lot</th>\n",
       "      <th>floors</th>\n",
       "      <th>yr_built</th>\n",
       "    </tr>\n",
       "  </thead>\n",
       "  <tbody>\n",
       "    <tr>\n",
       "      <th>0</th>\n",
       "      <td>347500.0</td>\n",
       "      <td>3</td>\n",
       "      <td>1.50</td>\n",
       "      <td>1180</td>\n",
       "      <td>8353</td>\n",
       "      <td>1.0</td>\n",
       "      <td>1960</td>\n",
       "    </tr>\n",
       "    <tr>\n",
       "      <th>1</th>\n",
       "      <td>575000.0</td>\n",
       "      <td>2</td>\n",
       "      <td>1.00</td>\n",
       "      <td>980</td>\n",
       "      <td>3663</td>\n",
       "      <td>1.0</td>\n",
       "      <td>1909</td>\n",
       "    </tr>\n",
       "    <tr>\n",
       "      <th>2</th>\n",
       "      <td>489500.0</td>\n",
       "      <td>3</td>\n",
       "      <td>1.75</td>\n",
       "      <td>2090</td>\n",
       "      <td>65558</td>\n",
       "      <td>1.0</td>\n",
       "      <td>1977</td>\n",
       "    </tr>\n",
       "    <tr>\n",
       "      <th>3</th>\n",
       "      <td>246000.0</td>\n",
       "      <td>4</td>\n",
       "      <td>1.75</td>\n",
       "      <td>1720</td>\n",
       "      <td>7455</td>\n",
       "      <td>1.0</td>\n",
       "      <td>1963</td>\n",
       "    </tr>\n",
       "    <tr>\n",
       "      <th>4</th>\n",
       "      <td>595000.0</td>\n",
       "      <td>3</td>\n",
       "      <td>2.50</td>\n",
       "      <td>2030</td>\n",
       "      <td>5100</td>\n",
       "      <td>2.0</td>\n",
       "      <td>2008</td>\n",
       "    </tr>\n",
       "    <tr>\n",
       "      <th>...</th>\n",
       "      <td>...</td>\n",
       "      <td>...</td>\n",
       "      <td>...</td>\n",
       "      <td>...</td>\n",
       "      <td>...</td>\n",
       "      <td>...</td>\n",
       "      <td>...</td>\n",
       "    </tr>\n",
       "    <tr>\n",
       "      <th>4318</th>\n",
       "      <td>325000.0</td>\n",
       "      <td>2</td>\n",
       "      <td>1.00</td>\n",
       "      <td>620</td>\n",
       "      <td>14823</td>\n",
       "      <td>1.0</td>\n",
       "      <td>1926</td>\n",
       "    </tr>\n",
       "    <tr>\n",
       "      <th>4319</th>\n",
       "      <td>417400.0</td>\n",
       "      <td>3</td>\n",
       "      <td>3.00</td>\n",
       "      <td>2680</td>\n",
       "      <td>12285</td>\n",
       "      <td>1.0</td>\n",
       "      <td>1970</td>\n",
       "    </tr>\n",
       "    <tr>\n",
       "      <th>4320</th>\n",
       "      <td>415000.0</td>\n",
       "      <td>2</td>\n",
       "      <td>2.50</td>\n",
       "      <td>1160</td>\n",
       "      <td>1219</td>\n",
       "      <td>3.0</td>\n",
       "      <td>2007</td>\n",
       "    </tr>\n",
       "    <tr>\n",
       "      <th>4321</th>\n",
       "      <td>600000.0</td>\n",
       "      <td>3</td>\n",
       "      <td>2.50</td>\n",
       "      <td>2320</td>\n",
       "      <td>7609</td>\n",
       "      <td>2.0</td>\n",
       "      <td>2003</td>\n",
       "    </tr>\n",
       "    <tr>\n",
       "      <th>4322</th>\n",
       "      <td>453000.0</td>\n",
       "      <td>4</td>\n",
       "      <td>1.75</td>\n",
       "      <td>2120</td>\n",
       "      <td>7420</td>\n",
       "      <td>1.0</td>\n",
       "      <td>1956</td>\n",
       "    </tr>\n",
       "  </tbody>\n",
       "</table>\n",
       "<p>4323 rows × 7 columns</p>\n",
       "</div>"
      ],
      "text/plain": [
       "         price  bedrooms  bathrooms  sqft_living  sqft_lot  floors  yr_built\n",
       "0     347500.0         3       1.50         1180      8353     1.0      1960\n",
       "1     575000.0         2       1.00          980      3663     1.0      1909\n",
       "2     489500.0         3       1.75         2090     65558     1.0      1977\n",
       "3     246000.0         4       1.75         1720      7455     1.0      1963\n",
       "4     595000.0         3       2.50         2030      5100     2.0      2008\n",
       "...        ...       ...        ...          ...       ...     ...       ...\n",
       "4318  325000.0         2       1.00          620     14823     1.0      1926\n",
       "4319  417400.0         3       3.00         2680     12285     1.0      1970\n",
       "4320  415000.0         2       2.50         1160      1219     3.0      2007\n",
       "4321  600000.0         3       2.50         2320      7609     2.0      2003\n",
       "4322  453000.0         4       1.75         2120      7420     1.0      1956\n",
       "\n",
       "[4323 rows x 7 columns]"
      ]
     },
     "execution_count": 10,
     "metadata": {},
     "output_type": "execute_result"
    }
   ],
   "source": [
    "Q2 = dataset6[['price', 'bedrooms', 'bathrooms', 'sqft_living', 'sqft_lot', 'floors', 'yr_built']]\n",
    "\n",
    "Q2"
   ]
  },
  {
   "cell_type": "code",
   "execution_count": 11,
   "id": "6af44903-88db-4e4a-9b97-2d92594a4e9c",
   "metadata": {},
   "outputs": [
    {
     "data": {
      "text/plain": [
       "sqft_living    0.709157\n",
       "bathrooms      0.534277\n",
       "Name: price, dtype: float64"
      ]
     },
     "execution_count": 11,
     "metadata": {},
     "output_type": "execute_result"
    }
   ],
   "source": [
    "Q2.corr()['price'][1:].abs().nlargest(2)"
   ]
  },
  {
   "cell_type": "markdown",
   "id": "65366ee9-c384-43b5-8c5a-ced92d51c194",
   "metadata": {},
   "source": [
    "#### 정답 : ***sqft_living, bathrooms*** → 문제 잘못 읽음...!"
   ]
  },
  {
   "cell_type": "code",
   "execution_count": 12,
   "id": "ccc7f01a-1613-4544-bfb0-07c457d49248",
   "metadata": {},
   "outputs": [],
   "source": [
    "# 수업 풀이\n",
    "x_var = ['price', 'bedrooms', 'bathrooms', 'sqft_living', 'sqft_lot', 'floors', 'yr_built']"
   ]
  },
  {
   "cell_type": "code",
   "execution_count": 13,
   "id": "3a639e96-8a12-45d1-93e7-bfcf50920926",
   "metadata": {},
   "outputs": [],
   "source": [
    "q2 = dataset6[x_var]"
   ]
  },
  {
   "cell_type": "code",
   "execution_count": 14,
   "id": "29980730-26ff-4905-9b69-41a6c4ca01c1",
   "metadata": {},
   "outputs": [
    {
     "data": {
      "text/plain": [
       "bedrooms       0.279824\n",
       "bathrooms      0.534277\n",
       "sqft_living    0.709157\n",
       "sqft_lot       0.106341\n",
       "floors         0.270423\n",
       "yr_built       0.059895\n",
       "Name: price, dtype: float64"
      ]
     },
     "execution_count": 14,
     "metadata": {},
     "output_type": "execute_result"
    }
   ],
   "source": [
    "q2_out = q2.corr().iloc[1:, 0]\n",
    "\n",
    "q2_out"
   ]
  },
  {
   "cell_type": "code",
   "execution_count": 15,
   "id": "42b4599e-9055-4d4c-bc29-7fd9ef612ffd",
   "metadata": {},
   "outputs": [
    {
     "name": "stdout",
     "output_type": "stream",
     "text": [
      "0.7091565835706303\n",
      "0.059895410779646746\n"
     ]
    }
   ],
   "source": [
    "print(q2_out.max())\n",
    "print(q2_out.min())"
   ]
  },
  {
   "cell_type": "code",
   "execution_count": 16,
   "id": "5920a6c0-65b4-42f9-815c-95911b7feb07",
   "metadata": {},
   "outputs": [
    {
     "name": "stdout",
     "output_type": "stream",
     "text": [
      "sqft_living    0.709157\n",
      "Name: price, dtype: float64\n",
      "yr_built    0.059895\n",
      "Name: price, dtype: float64\n"
     ]
    }
   ],
   "source": [
    "print(q2_out.nlargest(1))\n",
    "print(q2_out.nsmallest(1))"
   ]
  },
  {
   "cell_type": "markdown",
   "id": "fca58f63-0ee8-4504-ac8e-c48a0a695ac5",
   "metadata": {},
   "source": [
    "#### 정답 : ***sqft_living, yr_built***"
   ]
  },
  {
   "cell_type": "markdown",
   "id": "e6c7f8cd-2bbb-4142-a315-d8de0c2b4198",
   "metadata": {},
   "source": [
    "### 3. id, date, 그리고 zipcode를 제외한 모든 변수를 독립변수로, price를 종속변수로 하여 회귀분석을 수행하시오. 통계적 유의성을 갖지 못하는 독립변수를 제거하면 회귀 모형에 남는 변수는 모두 몇 개인가? 이 때 음의 회귀계수를 가지는 변수는 몇 개인가?<br>(답안 예시) 5, 3"
   ]
  },
  {
   "cell_type": "code",
   "execution_count": 17,
   "id": "9d7b9d81-ceb9-49c3-8aec-4d711029c7d2",
   "metadata": {},
   "outputs": [],
   "source": [
    "from sklearn.linear_model import LinearRegression\n",
    "from statsmodels.formula.api import ols"
   ]
  },
  {
   "cell_type": "code",
   "execution_count": 18,
   "id": "4cc51e55-29d1-45e1-95bd-cf092900ae39",
   "metadata": {},
   "outputs": [
    {
     "data": {
      "text/html": [
       "<div>\n",
       "<style scoped>\n",
       "    .dataframe tbody tr th:only-of-type {\n",
       "        vertical-align: middle;\n",
       "    }\n",
       "\n",
       "    .dataframe tbody tr th {\n",
       "        vertical-align: top;\n",
       "    }\n",
       "\n",
       "    .dataframe thead th {\n",
       "        text-align: right;\n",
       "    }\n",
       "</style>\n",
       "<table border=\"1\" class=\"dataframe\">\n",
       "  <thead>\n",
       "    <tr style=\"text-align: right;\">\n",
       "      <th></th>\n",
       "      <th>price</th>\n",
       "      <th>bedrooms</th>\n",
       "      <th>bathrooms</th>\n",
       "      <th>sqft_living</th>\n",
       "      <th>sqft_lot</th>\n",
       "      <th>floors</th>\n",
       "      <th>waterfront</th>\n",
       "      <th>view</th>\n",
       "      <th>condition</th>\n",
       "      <th>grade</th>\n",
       "      <th>sqft_above</th>\n",
       "      <th>sqft_basement</th>\n",
       "      <th>yr_built</th>\n",
       "      <th>yr_renovated</th>\n",
       "      <th>sqft_living15</th>\n",
       "      <th>sqft_lot15</th>\n",
       "    </tr>\n",
       "  </thead>\n",
       "  <tbody>\n",
       "    <tr>\n",
       "      <th>0</th>\n",
       "      <td>347500.0</td>\n",
       "      <td>3</td>\n",
       "      <td>1.50</td>\n",
       "      <td>1180</td>\n",
       "      <td>8353</td>\n",
       "      <td>1.0</td>\n",
       "      <td>0</td>\n",
       "      <td>0</td>\n",
       "      <td>3</td>\n",
       "      <td>7</td>\n",
       "      <td>1180</td>\n",
       "      <td>0</td>\n",
       "      <td>1960</td>\n",
       "      <td>0</td>\n",
       "      <td>1710</td>\n",
       "      <td>8748</td>\n",
       "    </tr>\n",
       "    <tr>\n",
       "      <th>1</th>\n",
       "      <td>575000.0</td>\n",
       "      <td>2</td>\n",
       "      <td>1.00</td>\n",
       "      <td>980</td>\n",
       "      <td>3663</td>\n",
       "      <td>1.0</td>\n",
       "      <td>0</td>\n",
       "      <td>0</td>\n",
       "      <td>5</td>\n",
       "      <td>7</td>\n",
       "      <td>980</td>\n",
       "      <td>0</td>\n",
       "      <td>1909</td>\n",
       "      <td>0</td>\n",
       "      <td>1620</td>\n",
       "      <td>3706</td>\n",
       "    </tr>\n",
       "    <tr>\n",
       "      <th>2</th>\n",
       "      <td>489500.0</td>\n",
       "      <td>3</td>\n",
       "      <td>1.75</td>\n",
       "      <td>2090</td>\n",
       "      <td>65558</td>\n",
       "      <td>1.0</td>\n",
       "      <td>0</td>\n",
       "      <td>0</td>\n",
       "      <td>3</td>\n",
       "      <td>8</td>\n",
       "      <td>1330</td>\n",
       "      <td>760</td>\n",
       "      <td>1977</td>\n",
       "      <td>0</td>\n",
       "      <td>2450</td>\n",
       "      <td>47178</td>\n",
       "    </tr>\n",
       "    <tr>\n",
       "      <th>3</th>\n",
       "      <td>246000.0</td>\n",
       "      <td>4</td>\n",
       "      <td>1.75</td>\n",
       "      <td>1720</td>\n",
       "      <td>7455</td>\n",
       "      <td>1.0</td>\n",
       "      <td>0</td>\n",
       "      <td>0</td>\n",
       "      <td>4</td>\n",
       "      <td>7</td>\n",
       "      <td>1020</td>\n",
       "      <td>700</td>\n",
       "      <td>1963</td>\n",
       "      <td>0</td>\n",
       "      <td>1720</td>\n",
       "      <td>7700</td>\n",
       "    </tr>\n",
       "    <tr>\n",
       "      <th>4</th>\n",
       "      <td>595000.0</td>\n",
       "      <td>3</td>\n",
       "      <td>2.50</td>\n",
       "      <td>2030</td>\n",
       "      <td>5100</td>\n",
       "      <td>2.0</td>\n",
       "      <td>0</td>\n",
       "      <td>0</td>\n",
       "      <td>3</td>\n",
       "      <td>7</td>\n",
       "      <td>2030</td>\n",
       "      <td>0</td>\n",
       "      <td>2008</td>\n",
       "      <td>0</td>\n",
       "      <td>1790</td>\n",
       "      <td>4380</td>\n",
       "    </tr>\n",
       "    <tr>\n",
       "      <th>...</th>\n",
       "      <td>...</td>\n",
       "      <td>...</td>\n",
       "      <td>...</td>\n",
       "      <td>...</td>\n",
       "      <td>...</td>\n",
       "      <td>...</td>\n",
       "      <td>...</td>\n",
       "      <td>...</td>\n",
       "      <td>...</td>\n",
       "      <td>...</td>\n",
       "      <td>...</td>\n",
       "      <td>...</td>\n",
       "      <td>...</td>\n",
       "      <td>...</td>\n",
       "      <td>...</td>\n",
       "      <td>...</td>\n",
       "    </tr>\n",
       "    <tr>\n",
       "      <th>4318</th>\n",
       "      <td>325000.0</td>\n",
       "      <td>2</td>\n",
       "      <td>1.00</td>\n",
       "      <td>620</td>\n",
       "      <td>14823</td>\n",
       "      <td>1.0</td>\n",
       "      <td>0</td>\n",
       "      <td>0</td>\n",
       "      <td>3</td>\n",
       "      <td>6</td>\n",
       "      <td>620</td>\n",
       "      <td>0</td>\n",
       "      <td>1926</td>\n",
       "      <td>0</td>\n",
       "      <td>1400</td>\n",
       "      <td>7930</td>\n",
       "    </tr>\n",
       "    <tr>\n",
       "      <th>4319</th>\n",
       "      <td>417400.0</td>\n",
       "      <td>3</td>\n",
       "      <td>3.00</td>\n",
       "      <td>2680</td>\n",
       "      <td>12285</td>\n",
       "      <td>1.0</td>\n",
       "      <td>0</td>\n",
       "      <td>0</td>\n",
       "      <td>4</td>\n",
       "      <td>8</td>\n",
       "      <td>2680</td>\n",
       "      <td>0</td>\n",
       "      <td>1970</td>\n",
       "      <td>0</td>\n",
       "      <td>2610</td>\n",
       "      <td>9558</td>\n",
       "    </tr>\n",
       "    <tr>\n",
       "      <th>4320</th>\n",
       "      <td>415000.0</td>\n",
       "      <td>2</td>\n",
       "      <td>2.50</td>\n",
       "      <td>1160</td>\n",
       "      <td>1219</td>\n",
       "      <td>3.0</td>\n",
       "      <td>0</td>\n",
       "      <td>0</td>\n",
       "      <td>3</td>\n",
       "      <td>8</td>\n",
       "      <td>1160</td>\n",
       "      <td>0</td>\n",
       "      <td>2007</td>\n",
       "      <td>0</td>\n",
       "      <td>1320</td>\n",
       "      <td>2800</td>\n",
       "    </tr>\n",
       "    <tr>\n",
       "      <th>4321</th>\n",
       "      <td>600000.0</td>\n",
       "      <td>3</td>\n",
       "      <td>2.50</td>\n",
       "      <td>2320</td>\n",
       "      <td>7609</td>\n",
       "      <td>2.0</td>\n",
       "      <td>0</td>\n",
       "      <td>0</td>\n",
       "      <td>3</td>\n",
       "      <td>8</td>\n",
       "      <td>2320</td>\n",
       "      <td>0</td>\n",
       "      <td>2003</td>\n",
       "      <td>0</td>\n",
       "      <td>2590</td>\n",
       "      <td>4000</td>\n",
       "    </tr>\n",
       "    <tr>\n",
       "      <th>4322</th>\n",
       "      <td>453000.0</td>\n",
       "      <td>4</td>\n",
       "      <td>1.75</td>\n",
       "      <td>2120</td>\n",
       "      <td>7420</td>\n",
       "      <td>1.0</td>\n",
       "      <td>0</td>\n",
       "      <td>0</td>\n",
       "      <td>4</td>\n",
       "      <td>7</td>\n",
       "      <td>1060</td>\n",
       "      <td>1060</td>\n",
       "      <td>1956</td>\n",
       "      <td>0</td>\n",
       "      <td>1540</td>\n",
       "      <td>7420</td>\n",
       "    </tr>\n",
       "  </tbody>\n",
       "</table>\n",
       "<p>4323 rows × 16 columns</p>\n",
       "</div>"
      ],
      "text/plain": [
       "         price  bedrooms  bathrooms  sqft_living  sqft_lot  floors  \\\n",
       "0     347500.0         3       1.50         1180      8353     1.0   \n",
       "1     575000.0         2       1.00          980      3663     1.0   \n",
       "2     489500.0         3       1.75         2090     65558     1.0   \n",
       "3     246000.0         4       1.75         1720      7455     1.0   \n",
       "4     595000.0         3       2.50         2030      5100     2.0   \n",
       "...        ...       ...        ...          ...       ...     ...   \n",
       "4318  325000.0         2       1.00          620     14823     1.0   \n",
       "4319  417400.0         3       3.00         2680     12285     1.0   \n",
       "4320  415000.0         2       2.50         1160      1219     3.0   \n",
       "4321  600000.0         3       2.50         2320      7609     2.0   \n",
       "4322  453000.0         4       1.75         2120      7420     1.0   \n",
       "\n",
       "      waterfront  view  condition  grade  sqft_above  sqft_basement  yr_built  \\\n",
       "0              0     0          3      7        1180              0      1960   \n",
       "1              0     0          5      7         980              0      1909   \n",
       "2              0     0          3      8        1330            760      1977   \n",
       "3              0     0          4      7        1020            700      1963   \n",
       "4              0     0          3      7        2030              0      2008   \n",
       "...          ...   ...        ...    ...         ...            ...       ...   \n",
       "4318           0     0          3      6         620              0      1926   \n",
       "4319           0     0          4      8        2680              0      1970   \n",
       "4320           0     0          3      8        1160              0      2007   \n",
       "4321           0     0          3      8        2320              0      2003   \n",
       "4322           0     0          4      7        1060           1060      1956   \n",
       "\n",
       "      yr_renovated  sqft_living15  sqft_lot15  \n",
       "0                0           1710        8748  \n",
       "1                0           1620        3706  \n",
       "2                0           2450       47178  \n",
       "3                0           1720        7700  \n",
       "4                0           1790        4380  \n",
       "...            ...            ...         ...  \n",
       "4318             0           1400        7930  \n",
       "4319             0           2610        9558  \n",
       "4320             0           1320        2800  \n",
       "4321             0           2590        4000  \n",
       "4322             0           1540        7420  \n",
       "\n",
       "[4323 rows x 16 columns]"
      ]
     },
     "execution_count": 18,
     "metadata": {},
     "output_type": "execute_result"
    }
   ],
   "source": [
    "Q3 = dataset6.drop(['id', 'date', 'zipcode'], axis=1)\n",
    "\n",
    "Q3"
   ]
  },
  {
   "cell_type": "code",
   "execution_count": 19,
   "id": "b51c974f-9c88-4688-8348-548ac613c206",
   "metadata": {},
   "outputs": [],
   "source": [
    "X = Q3.drop('price', axis=1)\n",
    "y = Q3.price"
   ]
  },
  {
   "cell_type": "code",
   "execution_count": 20,
   "id": "d3e5b26a-b598-40a1-a7b6-d152a292e6d1",
   "metadata": {},
   "outputs": [
    {
     "data": {
      "text/plain": [
       "LinearRegression()"
      ]
     },
     "execution_count": 20,
     "metadata": {},
     "output_type": "execute_result"
    }
   ],
   "source": [
    "lm = LinearRegression(fit_intercept=True)\n",
    "lm.fit(X, y)"
   ]
  },
  {
   "cell_type": "code",
   "execution_count": 21,
   "id": "9922d7f5-51d8-4206-950a-2b969304972c",
   "metadata": {},
   "outputs": [
    {
     "data": {
      "text/plain": [
       "array([-2.49955251e+04,  5.17923445e+04,  9.23080441e+01,  5.44484390e-03,\n",
       "        3.74819905e+04,  6.27652844e+05,  4.03977832e+04,  1.57057341e+04,\n",
       "        1.30627396e+05,  3.37357935e+01,  5.85722507e+01, -3.66689567e+03,\n",
       "        1.77031918e+01,  2.30114429e+01, -2.32290365e-01])"
      ]
     },
     "execution_count": 21,
     "metadata": {},
     "output_type": "execute_result"
    }
   ],
   "source": [
    "lm.coef_"
   ]
  },
  {
   "cell_type": "code",
   "execution_count": 22,
   "id": "726fe3b2-7c99-4958-ba87-030264881acb",
   "metadata": {},
   "outputs": [
    {
     "data": {
      "text/plain": [
       "Index(['bedrooms', 'bathrooms', 'sqft_living', 'sqft_lot', 'floors',\n",
       "       'waterfront', 'view', 'condition', 'grade', 'sqft_above',\n",
       "       'sqft_basement', 'yr_built', 'yr_renovated', 'sqft_living15',\n",
       "       'sqft_lot15'],\n",
       "      dtype='object')"
      ]
     },
     "execution_count": 22,
     "metadata": {},
     "output_type": "execute_result"
    }
   ],
   "source": [
    "var_list = Q3.columns[1:]\n",
    "\n",
    "var_list"
   ]
  },
  {
   "cell_type": "code",
   "execution_count": 23,
   "id": "9d89d770-19ed-4bd2-a079-d37342533666",
   "metadata": {},
   "outputs": [],
   "source": [
    "form = 'price~'+'+'.join(var_list)"
   ]
  },
  {
   "cell_type": "code",
   "execution_count": 24,
   "id": "c8f2bc37-e589-4078-a7f1-4bcbfeae87f9",
   "metadata": {},
   "outputs": [
    {
     "data": {
      "text/html": [
       "<table class=\"simpletable\">\n",
       "<caption>OLS Regression Results</caption>\n",
       "<tr>\n",
       "  <th>Dep. Variable:</th>          <td>price</td>      <th>  R-squared:         </th> <td>   0.681</td> \n",
       "</tr>\n",
       "<tr>\n",
       "  <th>Model:</th>                   <td>OLS</td>       <th>  Adj. R-squared:    </th> <td>   0.680</td> \n",
       "</tr>\n",
       "<tr>\n",
       "  <th>Method:</th>             <td>Least Squares</td>  <th>  F-statistic:       </th> <td>   656.0</td> \n",
       "</tr>\n",
       "<tr>\n",
       "  <th>Date:</th>             <td>Tue, 24 Aug 2021</td> <th>  Prob (F-statistic):</th>  <td>  0.00</td>  \n",
       "</tr>\n",
       "<tr>\n",
       "  <th>Time:</th>                 <td>15:10:13</td>     <th>  Log-Likelihood:    </th> <td> -58960.</td> \n",
       "</tr>\n",
       "<tr>\n",
       "  <th>No. Observations:</th>      <td>  4323</td>      <th>  AIC:               </th> <td>1.180e+05</td>\n",
       "</tr>\n",
       "<tr>\n",
       "  <th>Df Residuals:</th>          <td>  4308</td>      <th>  BIC:               </th> <td>1.180e+05</td>\n",
       "</tr>\n",
       "<tr>\n",
       "  <th>Df Model:</th>              <td>    14</td>      <th>                     </th>     <td> </td>    \n",
       "</tr>\n",
       "<tr>\n",
       "  <th>Covariance Type:</th>      <td>nonrobust</td>    <th>                     </th>     <td> </td>    \n",
       "</tr>\n",
       "</table>\n",
       "<table class=\"simpletable\">\n",
       "<tr>\n",
       "        <td></td>           <th>coef</th>     <th>std err</th>      <th>t</th>      <th>P>|t|</th>  <th>[0.025</th>    <th>0.975]</th>  \n",
       "</tr>\n",
       "<tr>\n",
       "  <th>Intercept</th>     <td> 6.302e+06</td> <td> 2.95e+05</td> <td>   21.401</td> <td> 0.000</td> <td> 5.73e+06</td> <td> 6.88e+06</td>\n",
       "</tr>\n",
       "<tr>\n",
       "  <th>bedrooms</th>      <td>  -2.5e+04</td> <td> 3680.510</td> <td>   -6.791</td> <td> 0.000</td> <td>-3.22e+04</td> <td>-1.78e+04</td>\n",
       "</tr>\n",
       "<tr>\n",
       "  <th>bathrooms</th>     <td> 5.179e+04</td> <td> 7163.408</td> <td>    7.230</td> <td> 0.000</td> <td> 3.77e+04</td> <td> 6.58e+04</td>\n",
       "</tr>\n",
       "<tr>\n",
       "  <th>sqft_living</th>   <td>   92.3080</td> <td>    5.074</td> <td>   18.192</td> <td> 0.000</td> <td>   82.360</td> <td>  102.256</td>\n",
       "</tr>\n",
       "<tr>\n",
       "  <th>sqft_lot</th>      <td>    0.0054</td> <td>    0.093</td> <td>    0.059</td> <td> 0.953</td> <td>   -0.176</td> <td>    0.187</td>\n",
       "</tr>\n",
       "<tr>\n",
       "  <th>floors</th>        <td> 3.748e+04</td> <td> 8141.392</td> <td>    4.604</td> <td> 0.000</td> <td> 2.15e+04</td> <td> 5.34e+04</td>\n",
       "</tr>\n",
       "<tr>\n",
       "  <th>waterfront</th>    <td> 6.277e+05</td> <td> 3.91e+04</td> <td>   16.064</td> <td> 0.000</td> <td> 5.51e+05</td> <td> 7.04e+05</td>\n",
       "</tr>\n",
       "<tr>\n",
       "  <th>view</th>          <td>  4.04e+04</td> <td> 4797.344</td> <td>    8.421</td> <td> 0.000</td> <td>  3.1e+04</td> <td> 4.98e+04</td>\n",
       "</tr>\n",
       "<tr>\n",
       "  <th>condition</th>     <td> 1.571e+04</td> <td> 5317.387</td> <td>    2.954</td> <td> 0.003</td> <td> 5280.918</td> <td> 2.61e+04</td>\n",
       "</tr>\n",
       "<tr>\n",
       "  <th>grade</th>         <td> 1.306e+05</td> <td> 4700.604</td> <td>   27.789</td> <td> 0.000</td> <td> 1.21e+05</td> <td>  1.4e+05</td>\n",
       "</tr>\n",
       "<tr>\n",
       "  <th>sqft_above</th>    <td>   33.7358</td> <td>    4.981</td> <td>    6.773</td> <td> 0.000</td> <td>   23.971</td> <td>   43.501</td>\n",
       "</tr>\n",
       "<tr>\n",
       "  <th>sqft_basement</th> <td>   58.5723</td> <td>    5.840</td> <td>   10.030</td> <td> 0.000</td> <td>   47.123</td> <td>   70.021</td>\n",
       "</tr>\n",
       "<tr>\n",
       "  <th>yr_built</th>      <td>-3666.8957</td> <td>  150.805</td> <td>  -24.316</td> <td> 0.000</td> <td>-3962.551</td> <td>-3371.241</td>\n",
       "</tr>\n",
       "<tr>\n",
       "  <th>yr_renovated</th>  <td>   17.7032</td> <td>    8.265</td> <td>    2.142</td> <td> 0.032</td> <td>    1.499</td> <td>   33.908</td>\n",
       "</tr>\n",
       "<tr>\n",
       "  <th>sqft_living15</th> <td>   23.0114</td> <td>    7.561</td> <td>    3.044</td> <td> 0.002</td> <td>    8.188</td> <td>   37.834</td>\n",
       "</tr>\n",
       "<tr>\n",
       "  <th>sqft_lot15</th>    <td>   -0.2323</td> <td>    0.142</td> <td>   -1.637</td> <td> 0.102</td> <td>   -0.511</td> <td>    0.046</td>\n",
       "</tr>\n",
       "</table>\n",
       "<table class=\"simpletable\">\n",
       "<tr>\n",
       "  <th>Omnibus:</th>       <td>2170.721</td> <th>  Durbin-Watson:     </th> <td>   2.011</td> \n",
       "</tr>\n",
       "<tr>\n",
       "  <th>Prob(Omnibus):</th>  <td> 0.000</td>  <th>  Jarque-Bera (JB):  </th> <td>38362.875</td>\n",
       "</tr>\n",
       "<tr>\n",
       "  <th>Skew:</th>           <td> 1.971</td>  <th>  Prob(JB):          </th> <td>    0.00</td> \n",
       "</tr>\n",
       "<tr>\n",
       "  <th>Kurtosis:</th>       <td>17.051</td>  <th>  Cond. No.          </th> <td>3.23e+17</td> \n",
       "</tr>\n",
       "</table><br/><br/>Notes:<br/>[1] Standard Errors assume that the covariance matrix of the errors is correctly specified.<br/>[2] The smallest eigenvalue is 1.56e-22. This might indicate that there are<br/>strong multicollinearity problems or that the design matrix is singular."
      ],
      "text/plain": [
       "<class 'statsmodels.iolib.summary.Summary'>\n",
       "\"\"\"\n",
       "                            OLS Regression Results                            \n",
       "==============================================================================\n",
       "Dep. Variable:                  price   R-squared:                       0.681\n",
       "Model:                            OLS   Adj. R-squared:                  0.680\n",
       "Method:                 Least Squares   F-statistic:                     656.0\n",
       "Date:                Tue, 24 Aug 2021   Prob (F-statistic):               0.00\n",
       "Time:                        15:10:13   Log-Likelihood:                -58960.\n",
       "No. Observations:                4323   AIC:                         1.180e+05\n",
       "Df Residuals:                    4308   BIC:                         1.180e+05\n",
       "Df Model:                          14                                         \n",
       "Covariance Type:            nonrobust                                         \n",
       "=================================================================================\n",
       "                    coef    std err          t      P>|t|      [0.025      0.975]\n",
       "---------------------------------------------------------------------------------\n",
       "Intercept      6.302e+06   2.95e+05     21.401      0.000    5.73e+06    6.88e+06\n",
       "bedrooms        -2.5e+04   3680.510     -6.791      0.000   -3.22e+04   -1.78e+04\n",
       "bathrooms      5.179e+04   7163.408      7.230      0.000    3.77e+04    6.58e+04\n",
       "sqft_living      92.3080      5.074     18.192      0.000      82.360     102.256\n",
       "sqft_lot          0.0054      0.093      0.059      0.953      -0.176       0.187\n",
       "floors         3.748e+04   8141.392      4.604      0.000    2.15e+04    5.34e+04\n",
       "waterfront     6.277e+05   3.91e+04     16.064      0.000    5.51e+05    7.04e+05\n",
       "view            4.04e+04   4797.344      8.421      0.000     3.1e+04    4.98e+04\n",
       "condition      1.571e+04   5317.387      2.954      0.003    5280.918    2.61e+04\n",
       "grade          1.306e+05   4700.604     27.789      0.000    1.21e+05     1.4e+05\n",
       "sqft_above       33.7358      4.981      6.773      0.000      23.971      43.501\n",
       "sqft_basement    58.5723      5.840     10.030      0.000      47.123      70.021\n",
       "yr_built      -3666.8957    150.805    -24.316      0.000   -3962.551   -3371.241\n",
       "yr_renovated     17.7032      8.265      2.142      0.032       1.499      33.908\n",
       "sqft_living15    23.0114      7.561      3.044      0.002       8.188      37.834\n",
       "sqft_lot15       -0.2323      0.142     -1.637      0.102      -0.511       0.046\n",
       "==============================================================================\n",
       "Omnibus:                     2170.721   Durbin-Watson:                   2.011\n",
       "Prob(Omnibus):                  0.000   Jarque-Bera (JB):            38362.875\n",
       "Skew:                           1.971   Prob(JB):                         0.00\n",
       "Kurtosis:                      17.051   Cond. No.                     3.23e+17\n",
       "==============================================================================\n",
       "\n",
       "Notes:\n",
       "[1] Standard Errors assume that the covariance matrix of the errors is correctly specified.\n",
       "[2] The smallest eigenvalue is 1.56e-22. This might indicate that there are\n",
       "strong multicollinearity problems or that the design matrix is singular.\n",
       "\"\"\""
      ]
     },
     "execution_count": 24,
     "metadata": {},
     "output_type": "execute_result"
    }
   ],
   "source": [
    "ols1 = ols(form, data=Q3).fit()\n",
    "\n",
    "ols1.summary()"
   ]
  },
  {
   "cell_type": "markdown",
   "id": "409e66e0-1653-4f8a-832e-dde4c63abca4",
   "metadata": {},
   "source": [
    "#### 정답 : ***13, 3***"
   ]
  },
  {
   "cell_type": "code",
   "execution_count": 25,
   "id": "fb2ea8b1-5fff-498d-99f9-2103ffca3c7b",
   "metadata": {},
   "outputs": [],
   "source": [
    "# 수업 풀이\n",
    "q3 = dataset6.drop(columns=['id', 'date', 'zipcode'], axis=1)"
   ]
  },
  {
   "cell_type": "code",
   "execution_count": 26,
   "id": "6fec4670-b984-4783-bcda-b31bb46f86b3",
   "metadata": {},
   "outputs": [],
   "source": [
    "x_var = q3.columns.drop('price')"
   ]
  },
  {
   "cell_type": "code",
   "execution_count": 27,
   "id": "2c2da341-030b-44aa-ba1d-353ea5ad476e",
   "metadata": {},
   "outputs": [],
   "source": [
    "from statsmodels.formula.api import ols"
   ]
  },
  {
   "cell_type": "code",
   "execution_count": 28,
   "id": "7b559f13-9dc9-4093-8631-92b8ac67de90",
   "metadata": {},
   "outputs": [
    {
     "data": {
      "text/plain": [
       "'price~bedrooms+bathrooms+sqft_living+sqft_lot+floors+waterfront+view+condition+grade+sqft_above+sqft_basement+yr_built+yr_renovated+sqft_living15+sqft_lot15'"
      ]
     },
     "execution_count": 28,
     "metadata": {},
     "output_type": "execute_result"
    }
   ],
   "source": [
    "form = 'price~'+'+'.join(x_var)\n",
    "\n",
    "form"
   ]
  },
  {
   "cell_type": "code",
   "execution_count": 29,
   "id": "d32065d4-6fb7-4d97-a0ae-7c4bbef7eff3",
   "metadata": {},
   "outputs": [
    {
     "data": {
      "text/html": [
       "<table class=\"simpletable\">\n",
       "<caption>OLS Regression Results</caption>\n",
       "<tr>\n",
       "  <th>Dep. Variable:</th>          <td>price</td>      <th>  R-squared:         </th> <td>   0.681</td> \n",
       "</tr>\n",
       "<tr>\n",
       "  <th>Model:</th>                   <td>OLS</td>       <th>  Adj. R-squared:    </th> <td>   0.680</td> \n",
       "</tr>\n",
       "<tr>\n",
       "  <th>Method:</th>             <td>Least Squares</td>  <th>  F-statistic:       </th> <td>   656.0</td> \n",
       "</tr>\n",
       "<tr>\n",
       "  <th>Date:</th>             <td>Tue, 24 Aug 2021</td> <th>  Prob (F-statistic):</th>  <td>  0.00</td>  \n",
       "</tr>\n",
       "<tr>\n",
       "  <th>Time:</th>                 <td>15:10:13</td>     <th>  Log-Likelihood:    </th> <td> -58960.</td> \n",
       "</tr>\n",
       "<tr>\n",
       "  <th>No. Observations:</th>      <td>  4323</td>      <th>  AIC:               </th> <td>1.180e+05</td>\n",
       "</tr>\n",
       "<tr>\n",
       "  <th>Df Residuals:</th>          <td>  4308</td>      <th>  BIC:               </th> <td>1.180e+05</td>\n",
       "</tr>\n",
       "<tr>\n",
       "  <th>Df Model:</th>              <td>    14</td>      <th>                     </th>     <td> </td>    \n",
       "</tr>\n",
       "<tr>\n",
       "  <th>Covariance Type:</th>      <td>nonrobust</td>    <th>                     </th>     <td> </td>    \n",
       "</tr>\n",
       "</table>\n",
       "<table class=\"simpletable\">\n",
       "<tr>\n",
       "        <td></td>           <th>coef</th>     <th>std err</th>      <th>t</th>      <th>P>|t|</th>  <th>[0.025</th>    <th>0.975]</th>  \n",
       "</tr>\n",
       "<tr>\n",
       "  <th>Intercept</th>     <td> 6.302e+06</td> <td> 2.95e+05</td> <td>   21.401</td> <td> 0.000</td> <td> 5.73e+06</td> <td> 6.88e+06</td>\n",
       "</tr>\n",
       "<tr>\n",
       "  <th>bedrooms</th>      <td>  -2.5e+04</td> <td> 3680.510</td> <td>   -6.791</td> <td> 0.000</td> <td>-3.22e+04</td> <td>-1.78e+04</td>\n",
       "</tr>\n",
       "<tr>\n",
       "  <th>bathrooms</th>     <td> 5.179e+04</td> <td> 7163.408</td> <td>    7.230</td> <td> 0.000</td> <td> 3.77e+04</td> <td> 6.58e+04</td>\n",
       "</tr>\n",
       "<tr>\n",
       "  <th>sqft_living</th>   <td>   92.3080</td> <td>    5.074</td> <td>   18.192</td> <td> 0.000</td> <td>   82.360</td> <td>  102.256</td>\n",
       "</tr>\n",
       "<tr>\n",
       "  <th>sqft_lot</th>      <td>    0.0054</td> <td>    0.093</td> <td>    0.059</td> <td> 0.953</td> <td>   -0.176</td> <td>    0.187</td>\n",
       "</tr>\n",
       "<tr>\n",
       "  <th>floors</th>        <td> 3.748e+04</td> <td> 8141.392</td> <td>    4.604</td> <td> 0.000</td> <td> 2.15e+04</td> <td> 5.34e+04</td>\n",
       "</tr>\n",
       "<tr>\n",
       "  <th>waterfront</th>    <td> 6.277e+05</td> <td> 3.91e+04</td> <td>   16.064</td> <td> 0.000</td> <td> 5.51e+05</td> <td> 7.04e+05</td>\n",
       "</tr>\n",
       "<tr>\n",
       "  <th>view</th>          <td>  4.04e+04</td> <td> 4797.344</td> <td>    8.421</td> <td> 0.000</td> <td>  3.1e+04</td> <td> 4.98e+04</td>\n",
       "</tr>\n",
       "<tr>\n",
       "  <th>condition</th>     <td> 1.571e+04</td> <td> 5317.387</td> <td>    2.954</td> <td> 0.003</td> <td> 5280.918</td> <td> 2.61e+04</td>\n",
       "</tr>\n",
       "<tr>\n",
       "  <th>grade</th>         <td> 1.306e+05</td> <td> 4700.604</td> <td>   27.789</td> <td> 0.000</td> <td> 1.21e+05</td> <td>  1.4e+05</td>\n",
       "</tr>\n",
       "<tr>\n",
       "  <th>sqft_above</th>    <td>   33.7358</td> <td>    4.981</td> <td>    6.773</td> <td> 0.000</td> <td>   23.971</td> <td>   43.501</td>\n",
       "</tr>\n",
       "<tr>\n",
       "  <th>sqft_basement</th> <td>   58.5723</td> <td>    5.840</td> <td>   10.030</td> <td> 0.000</td> <td>   47.123</td> <td>   70.021</td>\n",
       "</tr>\n",
       "<tr>\n",
       "  <th>yr_built</th>      <td>-3666.8957</td> <td>  150.805</td> <td>  -24.316</td> <td> 0.000</td> <td>-3962.551</td> <td>-3371.241</td>\n",
       "</tr>\n",
       "<tr>\n",
       "  <th>yr_renovated</th>  <td>   17.7032</td> <td>    8.265</td> <td>    2.142</td> <td> 0.032</td> <td>    1.499</td> <td>   33.908</td>\n",
       "</tr>\n",
       "<tr>\n",
       "  <th>sqft_living15</th> <td>   23.0114</td> <td>    7.561</td> <td>    3.044</td> <td> 0.002</td> <td>    8.188</td> <td>   37.834</td>\n",
       "</tr>\n",
       "<tr>\n",
       "  <th>sqft_lot15</th>    <td>   -0.2323</td> <td>    0.142</td> <td>   -1.637</td> <td> 0.102</td> <td>   -0.511</td> <td>    0.046</td>\n",
       "</tr>\n",
       "</table>\n",
       "<table class=\"simpletable\">\n",
       "<tr>\n",
       "  <th>Omnibus:</th>       <td>2170.721</td> <th>  Durbin-Watson:     </th> <td>   2.011</td> \n",
       "</tr>\n",
       "<tr>\n",
       "  <th>Prob(Omnibus):</th>  <td> 0.000</td>  <th>  Jarque-Bera (JB):  </th> <td>38362.875</td>\n",
       "</tr>\n",
       "<tr>\n",
       "  <th>Skew:</th>           <td> 1.971</td>  <th>  Prob(JB):          </th> <td>    0.00</td> \n",
       "</tr>\n",
       "<tr>\n",
       "  <th>Kurtosis:</th>       <td>17.051</td>  <th>  Cond. No.          </th> <td>3.23e+17</td> \n",
       "</tr>\n",
       "</table><br/><br/>Notes:<br/>[1] Standard Errors assume that the covariance matrix of the errors is correctly specified.<br/>[2] The smallest eigenvalue is 1.56e-22. This might indicate that there are<br/>strong multicollinearity problems or that the design matrix is singular."
      ],
      "text/plain": [
       "<class 'statsmodels.iolib.summary.Summary'>\n",
       "\"\"\"\n",
       "                            OLS Regression Results                            \n",
       "==============================================================================\n",
       "Dep. Variable:                  price   R-squared:                       0.681\n",
       "Model:                            OLS   Adj. R-squared:                  0.680\n",
       "Method:                 Least Squares   F-statistic:                     656.0\n",
       "Date:                Tue, 24 Aug 2021   Prob (F-statistic):               0.00\n",
       "Time:                        15:10:13   Log-Likelihood:                -58960.\n",
       "No. Observations:                4323   AIC:                         1.180e+05\n",
       "Df Residuals:                    4308   BIC:                         1.180e+05\n",
       "Df Model:                          14                                         \n",
       "Covariance Type:            nonrobust                                         \n",
       "=================================================================================\n",
       "                    coef    std err          t      P>|t|      [0.025      0.975]\n",
       "---------------------------------------------------------------------------------\n",
       "Intercept      6.302e+06   2.95e+05     21.401      0.000    5.73e+06    6.88e+06\n",
       "bedrooms        -2.5e+04   3680.510     -6.791      0.000   -3.22e+04   -1.78e+04\n",
       "bathrooms      5.179e+04   7163.408      7.230      0.000    3.77e+04    6.58e+04\n",
       "sqft_living      92.3080      5.074     18.192      0.000      82.360     102.256\n",
       "sqft_lot          0.0054      0.093      0.059      0.953      -0.176       0.187\n",
       "floors         3.748e+04   8141.392      4.604      0.000    2.15e+04    5.34e+04\n",
       "waterfront     6.277e+05   3.91e+04     16.064      0.000    5.51e+05    7.04e+05\n",
       "view            4.04e+04   4797.344      8.421      0.000     3.1e+04    4.98e+04\n",
       "condition      1.571e+04   5317.387      2.954      0.003    5280.918    2.61e+04\n",
       "grade          1.306e+05   4700.604     27.789      0.000    1.21e+05     1.4e+05\n",
       "sqft_above       33.7358      4.981      6.773      0.000      23.971      43.501\n",
       "sqft_basement    58.5723      5.840     10.030      0.000      47.123      70.021\n",
       "yr_built      -3666.8957    150.805    -24.316      0.000   -3962.551   -3371.241\n",
       "yr_renovated     17.7032      8.265      2.142      0.032       1.499      33.908\n",
       "sqft_living15    23.0114      7.561      3.044      0.002       8.188      37.834\n",
       "sqft_lot15       -0.2323      0.142     -1.637      0.102      -0.511       0.046\n",
       "==============================================================================\n",
       "Omnibus:                     2170.721   Durbin-Watson:                   2.011\n",
       "Prob(Omnibus):                  0.000   Jarque-Bera (JB):            38362.875\n",
       "Skew:                           1.971   Prob(JB):                         0.00\n",
       "Kurtosis:                      17.051   Cond. No.                     3.23e+17\n",
       "==============================================================================\n",
       "\n",
       "Notes:\n",
       "[1] Standard Errors assume that the covariance matrix of the errors is correctly specified.\n",
       "[2] The smallest eigenvalue is 1.56e-22. This might indicate that there are\n",
       "strong multicollinearity problems or that the design matrix is singular.\n",
       "\"\"\""
      ]
     },
     "execution_count": 29,
     "metadata": {},
     "output_type": "execute_result"
    }
   ],
   "source": [
    "ols2 = ols(form, data=q3).fit()\n",
    "\n",
    "ols2.summary()"
   ]
  },
  {
   "cell_type": "code",
   "execution_count": 30,
   "id": "578f4911-4982-4bb5-9ebd-d1c3e99bb6f0",
   "metadata": {},
   "outputs": [
    {
     "data": {
      "text/plain": [
       "15"
      ]
     },
     "execution_count": 30,
     "metadata": {},
     "output_type": "execute_result"
    }
   ],
   "source": [
    "len(x_var)"
   ]
  },
  {
   "cell_type": "code",
   "execution_count": 31,
   "id": "16e685c6-e78c-4b13-9c01-4cb35194a9d6",
   "metadata": {},
   "outputs": [
    {
     "data": {
      "text/plain": [
       "13"
      ]
     },
     "execution_count": 31,
     "metadata": {},
     "output_type": "execute_result"
    }
   ],
   "source": [
    "sum((ols2.pvalues<0.05)) - 1   # intercept 제외"
   ]
  },
  {
   "cell_type": "code",
   "execution_count": 32,
   "id": "e8e67f5c-75d1-4958-8151-9d481bb1f0c3",
   "metadata": {},
   "outputs": [
    {
     "data": {
      "text/plain": [
       "Intercept         True\n",
       "bedrooms          True\n",
       "bathrooms         True\n",
       "sqft_living       True\n",
       "sqft_lot         False\n",
       "floors            True\n",
       "waterfront        True\n",
       "view              True\n",
       "condition         True\n",
       "grade             True\n",
       "sqft_above        True\n",
       "sqft_basement     True\n",
       "yr_built          True\n",
       "yr_renovated      True\n",
       "sqft_living15     True\n",
       "sqft_lot15       False\n",
       "dtype: bool"
      ]
     },
     "execution_count": 32,
     "metadata": {},
     "output_type": "execute_result"
    }
   ],
   "source": [
    "ols2.pvalues<0.05"
   ]
  },
  {
   "cell_type": "markdown",
   "id": "98feee55-b632-4ad6-943c-3dbae6034daf",
   "metadata": {},
   "source": [
    "## 문제 07 유형(DataSet_07.csv 이용)"
   ]
  },
  {
   "cell_type": "markdown",
   "id": "e47ff401-087f-4e28-8232-3c72a6a1e22d",
   "metadata": {},
   "source": [
    "## 대학원 진학을 위하여 어떤 항목이 중요하게 영향을 미치는지 아래 데이터로 분석하고자 한다."
   ]
  },
  {
   "cell_type": "code",
   "execution_count": 33,
   "id": "0e618f93-6ba3-4830-b754-73142579fb09",
   "metadata": {},
   "outputs": [],
   "source": [
    "import pandas as pd"
   ]
  },
  {
   "cell_type": "code",
   "execution_count": 34,
   "id": "2e30968d-f44c-4d28-85c5-66b47646e9d7",
   "metadata": {},
   "outputs": [
    {
     "data": {
      "text/html": [
       "<div>\n",
       "<style scoped>\n",
       "    .dataframe tbody tr th:only-of-type {\n",
       "        vertical-align: middle;\n",
       "    }\n",
       "\n",
       "    .dataframe tbody tr th {\n",
       "        vertical-align: top;\n",
       "    }\n",
       "\n",
       "    .dataframe thead th {\n",
       "        text-align: right;\n",
       "    }\n",
       "</style>\n",
       "<table border=\"1\" class=\"dataframe\">\n",
       "  <thead>\n",
       "    <tr style=\"text-align: right;\">\n",
       "      <th></th>\n",
       "      <th>Serial_No</th>\n",
       "      <th>GRE</th>\n",
       "      <th>TOEFL</th>\n",
       "      <th>University_Rating</th>\n",
       "      <th>SOP</th>\n",
       "      <th>LOR</th>\n",
       "      <th>CGPA</th>\n",
       "      <th>Research</th>\n",
       "      <th>Chance_of_Admit</th>\n",
       "    </tr>\n",
       "  </thead>\n",
       "  <tbody>\n",
       "    <tr>\n",
       "      <th>0</th>\n",
       "      <td>1</td>\n",
       "      <td>337</td>\n",
       "      <td>118</td>\n",
       "      <td>4</td>\n",
       "      <td>4.5</td>\n",
       "      <td>4.5</td>\n",
       "      <td>9.65</td>\n",
       "      <td>1</td>\n",
       "      <td>0.92</td>\n",
       "    </tr>\n",
       "    <tr>\n",
       "      <th>1</th>\n",
       "      <td>2</td>\n",
       "      <td>324</td>\n",
       "      <td>107</td>\n",
       "      <td>4</td>\n",
       "      <td>4.0</td>\n",
       "      <td>4.5</td>\n",
       "      <td>8.87</td>\n",
       "      <td>1</td>\n",
       "      <td>0.76</td>\n",
       "    </tr>\n",
       "    <tr>\n",
       "      <th>2</th>\n",
       "      <td>3</td>\n",
       "      <td>316</td>\n",
       "      <td>104</td>\n",
       "      <td>3</td>\n",
       "      <td>3.0</td>\n",
       "      <td>3.5</td>\n",
       "      <td>8.00</td>\n",
       "      <td>1</td>\n",
       "      <td>0.72</td>\n",
       "    </tr>\n",
       "    <tr>\n",
       "      <th>3</th>\n",
       "      <td>4</td>\n",
       "      <td>322</td>\n",
       "      <td>110</td>\n",
       "      <td>3</td>\n",
       "      <td>3.5</td>\n",
       "      <td>2.5</td>\n",
       "      <td>8.67</td>\n",
       "      <td>1</td>\n",
       "      <td>0.80</td>\n",
       "    </tr>\n",
       "    <tr>\n",
       "      <th>4</th>\n",
       "      <td>5</td>\n",
       "      <td>314</td>\n",
       "      <td>103</td>\n",
       "      <td>2</td>\n",
       "      <td>2.0</td>\n",
       "      <td>3.0</td>\n",
       "      <td>8.21</td>\n",
       "      <td>0</td>\n",
       "      <td>0.65</td>\n",
       "    </tr>\n",
       "    <tr>\n",
       "      <th>...</th>\n",
       "      <td>...</td>\n",
       "      <td>...</td>\n",
       "      <td>...</td>\n",
       "      <td>...</td>\n",
       "      <td>...</td>\n",
       "      <td>...</td>\n",
       "      <td>...</td>\n",
       "      <td>...</td>\n",
       "      <td>...</td>\n",
       "    </tr>\n",
       "    <tr>\n",
       "      <th>395</th>\n",
       "      <td>396</td>\n",
       "      <td>324</td>\n",
       "      <td>110</td>\n",
       "      <td>3</td>\n",
       "      <td>3.5</td>\n",
       "      <td>3.5</td>\n",
       "      <td>9.04</td>\n",
       "      <td>1</td>\n",
       "      <td>0.82</td>\n",
       "    </tr>\n",
       "    <tr>\n",
       "      <th>396</th>\n",
       "      <td>397</td>\n",
       "      <td>325</td>\n",
       "      <td>107</td>\n",
       "      <td>3</td>\n",
       "      <td>3.0</td>\n",
       "      <td>3.5</td>\n",
       "      <td>9.11</td>\n",
       "      <td>1</td>\n",
       "      <td>0.84</td>\n",
       "    </tr>\n",
       "    <tr>\n",
       "      <th>397</th>\n",
       "      <td>398</td>\n",
       "      <td>330</td>\n",
       "      <td>116</td>\n",
       "      <td>4</td>\n",
       "      <td>5.0</td>\n",
       "      <td>4.5</td>\n",
       "      <td>9.45</td>\n",
       "      <td>1</td>\n",
       "      <td>0.91</td>\n",
       "    </tr>\n",
       "    <tr>\n",
       "      <th>398</th>\n",
       "      <td>399</td>\n",
       "      <td>312</td>\n",
       "      <td>103</td>\n",
       "      <td>3</td>\n",
       "      <td>3.5</td>\n",
       "      <td>4.0</td>\n",
       "      <td>8.78</td>\n",
       "      <td>0</td>\n",
       "      <td>0.67</td>\n",
       "    </tr>\n",
       "    <tr>\n",
       "      <th>399</th>\n",
       "      <td>400</td>\n",
       "      <td>333</td>\n",
       "      <td>117</td>\n",
       "      <td>4</td>\n",
       "      <td>5.0</td>\n",
       "      <td>4.0</td>\n",
       "      <td>9.66</td>\n",
       "      <td>1</td>\n",
       "      <td>0.95</td>\n",
       "    </tr>\n",
       "  </tbody>\n",
       "</table>\n",
       "<p>400 rows × 9 columns</p>\n",
       "</div>"
      ],
      "text/plain": [
       "     Serial_No  GRE  TOEFL  University_Rating  SOP  LOR  CGPA  Research  \\\n",
       "0            1  337    118                  4  4.5  4.5  9.65         1   \n",
       "1            2  324    107                  4  4.0  4.5  8.87         1   \n",
       "2            3  316    104                  3  3.0  3.5  8.00         1   \n",
       "3            4  322    110                  3  3.5  2.5  8.67         1   \n",
       "4            5  314    103                  2  2.0  3.0  8.21         0   \n",
       "..         ...  ...    ...                ...  ...  ...   ...       ...   \n",
       "395        396  324    110                  3  3.5  3.5  9.04         1   \n",
       "396        397  325    107                  3  3.0  3.5  9.11         1   \n",
       "397        398  330    116                  4  5.0  4.5  9.45         1   \n",
       "398        399  312    103                  3  3.5  4.0  8.78         0   \n",
       "399        400  333    117                  4  5.0  4.0  9.66         1   \n",
       "\n",
       "     Chance_of_Admit  \n",
       "0               0.92  \n",
       "1               0.76  \n",
       "2               0.72  \n",
       "3               0.80  \n",
       "4               0.65  \n",
       "..               ...  \n",
       "395             0.82  \n",
       "396             0.84  \n",
       "397             0.91  \n",
       "398             0.67  \n",
       "399             0.95  \n",
       "\n",
       "[400 rows x 9 columns]"
      ]
     },
     "execution_count": 34,
     "metadata": {},
     "output_type": "execute_result"
    }
   ],
   "source": [
    "dataset7 = pd.read_csv('DataSet/DataSet_07.csv')\n",
    "\n",
    "dataset7"
   ]
  },
  {
   "cell_type": "code",
   "execution_count": 35,
   "id": "e4a566d6-25d0-46e5-a05b-aa69e184540a",
   "metadata": {},
   "outputs": [
    {
     "data": {
      "text/plain": [
       "Index(['Serial_No', 'GRE', 'TOEFL', 'University_Rating', 'SOP', 'LOR', 'CGPA',\n",
       "       'Research', 'Chance_of_Admit'],\n",
       "      dtype='object')"
      ]
     },
     "execution_count": 35,
     "metadata": {},
     "output_type": "execute_result"
    }
   ],
   "source": [
    "dataset7.columns"
   ]
  },
  {
   "cell_type": "code",
   "execution_count": 36,
   "id": "c159e4bc-c5d9-4f65-b378-73c9c50b724c",
   "metadata": {},
   "outputs": [
    {
     "data": {
      "text/plain": [
       "Serial_No              int64\n",
       "GRE                    int64\n",
       "TOEFL                  int64\n",
       "University_Rating      int64\n",
       "SOP                  float64\n",
       "LOR                  float64\n",
       "CGPA                 float64\n",
       "Research               int64\n",
       "Chance_of_Admit      float64\n",
       "dtype: object"
      ]
     },
     "execution_count": 36,
     "metadata": {},
     "output_type": "execute_result"
    }
   ],
   "source": [
    "dataset7.dtypes"
   ]
  },
  {
   "cell_type": "code",
   "execution_count": 37,
   "id": "034b5777-d4a5-4e85-b100-d55dc383cbc2",
   "metadata": {},
   "outputs": [
    {
     "name": "stdout",
     "output_type": "stream",
     "text": [
      "<class 'pandas.core.frame.DataFrame'>\n",
      "RangeIndex: 400 entries, 0 to 399\n",
      "Data columns (total 9 columns):\n",
      " #   Column             Non-Null Count  Dtype  \n",
      "---  ------             --------------  -----  \n",
      " 0   Serial_No          400 non-null    int64  \n",
      " 1   GRE                400 non-null    int64  \n",
      " 2   TOEFL              400 non-null    int64  \n",
      " 3   University_Rating  400 non-null    int64  \n",
      " 4   SOP                400 non-null    float64\n",
      " 5   LOR                400 non-null    float64\n",
      " 6   CGPA               400 non-null    float64\n",
      " 7   Research           400 non-null    int64  \n",
      " 8   Chance_of_Admit    400 non-null    float64\n",
      "dtypes: float64(4), int64(5)\n",
      "memory usage: 28.2 KB\n"
     ]
    }
   ],
   "source": [
    "dataset7.info()"
   ]
  },
  {
   "cell_type": "markdown",
   "id": "0c209846-00eb-4156-a3d2-dafccf824e0e",
   "metadata": {},
   "source": [
    "### 1. 합격 가능성에 GRE, TOEFL, CGPA 점수 가운데 가장 영향이 큰 것이 어떤 점수인지 알아보기 위해서 상관 분석을 수행한다.<br>- 피어슨(Pearson) 상관계수 값을 구한다.<br>- Chance_of_Admit와의 가장 큰 상관계수 값을 가지는 항목의 상관계수를 소수점 넷째 자리에서 반올림하여 셋째 자리까지 기술하시오.<br>(답안 예시) 0.123"
   ]
  },
  {
   "cell_type": "code",
   "execution_count": 38,
   "id": "1a90b4e0-ce11-4367-b75a-d681aa4992b4",
   "metadata": {},
   "outputs": [
    {
     "data": {
      "text/plain": [
       "0.873"
      ]
     },
     "execution_count": 38,
     "metadata": {},
     "output_type": "execute_result"
    }
   ],
   "source": [
    "Q1 = dataset7[['GRE', 'TOEFL', 'CGPA', 'Chance_of_Admit']]\n",
    "\n",
    "Q1.corr()['Chance_of_Admit'][:-1].max().round(3)"
   ]
  },
  {
   "cell_type": "markdown",
   "id": "a1d8b5a7-14eb-422b-ab31-d3a9f47414c3",
   "metadata": {},
   "source": [
    "#### 정답 : ***0.873***"
   ]
  },
  {
   "cell_type": "code",
   "execution_count": 39,
   "id": "102bb181-61dc-440d-afaa-3a24b06f0133",
   "metadata": {},
   "outputs": [
    {
     "data": {
      "text/plain": [
       "0.873"
      ]
     },
     "execution_count": 39,
     "metadata": {},
     "output_type": "execute_result"
    }
   ],
   "source": [
    "# 수업 풀이\n",
    "q1 = dataset7[['GRE', 'TOEFL', 'CGPA', 'Chance_of_Admit']].corr()\n",
    "\n",
    "q1.iloc[:-1, -1].max().round(3)"
   ]
  },
  {
   "cell_type": "markdown",
   "id": "0e9c9f56-3cb2-48e2-bd19-32b8564b8f3a",
   "metadata": {},
   "source": [
    "### 2. GRE 점수의 평균 이상을 받은 그룹과 평균 미만을 받은 그룹의 CGPA 평균은 차이가 있는지 검정을 하고자 한다.<br>- 적절한 검정 방법을 선택하고 양측 검정을 수행하시오 (등분산으로 가정)<br>- 검정 결과, 검정통계량의 추정치를 소수점 셋째 자리에서 반올림하여 소수점 두 자리까지 기술하시오.<br>(답안 예시) 1.23"
   ]
  },
  {
   "cell_type": "code",
   "execution_count": 40,
   "id": "26d4815b-9efd-49ec-9be2-9fe1b98db0f5",
   "metadata": {},
   "outputs": [],
   "source": [
    "Q2 = dataset7[['GRE', 'CGPA']]"
   ]
  },
  {
   "cell_type": "code",
   "execution_count": 41,
   "id": "bbdbaf18-5298-4e04-b196-a1c37c36dc5c",
   "metadata": {},
   "outputs": [],
   "source": [
    "from scipy.stats import ttest_ind"
   ]
  },
  {
   "cell_type": "code",
   "execution_count": 42,
   "id": "a6378a3a-5a35-4f34-8703-2be560e2a786",
   "metadata": {},
   "outputs": [
    {
     "data": {
      "text/plain": [
       "19.44"
      ]
     },
     "execution_count": 42,
     "metadata": {},
     "output_type": "execute_result"
    }
   ],
   "source": [
    "Q2_out = ttest_ind(Q2[Q2.GRE>=Q2.GRE.mean()].CGPA,\n",
    "                   Q2[Q2.GRE<Q2.GRE.mean()].CGPA,\n",
    "                   equal_var=True)   # 등분산\n",
    "\n",
    "Q2_out[0].round(2)"
   ]
  },
  {
   "cell_type": "markdown",
   "id": "51698bc0-6f16-49f7-9e62-46e736c4c86d",
   "metadata": {},
   "source": [
    "#### 정답 : ***19.44***"
   ]
  },
  {
   "cell_type": "code",
   "execution_count": 43,
   "id": "d438cbab-3190-4d44-be34-164c33de537a",
   "metadata": {},
   "outputs": [],
   "source": [
    "# 수업 풀이\n",
    "q2 = dataset7.copy()"
   ]
  },
  {
   "cell_type": "code",
   "execution_count": 44,
   "id": "a8aa38a1-04f9-4949-86ab-1fe66b5498ae",
   "metadata": {},
   "outputs": [
    {
     "data": {
      "text/plain": [
       "316.8075"
      ]
     },
     "execution_count": 44,
     "metadata": {},
     "output_type": "execute_result"
    }
   ],
   "source": [
    "GRE_avg = q2.GRE.mean()\n",
    "\n",
    "GRE_avg"
   ]
  },
  {
   "cell_type": "code",
   "execution_count": 45,
   "id": "f63a957c-d727-4da3-b515-45fe387c5662",
   "metadata": {},
   "outputs": [],
   "source": [
    "q2['GRE_gr'] = 'under'\n",
    "q2.loc[q2['GRE']>=GRE_avg, 'GRE_gr'] = 'over'"
   ]
  },
  {
   "cell_type": "code",
   "execution_count": 46,
   "id": "7d6911c3-4f5f-4c3a-8090-fb504302c468",
   "metadata": {},
   "outputs": [],
   "source": [
    "from scipy.stats import ttest_ind"
   ]
  },
  {
   "cell_type": "code",
   "execution_count": 47,
   "id": "85f66347-7095-4361-8388-49567c813be1",
   "metadata": {},
   "outputs": [
    {
     "data": {
      "text/plain": [
       "Ttest_indResult(statistic=19.443291692470982, pvalue=1.1127037052806161e-59)"
      ]
     },
     "execution_count": 47,
     "metadata": {},
     "output_type": "execute_result"
    }
   ],
   "source": [
    "a = q2[q2['GRE_gr']=='over']['CGPA']\n",
    "b = q2[q2['GRE_gr']=='under']['CGPA']\n",
    "\n",
    "ttest_ind(a, b, equal_var=True)   # equal_var의 default는 True"
   ]
  },
  {
   "cell_type": "markdown",
   "id": "b24f3b4e-b38b-4a73-8979-44f819c22f44",
   "metadata": {},
   "source": [
    "### 3. Chance_of_Admit 확률이 0.5를 초과하면 합격으로, 이하이면 불합격으로 구분하고 로지스틱 회귀분석을 수행하시오.<br>- 원데이터만 사용하고, 원데이터 가운데 Serial_No와 Label은 모형에서 제외<br>- 각 설정값은 다음과 같이 지정하고, 언급되지 않은 사항은 기본 설정값을 사용하시오. (Seed : 123)<br>- 로지스틱 회귀분석 수행 결과에서 로지스틱 회귀계수의 절대값이 가장 큰 변수와 그 값을 기술하시오. (로지스틱 회귀계수는 반올림하여 소수점 둘째 자리까지 / Intercept는 제외)<br>(답안 예시) abc, 0.12"
   ]
  },
  {
   "cell_type": "code",
   "execution_count": 48,
   "id": "2b859dec-20ff-48ac-afb4-7abab0875fc2",
   "metadata": {},
   "outputs": [],
   "source": [
    "# 수업 풀이\n",
    "q3 = dataset7.drop(columns=['Serial_No'], axis=1)"
   ]
  },
  {
   "cell_type": "code",
   "execution_count": 49,
   "id": "a1b97e66-72f3-4326-9a55-88909e3026e7",
   "metadata": {},
   "outputs": [
    {
     "data": {
      "text/html": [
       "<div>\n",
       "<style scoped>\n",
       "    .dataframe tbody tr th:only-of-type {\n",
       "        vertical-align: middle;\n",
       "    }\n",
       "\n",
       "    .dataframe tbody tr th {\n",
       "        vertical-align: top;\n",
       "    }\n",
       "\n",
       "    .dataframe thead th {\n",
       "        text-align: right;\n",
       "    }\n",
       "</style>\n",
       "<table border=\"1\" class=\"dataframe\">\n",
       "  <thead>\n",
       "    <tr style=\"text-align: right;\">\n",
       "      <th></th>\n",
       "      <th>GRE</th>\n",
       "      <th>TOEFL</th>\n",
       "      <th>University_Rating</th>\n",
       "      <th>SOP</th>\n",
       "      <th>LOR</th>\n",
       "      <th>CGPA</th>\n",
       "      <th>Research</th>\n",
       "      <th>Chance_of_Admit</th>\n",
       "      <th>ch_ad</th>\n",
       "    </tr>\n",
       "  </thead>\n",
       "  <tbody>\n",
       "    <tr>\n",
       "      <th>0</th>\n",
       "      <td>337</td>\n",
       "      <td>118</td>\n",
       "      <td>4</td>\n",
       "      <td>4.5</td>\n",
       "      <td>4.5</td>\n",
       "      <td>9.65</td>\n",
       "      <td>1</td>\n",
       "      <td>0.92</td>\n",
       "      <td>1</td>\n",
       "    </tr>\n",
       "    <tr>\n",
       "      <th>1</th>\n",
       "      <td>324</td>\n",
       "      <td>107</td>\n",
       "      <td>4</td>\n",
       "      <td>4.0</td>\n",
       "      <td>4.5</td>\n",
       "      <td>8.87</td>\n",
       "      <td>1</td>\n",
       "      <td>0.76</td>\n",
       "      <td>1</td>\n",
       "    </tr>\n",
       "    <tr>\n",
       "      <th>2</th>\n",
       "      <td>316</td>\n",
       "      <td>104</td>\n",
       "      <td>3</td>\n",
       "      <td>3.0</td>\n",
       "      <td>3.5</td>\n",
       "      <td>8.00</td>\n",
       "      <td>1</td>\n",
       "      <td>0.72</td>\n",
       "      <td>1</td>\n",
       "    </tr>\n",
       "    <tr>\n",
       "      <th>3</th>\n",
       "      <td>322</td>\n",
       "      <td>110</td>\n",
       "      <td>3</td>\n",
       "      <td>3.5</td>\n",
       "      <td>2.5</td>\n",
       "      <td>8.67</td>\n",
       "      <td>1</td>\n",
       "      <td>0.80</td>\n",
       "      <td>1</td>\n",
       "    </tr>\n",
       "    <tr>\n",
       "      <th>4</th>\n",
       "      <td>314</td>\n",
       "      <td>103</td>\n",
       "      <td>2</td>\n",
       "      <td>2.0</td>\n",
       "      <td>3.0</td>\n",
       "      <td>8.21</td>\n",
       "      <td>0</td>\n",
       "      <td>0.65</td>\n",
       "      <td>1</td>\n",
       "    </tr>\n",
       "    <tr>\n",
       "      <th>...</th>\n",
       "      <td>...</td>\n",
       "      <td>...</td>\n",
       "      <td>...</td>\n",
       "      <td>...</td>\n",
       "      <td>...</td>\n",
       "      <td>...</td>\n",
       "      <td>...</td>\n",
       "      <td>...</td>\n",
       "      <td>...</td>\n",
       "    </tr>\n",
       "    <tr>\n",
       "      <th>395</th>\n",
       "      <td>324</td>\n",
       "      <td>110</td>\n",
       "      <td>3</td>\n",
       "      <td>3.5</td>\n",
       "      <td>3.5</td>\n",
       "      <td>9.04</td>\n",
       "      <td>1</td>\n",
       "      <td>0.82</td>\n",
       "      <td>1</td>\n",
       "    </tr>\n",
       "    <tr>\n",
       "      <th>396</th>\n",
       "      <td>325</td>\n",
       "      <td>107</td>\n",
       "      <td>3</td>\n",
       "      <td>3.0</td>\n",
       "      <td>3.5</td>\n",
       "      <td>9.11</td>\n",
       "      <td>1</td>\n",
       "      <td>0.84</td>\n",
       "      <td>1</td>\n",
       "    </tr>\n",
       "    <tr>\n",
       "      <th>397</th>\n",
       "      <td>330</td>\n",
       "      <td>116</td>\n",
       "      <td>4</td>\n",
       "      <td>5.0</td>\n",
       "      <td>4.5</td>\n",
       "      <td>9.45</td>\n",
       "      <td>1</td>\n",
       "      <td>0.91</td>\n",
       "      <td>1</td>\n",
       "    </tr>\n",
       "    <tr>\n",
       "      <th>398</th>\n",
       "      <td>312</td>\n",
       "      <td>103</td>\n",
       "      <td>3</td>\n",
       "      <td>3.5</td>\n",
       "      <td>4.0</td>\n",
       "      <td>8.78</td>\n",
       "      <td>0</td>\n",
       "      <td>0.67</td>\n",
       "      <td>1</td>\n",
       "    </tr>\n",
       "    <tr>\n",
       "      <th>399</th>\n",
       "      <td>333</td>\n",
       "      <td>117</td>\n",
       "      <td>4</td>\n",
       "      <td>5.0</td>\n",
       "      <td>4.0</td>\n",
       "      <td>9.66</td>\n",
       "      <td>1</td>\n",
       "      <td>0.95</td>\n",
       "      <td>1</td>\n",
       "    </tr>\n",
       "  </tbody>\n",
       "</table>\n",
       "<p>400 rows × 9 columns</p>\n",
       "</div>"
      ],
      "text/plain": [
       "     GRE  TOEFL  University_Rating  SOP  LOR  CGPA  Research  Chance_of_Admit  \\\n",
       "0    337    118                  4  4.5  4.5  9.65         1             0.92   \n",
       "1    324    107                  4  4.0  4.5  8.87         1             0.76   \n",
       "2    316    104                  3  3.0  3.5  8.00         1             0.72   \n",
       "3    322    110                  3  3.5  2.5  8.67         1             0.80   \n",
       "4    314    103                  2  2.0  3.0  8.21         0             0.65   \n",
       "..   ...    ...                ...  ...  ...   ...       ...              ...   \n",
       "395  324    110                  3  3.5  3.5  9.04         1             0.82   \n",
       "396  325    107                  3  3.0  3.5  9.11         1             0.84   \n",
       "397  330    116                  4  5.0  4.5  9.45         1             0.91   \n",
       "398  312    103                  3  3.5  4.0  8.78         0             0.67   \n",
       "399  333    117                  4  5.0  4.0  9.66         1             0.95   \n",
       "\n",
       "     ch_ad  \n",
       "0        1  \n",
       "1        1  \n",
       "2        1  \n",
       "3        1  \n",
       "4        1  \n",
       "..     ...  \n",
       "395      1  \n",
       "396      1  \n",
       "397      1  \n",
       "398      1  \n",
       "399      1  \n",
       "\n",
       "[400 rows x 9 columns]"
      ]
     },
     "execution_count": 49,
     "metadata": {},
     "output_type": "execute_result"
    }
   ],
   "source": [
    "import numpy as np\n",
    "\n",
    "q3['ch_ad'] = np.where(q3.Chance_of_Admit>0.5, 1, 0)\n",
    "\n",
    "q3"
   ]
  },
  {
   "cell_type": "code",
   "execution_count": 50,
   "id": "c58d0d56-e2f9-42e0-9cf1-7a7663828936",
   "metadata": {},
   "outputs": [],
   "source": [
    "from sklearn.linear_model import LogisticRegression"
   ]
  },
  {
   "cell_type": "code",
   "execution_count": 51,
   "id": "6ad5c9ed-8509-4f30-ab1f-9f7549813b88",
   "metadata": {},
   "outputs": [],
   "source": [
    "X = q3.drop(columns=['Chance_of_Admit', 'ch_ad'])\n",
    "y = q3.ch_ad\n",
    "\n",
    "log_reg = LogisticRegression(fit_intercept=True,\n",
    "                             random_state=12,\n",
    "                             solver='liblinear').fit(X, y)"
   ]
  },
  {
   "cell_type": "code",
   "execution_count": 52,
   "id": "6354c6fa-b7da-4bd4-8df8-9e39d0f71183",
   "metadata": {},
   "outputs": [
    {
     "data": {
      "text/plain": [
       "array([[0.08778604, 0.10686963, 0.05594224, 0.23228922, 0.98336396,\n",
       "        1.97858509, 0.66263161]])"
      ]
     },
     "execution_count": 52,
     "metadata": {},
     "output_type": "execute_result"
    }
   ],
   "source": [
    "abs(log_reg.coef_)"
   ]
  },
  {
   "cell_type": "code",
   "execution_count": 53,
   "id": "18074fd8-03cf-4e42-9680-8e8caa181d15",
   "metadata": {},
   "outputs": [
    {
     "data": {
      "text/html": [
       "<div>\n",
       "<style scoped>\n",
       "    .dataframe tbody tr th:only-of-type {\n",
       "        vertical-align: middle;\n",
       "    }\n",
       "\n",
       "    .dataframe tbody tr th {\n",
       "        vertical-align: top;\n",
       "    }\n",
       "\n",
       "    .dataframe thead th {\n",
       "        text-align: right;\n",
       "    }\n",
       "</style>\n",
       "<table border=\"1\" class=\"dataframe\">\n",
       "  <thead>\n",
       "    <tr style=\"text-align: right;\">\n",
       "      <th></th>\n",
       "      <th>var</th>\n",
       "      <th>coef</th>\n",
       "    </tr>\n",
       "  </thead>\n",
       "  <tbody>\n",
       "    <tr>\n",
       "      <th>0</th>\n",
       "      <td>GRE</td>\n",
       "      <td>0.087786</td>\n",
       "    </tr>\n",
       "    <tr>\n",
       "      <th>1</th>\n",
       "      <td>TOEFL</td>\n",
       "      <td>0.106870</td>\n",
       "    </tr>\n",
       "    <tr>\n",
       "      <th>2</th>\n",
       "      <td>University_Rating</td>\n",
       "      <td>0.055942</td>\n",
       "    </tr>\n",
       "    <tr>\n",
       "      <th>3</th>\n",
       "      <td>SOP</td>\n",
       "      <td>0.232289</td>\n",
       "    </tr>\n",
       "    <tr>\n",
       "      <th>4</th>\n",
       "      <td>LOR</td>\n",
       "      <td>0.983364</td>\n",
       "    </tr>\n",
       "    <tr>\n",
       "      <th>5</th>\n",
       "      <td>CGPA</td>\n",
       "      <td>1.978585</td>\n",
       "    </tr>\n",
       "    <tr>\n",
       "      <th>6</th>\n",
       "      <td>Research</td>\n",
       "      <td>0.662632</td>\n",
       "    </tr>\n",
       "  </tbody>\n",
       "</table>\n",
       "</div>"
      ],
      "text/plain": [
       "                 var      coef\n",
       "0                GRE  0.087786\n",
       "1              TOEFL  0.106870\n",
       "2  University_Rating  0.055942\n",
       "3                SOP  0.232289\n",
       "4                LOR  0.983364\n",
       "5               CGPA  1.978585\n",
       "6           Research  0.662632"
      ]
     },
     "execution_count": 53,
     "metadata": {},
     "output_type": "execute_result"
    }
   ],
   "source": [
    "q3_out = pd.DataFrame({'var': X.columns.values,\n",
    "                       'coef': abs(log_reg.coef_).reshape(-1)})\n",
    "\n",
    "q3_out"
   ]
  },
  {
   "cell_type": "markdown",
   "id": "205fdc05-3fbc-4ba0-ac4f-51cd0d6f71c8",
   "metadata": {},
   "source": [
    "#### 정답 : ***CGPA, 1.98***"
   ]
  },
  {
   "cell_type": "markdown",
   "id": "d13f9dc9-a0bc-418f-bed9-3f3c65c037f4",
   "metadata": {},
   "source": [
    "## 문제 08 유형(DataSet_08.csv 이용)"
   ]
  },
  {
   "cell_type": "markdown",
   "id": "92e19a4d-39d0-4606-8d84-19b4e5dbcc3a",
   "metadata": {},
   "source": [
    "## 스타트업 기업들의 수익성에 대한 분석을 하기 위하여 아래와 같은 데이터를 입수하였다."
   ]
  },
  {
   "cell_type": "code",
   "execution_count": 54,
   "id": "83ded7b5-5244-4bf6-be19-3de7599dae6f",
   "metadata": {},
   "outputs": [],
   "source": [
    "import pandas as pd"
   ]
  },
  {
   "cell_type": "code",
   "execution_count": 55,
   "id": "4f426152-b178-48f8-8cc1-e1bc29605f8f",
   "metadata": {},
   "outputs": [
    {
     "data": {
      "text/html": [
       "<div>\n",
       "<style scoped>\n",
       "    .dataframe tbody tr th:only-of-type {\n",
       "        vertical-align: middle;\n",
       "    }\n",
       "\n",
       "    .dataframe tbody tr th {\n",
       "        vertical-align: top;\n",
       "    }\n",
       "\n",
       "    .dataframe thead th {\n",
       "        text-align: right;\n",
       "    }\n",
       "</style>\n",
       "<table border=\"1\" class=\"dataframe\">\n",
       "  <thead>\n",
       "    <tr style=\"text-align: right;\">\n",
       "      <th></th>\n",
       "      <th>RandD_Spend</th>\n",
       "      <th>Administration</th>\n",
       "      <th>Marketing_Spend</th>\n",
       "      <th>State</th>\n",
       "      <th>Profit</th>\n",
       "    </tr>\n",
       "  </thead>\n",
       "  <tbody>\n",
       "    <tr>\n",
       "      <th>0</th>\n",
       "      <td>165349.20</td>\n",
       "      <td>136897.80</td>\n",
       "      <td>471784.10</td>\n",
       "      <td>New York</td>\n",
       "      <td>192261.83</td>\n",
       "    </tr>\n",
       "    <tr>\n",
       "      <th>1</th>\n",
       "      <td>162597.70</td>\n",
       "      <td>151377.59</td>\n",
       "      <td>443898.53</td>\n",
       "      <td>California</td>\n",
       "      <td>191792.06</td>\n",
       "    </tr>\n",
       "    <tr>\n",
       "      <th>2</th>\n",
       "      <td>153441.51</td>\n",
       "      <td>101145.55</td>\n",
       "      <td>407934.54</td>\n",
       "      <td>Florida</td>\n",
       "      <td>191050.39</td>\n",
       "    </tr>\n",
       "    <tr>\n",
       "      <th>3</th>\n",
       "      <td>144372.41</td>\n",
       "      <td>118671.85</td>\n",
       "      <td>383199.62</td>\n",
       "      <td>New York</td>\n",
       "      <td>182901.99</td>\n",
       "    </tr>\n",
       "    <tr>\n",
       "      <th>4</th>\n",
       "      <td>142107.34</td>\n",
       "      <td>91391.77</td>\n",
       "      <td>366168.42</td>\n",
       "      <td>Florida</td>\n",
       "      <td>166187.94</td>\n",
       "    </tr>\n",
       "    <tr>\n",
       "      <th>5</th>\n",
       "      <td>131876.90</td>\n",
       "      <td>99814.71</td>\n",
       "      <td>362861.36</td>\n",
       "      <td>New York</td>\n",
       "      <td>156991.12</td>\n",
       "    </tr>\n",
       "    <tr>\n",
       "      <th>6</th>\n",
       "      <td>134615.46</td>\n",
       "      <td>147198.87</td>\n",
       "      <td>127716.82</td>\n",
       "      <td>California</td>\n",
       "      <td>156122.51</td>\n",
       "    </tr>\n",
       "    <tr>\n",
       "      <th>7</th>\n",
       "      <td>130298.13</td>\n",
       "      <td>145530.06</td>\n",
       "      <td>323876.68</td>\n",
       "      <td>Florida</td>\n",
       "      <td>155752.60</td>\n",
       "    </tr>\n",
       "    <tr>\n",
       "      <th>8</th>\n",
       "      <td>120542.52</td>\n",
       "      <td>148718.95</td>\n",
       "      <td>311613.29</td>\n",
       "      <td>New York</td>\n",
       "      <td>152211.77</td>\n",
       "    </tr>\n",
       "    <tr>\n",
       "      <th>9</th>\n",
       "      <td>123334.88</td>\n",
       "      <td>108679.17</td>\n",
       "      <td>304981.62</td>\n",
       "      <td>California</td>\n",
       "      <td>149759.96</td>\n",
       "    </tr>\n",
       "    <tr>\n",
       "      <th>10</th>\n",
       "      <td>101913.08</td>\n",
       "      <td>110594.11</td>\n",
       "      <td>229160.95</td>\n",
       "      <td>Florida</td>\n",
       "      <td>146121.95</td>\n",
       "    </tr>\n",
       "    <tr>\n",
       "      <th>11</th>\n",
       "      <td>100671.96</td>\n",
       "      <td>91790.61</td>\n",
       "      <td>249744.55</td>\n",
       "      <td>California</td>\n",
       "      <td>144259.40</td>\n",
       "    </tr>\n",
       "    <tr>\n",
       "      <th>12</th>\n",
       "      <td>93863.75</td>\n",
       "      <td>127320.38</td>\n",
       "      <td>249839.44</td>\n",
       "      <td>Florida</td>\n",
       "      <td>141585.52</td>\n",
       "    </tr>\n",
       "    <tr>\n",
       "      <th>13</th>\n",
       "      <td>91992.39</td>\n",
       "      <td>135495.07</td>\n",
       "      <td>252664.93</td>\n",
       "      <td>California</td>\n",
       "      <td>134307.35</td>\n",
       "    </tr>\n",
       "    <tr>\n",
       "      <th>14</th>\n",
       "      <td>119943.24</td>\n",
       "      <td>156547.42</td>\n",
       "      <td>256512.92</td>\n",
       "      <td>Florida</td>\n",
       "      <td>132602.65</td>\n",
       "    </tr>\n",
       "    <tr>\n",
       "      <th>15</th>\n",
       "      <td>114523.61</td>\n",
       "      <td>122616.84</td>\n",
       "      <td>261776.23</td>\n",
       "      <td>New York</td>\n",
       "      <td>129917.04</td>\n",
       "    </tr>\n",
       "    <tr>\n",
       "      <th>16</th>\n",
       "      <td>78013.11</td>\n",
       "      <td>121597.55</td>\n",
       "      <td>264346.06</td>\n",
       "      <td>California</td>\n",
       "      <td>126992.93</td>\n",
       "    </tr>\n",
       "    <tr>\n",
       "      <th>17</th>\n",
       "      <td>94657.16</td>\n",
       "      <td>145077.58</td>\n",
       "      <td>282574.31</td>\n",
       "      <td>New York</td>\n",
       "      <td>125370.37</td>\n",
       "    </tr>\n",
       "    <tr>\n",
       "      <th>18</th>\n",
       "      <td>91749.16</td>\n",
       "      <td>114175.79</td>\n",
       "      <td>294919.57</td>\n",
       "      <td>Florida</td>\n",
       "      <td>124266.90</td>\n",
       "    </tr>\n",
       "    <tr>\n",
       "      <th>19</th>\n",
       "      <td>86419.70</td>\n",
       "      <td>153514.11</td>\n",
       "      <td>0.00</td>\n",
       "      <td>New York</td>\n",
       "      <td>122776.86</td>\n",
       "    </tr>\n",
       "    <tr>\n",
       "      <th>20</th>\n",
       "      <td>76253.86</td>\n",
       "      <td>113867.30</td>\n",
       "      <td>298664.47</td>\n",
       "      <td>California</td>\n",
       "      <td>118474.03</td>\n",
       "    </tr>\n",
       "    <tr>\n",
       "      <th>21</th>\n",
       "      <td>78389.47</td>\n",
       "      <td>153773.43</td>\n",
       "      <td>299737.29</td>\n",
       "      <td>New York</td>\n",
       "      <td>111313.02</td>\n",
       "    </tr>\n",
       "    <tr>\n",
       "      <th>22</th>\n",
       "      <td>73994.56</td>\n",
       "      <td>122782.75</td>\n",
       "      <td>303319.26</td>\n",
       "      <td>Florida</td>\n",
       "      <td>110352.25</td>\n",
       "    </tr>\n",
       "    <tr>\n",
       "      <th>23</th>\n",
       "      <td>67532.53</td>\n",
       "      <td>105751.03</td>\n",
       "      <td>304768.73</td>\n",
       "      <td>Florida</td>\n",
       "      <td>108733.99</td>\n",
       "    </tr>\n",
       "    <tr>\n",
       "      <th>24</th>\n",
       "      <td>77044.01</td>\n",
       "      <td>99281.34</td>\n",
       "      <td>140574.81</td>\n",
       "      <td>New York</td>\n",
       "      <td>108552.04</td>\n",
       "    </tr>\n",
       "    <tr>\n",
       "      <th>25</th>\n",
       "      <td>64664.71</td>\n",
       "      <td>139553.16</td>\n",
       "      <td>137962.62</td>\n",
       "      <td>California</td>\n",
       "      <td>107404.34</td>\n",
       "    </tr>\n",
       "    <tr>\n",
       "      <th>26</th>\n",
       "      <td>75328.87</td>\n",
       "      <td>144135.98</td>\n",
       "      <td>134050.07</td>\n",
       "      <td>Florida</td>\n",
       "      <td>105733.54</td>\n",
       "    </tr>\n",
       "    <tr>\n",
       "      <th>27</th>\n",
       "      <td>72107.60</td>\n",
       "      <td>127864.55</td>\n",
       "      <td>353183.81</td>\n",
       "      <td>New York</td>\n",
       "      <td>105008.31</td>\n",
       "    </tr>\n",
       "    <tr>\n",
       "      <th>28</th>\n",
       "      <td>66051.52</td>\n",
       "      <td>182645.56</td>\n",
       "      <td>118148.20</td>\n",
       "      <td>Florida</td>\n",
       "      <td>103282.38</td>\n",
       "    </tr>\n",
       "    <tr>\n",
       "      <th>29</th>\n",
       "      <td>65605.48</td>\n",
       "      <td>153032.06</td>\n",
       "      <td>107138.38</td>\n",
       "      <td>New York</td>\n",
       "      <td>101004.64</td>\n",
       "    </tr>\n",
       "    <tr>\n",
       "      <th>30</th>\n",
       "      <td>61994.48</td>\n",
       "      <td>115641.28</td>\n",
       "      <td>91131.24</td>\n",
       "      <td>Florida</td>\n",
       "      <td>99937.59</td>\n",
       "    </tr>\n",
       "    <tr>\n",
       "      <th>31</th>\n",
       "      <td>61136.38</td>\n",
       "      <td>152701.92</td>\n",
       "      <td>88218.23</td>\n",
       "      <td>New York</td>\n",
       "      <td>97483.56</td>\n",
       "    </tr>\n",
       "    <tr>\n",
       "      <th>32</th>\n",
       "      <td>63408.86</td>\n",
       "      <td>129219.61</td>\n",
       "      <td>46085.25</td>\n",
       "      <td>California</td>\n",
       "      <td>97427.84</td>\n",
       "    </tr>\n",
       "    <tr>\n",
       "      <th>33</th>\n",
       "      <td>55493.95</td>\n",
       "      <td>103057.49</td>\n",
       "      <td>214634.81</td>\n",
       "      <td>Florida</td>\n",
       "      <td>96778.92</td>\n",
       "    </tr>\n",
       "    <tr>\n",
       "      <th>34</th>\n",
       "      <td>46426.07</td>\n",
       "      <td>157693.92</td>\n",
       "      <td>210797.67</td>\n",
       "      <td>California</td>\n",
       "      <td>96712.80</td>\n",
       "    </tr>\n",
       "    <tr>\n",
       "      <th>35</th>\n",
       "      <td>46014.02</td>\n",
       "      <td>85047.44</td>\n",
       "      <td>205517.64</td>\n",
       "      <td>New York</td>\n",
       "      <td>96479.51</td>\n",
       "    </tr>\n",
       "    <tr>\n",
       "      <th>36</th>\n",
       "      <td>28663.76</td>\n",
       "      <td>127056.21</td>\n",
       "      <td>201126.82</td>\n",
       "      <td>Florida</td>\n",
       "      <td>90708.19</td>\n",
       "    </tr>\n",
       "    <tr>\n",
       "      <th>37</th>\n",
       "      <td>44069.95</td>\n",
       "      <td>51283.14</td>\n",
       "      <td>197029.42</td>\n",
       "      <td>California</td>\n",
       "      <td>89949.14</td>\n",
       "    </tr>\n",
       "    <tr>\n",
       "      <th>38</th>\n",
       "      <td>20229.59</td>\n",
       "      <td>65947.93</td>\n",
       "      <td>185265.10</td>\n",
       "      <td>New York</td>\n",
       "      <td>81229.06</td>\n",
       "    </tr>\n",
       "    <tr>\n",
       "      <th>39</th>\n",
       "      <td>38558.51</td>\n",
       "      <td>82982.09</td>\n",
       "      <td>174999.30</td>\n",
       "      <td>California</td>\n",
       "      <td>81005.76</td>\n",
       "    </tr>\n",
       "    <tr>\n",
       "      <th>40</th>\n",
       "      <td>28754.33</td>\n",
       "      <td>118546.05</td>\n",
       "      <td>172795.67</td>\n",
       "      <td>California</td>\n",
       "      <td>78239.91</td>\n",
       "    </tr>\n",
       "    <tr>\n",
       "      <th>41</th>\n",
       "      <td>27892.92</td>\n",
       "      <td>84710.77</td>\n",
       "      <td>164470.71</td>\n",
       "      <td>Florida</td>\n",
       "      <td>77798.83</td>\n",
       "    </tr>\n",
       "    <tr>\n",
       "      <th>42</th>\n",
       "      <td>23640.93</td>\n",
       "      <td>96189.63</td>\n",
       "      <td>148001.11</td>\n",
       "      <td>California</td>\n",
       "      <td>71498.49</td>\n",
       "    </tr>\n",
       "    <tr>\n",
       "      <th>43</th>\n",
       "      <td>15505.73</td>\n",
       "      <td>127382.30</td>\n",
       "      <td>35534.17</td>\n",
       "      <td>New York</td>\n",
       "      <td>69758.98</td>\n",
       "    </tr>\n",
       "    <tr>\n",
       "      <th>44</th>\n",
       "      <td>22177.74</td>\n",
       "      <td>154806.14</td>\n",
       "      <td>28334.72</td>\n",
       "      <td>California</td>\n",
       "      <td>65200.33</td>\n",
       "    </tr>\n",
       "    <tr>\n",
       "      <th>45</th>\n",
       "      <td>1000.23</td>\n",
       "      <td>124153.04</td>\n",
       "      <td>1903.93</td>\n",
       "      <td>New York</td>\n",
       "      <td>64926.08</td>\n",
       "    </tr>\n",
       "    <tr>\n",
       "      <th>46</th>\n",
       "      <td>1315.46</td>\n",
       "      <td>115816.21</td>\n",
       "      <td>297114.46</td>\n",
       "      <td>Florida</td>\n",
       "      <td>49490.75</td>\n",
       "    </tr>\n",
       "    <tr>\n",
       "      <th>47</th>\n",
       "      <td>0.00</td>\n",
       "      <td>135426.92</td>\n",
       "      <td>0.00</td>\n",
       "      <td>California</td>\n",
       "      <td>42559.73</td>\n",
       "    </tr>\n",
       "    <tr>\n",
       "      <th>48</th>\n",
       "      <td>542.05</td>\n",
       "      <td>51743.15</td>\n",
       "      <td>0.00</td>\n",
       "      <td>New York</td>\n",
       "      <td>35673.41</td>\n",
       "    </tr>\n",
       "    <tr>\n",
       "      <th>49</th>\n",
       "      <td>0.00</td>\n",
       "      <td>116983.80</td>\n",
       "      <td>45173.06</td>\n",
       "      <td>California</td>\n",
       "      <td>14681.40</td>\n",
       "    </tr>\n",
       "  </tbody>\n",
       "</table>\n",
       "</div>"
      ],
      "text/plain": [
       "    RandD_Spend  Administration  Marketing_Spend       State     Profit\n",
       "0     165349.20       136897.80        471784.10    New York  192261.83\n",
       "1     162597.70       151377.59        443898.53  California  191792.06\n",
       "2     153441.51       101145.55        407934.54     Florida  191050.39\n",
       "3     144372.41       118671.85        383199.62    New York  182901.99\n",
       "4     142107.34        91391.77        366168.42     Florida  166187.94\n",
       "5     131876.90        99814.71        362861.36    New York  156991.12\n",
       "6     134615.46       147198.87        127716.82  California  156122.51\n",
       "7     130298.13       145530.06        323876.68     Florida  155752.60\n",
       "8     120542.52       148718.95        311613.29    New York  152211.77\n",
       "9     123334.88       108679.17        304981.62  California  149759.96\n",
       "10    101913.08       110594.11        229160.95     Florida  146121.95\n",
       "11    100671.96        91790.61        249744.55  California  144259.40\n",
       "12     93863.75       127320.38        249839.44     Florida  141585.52\n",
       "13     91992.39       135495.07        252664.93  California  134307.35\n",
       "14    119943.24       156547.42        256512.92     Florida  132602.65\n",
       "15    114523.61       122616.84        261776.23    New York  129917.04\n",
       "16     78013.11       121597.55        264346.06  California  126992.93\n",
       "17     94657.16       145077.58        282574.31    New York  125370.37\n",
       "18     91749.16       114175.79        294919.57     Florida  124266.90\n",
       "19     86419.70       153514.11             0.00    New York  122776.86\n",
       "20     76253.86       113867.30        298664.47  California  118474.03\n",
       "21     78389.47       153773.43        299737.29    New York  111313.02\n",
       "22     73994.56       122782.75        303319.26     Florida  110352.25\n",
       "23     67532.53       105751.03        304768.73     Florida  108733.99\n",
       "24     77044.01        99281.34        140574.81    New York  108552.04\n",
       "25     64664.71       139553.16        137962.62  California  107404.34\n",
       "26     75328.87       144135.98        134050.07     Florida  105733.54\n",
       "27     72107.60       127864.55        353183.81    New York  105008.31\n",
       "28     66051.52       182645.56        118148.20     Florida  103282.38\n",
       "29     65605.48       153032.06        107138.38    New York  101004.64\n",
       "30     61994.48       115641.28         91131.24     Florida   99937.59\n",
       "31     61136.38       152701.92         88218.23    New York   97483.56\n",
       "32     63408.86       129219.61         46085.25  California   97427.84\n",
       "33     55493.95       103057.49        214634.81     Florida   96778.92\n",
       "34     46426.07       157693.92        210797.67  California   96712.80\n",
       "35     46014.02        85047.44        205517.64    New York   96479.51\n",
       "36     28663.76       127056.21        201126.82     Florida   90708.19\n",
       "37     44069.95        51283.14        197029.42  California   89949.14\n",
       "38     20229.59        65947.93        185265.10    New York   81229.06\n",
       "39     38558.51        82982.09        174999.30  California   81005.76\n",
       "40     28754.33       118546.05        172795.67  California   78239.91\n",
       "41     27892.92        84710.77        164470.71     Florida   77798.83\n",
       "42     23640.93        96189.63        148001.11  California   71498.49\n",
       "43     15505.73       127382.30         35534.17    New York   69758.98\n",
       "44     22177.74       154806.14         28334.72  California   65200.33\n",
       "45      1000.23       124153.04          1903.93    New York   64926.08\n",
       "46      1315.46       115816.21        297114.46     Florida   49490.75\n",
       "47         0.00       135426.92             0.00  California   42559.73\n",
       "48       542.05        51743.15             0.00    New York   35673.41\n",
       "49         0.00       116983.80         45173.06  California   14681.40"
      ]
     },
     "execution_count": 55,
     "metadata": {},
     "output_type": "execute_result"
    }
   ],
   "source": [
    "dataset8 = pd.read_csv('DataSet/DataSet_08.csv')\n",
    "\n",
    "dataset8"
   ]
  },
  {
   "cell_type": "code",
   "execution_count": 56,
   "id": "0801eac5-7da7-4593-9aac-792b9bf0fba1",
   "metadata": {},
   "outputs": [
    {
     "data": {
      "text/plain": [
       "Index(['RandD_Spend', 'Administration', 'Marketing_Spend', 'State', 'Profit'], dtype='object')"
      ]
     },
     "execution_count": 56,
     "metadata": {},
     "output_type": "execute_result"
    }
   ],
   "source": [
    "dataset8.columns"
   ]
  },
  {
   "cell_type": "code",
   "execution_count": 57,
   "id": "2c91c407-68a1-4255-9b8c-a0eeaeea9e35",
   "metadata": {},
   "outputs": [
    {
     "data": {
      "text/plain": [
       "RandD_Spend        float64\n",
       "Administration     float64\n",
       "Marketing_Spend    float64\n",
       "State               object\n",
       "Profit             float64\n",
       "dtype: object"
      ]
     },
     "execution_count": 57,
     "metadata": {},
     "output_type": "execute_result"
    }
   ],
   "source": [
    "dataset8.dtypes"
   ]
  },
  {
   "cell_type": "code",
   "execution_count": 58,
   "id": "89a83652-10d1-4de4-9b54-b4f548e141f1",
   "metadata": {},
   "outputs": [
    {
     "name": "stdout",
     "output_type": "stream",
     "text": [
      "<class 'pandas.core.frame.DataFrame'>\n",
      "RangeIndex: 50 entries, 0 to 49\n",
      "Data columns (total 5 columns):\n",
      " #   Column           Non-Null Count  Dtype  \n",
      "---  ------           --------------  -----  \n",
      " 0   RandD_Spend      50 non-null     float64\n",
      " 1   Administration   50 non-null     float64\n",
      " 2   Marketing_Spend  50 non-null     float64\n",
      " 3   State            50 non-null     object \n",
      " 4   Profit           50 non-null     float64\n",
      "dtypes: float64(4), object(1)\n",
      "memory usage: 2.1+ KB\n"
     ]
    }
   ],
   "source": [
    "dataset8.info()"
   ]
  },
  {
   "cell_type": "markdown",
   "id": "35d019a0-5e0e-4a15-8894-69b7fa53cd46",
   "metadata": {},
   "source": [
    "### 1. 각 주(State)별 데이터 구성비를 소수점 둘째 자리까지 구하고, 알파벳 순으로 기술하시오(주 이름 기준).<br>(답안 예시) 0.12, 0.34, 0.54"
   ]
  },
  {
   "cell_type": "code",
   "execution_count": null,
   "id": "ebab299b-8aff-4af8-a8c0-e8903d32d7fc",
   "metadata": {},
   "outputs": [],
   "source": []
  },
  {
   "cell_type": "markdown",
   "id": "a2f486e0-fd6b-47b2-b645-76cd950f1322",
   "metadata": {},
   "source": [
    "### 2. 주별 이익의 평균을 구하고, 평균 이익이 가장 큰 주와 작은 주의 차이를 구하시오. 차이값은 소수점 이하는 버리고 정수 부분만 기술하시오.<br>(답안 예시) 1234"
   ]
  },
  {
   "cell_type": "code",
   "execution_count": null,
   "id": "3ef55924-a90b-4c3c-ab48-157105d04f83",
   "metadata": {},
   "outputs": [],
   "source": []
  },
  {
   "cell_type": "markdown",
   "id": "fc08b249-aec7-4343-8622-4868dc8c89db",
   "metadata": {},
   "source": [
    "### 3. 독립변수로 RandD_Spend, Administration, Marketing_Spend를 사용하여 Profit을 주별로 예측하는 회귀 모형을 만들고, 이 회귀 모형을 사용하여 학습오차를 산출하시오.<br>- 주별로 계산된 학습오차 중 MAPE 기준으로 가장 낮은 오차를 보이는 주는 어느 주이고 그 값은 무엇인가? (반올림하여 소수점 둘째 자리까지 기술하시오)<br>- (MAPE = Σ ( | y - y ̂ | / y ) * 100/n )<br>(답안 예시) ABC, 1.56"
   ]
  },
  {
   "cell_type": "code",
   "execution_count": 59,
   "id": "899a555a-8afa-4e8a-8d4f-10e19ca2a721",
   "metadata": {},
   "outputs": [],
   "source": [
    "from sklearn.linear_model import LinearRegression"
   ]
  },
  {
   "cell_type": "code",
   "execution_count": 60,
   "id": "98acb131-c559-4cc9-8109-30558d1be2d8",
   "metadata": {},
   "outputs": [
    {
     "data": {
      "text/plain": [
       "array(['New York', 'California', 'Florida'], dtype=object)"
      ]
     },
     "execution_count": 60,
     "metadata": {},
     "output_type": "execute_result"
    }
   ],
   "source": [
    "Q3 = dataset8.copy()\n",
    "\n",
    "Q3.State.unique()"
   ]
  },
  {
   "cell_type": "code",
   "execution_count": 61,
   "id": "fedc743c-8426-47ce-87c0-a734010b3a54",
   "metadata": {},
   "outputs": [],
   "source": [
    "# New York\n",
    "x_var = ['RandD_Spend', 'Administration', 'Marketing_Spend']\n",
    "temp = Q3[Q3.State=='New York']"
   ]
  },
  {
   "cell_type": "code",
   "execution_count": 62,
   "id": "c7842c7d-2baa-4178-a01c-fa68cffeb7e3",
   "metadata": {},
   "outputs": [],
   "source": [
    "lm_NY = LinearRegression().fit(temp[x_var], temp.Profit)\n",
    "pred_NY = lm_NY.predict(temp[x_var])"
   ]
  },
  {
   "cell_type": "code",
   "execution_count": 63,
   "id": "55fea612-7f6b-48a5-af68-2284aa425f62",
   "metadata": {},
   "outputs": [
    {
     "data": {
      "text/plain": [
       "8.52"
      ]
     },
     "execution_count": 63,
     "metadata": {},
     "output_type": "execute_result"
    }
   ],
   "source": [
    "mape_NY = ((abs(temp.Profit - pred_NY) / temp.Profit).sum() * 100/len(temp)).round(2)\n",
    "\n",
    "mape_NY"
   ]
  },
  {
   "cell_type": "code",
   "execution_count": 64,
   "id": "695a6e22-9bde-46a3-a4c9-a4bb8f001b6d",
   "metadata": {},
   "outputs": [],
   "source": [
    "# California\n",
    "x_var = ['RandD_Spend', 'Administration', 'Marketing_Spend']\n",
    "temp = Q3[Q3.State=='California']"
   ]
  },
  {
   "cell_type": "code",
   "execution_count": 65,
   "id": "b0be6781-21e6-411a-be82-8a4f6d015035",
   "metadata": {},
   "outputs": [],
   "source": [
    "lm_Ca = LinearRegression().fit(temp[x_var], temp.Profit)\n",
    "pred_Ca = lm_Ca.predict(temp[x_var])"
   ]
  },
  {
   "cell_type": "code",
   "execution_count": 66,
   "id": "f388a062-0ba0-4478-ad81-8b83fa250c89",
   "metadata": {},
   "outputs": [
    {
     "data": {
      "text/plain": [
       "15.23"
      ]
     },
     "execution_count": 66,
     "metadata": {},
     "output_type": "execute_result"
    }
   ],
   "source": [
    "mape_Ca = ((abs(temp.Profit - pred_Ca) / temp.Profit).sum() * 100/len(temp)).round(2)\n",
    "\n",
    "mape_Ca"
   ]
  },
  {
   "cell_type": "code",
   "execution_count": 67,
   "id": "c41bf606-1f5f-4d66-8ed0-d44637b889c3",
   "metadata": {},
   "outputs": [],
   "source": [
    "# Florida\n",
    "x_var = ['RandD_Spend', 'Administration', 'Marketing_Spend']\n",
    "temp = Q3[Q3.State=='Florida']"
   ]
  },
  {
   "cell_type": "code",
   "execution_count": 68,
   "id": "57a90648-d959-4eca-8c1a-faf970dd1d3f",
   "metadata": {},
   "outputs": [],
   "source": [
    "lm_Fl = LinearRegression().fit(temp[x_var], temp.Profit)\n",
    "pred_Fl = lm_Fl.predict(temp[x_var])"
   ]
  },
  {
   "cell_type": "code",
   "execution_count": 69,
   "id": "44e6e0c2-a216-41e7-8fa9-3d2b29a9a7aa",
   "metadata": {},
   "outputs": [
    {
     "data": {
      "text/plain": [
       "5.71"
      ]
     },
     "execution_count": 69,
     "metadata": {},
     "output_type": "execute_result"
    }
   ],
   "source": [
    "mape_Fl = ((abs(temp.Profit - pred_Fl) / temp.Profit).sum() * 100/len(temp)).round(2)\n",
    "\n",
    "mape_Fl"
   ]
  },
  {
   "cell_type": "code",
   "execution_count": 70,
   "id": "91a28d6b-c9d8-467b-b308-da3cc09aa040",
   "metadata": {},
   "outputs": [
    {
     "data": {
      "text/plain": [
       "[8.52, 15.23, 5.71]"
      ]
     },
     "execution_count": 70,
     "metadata": {},
     "output_type": "execute_result"
    }
   ],
   "source": [
    "[mape_NY, mape_Ca, mape_Fl]"
   ]
  },
  {
   "cell_type": "markdown",
   "id": "df3c5c2a-07e5-4d96-ae76-499512b363af",
   "metadata": {},
   "source": [
    "#### 정답 : ***Florida, 5.71***"
   ]
  },
  {
   "cell_type": "markdown",
   "id": "96351f93-d2b9-4388-881f-ee3931f054c5",
   "metadata": {},
   "source": [
    "## 문제 09 유형(DataSet_09.csv 이용)"
   ]
  },
  {
   "cell_type": "markdown",
   "id": "2cbe604e-c94e-4a51-95ed-1e30c6da60cb",
   "metadata": {},
   "source": [
    "## 항공사에서 고객만족도 조사를 하고 서비스 개선에 활용하고자 아래와 같은 데이터를 준비하였다."
   ]
  },
  {
   "cell_type": "code",
   "execution_count": null,
   "id": "784f8f0b-d88c-423b-a2a5-3d8b0bcc28a6",
   "metadata": {},
   "outputs": [],
   "source": []
  },
  {
   "cell_type": "code",
   "execution_count": null,
   "id": "ad480e3f-a93a-447c-98a0-ed6a0dc83ac4",
   "metadata": {},
   "outputs": [],
   "source": []
  },
  {
   "cell_type": "markdown",
   "id": "a41ebe07-e454-4bb8-b92e-dc05c9ba74f8",
   "metadata": {},
   "source": [
    "### 1. 데이터 타입을 위 표에 정의된 타입으로 전처리를 한 후, 데이터 파일 내에 결측값은 총 몇 개인가?<br>(답안 예시) 1"
   ]
  },
  {
   "cell_type": "code",
   "execution_count": null,
   "id": "8eb0eab8-1024-4c31-b72d-e520f46bdf55",
   "metadata": {},
   "outputs": [],
   "source": []
  },
  {
   "cell_type": "markdown",
   "id": "21fdd78a-8035-4cc6-9fa4-9de83683bd0e",
   "metadata": {},
   "source": [
    "### 2. 다음에 제시된 데이터 처리를 하고 카이제곱 독립성 검정을 수행하시오.<br>- 결측값이 있다면 해당 행을 제거하시오.<br>- 나이는 20 이하이면 10, 30 이하이면 20, 40 이하이면 30, 50 이하이면 40, 60 이하이면 50, 60 초과는 60으로 변환하여 Age_gr으로 파생변수를 생성하시오.<br>- Age_gr, Gender, Customer_Type, Class 변수가 satisfaction에 영향이 있는지 카이제곱 독립성 검정을 수행하시오.<br>- 연관성이 있는 것으로 파악된 변수의 검정통계량 추정치를 정수 부분만 기술하시오.<br>(답안 예시) 123"
   ]
  },
  {
   "cell_type": "code",
   "execution_count": null,
   "id": "2d061d71-90a0-42cb-b112-a527b616c168",
   "metadata": {},
   "outputs": [],
   "source": []
  },
  {
   "cell_type": "markdown",
   "id": "7b39709b-bfb6-4614-b39e-a3e279e4b1c7",
   "metadata": {},
   "source": [
    "### 3. 고객 만족도를 라벨로 하여 다음과 같이 로지스틱 회귀분석을 수행하시오.<br>- 결측치가 포함된 행은 제거<br>- 데이터를 7대 3으로 분리 (Seed = 123)<br>- 아래의 11개 변수를 Feature로 사용<br>Flight_Distance, Seat_comfort, Food_and_drink, Inflight_wifi_service, Inflight_entertainment,Onboard_service, Leg_room_service, Baggage_handling, Cleanliness, Departure_Delay_in_Minutes, Arrival_Delay_in_Minutes<br><br>- Seed = 123, 이외의 항목은 모두 Default 사용<br>- 예측 정확도를 측정하고 dissatisfied의 f1 score를 소수점 넷째 자리에서 반올림하여 소수점 셋째 자리까지 기술하시오.<br>(답안 예시) 0.123"
   ]
  },
  {
   "cell_type": "code",
   "execution_count": null,
   "id": "0b293c84-b24e-46a3-9d1a-2aea8b83b4da",
   "metadata": {},
   "outputs": [],
   "source": []
  },
  {
   "cell_type": "markdown",
   "id": "7bfd8b4c-5a8d-4144-b912-2252c327d561",
   "metadata": {},
   "source": [
    "## 문제 10 유형(DataSet_10.csv 이용)"
   ]
  },
  {
   "cell_type": "markdown",
   "id": "097a2dbc-3ddd-461d-8a1c-6c24477df582",
   "metadata": {},
   "source": [
    "## 중고 자동차 가격에 대한 분석을 위하여 아래와 같은 데이터를 확보하였다."
   ]
  },
  {
   "cell_type": "code",
   "execution_count": 71,
   "id": "d808bf95-1910-4269-b522-4150c66f351e",
   "metadata": {},
   "outputs": [],
   "source": [
    "import pandas as pd"
   ]
  },
  {
   "cell_type": "code",
   "execution_count": 72,
   "id": "ddb9ab00-fbf2-4063-b076-08a7950ab890",
   "metadata": {},
   "outputs": [
    {
     "data": {
      "text/html": [
       "<div>\n",
       "<style scoped>\n",
       "    .dataframe tbody tr th:only-of-type {\n",
       "        vertical-align: middle;\n",
       "    }\n",
       "\n",
       "    .dataframe tbody tr th {\n",
       "        vertical-align: top;\n",
       "    }\n",
       "\n",
       "    .dataframe thead th {\n",
       "        text-align: right;\n",
       "    }\n",
       "</style>\n",
       "<table border=\"1\" class=\"dataframe\">\n",
       "  <thead>\n",
       "    <tr style=\"text-align: right;\">\n",
       "      <th></th>\n",
       "      <th>model</th>\n",
       "      <th>engine_power</th>\n",
       "      <th>age_in_days</th>\n",
       "      <th>km</th>\n",
       "      <th>previous_owners</th>\n",
       "      <th>price</th>\n",
       "      <th>Unnamed: 6</th>\n",
       "      <th>Unnamed: 7</th>\n",
       "      <th>Unnamed: 8</th>\n",
       "      <th>Unnamed: 9</th>\n",
       "      <th>Unnamed: 10</th>\n",
       "      <th>Unnamed: 11</th>\n",
       "      <th>Unnamed: 12</th>\n",
       "      <th>Unnamed: 13</th>\n",
       "      <th>Unnamed: 14</th>\n",
       "      <th>Unnamed: 15</th>\n",
       "      <th>Unnamed: 16</th>\n",
       "    </tr>\n",
       "  </thead>\n",
       "  <tbody>\n",
       "    <tr>\n",
       "      <th>0</th>\n",
       "      <td>lounge</td>\n",
       "      <td>51</td>\n",
       "      <td>882</td>\n",
       "      <td>25000</td>\n",
       "      <td>1</td>\n",
       "      <td>8900</td>\n",
       "      <td>NaN</td>\n",
       "      <td>NaN</td>\n",
       "      <td>NaN</td>\n",
       "      <td>NaN</td>\n",
       "      <td>NaN</td>\n",
       "      <td>NaN</td>\n",
       "      <td>NaN</td>\n",
       "      <td>NaN</td>\n",
       "      <td>NaN</td>\n",
       "      <td>NaN</td>\n",
       "      <td>NaN</td>\n",
       "    </tr>\n",
       "    <tr>\n",
       "      <th>1</th>\n",
       "      <td>pop</td>\n",
       "      <td>51</td>\n",
       "      <td>1186</td>\n",
       "      <td>32500</td>\n",
       "      <td>1</td>\n",
       "      <td>8800</td>\n",
       "      <td>NaN</td>\n",
       "      <td>NaN</td>\n",
       "      <td>NaN</td>\n",
       "      <td>NaN</td>\n",
       "      <td>NaN</td>\n",
       "      <td>NaN</td>\n",
       "      <td>NaN</td>\n",
       "      <td>NaN</td>\n",
       "      <td>NaN</td>\n",
       "      <td>NaN</td>\n",
       "      <td>NaN</td>\n",
       "    </tr>\n",
       "    <tr>\n",
       "      <th>2</th>\n",
       "      <td>sport</td>\n",
       "      <td>74</td>\n",
       "      <td>4658</td>\n",
       "      <td>142228</td>\n",
       "      <td>1</td>\n",
       "      <td>4200</td>\n",
       "      <td>NaN</td>\n",
       "      <td>NaN</td>\n",
       "      <td>NaN</td>\n",
       "      <td>NaN</td>\n",
       "      <td>NaN</td>\n",
       "      <td>NaN</td>\n",
       "      <td>NaN</td>\n",
       "      <td>NaN</td>\n",
       "      <td>NaN</td>\n",
       "      <td>NaN</td>\n",
       "      <td>NaN</td>\n",
       "    </tr>\n",
       "    <tr>\n",
       "      <th>3</th>\n",
       "      <td>lounge</td>\n",
       "      <td>51</td>\n",
       "      <td>2739</td>\n",
       "      <td>160000</td>\n",
       "      <td>1</td>\n",
       "      <td>6000</td>\n",
       "      <td>NaN</td>\n",
       "      <td>NaN</td>\n",
       "      <td>NaN</td>\n",
       "      <td>NaN</td>\n",
       "      <td>NaN</td>\n",
       "      <td>NaN</td>\n",
       "      <td>NaN</td>\n",
       "      <td>NaN</td>\n",
       "      <td>NaN</td>\n",
       "      <td>NaN</td>\n",
       "      <td>NaN</td>\n",
       "    </tr>\n",
       "    <tr>\n",
       "      <th>4</th>\n",
       "      <td>pop</td>\n",
       "      <td>73</td>\n",
       "      <td>3074</td>\n",
       "      <td>106880</td>\n",
       "      <td>1</td>\n",
       "      <td>5700</td>\n",
       "      <td>NaN</td>\n",
       "      <td>NaN</td>\n",
       "      <td>NaN</td>\n",
       "      <td>NaN</td>\n",
       "      <td>NaN</td>\n",
       "      <td>NaN</td>\n",
       "      <td>NaN</td>\n",
       "      <td>NaN</td>\n",
       "      <td>NaN</td>\n",
       "      <td>NaN</td>\n",
       "      <td>NaN</td>\n",
       "    </tr>\n",
       "    <tr>\n",
       "      <th>...</th>\n",
       "      <td>...</td>\n",
       "      <td>...</td>\n",
       "      <td>...</td>\n",
       "      <td>...</td>\n",
       "      <td>...</td>\n",
       "      <td>...</td>\n",
       "      <td>...</td>\n",
       "      <td>...</td>\n",
       "      <td>...</td>\n",
       "      <td>...</td>\n",
       "      <td>...</td>\n",
       "      <td>...</td>\n",
       "      <td>...</td>\n",
       "      <td>...</td>\n",
       "      <td>...</td>\n",
       "      <td>...</td>\n",
       "      <td>...</td>\n",
       "    </tr>\n",
       "    <tr>\n",
       "      <th>1533</th>\n",
       "      <td>sport</td>\n",
       "      <td>51</td>\n",
       "      <td>3712</td>\n",
       "      <td>115280</td>\n",
       "      <td>1</td>\n",
       "      <td>5200</td>\n",
       "      <td>NaN</td>\n",
       "      <td>NaN</td>\n",
       "      <td>NaN</td>\n",
       "      <td>NaN</td>\n",
       "      <td>NaN</td>\n",
       "      <td>NaN</td>\n",
       "      <td>NaN</td>\n",
       "      <td>NaN</td>\n",
       "      <td>NaN</td>\n",
       "      <td>NaN</td>\n",
       "      <td>NaN</td>\n",
       "    </tr>\n",
       "    <tr>\n",
       "      <th>1534</th>\n",
       "      <td>lounge</td>\n",
       "      <td>74</td>\n",
       "      <td>3835</td>\n",
       "      <td>112000</td>\n",
       "      <td>1</td>\n",
       "      <td>4600</td>\n",
       "      <td>NaN</td>\n",
       "      <td>NaN</td>\n",
       "      <td>NaN</td>\n",
       "      <td>NaN</td>\n",
       "      <td>NaN</td>\n",
       "      <td>NaN</td>\n",
       "      <td>NaN</td>\n",
       "      <td>NaN</td>\n",
       "      <td>NaN</td>\n",
       "      <td>NaN</td>\n",
       "      <td>NaN</td>\n",
       "    </tr>\n",
       "    <tr>\n",
       "      <th>1535</th>\n",
       "      <td>pop</td>\n",
       "      <td>51</td>\n",
       "      <td>2223</td>\n",
       "      <td>60457</td>\n",
       "      <td>1</td>\n",
       "      <td>7500</td>\n",
       "      <td>NaN</td>\n",
       "      <td>NaN</td>\n",
       "      <td>NaN</td>\n",
       "      <td>NaN</td>\n",
       "      <td>NaN</td>\n",
       "      <td>NaN</td>\n",
       "      <td>NaN</td>\n",
       "      <td>NaN</td>\n",
       "      <td>NaN</td>\n",
       "      <td>NaN</td>\n",
       "      <td>NaN</td>\n",
       "    </tr>\n",
       "    <tr>\n",
       "      <th>1536</th>\n",
       "      <td>lounge</td>\n",
       "      <td>51</td>\n",
       "      <td>2557</td>\n",
       "      <td>80750</td>\n",
       "      <td>1</td>\n",
       "      <td>5990</td>\n",
       "      <td>NaN</td>\n",
       "      <td>NaN</td>\n",
       "      <td>NaN</td>\n",
       "      <td>NaN</td>\n",
       "      <td>NaN</td>\n",
       "      <td>NaN</td>\n",
       "      <td>NaN</td>\n",
       "      <td>NaN</td>\n",
       "      <td>NaN</td>\n",
       "      <td>NaN</td>\n",
       "      <td>NaN</td>\n",
       "    </tr>\n",
       "    <tr>\n",
       "      <th>1537</th>\n",
       "      <td>pop</td>\n",
       "      <td>51</td>\n",
       "      <td>1766</td>\n",
       "      <td>54276</td>\n",
       "      <td>1</td>\n",
       "      <td>7900</td>\n",
       "      <td>NaN</td>\n",
       "      <td>NaN</td>\n",
       "      <td>NaN</td>\n",
       "      <td>NaN</td>\n",
       "      <td>NaN</td>\n",
       "      <td>NaN</td>\n",
       "      <td>NaN</td>\n",
       "      <td>NaN</td>\n",
       "      <td>NaN</td>\n",
       "      <td>NaN</td>\n",
       "      <td>NaN</td>\n",
       "    </tr>\n",
       "  </tbody>\n",
       "</table>\n",
       "<p>1538 rows × 17 columns</p>\n",
       "</div>"
      ],
      "text/plain": [
       "       model  engine_power  age_in_days      km  previous_owners  price  \\\n",
       "0     lounge            51          882   25000                1   8900   \n",
       "1        pop            51         1186   32500                1   8800   \n",
       "2      sport            74         4658  142228                1   4200   \n",
       "3     lounge            51         2739  160000                1   6000   \n",
       "4        pop            73         3074  106880                1   5700   \n",
       "...      ...           ...          ...     ...              ...    ...   \n",
       "1533   sport            51         3712  115280                1   5200   \n",
       "1534  lounge            74         3835  112000                1   4600   \n",
       "1535     pop            51         2223   60457                1   7500   \n",
       "1536  lounge            51         2557   80750                1   5990   \n",
       "1537     pop            51         1766   54276                1   7900   \n",
       "\n",
       "      Unnamed: 6  Unnamed: 7  Unnamed: 8  Unnamed: 9  Unnamed: 10  \\\n",
       "0            NaN         NaN         NaN         NaN          NaN   \n",
       "1            NaN         NaN         NaN         NaN          NaN   \n",
       "2            NaN         NaN         NaN         NaN          NaN   \n",
       "3            NaN         NaN         NaN         NaN          NaN   \n",
       "4            NaN         NaN         NaN         NaN          NaN   \n",
       "...          ...         ...         ...         ...          ...   \n",
       "1533         NaN         NaN         NaN         NaN          NaN   \n",
       "1534         NaN         NaN         NaN         NaN          NaN   \n",
       "1535         NaN         NaN         NaN         NaN          NaN   \n",
       "1536         NaN         NaN         NaN         NaN          NaN   \n",
       "1537         NaN         NaN         NaN         NaN          NaN   \n",
       "\n",
       "      Unnamed: 11  Unnamed: 12  Unnamed: 13  Unnamed: 14  Unnamed: 15  \\\n",
       "0             NaN          NaN          NaN          NaN          NaN   \n",
       "1             NaN          NaN          NaN          NaN          NaN   \n",
       "2             NaN          NaN          NaN          NaN          NaN   \n",
       "3             NaN          NaN          NaN          NaN          NaN   \n",
       "4             NaN          NaN          NaN          NaN          NaN   \n",
       "...           ...          ...          ...          ...          ...   \n",
       "1533          NaN          NaN          NaN          NaN          NaN   \n",
       "1534          NaN          NaN          NaN          NaN          NaN   \n",
       "1535          NaN          NaN          NaN          NaN          NaN   \n",
       "1536          NaN          NaN          NaN          NaN          NaN   \n",
       "1537          NaN          NaN          NaN          NaN          NaN   \n",
       "\n",
       "      Unnamed: 16  \n",
       "0             NaN  \n",
       "1             NaN  \n",
       "2             NaN  \n",
       "3             NaN  \n",
       "4             NaN  \n",
       "...           ...  \n",
       "1533          NaN  \n",
       "1534          NaN  \n",
       "1535          NaN  \n",
       "1536          NaN  \n",
       "1537          NaN  \n",
       "\n",
       "[1538 rows x 17 columns]"
      ]
     },
     "execution_count": 72,
     "metadata": {},
     "output_type": "execute_result"
    }
   ],
   "source": [
    "dataset10 = pd.read_csv('DataSet/DataSet_10.csv')\n",
    "\n",
    "dataset10"
   ]
  },
  {
   "cell_type": "code",
   "execution_count": 73,
   "id": "bbab3565-a1f6-4fe4-a35d-f18607f0625f",
   "metadata": {},
   "outputs": [
    {
     "data": {
      "text/plain": [
       "Index(['model', 'engine_power', 'age_in_days', 'km', 'previous_owners',\n",
       "       'price', 'Unnamed: 6', 'Unnamed: 7', 'Unnamed: 8', 'Unnamed: 9',\n",
       "       'Unnamed: 10', 'Unnamed: 11', 'Unnamed: 12', 'Unnamed: 13',\n",
       "       'Unnamed: 14', 'Unnamed: 15', 'Unnamed: 16'],\n",
       "      dtype='object')"
      ]
     },
     "execution_count": 73,
     "metadata": {},
     "output_type": "execute_result"
    }
   ],
   "source": [
    "dataset10.columns"
   ]
  },
  {
   "cell_type": "code",
   "execution_count": 74,
   "id": "6b14ad05-4b79-4b25-a7a4-a59b167ae899",
   "metadata": {},
   "outputs": [
    {
     "data": {
      "text/plain": [
       "model               object\n",
       "engine_power         int64\n",
       "age_in_days          int64\n",
       "km                   int64\n",
       "previous_owners      int64\n",
       "price                int64\n",
       "Unnamed: 6         float64\n",
       "Unnamed: 7         float64\n",
       "Unnamed: 8         float64\n",
       "Unnamed: 9         float64\n",
       "Unnamed: 10        float64\n",
       "Unnamed: 11        float64\n",
       "Unnamed: 12        float64\n",
       "Unnamed: 13        float64\n",
       "Unnamed: 14        float64\n",
       "Unnamed: 15        float64\n",
       "Unnamed: 16        float64\n",
       "dtype: object"
      ]
     },
     "execution_count": 74,
     "metadata": {},
     "output_type": "execute_result"
    }
   ],
   "source": [
    "dataset10.dtypes"
   ]
  },
  {
   "cell_type": "code",
   "execution_count": 75,
   "id": "9ece0178-3717-451f-814f-c1e18f9cb18b",
   "metadata": {},
   "outputs": [
    {
     "name": "stdout",
     "output_type": "stream",
     "text": [
      "<class 'pandas.core.frame.DataFrame'>\n",
      "RangeIndex: 1538 entries, 0 to 1537\n",
      "Data columns (total 17 columns):\n",
      " #   Column           Non-Null Count  Dtype  \n",
      "---  ------           --------------  -----  \n",
      " 0   model            1538 non-null   object \n",
      " 1   engine_power     1538 non-null   int64  \n",
      " 2   age_in_days      1538 non-null   int64  \n",
      " 3   km               1538 non-null   int64  \n",
      " 4   previous_owners  1538 non-null   int64  \n",
      " 5   price            1538 non-null   int64  \n",
      " 6   Unnamed: 6       0 non-null      float64\n",
      " 7   Unnamed: 7       0 non-null      float64\n",
      " 8   Unnamed: 8       0 non-null      float64\n",
      " 9   Unnamed: 9       0 non-null      float64\n",
      " 10  Unnamed: 10      0 non-null      float64\n",
      " 11  Unnamed: 11      0 non-null      float64\n",
      " 12  Unnamed: 12      0 non-null      float64\n",
      " 13  Unnamed: 13      0 non-null      float64\n",
      " 14  Unnamed: 14      0 non-null      float64\n",
      " 15  Unnamed: 15      0 non-null      float64\n",
      " 16  Unnamed: 16      0 non-null      float64\n",
      "dtypes: float64(11), int64(5), object(1)\n",
      "memory usage: 204.4+ KB\n"
     ]
    }
   ],
   "source": [
    "dataset10.info()"
   ]
  },
  {
   "cell_type": "markdown",
   "id": "654f5cce-3faa-4142-9e7e-3a3884f405ab",
   "metadata": {},
   "source": [
    "### 1. 이전 소유자 수가 한 명이고 엔진 파워가 51인 차에 대해 모델별 하루 평균 운행 거리를 산출하였을 때 가장 낮은 값을 가진 모델이 가장 큰 값을 가진 모델에 대한 비율은 얼마인가? 소수점 셋째 자리에서 반올림하여 소수점 둘째 자리까지 기술하시오. (모델별 평균 → 일평균 → 최대최소 비율 계산)<br>(답안 예시) 0.12"
   ]
  },
  {
   "cell_type": "code",
   "execution_count": 76,
   "id": "d0164bec-9169-405d-ba2a-f7799aa411d9",
   "metadata": {},
   "outputs": [
    {
     "data": {
      "text/html": [
       "<div>\n",
       "<style scoped>\n",
       "    .dataframe tbody tr th:only-of-type {\n",
       "        vertical-align: middle;\n",
       "    }\n",
       "\n",
       "    .dataframe tbody tr th {\n",
       "        vertical-align: top;\n",
       "    }\n",
       "\n",
       "    .dataframe thead th {\n",
       "        text-align: right;\n",
       "    }\n",
       "</style>\n",
       "<table border=\"1\" class=\"dataframe\">\n",
       "  <thead>\n",
       "    <tr style=\"text-align: right;\">\n",
       "      <th></th>\n",
       "      <th>model</th>\n",
       "      <th>engine_power</th>\n",
       "      <th>age_in_days</th>\n",
       "      <th>km</th>\n",
       "      <th>previous_owners</th>\n",
       "      <th>price</th>\n",
       "    </tr>\n",
       "  </thead>\n",
       "  <tbody>\n",
       "    <tr>\n",
       "      <th>0</th>\n",
       "      <td>lounge</td>\n",
       "      <td>51</td>\n",
       "      <td>882</td>\n",
       "      <td>25000</td>\n",
       "      <td>1</td>\n",
       "      <td>8900</td>\n",
       "    </tr>\n",
       "    <tr>\n",
       "      <th>1</th>\n",
       "      <td>pop</td>\n",
       "      <td>51</td>\n",
       "      <td>1186</td>\n",
       "      <td>32500</td>\n",
       "      <td>1</td>\n",
       "      <td>8800</td>\n",
       "    </tr>\n",
       "    <tr>\n",
       "      <th>2</th>\n",
       "      <td>sport</td>\n",
       "      <td>74</td>\n",
       "      <td>4658</td>\n",
       "      <td>142228</td>\n",
       "      <td>1</td>\n",
       "      <td>4200</td>\n",
       "    </tr>\n",
       "    <tr>\n",
       "      <th>3</th>\n",
       "      <td>lounge</td>\n",
       "      <td>51</td>\n",
       "      <td>2739</td>\n",
       "      <td>160000</td>\n",
       "      <td>1</td>\n",
       "      <td>6000</td>\n",
       "    </tr>\n",
       "    <tr>\n",
       "      <th>4</th>\n",
       "      <td>pop</td>\n",
       "      <td>73</td>\n",
       "      <td>3074</td>\n",
       "      <td>106880</td>\n",
       "      <td>1</td>\n",
       "      <td>5700</td>\n",
       "    </tr>\n",
       "    <tr>\n",
       "      <th>...</th>\n",
       "      <td>...</td>\n",
       "      <td>...</td>\n",
       "      <td>...</td>\n",
       "      <td>...</td>\n",
       "      <td>...</td>\n",
       "      <td>...</td>\n",
       "    </tr>\n",
       "    <tr>\n",
       "      <th>1533</th>\n",
       "      <td>sport</td>\n",
       "      <td>51</td>\n",
       "      <td>3712</td>\n",
       "      <td>115280</td>\n",
       "      <td>1</td>\n",
       "      <td>5200</td>\n",
       "    </tr>\n",
       "    <tr>\n",
       "      <th>1534</th>\n",
       "      <td>lounge</td>\n",
       "      <td>74</td>\n",
       "      <td>3835</td>\n",
       "      <td>112000</td>\n",
       "      <td>1</td>\n",
       "      <td>4600</td>\n",
       "    </tr>\n",
       "    <tr>\n",
       "      <th>1535</th>\n",
       "      <td>pop</td>\n",
       "      <td>51</td>\n",
       "      <td>2223</td>\n",
       "      <td>60457</td>\n",
       "      <td>1</td>\n",
       "      <td>7500</td>\n",
       "    </tr>\n",
       "    <tr>\n",
       "      <th>1536</th>\n",
       "      <td>lounge</td>\n",
       "      <td>51</td>\n",
       "      <td>2557</td>\n",
       "      <td>80750</td>\n",
       "      <td>1</td>\n",
       "      <td>5990</td>\n",
       "    </tr>\n",
       "    <tr>\n",
       "      <th>1537</th>\n",
       "      <td>pop</td>\n",
       "      <td>51</td>\n",
       "      <td>1766</td>\n",
       "      <td>54276</td>\n",
       "      <td>1</td>\n",
       "      <td>7900</td>\n",
       "    </tr>\n",
       "  </tbody>\n",
       "</table>\n",
       "<p>1538 rows × 6 columns</p>\n",
       "</div>"
      ],
      "text/plain": [
       "       model  engine_power  age_in_days      km  previous_owners  price\n",
       "0     lounge            51          882   25000                1   8900\n",
       "1        pop            51         1186   32500                1   8800\n",
       "2      sport            74         4658  142228                1   4200\n",
       "3     lounge            51         2739  160000                1   6000\n",
       "4        pop            73         3074  106880                1   5700\n",
       "...      ...           ...          ...     ...              ...    ...\n",
       "1533   sport            51         3712  115280                1   5200\n",
       "1534  lounge            74         3835  112000                1   4600\n",
       "1535     pop            51         2223   60457                1   7500\n",
       "1536  lounge            51         2557   80750                1   5990\n",
       "1537     pop            51         1766   54276                1   7900\n",
       "\n",
       "[1538 rows x 6 columns]"
      ]
     },
     "execution_count": 76,
     "metadata": {},
     "output_type": "execute_result"
    }
   ],
   "source": [
    "data1 = dataset10.dropna(axis=1, how='all')\n",
    "\n",
    "data1"
   ]
  },
  {
   "cell_type": "code",
   "execution_count": 77,
   "id": "861cff29-ce52-43a7-aea0-46616a0a2070",
   "metadata": {},
   "outputs": [
    {
     "data": {
      "text/plain": [
       "Index(['model', 'engine_power', 'age_in_days', 'km', 'previous_owners',\n",
       "       'price'],\n",
       "      dtype='object')"
      ]
     },
     "execution_count": 77,
     "metadata": {},
     "output_type": "execute_result"
    }
   ],
   "source": [
    "data1.columns"
   ]
  },
  {
   "cell_type": "code",
   "execution_count": 78,
   "id": "8e2c3a68-935b-439b-ac1f-e868395fa6fb",
   "metadata": {},
   "outputs": [],
   "source": [
    "q1_1 = data1[data1.previous_owners==1]\n",
    "q1_2 = q1_1[q1_1.engine_power==51]"
   ]
  },
  {
   "cell_type": "code",
   "execution_count": 79,
   "id": "bf3a0f5e-078b-4940-bbaa-b99a41b01f8b",
   "metadata": {},
   "outputs": [
    {
     "name": "stdout",
     "output_type": "stream",
     "text": [
      "1538\n",
      "1389\n",
      "1312\n"
     ]
    }
   ],
   "source": [
    "print(len(data1))\n",
    "print(len(q1_1))\n",
    "print(len(q1_2))"
   ]
  },
  {
   "cell_type": "code",
   "execution_count": 80,
   "id": "006c5751-9626-4052-ada5-0b6aa559fb68",
   "metadata": {},
   "outputs": [
    {
     "data": {
      "text/html": [
       "<div>\n",
       "<style scoped>\n",
       "    .dataframe tbody tr th:only-of-type {\n",
       "        vertical-align: middle;\n",
       "    }\n",
       "\n",
       "    .dataframe tbody tr th {\n",
       "        vertical-align: top;\n",
       "    }\n",
       "\n",
       "    .dataframe thead th {\n",
       "        text-align: right;\n",
       "    }\n",
       "</style>\n",
       "<table border=\"1\" class=\"dataframe\">\n",
       "  <thead>\n",
       "    <tr style=\"text-align: right;\">\n",
       "      <th></th>\n",
       "      <th>age_in_days</th>\n",
       "      <th>km</th>\n",
       "    </tr>\n",
       "    <tr>\n",
       "      <th>model</th>\n",
       "      <th></th>\n",
       "      <th></th>\n",
       "    </tr>\n",
       "  </thead>\n",
       "  <tbody>\n",
       "    <tr>\n",
       "      <th>lounge</th>\n",
       "      <td>1343.450366</td>\n",
       "      <td>44123.670846</td>\n",
       "    </tr>\n",
       "    <tr>\n",
       "      <th>pop</th>\n",
       "      <td>1800.509804</td>\n",
       "      <td>58097.532680</td>\n",
       "    </tr>\n",
       "    <tr>\n",
       "      <th>sport</th>\n",
       "      <td>3031.387755</td>\n",
       "      <td>96460.979592</td>\n",
       "    </tr>\n",
       "  </tbody>\n",
       "</table>\n",
       "</div>"
      ],
      "text/plain": [
       "        age_in_days            km\n",
       "model                            \n",
       "lounge  1343.450366  44123.670846\n",
       "pop     1800.509804  58097.532680\n",
       "sport   3031.387755  96460.979592"
      ]
     },
     "execution_count": 80,
     "metadata": {},
     "output_type": "execute_result"
    }
   ],
   "source": [
    "q1_3 = pd.pivot_table(data=q1_2, index='model',\n",
    "                      values=['age_in_days', 'km'])\n",
    "\n",
    "q1_3"
   ]
  },
  {
   "cell_type": "code",
   "execution_count": 81,
   "id": "f467f5f9-5883-4ce6-aaa7-b67ec4f42032",
   "metadata": {},
   "outputs": [
    {
     "data": {
      "text/html": [
       "<div>\n",
       "<style scoped>\n",
       "    .dataframe tbody tr th:only-of-type {\n",
       "        vertical-align: middle;\n",
       "    }\n",
       "\n",
       "    .dataframe tbody tr th {\n",
       "        vertical-align: top;\n",
       "    }\n",
       "\n",
       "    .dataframe thead th {\n",
       "        text-align: right;\n",
       "    }\n",
       "</style>\n",
       "<table border=\"1\" class=\"dataframe\">\n",
       "  <thead>\n",
       "    <tr style=\"text-align: right;\">\n",
       "      <th></th>\n",
       "      <th>age_in_days</th>\n",
       "      <th>km</th>\n",
       "      <th>days</th>\n",
       "    </tr>\n",
       "    <tr>\n",
       "      <th>model</th>\n",
       "      <th></th>\n",
       "      <th></th>\n",
       "      <th></th>\n",
       "    </tr>\n",
       "  </thead>\n",
       "  <tbody>\n",
       "    <tr>\n",
       "      <th>lounge</th>\n",
       "      <td>1343.450366</td>\n",
       "      <td>44123.670846</td>\n",
       "      <td>32.843544</td>\n",
       "    </tr>\n",
       "    <tr>\n",
       "      <th>pop</th>\n",
       "      <td>1800.509804</td>\n",
       "      <td>58097.532680</td>\n",
       "      <td>32.267268</td>\n",
       "    </tr>\n",
       "    <tr>\n",
       "      <th>sport</th>\n",
       "      <td>3031.387755</td>\n",
       "      <td>96460.979592</td>\n",
       "      <td>31.820733</td>\n",
       "    </tr>\n",
       "  </tbody>\n",
       "</table>\n",
       "</div>"
      ],
      "text/plain": [
       "        age_in_days            km       days\n",
       "model                                       \n",
       "lounge  1343.450366  44123.670846  32.843544\n",
       "pop     1800.509804  58097.532680  32.267268\n",
       "sport   3031.387755  96460.979592  31.820733"
      ]
     },
     "execution_count": 81,
     "metadata": {},
     "output_type": "execute_result"
    }
   ],
   "source": [
    "q1_3['days'] = q1_3['km'] / q1_3['age_in_days']\n",
    "\n",
    "q1_3"
   ]
  },
  {
   "cell_type": "code",
   "execution_count": 82,
   "id": "e6423d3d-97e8-4e8d-a75d-6aef872fc25e",
   "metadata": {},
   "outputs": [
    {
     "data": {
      "text/plain": [
       "0.97"
      ]
     },
     "execution_count": 82,
     "metadata": {},
     "output_type": "execute_result"
    }
   ],
   "source": [
    "(q1_3['days'].min() / q1_3['days'].max()).round(2)"
   ]
  },
  {
   "cell_type": "markdown",
   "id": "7f0d177b-8c66-4b0f-8ea7-e1bd91621f87",
   "metadata": {},
   "source": [
    "#### 정답 : ***0.97***"
   ]
  },
  {
   "cell_type": "markdown",
   "id": "e872e236-e4fa-4c03-97aa-f287663e3583",
   "metadata": {},
   "source": [
    "### 2. 운행 일수에 대한 운행 거리를 산출하고, 위 1번 문제에서 가장 큰 값을 가지고 있던 모델과 가장 작은 값을 가지고 있던 모델 간의 운행 일수 대비 운행거리 평균이 다른지 적절한 통계 검정을 수행하고 p-value를 소수점 세 자리 이하는 버리고 소수점 두 자리까지 기술하고 기각 여부를 Y / N로 답하시오. (등분산을 가정하고 equal_var = True / var.equal = T로 분석을 실행하시오.)<br>(답안 예시) 0.23, Y"
   ]
  },
  {
   "cell_type": "code",
   "execution_count": 83,
   "id": "44b8ea0b-6955-4295-a22c-3d87c1a86de7",
   "metadata": {},
   "outputs": [
    {
     "data": {
      "text/html": [
       "<div>\n",
       "<style scoped>\n",
       "    .dataframe tbody tr th:only-of-type {\n",
       "        vertical-align: middle;\n",
       "    }\n",
       "\n",
       "    .dataframe tbody tr th {\n",
       "        vertical-align: top;\n",
       "    }\n",
       "\n",
       "    .dataframe thead th {\n",
       "        text-align: right;\n",
       "    }\n",
       "</style>\n",
       "<table border=\"1\" class=\"dataframe\">\n",
       "  <thead>\n",
       "    <tr style=\"text-align: right;\">\n",
       "      <th></th>\n",
       "      <th>model</th>\n",
       "      <th>engine_power</th>\n",
       "      <th>age_in_days</th>\n",
       "      <th>km</th>\n",
       "      <th>previous_owners</th>\n",
       "      <th>price</th>\n",
       "      <th>km_per_day</th>\n",
       "    </tr>\n",
       "  </thead>\n",
       "  <tbody>\n",
       "    <tr>\n",
       "      <th>0</th>\n",
       "      <td>lounge</td>\n",
       "      <td>51</td>\n",
       "      <td>882</td>\n",
       "      <td>25000</td>\n",
       "      <td>1</td>\n",
       "      <td>8900</td>\n",
       "      <td>28.344671</td>\n",
       "    </tr>\n",
       "    <tr>\n",
       "      <th>1</th>\n",
       "      <td>pop</td>\n",
       "      <td>51</td>\n",
       "      <td>1186</td>\n",
       "      <td>32500</td>\n",
       "      <td>1</td>\n",
       "      <td>8800</td>\n",
       "      <td>27.403035</td>\n",
       "    </tr>\n",
       "    <tr>\n",
       "      <th>2</th>\n",
       "      <td>sport</td>\n",
       "      <td>74</td>\n",
       "      <td>4658</td>\n",
       "      <td>142228</td>\n",
       "      <td>1</td>\n",
       "      <td>4200</td>\n",
       "      <td>30.534135</td>\n",
       "    </tr>\n",
       "    <tr>\n",
       "      <th>3</th>\n",
       "      <td>lounge</td>\n",
       "      <td>51</td>\n",
       "      <td>2739</td>\n",
       "      <td>160000</td>\n",
       "      <td>1</td>\n",
       "      <td>6000</td>\n",
       "      <td>58.415480</td>\n",
       "    </tr>\n",
       "    <tr>\n",
       "      <th>4</th>\n",
       "      <td>pop</td>\n",
       "      <td>73</td>\n",
       "      <td>3074</td>\n",
       "      <td>106880</td>\n",
       "      <td>1</td>\n",
       "      <td>5700</td>\n",
       "      <td>34.769031</td>\n",
       "    </tr>\n",
       "    <tr>\n",
       "      <th>...</th>\n",
       "      <td>...</td>\n",
       "      <td>...</td>\n",
       "      <td>...</td>\n",
       "      <td>...</td>\n",
       "      <td>...</td>\n",
       "      <td>...</td>\n",
       "      <td>...</td>\n",
       "    </tr>\n",
       "    <tr>\n",
       "      <th>1533</th>\n",
       "      <td>sport</td>\n",
       "      <td>51</td>\n",
       "      <td>3712</td>\n",
       "      <td>115280</td>\n",
       "      <td>1</td>\n",
       "      <td>5200</td>\n",
       "      <td>31.056034</td>\n",
       "    </tr>\n",
       "    <tr>\n",
       "      <th>1534</th>\n",
       "      <td>lounge</td>\n",
       "      <td>74</td>\n",
       "      <td>3835</td>\n",
       "      <td>112000</td>\n",
       "      <td>1</td>\n",
       "      <td>4600</td>\n",
       "      <td>29.204694</td>\n",
       "    </tr>\n",
       "    <tr>\n",
       "      <th>1535</th>\n",
       "      <td>pop</td>\n",
       "      <td>51</td>\n",
       "      <td>2223</td>\n",
       "      <td>60457</td>\n",
       "      <td>1</td>\n",
       "      <td>7500</td>\n",
       "      <td>27.196131</td>\n",
       "    </tr>\n",
       "    <tr>\n",
       "      <th>1536</th>\n",
       "      <td>lounge</td>\n",
       "      <td>51</td>\n",
       "      <td>2557</td>\n",
       "      <td>80750</td>\n",
       "      <td>1</td>\n",
       "      <td>5990</td>\n",
       "      <td>31.579977</td>\n",
       "    </tr>\n",
       "    <tr>\n",
       "      <th>1537</th>\n",
       "      <td>pop</td>\n",
       "      <td>51</td>\n",
       "      <td>1766</td>\n",
       "      <td>54276</td>\n",
       "      <td>1</td>\n",
       "      <td>7900</td>\n",
       "      <td>30.733862</td>\n",
       "    </tr>\n",
       "  </tbody>\n",
       "</table>\n",
       "<p>1389 rows × 7 columns</p>\n",
       "</div>"
      ],
      "text/plain": [
       "       model  engine_power  age_in_days      km  previous_owners  price  \\\n",
       "0     lounge            51          882   25000                1   8900   \n",
       "1        pop            51         1186   32500                1   8800   \n",
       "2      sport            74         4658  142228                1   4200   \n",
       "3     lounge            51         2739  160000                1   6000   \n",
       "4        pop            73         3074  106880                1   5700   \n",
       "...      ...           ...          ...     ...              ...    ...   \n",
       "1533   sport            51         3712  115280                1   5200   \n",
       "1534  lounge            74         3835  112000                1   4600   \n",
       "1535     pop            51         2223   60457                1   7500   \n",
       "1536  lounge            51         2557   80750                1   5990   \n",
       "1537     pop            51         1766   54276                1   7900   \n",
       "\n",
       "      km_per_day  \n",
       "0      28.344671  \n",
       "1      27.403035  \n",
       "2      30.534135  \n",
       "3      58.415480  \n",
       "4      34.769031  \n",
       "...          ...  \n",
       "1533   31.056034  \n",
       "1534   29.204694  \n",
       "1535   27.196131  \n",
       "1536   31.579977  \n",
       "1537   30.733862  \n",
       "\n",
       "[1389 rows x 7 columns]"
      ]
     },
     "execution_count": 83,
     "metadata": {},
     "output_type": "execute_result"
    }
   ],
   "source": [
    "q2 = q1_1.copy()\n",
    "\n",
    "q2['km_per_day'] = q2['km'] / q2['age_in_days']\n",
    "\n",
    "q2"
   ]
  },
  {
   "cell_type": "code",
   "execution_count": 84,
   "id": "8873ec69-10ae-4440-b42c-e3dd819c1fb0",
   "metadata": {},
   "outputs": [],
   "source": [
    "big = q2[q2.model=='lounge']['km_per_day']\n",
    "small = q2[q2.model=='sport']['km_per_day']"
   ]
  },
  {
   "cell_type": "code",
   "execution_count": 85,
   "id": "c3e46c4e-16c7-4a53-896e-d3fc80282e4d",
   "metadata": {},
   "outputs": [],
   "source": [
    "from scipy.stats import ttest_ind"
   ]
  },
  {
   "cell_type": "code",
   "execution_count": 86,
   "id": "71796932-967a-4c0c-af61-e30133f62efe",
   "metadata": {},
   "outputs": [
    {
     "data": {
      "text/plain": [
       "Ttest_indResult(statistic=1.1025375913936746, pvalue=0.2704782824984852)"
      ]
     },
     "execution_count": 86,
     "metadata": {},
     "output_type": "execute_result"
    }
   ],
   "source": [
    "ttest_ind(big, small, equal_var=True)"
   ]
  },
  {
   "cell_type": "markdown",
   "id": "2e9d0082-13af-4ef8-b389-4606e95ae864",
   "metadata": {},
   "source": [
    "#### 정답 : ***0.27, N***"
   ]
  },
  {
   "cell_type": "markdown",
   "id": "b8c79e60-1d25-42e4-8c41-6f9eaff00397",
   "metadata": {},
   "source": [
    "### 3. 독립변수로 engine_power, age_in_days, km를 사용하고 종속변수로 price를 사용하여 모델별 선형회귀분석을 수행하고, 산출된 모형을 사용하여 다음과 같은 조건중고차에 대한 가격을 예측하고 예측된 가격을 정수부만 기술하시오.<br>- model : pop / engine_power : 51 / age_in_days : 400 / km : 9500 / previous_owners : 2<br>(답안 예시) 12345"
   ]
  },
  {
   "cell_type": "code",
   "execution_count": 87,
   "id": "e96753af-3fdb-4f70-a018-0e69965ff41b",
   "metadata": {},
   "outputs": [],
   "source": [
    "q3 = q1_1.copy()"
   ]
  },
  {
   "cell_type": "code",
   "execution_count": 88,
   "id": "fef9be01-07ac-4622-a6ce-4e87cdc418e1",
   "metadata": {},
   "outputs": [],
   "source": [
    "from sklearn.linear_model import LinearRegression"
   ]
  },
  {
   "cell_type": "code",
   "execution_count": 89,
   "id": "2d3ae531-3f34-45d3-80a7-8ad046f92dfa",
   "metadata": {},
   "outputs": [],
   "source": [
    "x_var = ['engine_power', 'age_in_days', 'km']"
   ]
  },
  {
   "cell_type": "code",
   "execution_count": 90,
   "id": "d6d891ed-d5f2-46a4-b59a-7f074685718c",
   "metadata": {},
   "outputs": [],
   "source": [
    "lm = LinearRegression().fit(q3[x_var], q3.price)"
   ]
  },
  {
   "cell_type": "code",
   "execution_count": 91,
   "id": "dbb86361-0ddb-4435-bd35-9a61cf721020",
   "metadata": {},
   "outputs": [
    {
     "data": {
      "text/html": [
       "<div>\n",
       "<style scoped>\n",
       "    .dataframe tbody tr th:only-of-type {\n",
       "        vertical-align: middle;\n",
       "    }\n",
       "\n",
       "    .dataframe tbody tr th {\n",
       "        vertical-align: top;\n",
       "    }\n",
       "\n",
       "    .dataframe thead th {\n",
       "        text-align: right;\n",
       "    }\n",
       "</style>\n",
       "<table border=\"1\" class=\"dataframe\">\n",
       "  <thead>\n",
       "    <tr style=\"text-align: right;\">\n",
       "      <th></th>\n",
       "      <th>engine_power</th>\n",
       "      <th>age_in_days</th>\n",
       "      <th>km</th>\n",
       "    </tr>\n",
       "  </thead>\n",
       "  <tbody>\n",
       "    <tr>\n",
       "      <th>0</th>\n",
       "      <td>51</td>\n",
       "      <td>400</td>\n",
       "      <td>9500</td>\n",
       "    </tr>\n",
       "  </tbody>\n",
       "</table>\n",
       "</div>"
      ],
      "text/plain": [
       "   engine_power  age_in_days    km\n",
       "0            51          400  9500"
      ]
     },
     "execution_count": 91,
     "metadata": {},
     "output_type": "execute_result"
    }
   ],
   "source": [
    "new_data = pd.DataFrame({\n",
    "    'engine_power': [51],\n",
    "    'age_in_days': [400],\n",
    "    'km': [9500]\n",
    "})\n",
    "\n",
    "new_data"
   ]
  },
  {
   "cell_type": "code",
   "execution_count": 92,
   "id": "49f766b9-7076-41b6-94cf-ce6de9032736",
   "metadata": {},
   "outputs": [
    {
     "data": {
      "text/plain": [
       "array([[  51,  400, 9500]])"
      ]
     },
     "execution_count": 92,
     "metadata": {},
     "output_type": "execute_result"
    }
   ],
   "source": [
    "new_data2 = np.array([[51, 400, 9500]])\n",
    "\n",
    "new_data2"
   ]
  },
  {
   "cell_type": "code",
   "execution_count": 93,
   "id": "71b393e8-5fa2-4d8a-b4fb-190dc6208b6c",
   "metadata": {},
   "outputs": [
    {
     "data": {
      "text/plain": [
       "array([10463.49541741])"
      ]
     },
     "execution_count": 93,
     "metadata": {},
     "output_type": "execute_result"
    }
   ],
   "source": [
    "lm.predict(new_data)"
   ]
  },
  {
   "cell_type": "code",
   "execution_count": 94,
   "id": "0af6ae77-f5d0-4316-8835-8837b2b1c812",
   "metadata": {},
   "outputs": [
    {
     "data": {
      "text/plain": [
       "array([10463.49541741])"
      ]
     },
     "execution_count": 94,
     "metadata": {},
     "output_type": "execute_result"
    }
   ],
   "source": [
    "lm.predict(new_data2)"
   ]
  },
  {
   "cell_type": "markdown",
   "id": "08dc9477-5323-47d3-9ee3-fcabea90deb9",
   "metadata": {},
   "source": [
    "#### 정답 : ***10463***"
   ]
  },
  {
   "cell_type": "code",
   "execution_count": null,
   "id": "f9f972d6-64f1-4816-944c-98799fac19fc",
   "metadata": {},
   "outputs": [],
   "source": []
  }
 ],
 "metadata": {
  "kernelspec": {
   "display_name": "Python Multi",
   "language": "python",
   "name": "multi"
  },
  "language_info": {
   "codemirror_mode": {
    "name": "ipython",
    "version": 3
   },
   "file_extension": ".py",
   "mimetype": "text/x-python",
   "name": "python",
   "nbconvert_exporter": "python",
   "pygments_lexer": "ipython3",
   "version": "3.9.5"
  }
 },
 "nbformat": 4,
 "nbformat_minor": 5
}
